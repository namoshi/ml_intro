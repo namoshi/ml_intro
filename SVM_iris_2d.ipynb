{
 "cells": [
  {
   "cell_type": "code",
   "execution_count": 10,
   "metadata": {},
   "outputs": [],
   "source": [
    "import numpy as np\n",
    "import matplotlib.pyplot as plt\n",
    "from sklearn.svm import SVC\n",
    "from sklearn import datasets\n",
    "#from sklearn.metrics import confusion_matrix\n",
    "from matplotlib.colors import ListedColormap\n"
   ]
  },
  {
   "cell_type": "code",
   "execution_count": 11,
   "metadata": {},
   "outputs": [
    {
     "name": "stdout",
     "output_type": "stream",
     "text": [
      "Size of the data =  (100, 2)\n",
      "N= 100 mdim= 2\n",
      "size of y (100,)\n"
     ]
    }
   ],
   "source": [
    "# data = np.loadtxt(\"iris.dat\",comments='#')\n",
    "iris = datasets.load_iris()\n",
    "X = iris.data[:100,:2]\n",
    "y = iris.target[:100]\n",
    "target_names = iris.target_names\n",
    "\n",
    "print('Size of the data = ', X.shape)\n",
    "\n",
    "n = X.shape[0]\n",
    "mdim = X.shape[1]\n",
    "\n",
    "print('N=', n, 'mdim=', mdim)\n",
    "\n",
    "print('size of y', y.shape)\n"
   ]
  },
  {
   "cell_type": "code",
   "execution_count": 12,
   "metadata": {},
   "outputs": [
    {
     "name": "stdout",
     "output_type": "stream",
     "text": [
      "y (target labels) \n",
      " [0 0 0 0 0 0 0 0 0 0 0 0 0 0 0 0 0 0 0 0 0 0 0 0 0 0 0 0 0 0 0 0 0 0 0 0 0\n",
      " 0 0 0 0 0 0 0 0 0 0 0 0 0 1 1 1 1 1 1 1 1 1 1 1 1 1 1 1 1 1 1 1 1 1 1 1 1\n",
      " 1 1 1 1 1 1 1 1 1 1 1 1 1 1 1 1 1 1 1 1 1 1 1 1 1 1]\n",
      "Estimated classes \n",
      " [0. 0. 0. 0. 0. 0. 0. 0. 0. 0. 0. 0. 0. 0. 0. 0. 0. 0. 0. 0. 0. 0. 0. 0.\n",
      " 0. 0. 0. 0. 0. 0. 0. 0. 0. 0. 0. 0. 0. 0. 0. 0. 0. 0. 0. 0. 0. 0. 0. 0.\n",
      " 0. 0. 1. 1. 1. 1. 1. 1. 1. 1. 1. 1. 1. 1. 1. 1. 1. 1. 1. 1. 1. 1. 1. 1.\n",
      " 1. 1. 1. 1. 1. 1. 1. 1. 1. 1. 1. 1. 1. 1. 1. 1. 1. 1. 1. 1. 1. 1. 1. 1.\n",
      " 1. 1. 1. 1.]\n"
     ]
    }
   ],
   "source": [
    "# Support Vector Machine with linear kernel (C=1.0)\n",
    "\n",
    "clf_LR = SVC(C=1.0, kernel='linear')\n",
    "clf_LR.fit(X, y)\n",
    "\n",
    "#coef_LR = clf_LR.coef_.ravel()\n",
    "#sparsity_LR = np.mean(coef_LR == 0) * 100\n",
    "\n",
    "#print(\"score with L1 penalty: %.4f\" % clf_LR.score(X, y))\n",
    "#print(\"Sparsity with L1 penalty: %.2f%%\" % sparsity_LR)\n",
    "\n",
    "# prediction using the trained SVM\n",
    "\n",
    "yy = np.zeros(len(X))\n",
    "yy[clf_LR.predict(X) > 0.5] = 1\n",
    "\n",
    "print('y (target labels) \\n', y)\n",
    "print('Estimated classes \\n', yy)\n"
   ]
  },
  {
   "cell_type": "code",
   "execution_count": 13,
   "metadata": {},
   "outputs": [
    {
     "name": "stderr",
     "output_type": "stream",
     "text": [
      "The PostScript backend does not support transparency; partially transparent artists will be rendered opaque.\n",
      "The PostScript backend does not support transparency; partially transparent artists will be rendered opaque.\n"
     ]
    },
    {
     "data": {
      "image/png": "[encoded data removed]",
      "text/plain": [
       "<Figure size 432x288 with 1 Axes>"
      ]
     },
     "metadata": {
      "needs_background": "light"
     },
     "output_type": "display_data"
    }
   ],
   "source": [
    "# Plot decision baoundary\n",
    "\n",
    "# Create color maps\n",
    "cmap_light = ListedColormap(['#FFAAAA', '#AAFFAA', '#AAAAFF'])\n",
    "cmap_bold = ListedColormap(['#FF0000', '#00FF00', '#0000FF'])\n",
    "\n",
    "## colors\n",
    "colors = ['red', 'green', 'blue']\n",
    "markers = ['x', 'o', 'v']\n",
    "\n",
    "# Plot the decision boundary. For that, we will assign a color to each\n",
    "# point in the mesh [x_min, x_max]x[y_min, y_max].\n",
    "h = .02  # step size in the mesh\n",
    "x_min, x_max = X[:, 0].min() - .5, X[:, 0].max() + .5\n",
    "y_min, y_max = X[:, 1].min() - .5, X[:, 1].max() + .5\n",
    "xx, yy = np.meshgrid(np.arange(x_min, x_max, h), np.arange(y_min, y_max, h))\n",
    "\n",
    "(xsize, ysize) = xx.shape\n",
    "nelm = xsize * ysize\n",
    "\n",
    "XX = np.c_[xx.reshape((nelm,1)), yy.reshape((nelm,1))]\n",
    "#print(XX)\n",
    "\n",
    "Z = np.zeros(len(XX))\n",
    "Z[clf_LR.predict(XX) > 0.5] = 1\n",
    "#print('Z\\n', Z)\n",
    "\n",
    "# Put the result into a color plot\n",
    "Z = Z.reshape(xx.shape)\n",
    "plt.figure()\n",
    "#plt.figure(1, figsize=(4, 3))\n",
    "plt.pcolormesh(xx, yy, Z, cmap=cmap_light)\n",
    "\n",
    "# Plot also the training points\n",
    "for k, c, marker, target_name  in zip([0, 1], colors, markers, target_names):\n",
    "    plt.scatter(X[y == k, 0], X[y == k, 1], c=c, marker=marker, label = target_name)\n",
    "#plt.scatter(data[:, 0], data[:, 1], c=y, edgecolors='k', cmap=plt.cm.Paired)\n",
    "plt.legend()\n",
    "plt.title('SVM_iris_2d (C=1.0)')\n",
    "plt.xlabel('Sepal length')\n",
    "plt.ylabel('Sepal width')\n",
    "plt.savefig('svm_iris_2d_C1.eps')\n",
    "\n",
    "#plt.xlim(xx.min(), xx.max())\n",
    "#plt.ylim(yy.min(), yy.max())\n",
    "#plt.xticks(())\n",
    "#plt.yticks(())\n",
    "\n",
    "plt.show()\n"
   ]
  },
  {
   "cell_type": "code",
   "execution_count": 14,
   "metadata": {},
   "outputs": [
    {
     "name": "stdout",
     "output_type": "stream",
     "text": [
      "y (target labels) \n",
      " [0 0 0 0 0 0 0 0 0 0 0 0 0 0 0 0 0 0 0 0 0 0 0 0 0 0 0 0 0 0 0 0 0 0 0 0 0\n",
      " 0 0 0 0 0 0 0 0 0 0 0 0 0 1 1 1 1 1 1 1 1 1 1 1 1 1 1 1 1 1 1 1 1 1 1 1 1\n",
      " 1 1 1 1 1 1 1 1 1 1 1 1 1 1 1 1 1 1 1 1 1 1 1 1 1 1]\n",
      "Estimated classes \n",
      " [0. 0. 0. 0. 0. 0. 0. 0. 0. 0. 0. 0. 0. 0. 0. 0. 0. 0. 0. 0. 0. 0. 0. 0.\n",
      " 0. 0. 0. 0. 0. 0. 0. 0. 0. 0. 0. 0. 0. 0. 0. 0. 0. 0. 0. 0. 0. 0. 0. 0.\n",
      " 0. 0. 1. 1. 1. 1. 1. 1. 1. 0. 1. 0. 1. 1. 1. 1. 1. 1. 1. 1. 1. 1. 1. 1.\n",
      " 1. 1. 1. 1. 1. 1. 1. 1. 1. 1. 1. 1. 0. 1. 1. 1. 1. 1. 1. 1. 1. 0. 1. 1.\n",
      " 1. 1. 0. 1.]\n"
     ]
    }
   ],
   "source": [
    "# Support Vector Machine with linear kernel (C=0.01)\n",
    "\n",
    "clf_LR = SVC(C=0.01, kernel='linear')\n",
    "clf_LR.fit(X, y)\n",
    "\n",
    "#coef_LR = clf_LR.coef_.ravel()\n",
    "#sparsity_LR = np.mean(coef_LR == 0) * 100\n",
    "\n",
    "#print(\"score with L1 penalty: %.4f\" % clf_LR.score(X, y))\n",
    "#print(\"Sparsity with L1 penalty: %.2f%%\" % sparsity_LR)\n",
    "\n",
    "yy = np.zeros(len(X))\n",
    "yy[clf_LR.predict(X) > 0.5] = 1\n",
    "\n",
    "print('y (target labels) \\n', y)\n",
    "print('Estimated classes \\n', yy)\n"
   ]
  },
  {
   "cell_type": "code",
   "execution_count": 15,
   "metadata": {},
   "outputs": [
    {
     "name": "stderr",
     "output_type": "stream",
     "text": [
      "The PostScript backend does not support transparency; partially transparent artists will be rendered opaque.\n",
      "The PostScript backend does not support transparency; partially transparent artists will be rendered opaque.\n"
     ]
    },
    {
     "data": {
      "image/png": "[encoded data removed]",
      "text/plain": [
       "<Figure size 432x288 with 1 Axes>"
      ]
     },
     "metadata": {
      "needs_background": "light"
     },
     "output_type": "display_data"
    }
   ],
   "source": [
    "# Plot decision baoundary\n",
    "\n",
    "# Create color maps\n",
    "cmap_light = ListedColormap(['#FFAAAA', '#AAFFAA', '#AAAAFF'])\n",
    "cmap_bold = ListedColormap(['#FF0000', '#00FF00', '#0000FF'])\n",
    "\n",
    "## colors\n",
    "colors = ['red', 'green', 'blue']\n",
    "markers = ['x', 'o', 'v']\n",
    "\n",
    "# Plot the decision boundary. For that, we will assign a color to each\n",
    "# point in the mesh [x_min, x_max]x[y_min, y_max].\n",
    "h = .02  # step size in the mesh\n",
    "x_min, x_max = X[:, 0].min() - .5, X[:, 0].max() + .5\n",
    "y_min, y_max = X[:, 1].min() - .5, X[:, 1].max() + .5\n",
    "xx, yy = np.meshgrid(np.arange(x_min, x_max, h), np.arange(y_min, y_max, h))\n",
    "\n",
    "(xsize, ysize) = xx.shape\n",
    "nelm = xsize * ysize\n",
    "\n",
    "XX = np.c_[xx.reshape((nelm,1)), yy.reshape((nelm,1))]\n",
    "#print(XX)\n",
    "\n",
    "Z = np.zeros(len(XX))\n",
    "Z[clf_LR.predict(XX) > 0.5] = 1\n",
    "#print('Z\\n', Z)\n",
    "\n",
    "# Put the result into a color plot\n",
    "Z = Z.reshape(xx.shape)\n",
    "plt.figure()\n",
    "#plt.figure(1, figsize=(4, 3))\n",
    "plt.pcolormesh(xx, yy, Z, cmap=cmap_light)\n",
    "\n",
    "# Plot also the training points\n",
    "for k, c, marker, target_name  in zip([0, 1], colors, markers, target_names):\n",
    "    plt.scatter(X[y == k, 0], X[y == k, 1], c=c, marker=marker, label = target_name)\n",
    "#plt.scatter(data[:, 0], data[:, 1], c=y, edgecolors='k', cmap=plt.cm.Paired)\n",
    "plt.legend()\n",
    "plt.title('SVM_iris_2d (C=0.01)')\n",
    "plt.xlabel('Sepal length')\n",
    "plt.ylabel('Sepal width')\n",
    "plt.savefig('svm_iris_2d_C001.eps')\n",
    "\n",
    "#plt.xlim(xx.min(), xx.max())\n",
    "#plt.ylim(yy.min(), yy.max())\n",
    "#plt.xticks(())\n",
    "#plt.yticks(())\n",
    "\n",
    "plt.show()\n"
   ]
  },
  {
   "cell_type": "code",
   "execution_count": 16,
   "metadata": {},
   "outputs": [
    {
     "name": "stdout",
     "output_type": "stream",
     "text": [
      "y (target labels) \n",
      " [0 0 0 0 0 0 0 0 0 0 0 0 0 0 0 0 0 0 0 0 0 0 0 0 0 0 0 0 0 0 0 0 0 0 0 0 0\n",
      " 0 0 0 0 0 0 0 0 0 0 0 0 0 1 1 1 1 1 1 1 1 1 1 1 1 1 1 1 1 1 1 1 1 1 1 1 1\n",
      " 1 1 1 1 1 1 1 1 1 1 1 1 1 1 1 1 1 1 1 1 1 1 1 1 1 1]\n",
      "Estimated classes \n",
      " [0. 0. 0. 0. 0. 0. 0. 0. 0. 0. 0. 0. 0. 0. 0. 0. 0. 0. 0. 0. 0. 0. 0. 0.\n",
      " 0. 0. 0. 0. 0. 0. 0. 0. 0. 0. 0. 0. 0. 0. 0. 0. 0. 0. 0. 0. 0. 0. 0. 0.\n",
      " 0. 0. 1. 1. 1. 1. 1. 1. 1. 1. 1. 1. 1. 1. 1. 1. 1. 1. 1. 1. 1. 1. 1. 1.\n",
      " 1. 1. 1. 1. 1. 1. 1. 1. 1. 1. 1. 1. 1. 1. 1. 1. 1. 1. 1. 1. 1. 1. 1. 1.\n",
      " 1. 1. 1. 1.]\n"
     ]
    }
   ],
   "source": [
    "# Support Vector Machine with RBF kernel (C=1.0, 1)\n",
    "\n",
    "clf_LR = SVC(C=1.0, kernel='rbf', gamma=0.5)\n",
    "clf_LR.fit(X, y)\n",
    "\n",
    "#coef_LR = clf_LR.coef_.ravel()\n",
    "#sparsity_LR = np.mean(coef_LR == 0) * 100\n",
    "\n",
    "#print(\"score with L1 penalty: %.4f\" % clf_LR.score(X, y))\n",
    "#print(\"Sparsity with L1 penalty: %.2f%%\" % sparsity_LR)\n",
    "\n",
    "yy = np.zeros(len(X))\n",
    "yy[clf_LR.predict(X) > 0.5] = 1\n",
    "\n",
    "print('y (target labels) \\n', y)\n",
    "print('Estimated classes \\n', yy)\n"
   ]
  },
  {
   "cell_type": "code",
   "execution_count": 17,
   "metadata": {},
   "outputs": [
    {
     "name": "stderr",
     "output_type": "stream",
     "text": [
      "The PostScript backend does not support transparency; partially transparent artists will be rendered opaque.\n",
      "The PostScript backend does not support transparency; partially transparent artists will be rendered opaque.\n"
     ]
    },
    {
     "data": {
      "image/png": "[encoded data removed]",
      "text/plain": [
       "<Figure size 432x288 with 1 Axes>"
      ]
     },
     "metadata": {
      "needs_background": "light"
     },
     "output_type": "display_data"
    }
   ],
   "source": [
    "# Plot decision baoundary\n",
    "\n",
    "# Create color maps\n",
    "cmap_light = ListedColormap(['#FFAAAA', '#AAFFAA', '#AAAAFF'])\n",
    "cmap_bold = ListedColormap(['#FF0000', '#00FF00', '#0000FF'])\n",
    "\n",
    "## colors\n",
    "colors = ['red', 'green', 'blue']\n",
    "markers = ['x', 'o', 'v']\n",
    "\n",
    "# Plot the decision boundary. For that, we will assign a color to each\n",
    "# point in the mesh [x_min, x_max]x[y_min, y_max].\n",
    "h = .02  # step size in the mesh\n",
    "x_min, x_max = X[:, 0].min() - .5, X[:, 0].max() + .5\n",
    "y_min, y_max = X[:, 1].min() - .5, X[:, 1].max() + .5\n",
    "xx, yy = np.meshgrid(np.arange(x_min, x_max, h), np.arange(y_min, y_max, h))\n",
    "\n",
    "(xsize, ysize) = xx.shape\n",
    "nelm = xsize * ysize\n",
    "\n",
    "XX = np.c_[xx.reshape((nelm,1)), yy.reshape((nelm,1))]\n",
    "#print(XX)\n",
    "\n",
    "Z = np.zeros(len(XX))\n",
    "Z[clf_LR.predict(XX) > 0.5] = 1\n",
    "#print('Z\\n', Z)\n",
    "\n",
    "# Put the result into a color plot\n",
    "Z = Z.reshape(xx.shape)\n",
    "plt.figure()\n",
    "#plt.figure(1, figsize=(4, 3))\n",
    "plt.pcolormesh(xx, yy, Z, cmap=cmap_light)\n",
    "\n",
    "# Plot also the training points\n",
    "for k, c, marker, target_name  in zip([0, 1], colors, markers, target_names):\n",
    "    plt.scatter(X[y == k, 0], X[y == k, 1], c=c, marker=marker, label = target_name)\n",
    "#plt.scatter(data[:, 0], data[:, 1], c=y, edgecolors='k', cmap=plt.cm.Paired)\n",
    "plt.legend()\n",
    "plt.title('SVM_iris_2d (C=0.01)')\n",
    "plt.xlabel('Sepal length')\n",
    "plt.ylabel('Sepal width')\n",
    "plt.savefig('svm_iris_2d_C001.eps')\n",
    "\n",
    "#plt.xlim(xx.min(), xx.max())\n",
    "#plt.ylim(yy.min(), yy.max())\n",
    "#plt.xticks(())\n",
    "#plt.yticks(())\n",
    "\n",
    "plt.show()\n"
   ]
  },
  {
   "cell_type": "code",
   "execution_count": null,
   "metadata": {},
   "outputs": [],
   "source": []
  }
 ],
 "metadata": {
  "kernelspec": {
   "display_name": "Python 3",
   "language": "python",
   "name": "python3"
  },
  "language_info": {
   "codemirror_mode": {
    "name": "ipython",
    "version": 3
   },
   "file_extension": ".py",
   "mimetype": "text/x-python",
   "name": "python",
   "nbconvert_exporter": "python",
   "pygments_lexer": "ipython3",
   "version": "3.7.7"
  }
 },
 "nbformat": 4,
 "nbformat_minor": 4
}
