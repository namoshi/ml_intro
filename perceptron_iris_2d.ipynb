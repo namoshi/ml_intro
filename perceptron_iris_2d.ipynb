{
 "cells": [
  {
   "cell_type": "markdown",
   "metadata": {
    "colab_type": "text",
    "id": "view-in-github"
   },
   "source": [
    "<a href=\"https://colab.research.google.com/github/namoshi/ml_intro/blob/master/perceptron_iris_2d.ipynb\" target=\"_parent\"><img src=\"https://colab.research.google.com/assets/colab-badge.svg\" alt=\"Open In Colab\"/></a>"
   ]
  },
  {
   "cell_type": "markdown",
   "metadata": {
    "colab_type": "text",
    "id": "hqsUHEzPxqI9"
   },
   "source": [
    "## パーセプトロンによるアヤメのデータ（２次元）の識別"
   ]
  },
  {
   "cell_type": "code",
   "execution_count": 22,
   "metadata": {
    "colab": {},
    "colab_type": "code",
    "id": "sFrJ1SrWxqI-"
   },
   "outputs": [],
   "source": [
    "import numpy as np\n",
    "import matplotlib.pyplot as plt\n",
    "from sklearn.linear_model import Perceptron\n",
    "from sklearn import datasets\n",
    "#from sklearn.metrics import confusion_matrix\n",
    "from matplotlib.colors import ListedColormap"
   ]
  },
  {
   "cell_type": "markdown",
   "metadata": {
    "colab_type": "text",
    "id": "aCGwlAn6x9ko"
   },
   "source": [
    "アヤメのデータの読み込み"
   ]
  },
  {
   "cell_type": "code",
   "execution_count": 23,
   "metadata": {
    "colab": {
     "base_uri": "https://localhost:8080/",
     "height": 75
    },
    "colab_type": "code",
    "id": "bBLZPzhyxqJF",
    "outputId": "895db65a-6896-47fb-c17c-f02d5171b8fe"
   },
   "outputs": [
    {
     "name": "stdout",
     "output_type": "stream",
     "text": [
      "Size of the data =  (100, 2)\n",
      "N= 100 mdim= 2\n",
      "size of y (100,)\n"
     ]
    }
   ],
   "source": [
    "# data = np.loadtxt(\"iris.dat\",comments='#')\n",
    "iris = datasets.load_iris()\n",
    "X = iris.data[:100,:2]\n",
    "y = iris.target[:100]\n",
    "target_names = iris.target_names\n",
    "\n",
    "print('Size of the data = ', X.shape)\n",
    "\n",
    "n = X.shape[0]\n",
    "mdim = X.shape[1]\n",
    "\n",
    "print('N=', n, 'mdim=', mdim)\n",
    "\n",
    "print('size of y', y.shape)"
   ]
  },
  {
   "cell_type": "markdown",
   "metadata": {
    "colab_type": "text",
    "id": "WdIc2U6FyFne"
   },
   "source": [
    "パーセプトロンの学習"
   ]
  },
  {
   "cell_type": "code",
   "execution_count": 24,
   "metadata": {
    "colab": {
     "base_uri": "https://localhost:8080/",
     "height": 724
    },
    "colab_type": "code",
    "id": "mRVXR_mlxqJM",
    "outputId": "ae3ee5f3-c414-487e-f0d6-5def3208ea01"
   },
   "outputs": [
    {
     "name": "stdout",
     "output_type": "stream",
     "text": [
      "-- Epoch 1\n",
      "Norm: 19.51, NNZs: 2, Bias: -1.000000, T: 100, Avg. loss: 5.907600\n",
      "Total training time: 0.00 seconds.\n",
      "-- Epoch 2\n",
      "Norm: 26.76, NNZs: 2, Bias: -2.000000, T: 200, Avg. loss: 2.000500\n",
      "Total training time: 0.00 seconds.\n",
      "-- Epoch 3\n",
      "Norm: 27.01, NNZs: 2, Bias: -2.000000, T: 300, Avg. loss: 0.220400\n",
      "Total training time: 0.00 seconds.\n",
      "-- Epoch 4\n",
      "Norm: 30.02, NNZs: 2, Bias: -2.000000, T: 400, Avg. loss: 0.466900\n",
      "Total training time: 0.00 seconds.\n",
      "-- Epoch 5\n",
      "Norm: 36.42, NNZs: 2, Bias: -4.000000, T: 500, Avg. loss: 1.586500\n",
      "Total training time: 0.00 seconds.\n",
      "-- Epoch 6\n",
      "Norm: 38.69, NNZs: 2, Bias: -4.000000, T: 600, Avg. loss: 0.706700\n",
      "Total training time: 0.00 seconds.\n",
      "-- Epoch 7\n",
      "Norm: 44.31, NNZs: 2, Bias: -5.000000, T: 700, Avg. loss: 1.212100\n",
      "Total training time: 0.00 seconds.\n",
      "-- Epoch 8\n",
      "Norm: 45.12, NNZs: 2, Bias: -5.000000, T: 800, Avg. loss: 0.703800\n",
      "Total training time: 0.00 seconds.\n",
      "Convergence after 8 epochs took 0.00 seconds\n",
      "score with L1 penalty: 0.9900\n",
      "Sparsity with L1 penalty: 0.00%\n",
      "y\n",
      " [0 0 0 0 0 0 0 0 0 0 0 0 0 0 0 0 0 0 0 0 0 0 0 0 0 0 0 0 0 0 0 0 0 0 0 0 0\n",
      " 0 0 0 0 0 0 0 0 0 0 0 0 0 1 1 1 1 1 1 1 1 1 1 1 1 1 1 1 1 1 1 1 1 1 1 1 1\n",
      " 1 1 1 1 1 1 1 1 1 1 1 1 1 1 1 1 1 1 1 1 1 1 1 1 1 1]\n",
      "Estimated Probabilities\n",
      " [0. 0. 0. 0. 0. 0. 0. 0. 0. 0. 0. 0. 0. 0. 0. 0. 0. 0. 0. 0. 0. 0. 0. 0.\n",
      " 0. 0. 0. 0. 0. 0. 0. 0. 0. 0. 0. 0. 0. 0. 0. 0. 0. 1. 0. 0. 0. 0. 0. 0.\n",
      " 0. 0. 1. 1. 1. 1. 1. 1. 1. 1. 1. 1. 1. 1. 1. 1. 1. 1. 1. 1. 1. 1. 1. 1.\n",
      " 1. 1. 1. 1. 1. 1. 1. 1. 1. 1. 1. 1. 1. 1. 1. 1. 1. 1. 1. 1. 1. 1. 1. 1.\n",
      " 1. 1. 1. 1.]\n"
     ]
    }
   ],
   "source": [
    "# Learning rate\n",
    "alpha=0.0001\n",
    "\n",
    "clf_LR = Perceptron(alpha = alpha, max_iter=100, verbose=1)\n",
    "clf_LR.fit(X, y)\n",
    "\n",
    "coef_LR = clf_LR.coef_.ravel()\n",
    "sparsity_LR = np.mean(coef_LR == 0) * 100\n",
    "\n",
    "print(\"score with L1 penalty: %.4f\" % clf_LR.score(X, y))\n",
    "print(\"Sparsity with L1 penalty: %.2f%%\" % sparsity_LR)\n",
    "\n",
    "yy = np.zeros(len(X))\n",
    "yy[clf_LR.predict(X) > 0.5] = 1\n",
    "\n",
    "print('y\\n', y)\n",
    "print('Estimated Probabilities\\n', yy)"
   ]
  },
  {
   "cell_type": "markdown",
   "metadata": {
    "colab_type": "text",
    "id": "0VTEQspEyNrH"
   },
   "source": [
    "識別境界の表示"
   ]
  },
  {
   "cell_type": "code",
   "execution_count": null,
   "metadata": {},
   "outputs": [],
   "source": []
  }
 ],
 "metadata": {
  "colab": {
   "include_colab_link": true,
   "name": "perceptron_iris_2d.ipynb",
   "provenance": []
  },
  "kernelspec": {
   "display_name": "Python 3",
   "language": "python",
   "name": "python3"
  },
  "language_info": {
   "codemirror_mode": {
    "name": "ipython",
    "version": 3
   },
   "file_extension": ".py",
   "mimetype": "text/x-python",
   "name": "python",
   "nbconvert_exporter": "python",
   "pygments_lexer": "ipython3",
   "version": "3.8.12"
  }
 },
 "nbformat": 4,
 "nbformat_minor": 4
}
