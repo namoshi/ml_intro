{
  "nbformat": 4,
  "nbformat_minor": 0,
  "metadata": {
    "kernelspec": {
      "display_name": "Python 3",
      "language": "python",
      "name": "python3"
    },
    "language_info": {
      "codemirror_mode": {
        "name": "ipython",
        "version": 3
      },
      "file_extension": ".py",
      "mimetype": "text/x-python",
      "name": "python",
      "nbconvert_exporter": "python",
      "pygments_lexer": "ipython3",
      "version": "3.7.7"
    },
    "colab": {
      "name": "PCA_iris.ipynb",
      "provenance": [],
      "include_colab_link": true
    }
  },
  "cells": [
    {
      "cell_type": "markdown",
      "metadata": {
        "id": "view-in-github",
        "colab_type": "text"
      },
      "source": [
        "<a href=\"https://colab.research.google.com/github/namoshi/ml_intro/blob/master/PCA_iris.ipynb\" target=\"_parent\"><img src=\"https://colab.research.google.com/assets/colab-badge.svg\" alt=\"Open In Colab\"/></a>"
      ]
    },
    {
      "cell_type": "markdown",
      "metadata": {
        "id": "4kRmC1GslERt",
        "colab_type": "text"
      },
      "source": [
        "アヤメのデータの主成分分析（PCA)"
      ]
    },
    {
      "cell_type": "code",
      "metadata": {
        "id": "5ZJRFI7RlERu",
        "colab_type": "code",
        "colab": {}
      },
      "source": [
        "from sklearn import datasets\n",
        "from sklearn.decomposition import PCA\n",
        "import matplotlib.pyplot as plt"
      ],
      "execution_count": 1,
      "outputs": []
    },
    {
      "cell_type": "code",
      "metadata": {
        "id": "fSVAVS2LlER0",
        "colab_type": "code",
        "colab": {}
      },
      "source": [
        "# Read iris data\n",
        "iris = datasets.load_iris()\n",
        "X = iris.data\n",
        "#y = iris.target\n",
        "target_names = iris.target_names\n",
        "y = target_names[iris.target]\n",
        "K = 3"
      ],
      "execution_count": 2,
      "outputs": []
    },
    {
      "cell_type": "code",
      "metadata": {
        "id": "brSfgb5llER4",
        "colab_type": "code",
        "colab": {}
      },
      "source": [
        "## PCA\n",
        "pca = PCA(n_components=2)\n",
        "X_r = pca.fit(X).transform(X)"
      ],
      "execution_count": 3,
      "outputs": []
    },
    {
      "cell_type": "code",
      "metadata": {
        "id": "_rvUN3kAlER7",
        "colab_type": "code",
        "colab": {
          "base_uri": "https://localhost:8080/",
          "height": 331
        },
        "outputId": "fc94cb5e-a166-4bcc-847f-8944c068adf4"
      },
      "source": [
        "## colors\n",
        "colors = ['red', 'blue', 'green']\n",
        "markers = ['D', 'o', 'v']\n",
        "\n",
        "## plot\n",
        "plt.figure()\n",
        "for c, marker, target_name  in zip(colors, markers, target_names):\n",
        "    plt.scatter(X_r[y == target_name, 0], X_r[y == target_name, 1], c=c, marker=marker, label = target_name)\n",
        "plt.legend()\n",
        "plt.title('PCA_iris')\n",
        "plt.xlabel('1st Principal Component')\n",
        "plt.ylabel('2nd Principal Component')\n",
        "plt.savefig('pca_iris.eps')\n",
        "plt.show()"
      ],
      "execution_count": 4,
      "outputs": [
        {
          "output_type": "stream",
          "text": [
            "The PostScript backend does not support transparency; partially transparent artists will be rendered opaque.\n",
            "The PostScript backend does not support transparency; partially transparent artists will be rendered opaque.\n"
          ],
          "name": "stderr"
        },
        {
          "output_type": "display_data",
          "data": {
            "image/png": "[encoded data removed]",
            "text/plain": [
              "<Figure size 432x288 with 1 Axes>"
            ]
          },
          "metadata": {
            "tags": [],
            "needs_background": "light"
          }
        }
      ]
    },
    {
      "cell_type": "code",
      "metadata": {
        "id": "Iz3JElEOlESA",
        "colab_type": "code",
        "colab": {}
      },
      "source": [
        ""
      ],
      "execution_count": null,
      "outputs": []
    }
  ]
}