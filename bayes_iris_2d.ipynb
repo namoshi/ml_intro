{
 "cells": [
  {
   "cell_type": "markdown",
   "metadata": {
    "colab_type": "text",
    "id": "view-in-github"
   },
   "source": [
    "<a href=\"https://colab.research.google.com/github/namoshi/ml_intro/blob/master/bayes_iris_2d.ipynb\" target=\"_parent\"><img src=\"https://colab.research.google.com/assets/colab-badge.svg\" alt=\"Open In Colab\"/></a>"
   ]
  },
  {
   "cell_type": "markdown",
   "metadata": {
    "colab_type": "text",
    "id": "EC8jz3RUx_4o"
   },
   "source": [
    "ベイズ識別（アヤメのデータ（二次元））"
   ]
  },
  {
   "cell_type": "code",
   "execution_count": 1,
   "metadata": {
    "colab": {},
    "colab_type": "code",
    "id": "oODh0SHax_4p"
   },
   "outputs": [],
   "source": [
    "import numpy as np\n",
    "import matplotlib.pyplot as plt\n",
    "from sklearn import datasets\n",
    "from sklearn.metrics import confusion_matrix\n",
    "from matplotlib.colors import ListedColormap"
   ]
  },
  {
   "cell_type": "code",
   "execution_count": 2,
   "metadata": {
    "colab": {
     "base_uri": "https://localhost:8080/",
     "height": 35
    },
    "colab_type": "code",
    "id": "ZERn4fXJx_4t",
    "outputId": "3a5718ac-bc72-4ce4-9b27-9fd0cfa67801"
   },
   "outputs": [
    {
     "name": "stdout",
     "output_type": "stream",
     "text": [
      "Size of the data =  (150, 2)\n"
     ]
    }
   ],
   "source": [
    "# data = np.loadtxt(\"iris.dat\",comments='#')\n",
    "iris = datasets.load_iris()\n",
    "X = iris.data[:,:2]\n",
    "y = iris.target\n",
    "target_names = iris.target_names\n",
    "\n",
    "print('Size of the data = ', X.shape)"
   ]
  },
  {
   "cell_type": "code",
   "execution_count": 3,
   "metadata": {
    "colab": {
     "base_uri": "https://localhost:8080/",
     "height": 449
    },
    "colab_type": "code",
    "id": "oSMxgiQKx_4x",
    "outputId": "9c19e90f-a260-4ede-a637-62a4e650b025"
   },
   "outputs": [
    {
     "name": "stdout",
     "output_type": "stream",
     "text": [
      "[0 0 0 0 0 0 0 0 0 0 0 0 0 0 0 0 0 0 0 0 0 0 0 0 0 0 0 0 0 0 0 0 0 0 0 0 0\n",
      " 0 0 0 0 0 0 0 0 0 0 0 0 0 1 1 1 1 1 1 1 1 1 1 1 1 1 1 1 1 1 1 1 1 1 1 1 1\n",
      " 1 1 1 1 1 1 1 1 1 1 1 1 1 1 1 1 1 1 1 1 1 1 1 1 1 1 2 2 2 2 2 2 2 2 2 2 2\n",
      " 2 2 2 2 2 2 2 2 2 2 2 2 2 2 2 2 2 2 2 2 2 2 2 2 2 2 2 2 2 2 2 2 2 2 2 2 2\n",
      " 2 2]\n",
      "S1\n",
      " [[0.121764 0.097232]\n",
      " [0.097232 0.140816]]\n",
      "S2\n",
      " [[0.261104 0.08348 ]\n",
      " [0.08348  0.0965  ]]\n",
      "S3\n",
      " [[0.396256 0.091888]\n",
      " [0.091888 0.101924]]\n",
      "S1inv\n",
      " [[ 18.30619921 -12.64024231]\n",
      " [-12.64024231  15.82942308]]\n",
      "S2inv\n",
      " [[ 5.29416185 -4.57986146]\n",
      " [-4.57986146 14.32463041]]\n",
      "S3inv\n",
      " [[ 3.19064961 -2.87648063]\n",
      " [-2.87648063 12.40447835]]\n",
      "S1det =  0.007692257599999988 S2det =  0.01822762560000002 S3det =  0.03194459200000002\n"
     ]
    }
   ],
   "source": [
    "n = X.shape[0]\n",
    "mdim = X.shape[1]\n",
    "\n",
    "print(y)\n",
    "\n",
    "X1 = X[y == 0,:]\n",
    "X2 = X[y == 1,:]\n",
    "X3 = X[y == 2,:]\n",
    "\n",
    "n1 = len(X1)\n",
    "n2 = len(X2)\n",
    "n3 = len(X3)\n",
    "\n",
    "#print X1\n",
    "#print X1.shape\n",
    "#print X2\n",
    "#print X2.shape\n",
    "#print X3\n",
    "#print X3.shape\n",
    "\n",
    "# estimate the mean vector of each class\n",
    "mu1 = sum(np.asarray(X1,dtype=np.float)) / float(n1)\n",
    "mu2 = sum(np.asarray(X2,dtype=np.float)) / float(n2)\n",
    "mu3 = sum(np.asarray(X3,dtype=np.float)) / float(n3)\n",
    "\n",
    "#print 'mu1\\n', mu1\n",
    "#print 'mu2\\n', mu2\n",
    "#print 'mu3\\n', mu3\n",
    "\n",
    "# estimate the covariance matrices of each class\n",
    "X1_m = X1 - mu1\n",
    "X2_m = X2 - mu2\n",
    "X3_m = X3 - mu3\n",
    "\n",
    "#print 'X1_m\\n', X1_m\n",
    "#print 'X2_m\\n', X2_m\n",
    "#print 'X3_m\\n', X3_m\n",
    "\n",
    "S1 = np.dot(X1_m.T, X1_m)/float(n1)\n",
    "S2 = np.dot(X2_m.T, X2_m)/float(n2)\n",
    "S3 = np.dot(X3_m.T, X3_m)/float(n3)\n",
    "\n",
    "print('S1\\n', S1)\n",
    "print('S2\\n', S2)\n",
    "print('S3\\n', S3)\n",
    "\n",
    "S1inv = np.linalg.inv(S1)\n",
    "S2inv = np.linalg.inv(S2)\n",
    "S3inv = np.linalg.inv(S3)\n",
    "\n",
    "print('S1inv\\n', S1inv)\n",
    "print('S2inv\\n', S2inv)\n",
    "print('S3inv\\n', S3inv)\n",
    "\n",
    "S1det = np.linalg.det(S1)\n",
    "S2det = np.linalg.det(S2)\n",
    "S3det = np.linalg.det(S3)\n",
    "\n",
    "print('S1det = ', S1det, 'S2det = ', S2det, 'S3det = ', S3det)\n",
    "\n",
    "# probabilities of each class P(C_k)\n",
    "P1 = 1.0 / 3.0\n",
    "P2 = 1.0 / 3.0\n",
    "P3 = 1.0 / 3.0"
   ]
  },
  {
   "cell_type": "code",
   "execution_count": 4,
   "metadata": {
    "colab": {
     "base_uri": "https://localhost:8080/",
     "height": 1000
    },
    "colab_type": "code",
    "id": "cRdhhi8zx_41",
    "outputId": "9532bbed-5760-42ac-817e-734518b1b27e"
   },
   "outputs": [
    {
     "name": "stdout",
     "output_type": "stream",
     "text": [
      "G\n",
      " [[ 3.73257118e+00 -5.55562524e+00 -5.15453635e+00]\n",
      " [ 2.78969844e+00 -1.40507257e+00 -2.33092477e+00]\n",
      " [ 3.38231510e+00 -4.89614713e+00 -4.88561071e+00]\n",
      " [ 3.09194781e+00 -4.61770494e+00 -4.77880390e+00]\n",
      " [ 3.52140561e+00 -7.90501407e+00 -6.96784422e+00]\n",
      " [ 2.93544759e+00 -9.77378188e+00 -8.38906506e+00]\n",
      " [ 2.39765749e+00 -8.51606019e+00 -7.52142775e+00]\n",
      " [ 3.76451759e+00 -4.95626796e+00 -4.74932285e+00]\n",
      " [ 2.24555910e+00 -4.37459264e+00 -4.86045528e+00]\n",
      " [ 3.25406407e+00 -2.28063587e+00 -2.91074873e+00]\n",
      " [ 3.11710557e+00 -6.33194687e+00 -5.65639344e+00]\n",
      " [ 3.44721152e+00 -6.63028084e+00 -6.07156231e+00]\n",
      " [ 3.04512410e+00 -2.08535536e+00 -2.89293852e+00]\n",
      " [ 1.57632254e+00 -6.28089359e+00 -6.18160472e+00]\n",
      " [ 1.14971176e+00 -8.74474165e+00 -7.50001567e+00]\n",
      " [ 4.09476541e-01 -1.80325635e+01 -1.51674011e+01]\n",
      " [ 2.93544759e+00 -9.77378188e+00 -8.38906506e+00]\n",
      " [ 3.73257118e+00 -5.55562524e+00 -5.15453635e+00]\n",
      " [ 1.52850303e+00 -5.95300009e+00 -5.25434667e+00]\n",
      " [ 3.03478644e+00 -1.04859569e+01 -8.95422551e+00]\n",
      " [ 2.20238582e+00 -2.24354163e+00 -2.48772189e+00]\n",
      " [ 3.42567558e+00 -8.69926672e+00 -7.56361768e+00]\n",
      " [ 1.14332612e+00 -1.18311952e+01 -9.97006757e+00]\n",
      " [ 3.40628986e+00 -2.98496897e+00 -3.24163416e+00]\n",
      " [ 3.44721152e+00 -6.63028084e+00 -6.07156231e+00]\n",
      " [ 2.35121079e+00 -7.77731401e-01 -1.80081751e+00]\n",
      " [ 3.76451759e+00 -4.95626796e+00 -4.74932285e+00]\n",
      " [ 3.55997166e+00 -4.80517423e+00 -4.54441806e+00]\n",
      " [ 3.34957569e+00 -3.49402156e+00 -3.55470938e+00]\n",
      " [ 3.38231510e+00 -4.89614713e+00 -4.88561071e+00]\n",
      " [ 3.38308731e+00 -3.00671728e+00 -3.50152729e+00]\n",
      " [ 2.20238582e+00 -2.24354163e+00 -2.48772189e+00]\n",
      " [ 1.49816863e+00 -1.56802626e+01 -1.30876106e+01]\n",
      " [ 1.63878535e+00 -1.50986652e+01 -1.27026559e+01]\n",
      " [ 3.25406407e+00 -2.28063587e+00 -2.91074873e+00]\n",
      " [ 3.37445265e+00 -2.58050707e+00 -3.02698061e+00]\n",
      " [ 1.94380113e+00 -2.87147092e+00 -2.90550215e+00]\n",
      " [ 3.20147872e+00 -8.80714693e+00 -7.67054031e+00]\n",
      " [ 2.23620684e+00 -5.33590271e+00 -5.46005849e+00]\n",
      " [ 3.64857763e+00 -4.19867395e+00 -4.13606286e+00]\n",
      " [ 3.72210871e+00 -6.35901786e+00 -5.79656114e+00]\n",
      " [-1.43050084e+00 -1.04344566e+00 -3.37949036e+00]\n",
      " [ 1.74261962e+00 -7.68826176e+00 -7.03139926e+00]\n",
      " [ 3.72210871e+00 -6.35901786e+00 -5.79656114e+00]\n",
      " [ 3.03478644e+00 -1.04859569e+01 -8.95422551e+00]\n",
      " [ 3.04512410e+00 -2.08535536e+00 -2.89293852e+00]\n",
      " [ 3.03478644e+00 -1.04859569e+01 -8.95422551e+00]\n",
      " [ 3.01881193e+00 -5.77391039e+00 -5.56896706e+00]\n",
      " [ 3.40302424e+00 -7.06811187e+00 -6.26022836e+00]\n",
      " [ 3.64863223e+00 -3.69676437e+00 -3.82612934e+00]\n",
      " [-3.87822219e+01  6.80521066e-01  2.02539257e+00]\n",
      " [-1.84466158e+01  1.92576060e+00  1.84975345e+00]\n",
      " [-3.77694191e+01  1.12325235e+00  2.20445825e+00]\n",
      " [-1.55788570e+01  1.75935494e+00 -2.51486721e-01]\n",
      " [-3.16420346e+01  2.13522398e+00  2.18905157e+00]\n",
      " [-9.26999129e+00  2.71990134e+00  1.34382807e+00]\n",
      " [-1.37806541e+01  1.42712955e+00  1.28360128e+00]\n",
      " [-3.32067415e+00  8.40134834e-01 -1.45692143e+00]\n",
      " [-3.23325237e+01  2.01340778e+00  2.30839258e+00]\n",
      " [-2.55543457e+00  1.67315063e+00 -1.00002551e-01]\n",
      " [-1.22626524e+01 -3.58631285e-01 -3.11268902e+00]\n",
      " [-9.83296776e+00  2.48596631e+00  1.53435546e+00]\n",
      " [-3.26390059e+01  4.01252657e-01 -6.12925678e-01]\n",
      " [-1.66937338e+01  2.81160829e+00  2.03513506e+00]\n",
      " [-5.63149380e+00  2.28626833e+00  9.64215142e-01]\n",
      " [-3.03719549e+01  1.73581266e+00  2.26725448e+00]\n",
      " [-4.12401698e+00  1.87454164e+00  7.09789604e-01]\n",
      " [-1.35026499e+01  2.86574918e+00  1.50996010e+00]\n",
      " [-3.97488458e+01 -2.94500058e-01 -7.46797477e-01]\n",
      " [-1.32443434e+01  2.50071206e+00  7.41469458e-01]\n",
      " [-6.53448228e+00  1.50756570e+00  8.25958876e-01]\n",
      " [-1.89915170e+01  2.85109560e+00  2.02169179e+00]\n",
      " [-3.35521812e+01  1.58323546e+00  1.21199730e+00]\n",
      " [-1.89915170e+01  2.85109560e+00  2.02169179e+00]\n",
      " [-2.55278218e+01  2.49151284e+00  2.29480907e+00]\n",
      " [-2.95610226e+01  2.05966723e+00  2.34161511e+00]\n",
      " [-4.30520737e+01  1.04243326e+00  1.97955320e+00]\n",
      " [-3.31115641e+01  1.78700089e+00  2.32931193e+00]\n",
      " [-1.41151618e+01  2.81242353e+00  1.88476407e+00]\n",
      " [-1.33292209e+01  2.73552597e+00  1.17492561e+00]\n",
      " [-1.32480172e+01  2.16130746e+00  2.09591636e-01]\n",
      " [-1.32480172e+01  2.16130746e+00  2.09591636e-01]\n",
      " [-1.35026499e+01  2.86574918e+00  1.50996010e+00]\n",
      " [-1.86162176e+01  2.83974909e+00  1.79136235e+00]\n",
      " [-1.23335976e+00  1.20221710e+00  5.46549581e-04]\n",
      " [-5.63267161e+00  2.37299322e-01 -5.25153271e-02]\n",
      " [-3.03719549e+01  1.73581266e+00  2.26725448e+00]\n",
      " [-4.00780053e+01  1.89798895e-01 -4.63515294e-02]\n",
      " [-4.12401698e+00  1.87454164e+00  7.09789604e-01]\n",
      " [-1.10754716e+01  2.42001367e+00  5.46625210e-01]\n",
      " [-9.06122033e+00  2.53547358e+00  7.59614000e-01]\n",
      " [-1.45542449e+01  2.62887467e+00  1.92453356e+00]\n",
      " [-1.57378142e+01  2.75613974e+00  1.33472167e+00]\n",
      " [-6.21640401e+00  1.01972487e+00 -1.41665734e+00]\n",
      " [-9.12133012e+00  2.67998281e+00  1.10093187e+00]\n",
      " [-5.84393858e+00  2.13129148e+00  1.01655139e+00]\n",
      " [-7.47781782e+00  2.49721956e+00  1.24221212e+00]\n",
      " [-1.94553678e+01  2.75785142e+00  2.15359956e+00]\n",
      " [-4.23060468e+00  1.56780394e+00 -5.51816742e-01]\n",
      " [-9.26999129e+00  2.71990134e+00  1.34382807e+00]\n",
      " [-1.37806541e+01  1.42712955e+00  1.28360128e+00]\n",
      " [-1.35026499e+01  2.86574918e+00  1.50996010e+00]\n",
      " [-4.91443502e+01  1.66919338e-01  1.96103426e+00]\n",
      " [-2.24000638e+01  2.65115294e+00  2.24015756e+00]\n",
      " [-2.61935431e+01  2.27939196e+00  2.32201179e+00]\n",
      " [-7.33042275e+01 -3.04936902e+00  7.82791006e-01]\n",
      " [-1.90654314e+00  8.24049360e-01 -1.29247670e+00]\n",
      " [-6.19154331e+01 -1.32762091e+00  1.35088028e+00]\n",
      " [-4.91840238e+01 -1.05752490e-01  7.78927441e-01]\n",
      " [-3.57548870e+01 -1.45232064e+00  4.19126320e-01]\n",
      " [-2.13782285e+01  1.85057472e+00  1.95879288e+00]\n",
      " [-3.10400969e+01  2.15244948e+00  1.97128889e+00]\n",
      " [-3.68451677e+01  1.46139293e+00  2.28510226e+00]\n",
      " [-1.55962771e+01  2.52846883e+00  9.04407209e-01]\n",
      " [-1.14257797e+01  2.83211233e+00  1.56115374e+00]\n",
      " [-1.84466158e+01  1.92576060e+00  1.84975345e+00]\n",
      " [-2.61935431e+01  2.27939196e+00  2.32201179e+00]\n",
      " [-5.10885596e+01 -4.60796478e+00 -1.21710619e+00]\n",
      " [-9.62828651e+01 -6.91110623e+00 -1.69138741e+00]\n",
      " [-3.26390059e+01  4.01252657e-01 -6.12925678e-01]\n",
      " [-3.49352992e+01  1.02041503e+00  2.07588562e+00]\n",
      " [-7.29726485e+00  2.55474872e+00  1.09459590e+00]\n",
      " [-8.71675386e+01 -5.09478628e+00 -3.71892704e-01]\n",
      " [-2.76595340e+01  2.40368681e+00  1.97416700e+00]\n",
      " [-2.53676191e+01  1.20369727e+00  1.77100522e+00]\n",
      " [-4.70252532e+01 -1.58091726e-01  1.82868697e+00]\n",
      " [-2.18795534e+01  2.75154012e+00  2.11139148e+00]\n",
      " [-1.45542449e+01  2.62887467e+00  1.92453356e+00]\n",
      " [-2.82048122e+01  2.39360431e+00  2.19507137e+00]\n",
      " [-5.36102016e+01 -3.70455096e-01  1.78919860e+00]\n",
      " [-7.08148257e+01 -2.57257187e+00  6.99081062e-01]\n",
      " [-6.03776297e+01 -5.63817686e+00 -1.51532506e+00]\n",
      " [-2.82048122e+01  2.39360431e+00  2.19507137e+00]\n",
      " [-2.49506518e+01  2.59904303e+00  2.16918467e+00]\n",
      " [-2.40619660e+01  2.50033132e+00  1.62267088e+00]\n",
      " [-7.86853889e+01 -3.85145155e+00  4.51422867e-01]\n",
      " [-1.20215372e+01  7.63007948e-01  7.34350256e-01]\n",
      " [-2.06487236e+01  2.25759098e+00  2.12215011e+00]\n",
      " [-1.21020753e+01  2.58389130e+00  1.74539776e+00]\n",
      " [-3.77694191e+01  1.12325235e+00  2.20445825e+00]\n",
      " [-3.03719549e+01  1.73581266e+00  2.26725448e+00]\n",
      " [-3.77694191e+01  1.12325235e+00  2.20445825e+00]\n",
      " [-1.35026499e+01  2.86574918e+00  1.50996010e+00]\n",
      " [-3.12714386e+01  1.30736738e+00  2.09447218e+00]\n",
      " [-2.53676191e+01  1.20369727e+00  1.77100522e+00]\n",
      " [-3.31115641e+01  1.78700089e+00  2.32931193e+00]\n",
      " [-3.35521812e+01  1.58323546e+00  1.21199730e+00]\n",
      " [-2.61935431e+01  2.27939196e+00  2.32201179e+00]\n",
      " [-9.70885335e+00  6.40713358e-01  5.03968224e-01]\n",
      " [-9.83296776e+00  2.48596631e+00  1.53435546e+00]]\n",
      "Arg_max\n",
      " [0 0 0 0 0 0 0 0 0 0 0 0 0 0 0 0 0 0 0 0 0 0 0 0 0 0 0 0 0 0 0 0 0 0 0 0 0\n",
      " 0 0 0 0 1 0 0 0 0 0 0 0 0 2 1 2 1 2 1 1 1 2 1 1 1 1 1 1 2 1 1 1 1 1 1 1 1\n",
      " 1 2 2 2 1 1 1 1 1 1 1 1 2 1 1 1 1 1 1 1 1 1 1 1 1 1 1 1 2 1 2 2 1 2 2 2 2\n",
      " 1 2 1 1 1 2 2 2 1 2 1 2 1 2 2 1 1 1 2 2 2 1 1 1 2 1 1 1 2 2 2 1 2 2 2 1 2\n",
      " 1 1]\n",
      "Confusion Matrix\n",
      " [[49  1  0]\n",
      " [ 0 41  9]\n",
      " [ 0 24 26]]\n"
     ]
    }
   ],
   "source": [
    "# discriminant functions\n",
    "G = np.zeros((n,3))\n",
    "\n",
    "for i in range(n):\n",
    "    dx1 = X[i,:] - mu1\n",
    "    dx2 = X[i,:] - mu2\n",
    "    dx3 = X[i,:] - mu3\n",
    "    G[i,0] = np.log(P1) - np.dot(np.dot(dx1.T, S1inv),dx1)/2.0 - np.log(S1det)\n",
    "    G[i,1] = np.log(P2) - np.dot(np.dot(dx2.T, S2inv),dx2)/2.0 - np.log(S2det)\n",
    "    G[i,2] = np.log(P3) - np.dot(np.dot(dx3.T, S3inv),dx3)/2.0 - np.log(S3det)\n",
    "    \n",
    "print('G\\n', G)\n",
    "\n",
    "print('Arg_max\\n', np.argmax(G, axis=1))\n",
    "\n",
    "print('Confusion Matrix\\n', confusion_matrix(y, np.argmax(G, axis=1)))\n",
    "\n",
    "x = range(n)\n"
   ]
  },
  {
   "cell_type": "code",
   "execution_count": 5,
   "metadata": {
    "colab": {
     "base_uri": "https://localhost:8080/",
     "height": 645
    },
    "colab_type": "code",
    "id": "q4qTmGTsx_44",
    "outputId": "e28ab7ff-cdb2-4333-9b2a-6e14c2d670b7"
   },
   "outputs": [
    {
     "name": "stderr",
     "output_type": "stream",
     "text": [
      "The PostScript backend does not support transparency; partially transparent artists will be rendered opaque.\n",
      "The PostScript backend does not support transparency; partially transparent artists will be rendered opaque.\n"
     ]
    },
    {
     "data": {
      "image/png": "[encoded data removed]",
      "text/plain": [
       "<Figure size 432x288 with 1 Axes>"
      ]
     },
     "metadata": {
      "needs_background": "light"
     },
     "output_type": "display_data"
    },
    {
     "name": "stderr",
     "output_type": "stream",
     "text": [
      "The PostScript backend does not support transparency; partially transparent artists will be rendered opaque.\n",
      "The PostScript backend does not support transparency; partially transparent artists will be rendered opaque.\n"
     ]
    },
    {
     "data": {
      "image/png": "[encoded data removed]",
      "text/plain": [
       "<Figure size 432x288 with 1 Axes>"
      ]
     },
     "metadata": {
      "needs_background": "light"
     },
     "output_type": "display_data"
    }
   ],
   "source": [
    "\n",
    "plt.plot(x, G[:,0], color='red', ls='--', label=target_names[0])\n",
    "plt.plot(x, G[:,1], color='blue', ls='-', label=target_names[1])\n",
    "plt.plot(x, G[:,2], color='green', ls='-.', label=target_names[2])\n",
    "plt.legend()\n",
    "plt.title('Bayes_iris_2d')\n",
    "plt.xlabel(\"sample no.\")\n",
    "plt.ylabel(\"discriminant function values\")         \n",
    "plt.savefig(\"bayes_iris_2d_disc.eps\")\n",
    "plt.show()\n",
    "\n",
    "# Create color maps\n",
    "cmap_light = ListedColormap(['#FFAAAA', '#AAFFAA', '#AAAAFF'])\n",
    "cmap_bold = ListedColormap(['#FF0000', '#00FF00', '#0000FF'])\n",
    "\n",
    "## colors\n",
    "colors = ['red', 'green', 'blue']\n",
    "markers = ['D', 'o', 'v']\n",
    "\n",
    "# Plot the decision boundary. For that, we will assign a color to each\n",
    "# point in the mesh [x_min, x_max]x[y_min, y_max].\n",
    "h = .02  # step size in the mesh\n",
    "x_min, x_max = X[:, 0].min() - .5, X[:, 0].max() + .5\n",
    "y_min, y_max = X[:, 1].min() - .5, X[:, 1].max() + .5\n",
    "xx, yy = np.meshgrid(np.arange(x_min, x_max, h), np.arange(y_min, y_max, h))\n",
    "\n",
    "Z=[]\n",
    "G=np.zeros((3))\n",
    "for Xvec in np.c_[xx.ravel(), yy.ravel()]:\n",
    "#    print(X)\n",
    "    dx1 = Xvec - mu1\n",
    "    dx2 = Xvec - mu2\n",
    "    dx3 = Xvec - mu3\n",
    "    G[0] = np.log(P1) - np.dot(np.dot(dx1.T, S1inv),dx1)/2.0 - np.log(S1det)\n",
    "    G[1] = np.log(P2) - np.dot(np.dot(dx2.T, S2inv),dx2)/2.0 - np.log(S2det)\n",
    "    G[2] = np.log(P3) - np.dot(np.dot(dx3.T, S3inv),dx3)/2.0 - np.log(S3det)\n",
    "    Z.append(np.argmax(G))\n",
    "Z=np.asarray(Z)\n",
    "#print('Z\\n', Z)\n",
    "\n",
    "# Put the result into a color plot\n",
    "Z = Z.reshape(xx.shape)\n",
    "plt.figure()\n",
    "#plt.figure(1, figsize=(4, 3))\n",
    "plt.pcolormesh(xx, yy, Z, cmap=cmap_light)\n",
    "\n",
    "# Plot also the training points\n",
    "for k, c, marker, target_name  in zip([0, 1, 2], colors, markers, target_names):\n",
    "    plt.scatter(X[y == k, 0], X[y == k, 1], c=c, marker=marker, label = target_name)\n",
    "#plt.scatter(data[:, 0], data[:, 1], c=y, edgecolors='k', cmap=plt.cm.Paired)\n",
    "plt.legend()\n",
    "plt.title('bayes_iris_2d')\n",
    "plt.xlabel('Sepal length')\n",
    "plt.ylabel('Sepal width')\n",
    "plt.savefig('bayes_iris_2d.eps')\n",
    "\n",
    "#plt.xlim(xx.min(), xx.max())\n",
    "#plt.ylim(yy.min(), yy.max())\n",
    "#plt.xticks(())\n",
    "#plt.yticks(())\n",
    "\n",
    "plt.show()\n"
   ]
  },
  {
   "cell_type": "code",
   "execution_count": null,
   "metadata": {
    "colab": {},
    "colab_type": "code",
    "id": "rtcVB6PFx_48"
   },
   "outputs": [],
   "source": []
  }
 ],
 "metadata": {
  "colab": {
   "include_colab_link": true,
   "name": "bayes_iris_2d.ipynb",
   "provenance": []
  },
  "kernelspec": {
   "display_name": "Python 3",
   "language": "python",
   "name": "python3"
  },
  "language_info": {
   "codemirror_mode": {
    "name": "ipython",
    "version": 3
   },
   "file_extension": ".py",
   "mimetype": "text/x-python",
   "name": "python",
   "nbconvert_exporter": "python",
   "pygments_lexer": "ipython3",
   "version": "3.8.3"
  }
 },
 "nbformat": 4,
 "nbformat_minor": 4
}
