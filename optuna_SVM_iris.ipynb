{
  "nbformat": 4,
  "nbformat_minor": 0,
  "metadata": {
    "colab": {
      "provenance": [],
      "authorship_tag": "ABX9TyP5t9PBMMvEOV37/BZF+TKg",
      "include_colab_link": true
    },
    "kernelspec": {
      "name": "python3",
      "display_name": "Python 3"
    },
    "language_info": {
      "name": "python"
    }
  },
  "cells": [
    {
      "cell_type": "markdown",
      "metadata": {
        "id": "view-in-github",
        "colab_type": "text"
      },
      "source": [
        "<a href=\"https://colab.research.google.com/github/namoshi/ml_intro/blob/master/optuna_SVM_iris.ipynb\" target=\"_parent\"><img src=\"https://colab.research.google.com/assets/colab-badge.svg\" alt=\"Open In Colab\"/></a>"
      ]
    },
    {
      "cell_type": "markdown",
      "source": [
        "# optunaを用いたSVM のハイパーパラメータの最適化"
      ],
      "metadata": {
        "id": "fSiPqn5KLIQy"
      }
    },
    {
      "cell_type": "code",
      "source": [
        "!pip install optuna"
      ],
      "metadata": {
        "colab": {
          "base_uri": "https://localhost:8080/"
        },
        "id": "x41F06JxLUVS",
        "outputId": "11704ed0-00e3-42b5-cccb-9b048bea3499"
      },
      "execution_count": 16,
      "outputs": [
        {
          "output_type": "stream",
          "name": "stdout",
          "text": [
            "Requirement already satisfied: optuna in /usr/local/lib/python3.10/dist-packages (4.0.0)\n",
            "Requirement already satisfied: alembic>=1.5.0 in /usr/local/lib/python3.10/dist-packages (from optuna) (1.13.2)\n",
            "Requirement already satisfied: colorlog in /usr/local/lib/python3.10/dist-packages (from optuna) (6.8.2)\n",
            "Requirement already satisfied: numpy in /usr/local/lib/python3.10/dist-packages (from optuna) (1.26.4)\n",
            "Requirement already satisfied: packaging>=20.0 in /usr/local/lib/python3.10/dist-packages (from optuna) (24.1)\n",
            "Requirement already satisfied: sqlalchemy>=1.3.0 in /usr/local/lib/python3.10/dist-packages (from optuna) (2.0.34)\n",
            "Requirement already satisfied: tqdm in /usr/local/lib/python3.10/dist-packages (from optuna) (4.66.5)\n",
            "Requirement already satisfied: PyYAML in /usr/local/lib/python3.10/dist-packages (from optuna) (6.0.2)\n",
            "Requirement already satisfied: Mako in /usr/local/lib/python3.10/dist-packages (from alembic>=1.5.0->optuna) (1.3.5)\n",
            "Requirement already satisfied: typing-extensions>=4 in /usr/local/lib/python3.10/dist-packages (from alembic>=1.5.0->optuna) (4.12.2)\n",
            "Requirement already satisfied: greenlet!=0.4.17 in /usr/local/lib/python3.10/dist-packages (from sqlalchemy>=1.3.0->optuna) (3.1.0)\n",
            "Requirement already satisfied: MarkupSafe>=0.9.2 in /usr/local/lib/python3.10/dist-packages (from Mako->alembic>=1.5.0->optuna) (2.1.5)\n"
          ]
        }
      ]
    },
    {
      "cell_type": "code",
      "execution_count": 17,
      "metadata": {
        "colab": {
          "base_uri": "https://localhost:8080/"
        },
        "id": "Xjd8RJLvLHgo",
        "outputId": "1995799a-454d-418b-9916-0015bd0bb159"
      },
      "outputs": [
        {
          "output_type": "stream",
          "name": "stderr",
          "text": [
            "[I 2024-09-17 04:31:32,207] A new study created in memory with name: no-name-f29e6856-c718-45bc-9cf6-34f5f14d302d\n",
            "[I 2024-09-17 04:31:32,235] Trial 0 finished with value: 0.9523809523809523 and parameters: {'C': 190.15907139670773, 'kernel': 'rbf'}. Best is trial 0 with value: 0.9523809523809523.\n",
            "[I 2024-09-17 04:31:32,266] Trial 1 finished with value: 0.9333333333333333 and parameters: {'C': 95420214.81618288, 'kernel': 'rbf'}. Best is trial 0 with value: 0.9523809523809523.\n",
            "[I 2024-09-17 04:31:32,297] Trial 2 finished with value: 0.30476190476190473 and parameters: {'C': 0.005213504913554304, 'kernel': 'sigmoid'}. Best is trial 0 with value: 0.9523809523809523.\n",
            "[I 2024-09-17 04:31:32,325] Trial 3 finished with value: 0.30476190476190473 and parameters: {'C': 0.0016434816902267605, 'kernel': 'sigmoid'}. Best is trial 0 with value: 0.9523809523809523.\n",
            "[I 2024-09-17 04:31:32,352] Trial 4 finished with value: 0.9523809523809523 and parameters: {'C': 4330.856473501024, 'kernel': 'linear'}. Best is trial 0 with value: 0.9523809523809523.\n",
            "[I 2024-09-17 04:31:32,380] Trial 5 finished with value: 0.06666666666666667 and parameters: {'C': 5692.066971886009, 'kernel': 'sigmoid'}. Best is trial 0 with value: 0.9523809523809523.\n",
            "[I 2024-09-17 04:31:32,423] Trial 6 finished with value: 0.9523809523809523 and parameters: {'C': 32689.635710335813, 'kernel': 'linear'}. Best is trial 0 with value: 0.9523809523809523.\n",
            "[I 2024-09-17 04:31:32,451] Trial 7 finished with value: 0.30476190476190473 and parameters: {'C': 0.1558209666359976, 'kernel': 'sigmoid'}. Best is trial 0 with value: 0.9523809523809523.\n",
            "[I 2024-09-17 04:31:32,483] Trial 8 finished with value: 0.30476190476190473 and parameters: {'C': 3.0833106059172704e-07, 'kernel': 'sigmoid'}. Best is trial 0 with value: 0.9523809523809523.\n",
            "[I 2024-09-17 04:31:32,509] Trial 9 finished with value: 0.35238095238095235 and parameters: {'C': 2.8450983536724425e-07, 'kernel': 'poly'}. Best is trial 0 with value: 0.9523809523809523.\n",
            "[I 2024-09-17 04:31:32,550] Trial 10 finished with value: 0.9333333333333333 and parameters: {'C': 1338085986.4210598, 'kernel': 'rbf'}. Best is trial 0 with value: 0.9523809523809523.\n",
            "[I 2024-09-17 04:31:32,582] Trial 11 finished with value: 0.9523809523809523 and parameters: {'C': 1624.037757327362, 'kernel': 'linear'}. Best is trial 0 with value: 0.9523809523809523.\n",
            "[I 2024-09-17 04:31:32,614] Trial 12 finished with value: 0.9428571428571428 and parameters: {'C': 54.95275898400015, 'kernel': 'linear'}. Best is trial 0 with value: 0.9523809523809523.\n",
            "[I 2024-09-17 04:31:32,651] Trial 13 finished with value: 0.9333333333333333 and parameters: {'C': 1410699.7694098088, 'kernel': 'rbf'}. Best is trial 0 with value: 0.9523809523809523.\n",
            "[I 2024-09-17 04:31:32,681] Trial 14 finished with value: 0.9523809523809523 and parameters: {'C': 3.7879208527965247, 'kernel': 'poly'}. Best is trial 0 with value: 0.9523809523809523.\n",
            "[I 2024-09-17 04:31:32,713] Trial 15 finished with value: 0.37142857142857144 and parameters: {'C': 1.017159752002633e-10, 'kernel': 'linear'}. Best is trial 0 with value: 0.9523809523809523.\n",
            "[I 2024-09-17 04:31:32,844] Trial 16 finished with value: 0.9333333333333333 and parameters: {'C': 2542065.6006388967, 'kernel': 'rbf'}. Best is trial 0 with value: 0.9523809523809523.\n",
            "[I 2024-09-17 04:31:33,001] Trial 17 finished with value: 0.9523809523809523 and parameters: {'C': 73.30858363241383, 'kernel': 'rbf'}. Best is trial 0 with value: 0.9523809523809523.\n",
            "[I 2024-09-17 04:31:33,759] Trial 18 finished with value: 0.9523809523809523 and parameters: {'C': 765433.1392987208, 'kernel': 'linear'}. Best is trial 0 with value: 0.9523809523809523.\n",
            "[I 2024-09-17 04:31:33,784] Trial 19 finished with value: 0.35238095238095235 and parameters: {'C': 0.00010841084580378354, 'kernel': 'poly'}. Best is trial 0 with value: 0.9523809523809523.\n",
            "[I 2024-09-17 04:31:33,808] Trial 20 finished with value: 0.9523809523809523 and parameters: {'C': 0.08568959529066822, 'kernel': 'linear'}. Best is trial 0 with value: 0.9523809523809523.\n",
            "[I 2024-09-17 04:31:33,843] Trial 21 finished with value: 0.9523809523809523 and parameters: {'C': 17749.590306215152, 'kernel': 'linear'}. Best is trial 0 with value: 0.9523809523809523.\n",
            "[I 2024-09-17 04:31:33,904] Trial 22 finished with value: 0.9428571428571428 and parameters: {'C': 145879.50400436923, 'kernel': 'linear'}. Best is trial 0 with value: 0.9523809523809523.\n",
            "[I 2024-09-17 04:31:33,938] Trial 23 finished with value: 0.9523809523809523 and parameters: {'C': 335.3291570091574, 'kernel': 'linear'}. Best is trial 0 with value: 0.9523809523809523.\n",
            "[I 2024-09-17 04:31:33,976] Trial 24 finished with value: 0.9619047619047618 and parameters: {'C': 3.465991004264991, 'kernel': 'rbf'}. Best is trial 24 with value: 0.9619047619047618.\n",
            "[I 2024-09-17 04:31:34,020] Trial 25 finished with value: 0.9619047619047618 and parameters: {'C': 8.006693597639206, 'kernel': 'rbf'}. Best is trial 24 with value: 0.9619047619047618.\n",
            "[I 2024-09-17 04:31:34,057] Trial 26 finished with value: 0.9523809523809523 and parameters: {'C': 5.28788226262167, 'kernel': 'rbf'}. Best is trial 24 with value: 0.9619047619047618.\n",
            "[I 2024-09-17 04:31:34,100] Trial 27 finished with value: 0.37142857142857144 and parameters: {'C': 1.985955524216752e-05, 'kernel': 'rbf'}. Best is trial 24 with value: 0.9619047619047618.\n",
            "[I 2024-09-17 04:31:34,142] Trial 28 finished with value: 0.9238095238095237 and parameters: {'C': 0.4518038204673046, 'kernel': 'rbf'}. Best is trial 24 with value: 0.9619047619047618.\n",
            "[I 2024-09-17 04:31:34,180] Trial 29 finished with value: 0.9523809523809523 and parameters: {'C': 10.668854502650772, 'kernel': 'rbf'}. Best is trial 24 with value: 0.9619047619047618.\n",
            "[I 2024-09-17 04:31:34,224] Trial 30 finished with value: 0.9333333333333333 and parameters: {'C': 49884107.254533745, 'kernel': 'rbf'}. Best is trial 24 with value: 0.9619047619047618.\n",
            "[I 2024-09-17 04:31:34,258] Trial 31 finished with value: 0.9428571428571428 and parameters: {'C': 721.9402075976146, 'kernel': 'rbf'}. Best is trial 24 with value: 0.9619047619047618.\n",
            "[I 2024-09-17 04:31:34,303] Trial 32 finished with value: 0.42857142857142855 and parameters: {'C': 0.027435416923485428, 'kernel': 'rbf'}. Best is trial 24 with value: 0.9619047619047618.\n",
            "[I 2024-09-17 04:31:34,349] Trial 33 finished with value: 0.9523809523809523 and parameters: {'C': 63.550481048505716, 'kernel': 'rbf'}. Best is trial 24 with value: 0.9619047619047618.\n",
            "[I 2024-09-17 04:31:34,378] Trial 34 finished with value: 0.37142857142857144 and parameters: {'C': 0.0025365156956573573, 'kernel': 'rbf'}. Best is trial 24 with value: 0.9619047619047618.\n",
            "[I 2024-09-17 04:31:34,487] Trial 35 finished with value: 0.9428571428571428 and parameters: {'C': 6615.793897787689, 'kernel': 'poly'}. Best is trial 24 with value: 0.9619047619047618.\n",
            "[I 2024-09-17 04:31:34,513] Trial 36 finished with value: 0.30476190476190473 and parameters: {'C': 0.48918216812136445, 'kernel': 'sigmoid'}. Best is trial 24 with value: 0.9619047619047618.\n",
            "[I 2024-09-17 04:31:34,541] Trial 37 finished with value: 0.9333333333333333 and parameters: {'C': 25591196.1471015, 'kernel': 'rbf'}. Best is trial 24 with value: 0.9619047619047618.\n",
            "[I 2024-09-17 04:31:34,569] Trial 38 finished with value: 0.30476190476190473 and parameters: {'C': 0.018312403925160183, 'kernel': 'sigmoid'}. Best is trial 24 with value: 0.9619047619047618.\n",
            "[I 2024-09-17 04:31:34,596] Trial 39 finished with value: 0.9333333333333333 and parameters: {'C': 76586.22900523331, 'kernel': 'rbf'}. Best is trial 24 with value: 0.9619047619047618.\n",
            "[I 2024-09-17 04:31:34,621] Trial 40 finished with value: 0.37142857142857144 and parameters: {'C': 0.00044859936084312105, 'kernel': 'rbf'}. Best is trial 24 with value: 0.9619047619047618.\n",
            "[I 2024-09-17 04:31:34,676] Trial 41 finished with value: 0.9523809523809523 and parameters: {'C': 1663.2696460264406, 'kernel': 'linear'}. Best is trial 24 with value: 0.9619047619047618.\n",
            "[I 2024-09-17 04:31:35,737] Trial 42 finished with value: 0.9523809523809523 and parameters: {'C': 1118833296.0670202, 'kernel': 'linear'}. Best is trial 24 with value: 0.9619047619047618.\n",
            "[I 2024-09-17 04:31:35,799] Trial 43 finished with value: 0.9523809523809523 and parameters: {'C': 33188.68168280842, 'kernel': 'linear'}. Best is trial 24 with value: 0.9619047619047618.\n",
            "[I 2024-09-17 04:31:35,840] Trial 44 finished with value: 0.14285714285714285 and parameters: {'C': 21.721847719591544, 'kernel': 'sigmoid'}. Best is trial 24 with value: 0.9619047619047618.\n",
            "[I 2024-09-17 04:31:35,891] Trial 45 finished with value: 0.9523809523809523 and parameters: {'C': 229.32208573835268, 'kernel': 'linear'}. Best is trial 24 with value: 0.9619047619047618.\n",
            "[I 2024-09-17 04:31:36,108] Trial 46 finished with value: 0.9428571428571428 and parameters: {'C': 3840.961050172663, 'kernel': 'poly'}. Best is trial 24 with value: 0.9619047619047618.\n",
            "[I 2024-09-17 04:31:36,145] Trial 47 finished with value: 0.9619047619047618 and parameters: {'C': 1.2882943614960292, 'kernel': 'linear'}. Best is trial 24 with value: 0.9619047619047618.\n",
            "[I 2024-09-17 04:31:36,177] Trial 48 finished with value: 0.9523809523809523 and parameters: {'C': 7.0302416430934, 'kernel': 'linear'}. Best is trial 24 with value: 0.9619047619047618.\n",
            "[I 2024-09-17 04:31:36,220] Trial 49 finished with value: 0.9523809523809523 and parameters: {'C': 1.7030499805645094, 'kernel': 'rbf'}. Best is trial 24 with value: 0.9619047619047618.\n",
            "[I 2024-09-17 04:31:36,329] Trial 50 finished with value: 0.9142857142857143 and parameters: {'C': 0.12557459109691016, 'kernel': 'rbf'}. Best is trial 24 with value: 0.9619047619047618.\n",
            "[I 2024-09-17 04:31:36,592] Trial 51 finished with value: 0.9428571428571428 and parameters: {'C': 267918.8507440775, 'kernel': 'linear'}. Best is trial 24 with value: 0.9619047619047618.\n",
            "[I 2024-09-17 04:31:36,635] Trial 52 finished with value: 0.9523809523809523 and parameters: {'C': 108.8000709589629, 'kernel': 'linear'}. Best is trial 24 with value: 0.9619047619047618.\n",
            "[I 2024-09-17 04:31:37,556] Trial 53 finished with value: 0.9523809523809523 and parameters: {'C': 3979506.360857447, 'kernel': 'linear'}. Best is trial 24 with value: 0.9619047619047618.\n",
            "[I 2024-09-17 04:31:37,634] Trial 54 finished with value: 0.9619047619047618 and parameters: {'C': 1.0613108231119348, 'kernel': 'linear'}. Best is trial 24 with value: 0.9619047619047618.\n",
            "[I 2024-09-17 04:31:37,713] Trial 55 finished with value: 0.9619047619047618 and parameters: {'C': 0.4489291566417579, 'kernel': 'linear'}. Best is trial 24 with value: 0.9619047619047618.\n",
            "[I 2024-09-17 04:31:37,750] Trial 56 finished with value: 0.9619047619047618 and parameters: {'C': 1.391907088051015, 'kernel': 'linear'}. Best is trial 24 with value: 0.9619047619047618.\n",
            "[I 2024-09-17 04:31:37,805] Trial 57 finished with value: 0.9238095238095237 and parameters: {'C': 0.02581631959489029, 'kernel': 'linear'}. Best is trial 24 with value: 0.9619047619047618.\n",
            "[I 2024-09-17 04:31:37,866] Trial 58 finished with value: 0.9619047619047618 and parameters: {'C': 1.397096863374291, 'kernel': 'linear'}. Best is trial 24 with value: 0.9619047619047618.\n",
            "[I 2024-09-17 04:31:37,941] Trial 59 finished with value: 0.6666666666666667 and parameters: {'C': 0.0044718347678838, 'kernel': 'linear'}. Best is trial 24 with value: 0.9619047619047618.\n",
            "[I 2024-09-17 04:31:37,978] Trial 60 finished with value: 0.37142857142857144 and parameters: {'C': 3.2135366566767207e-06, 'kernel': 'linear'}. Best is trial 24 with value: 0.9619047619047618.\n",
            "[I 2024-09-17 04:31:38,016] Trial 61 finished with value: 0.9619047619047618 and parameters: {'C': 0.5816988529203769, 'kernel': 'linear'}. Best is trial 24 with value: 0.9619047619047618.\n",
            "[I 2024-09-17 04:31:38,079] Trial 62 finished with value: 0.9523809523809523 and parameters: {'C': 0.7600590383754737, 'kernel': 'linear'}. Best is trial 24 with value: 0.9619047619047618.\n",
            "[I 2024-09-17 04:31:38,145] Trial 63 finished with value: 0.9428571428571428 and parameters: {'C': 0.09073766667036513, 'kernel': 'linear'}. Best is trial 24 with value: 0.9619047619047618.\n",
            "[I 2024-09-17 04:31:38,232] Trial 64 finished with value: 0.9714285714285715 and parameters: {'C': 3.0822459433863028, 'kernel': 'linear'}. Best is trial 64 with value: 0.9714285714285715.\n",
            "[I 2024-09-17 04:31:38,306] Trial 65 finished with value: 0.9523809523809523 and parameters: {'C': 22.587980120300028, 'kernel': 'linear'}. Best is trial 64 with value: 0.9714285714285715.\n",
            "[I 2024-09-17 04:31:38,366] Trial 66 finished with value: 0.9523809523809523 and parameters: {'C': 3.1574386904598652, 'kernel': 'poly'}. Best is trial 64 with value: 0.9714285714285715.\n",
            "[I 2024-09-17 04:31:38,412] Trial 67 finished with value: 0.9523809523809523 and parameters: {'C': 0.20447578952436524, 'kernel': 'linear'}. Best is trial 64 with value: 0.9714285714285715.\n",
            "[I 2024-09-17 04:31:38,457] Trial 68 finished with value: 0.37142857142857144 and parameters: {'C': 0.00027067182933621624, 'kernel': 'linear'}. Best is trial 64 with value: 0.9714285714285715.\n",
            "[I 2024-09-17 04:31:38,503] Trial 69 finished with value: 0.9238095238095237 and parameters: {'C': 0.015641403700901606, 'kernel': 'linear'}. Best is trial 64 with value: 0.9714285714285715.\n",
            "[I 2024-09-17 04:31:38,548] Trial 70 finished with value: 0.14285714285714285 and parameters: {'C': 22.44915782213442, 'kernel': 'sigmoid'}. Best is trial 64 with value: 0.9714285714285715.\n",
            "[I 2024-09-17 04:31:38,589] Trial 71 finished with value: 0.9619047619047618 and parameters: {'C': 1.7007977912628958, 'kernel': 'linear'}. Best is trial 64 with value: 0.9714285714285715.\n",
            "[I 2024-09-17 04:31:38,628] Trial 72 finished with value: 0.9523809523809523 and parameters: {'C': 423.5348035418971, 'kernel': 'linear'}. Best is trial 64 with value: 0.9714285714285715.\n",
            "[I 2024-09-17 04:31:38,675] Trial 73 finished with value: 0.9523809523809523 and parameters: {'C': 6.276065455119307, 'kernel': 'linear'}. Best is trial 64 with value: 0.9714285714285715.\n",
            "[I 2024-09-17 04:31:38,710] Trial 74 finished with value: 0.9523809523809523 and parameters: {'C': 0.2264216401893224, 'kernel': 'linear'}. Best is trial 64 with value: 0.9714285714285715.\n",
            "[I 2024-09-17 04:31:38,756] Trial 75 finished with value: 0.9619047619047618 and parameters: {'C': 1.7935390929378545, 'kernel': 'linear'}. Best is trial 64 with value: 0.9714285714285715.\n",
            "[I 2024-09-17 04:31:38,794] Trial 76 finished with value: 0.9428571428571428 and parameters: {'C': 0.06386648922687806, 'kernel': 'linear'}. Best is trial 64 with value: 0.9714285714285715.\n",
            "[I 2024-09-17 04:31:38,842] Trial 77 finished with value: 0.8761904761904761 and parameters: {'C': 0.0014461496032540794, 'kernel': 'poly'}. Best is trial 64 with value: 0.9714285714285715.\n",
            "[I 2024-09-17 04:31:38,886] Trial 78 finished with value: 0.9714285714285715 and parameters: {'C': 25.539196172250662, 'kernel': 'rbf'}. Best is trial 64 with value: 0.9714285714285715.\n",
            "[I 2024-09-17 04:31:38,937] Trial 79 finished with value: 0.9523809523809523 and parameters: {'C': 32.435203099011645, 'kernel': 'rbf'}. Best is trial 64 with value: 0.9714285714285715.\n",
            "[I 2024-09-17 04:31:38,984] Trial 80 finished with value: 0.9523809523809523 and parameters: {'C': 158.45761373710815, 'kernel': 'rbf'}. Best is trial 64 with value: 0.9714285714285715.\n",
            "[I 2024-09-17 04:31:39,030] Trial 81 finished with value: 0.9523809523809523 and parameters: {'C': 9.33234391512608, 'kernel': 'rbf'}. Best is trial 64 with value: 0.9714285714285715.\n",
            "[I 2024-09-17 04:31:39,082] Trial 82 finished with value: 0.9428571428571428 and parameters: {'C': 0.650785795526839, 'kernel': 'rbf'}. Best is trial 64 with value: 0.9714285714285715.\n",
            "[I 2024-09-17 04:31:39,125] Trial 83 finished with value: 0.9523809523809523 and parameters: {'C': 62.95180389953757, 'kernel': 'rbf'}. Best is trial 64 with value: 0.9714285714285715.\n",
            "[I 2024-09-17 04:31:39,175] Trial 84 finished with value: 0.9714285714285715 and parameters: {'C': 2.594933838164517, 'kernel': 'linear'}. Best is trial 64 with value: 0.9714285714285715.\n",
            "[I 2024-09-17 04:31:39,217] Trial 85 finished with value: 0.07619047619047618 and parameters: {'C': 782.7453287051733, 'kernel': 'sigmoid'}. Best is trial 64 with value: 0.9714285714285715.\n",
            "[I 2024-09-17 04:31:39,262] Trial 86 finished with value: 0.37142857142857144 and parameters: {'C': 0.011069749430173794, 'kernel': 'rbf'}. Best is trial 64 with value: 0.9714285714285715.\n",
            "[I 2024-09-17 04:31:39,346] Trial 87 finished with value: 0.9619047619047618 and parameters: {'C': 3.799904573019897, 'kernel': 'linear'}. Best is trial 64 with value: 0.9714285714285715.\n",
            "[I 2024-09-17 04:31:39,384] Trial 88 finished with value: 0.5904761904761905 and parameters: {'C': 0.043645687648926956, 'kernel': 'rbf'}. Best is trial 64 with value: 0.9714285714285715.\n",
            "[I 2024-09-17 04:31:39,474] Trial 89 finished with value: 0.37142857142857144 and parameters: {'C': 2.9778603117045277e-10, 'kernel': 'linear'}. Best is trial 64 with value: 0.9714285714285715.\n",
            "[I 2024-09-17 04:31:39,539] Trial 90 finished with value: 0.9523809523809523 and parameters: {'C': 12.95186722754837, 'kernel': 'linear'}. Best is trial 64 with value: 0.9714285714285715.\n",
            "[I 2024-09-17 04:31:39,599] Trial 91 finished with value: 0.9523809523809523 and parameters: {'C': 0.4221958213586732, 'kernel': 'linear'}. Best is trial 64 with value: 0.9714285714285715.\n",
            "[I 2024-09-17 04:31:39,664] Trial 92 finished with value: 0.9619047619047618 and parameters: {'C': 1.0427234143383062, 'kernel': 'linear'}. Best is trial 64 with value: 0.9714285714285715.\n",
            "[I 2024-09-17 04:31:39,728] Trial 93 finished with value: 0.9714285714285715 and parameters: {'C': 3.1307625386856768, 'kernel': 'linear'}. Best is trial 64 with value: 0.9714285714285715.\n",
            "[I 2024-09-17 04:31:39,764] Trial 94 finished with value: 0.9523809523809523 and parameters: {'C': 0.22873397589417524, 'kernel': 'linear'}. Best is trial 64 with value: 0.9714285714285715.\n",
            "[I 2024-09-17 04:31:39,808] Trial 95 finished with value: 0.9523809523809523 and parameters: {'C': 69.7193827919072, 'kernel': 'linear'}. Best is trial 64 with value: 0.9714285714285715.\n",
            "[I 2024-09-17 04:31:39,859] Trial 96 finished with value: 0.9523809523809523 and parameters: {'C': 5.381558545398885, 'kernel': 'rbf'}. Best is trial 64 with value: 0.9714285714285715.\n",
            "[I 2024-09-17 04:31:39,910] Trial 97 finished with value: 0.9523809523809523 and parameters: {'C': 2.472536823533336, 'kernel': 'poly'}. Best is trial 64 with value: 0.9714285714285715.\n",
            "[I 2024-09-17 04:31:39,956] Trial 98 finished with value: 0.9428571428571428 and parameters: {'C': 28.886610967129272, 'kernel': 'linear'}. Best is trial 64 with value: 0.9714285714285715.\n",
            "[I 2024-09-17 04:31:39,992] Trial 99 finished with value: 0.9523809523809523 and parameters: {'C': 0.19437607522351463, 'kernel': 'linear'}. Best is trial 64 with value: 0.9714285714285715.\n"
          ]
        },
        {
          "output_type": "stream",
          "name": "stdout",
          "text": [
            "Best trial:\n",
            "  Value: 0.9714285714285715\n",
            "  Params: {'C': 3.0822459433863028, 'kernel': 'linear'}\n"
          ]
        }
      ],
      "source": [
        "import optuna\n",
        "from sklearn import datasets\n",
        "from sklearn.model_selection import train_test_split\n",
        "from sklearn.metrics import accuracy_score\n",
        "from sklearn.svm import SVC\n",
        "from sklearn.model_selection import cross_val_score\n",
        "\n",
        "# データの準備\n",
        "iris = datasets.load_iris()\n",
        "X, y = iris.data, iris.target\n",
        "X_train, X_test, y_train, y_test = train_test_split(X, y, test_size=0.3, random_state=42)\n",
        "\n",
        "# 目的関数の定義\n",
        "def objective(trial):\n",
        "    # ハイパーパラメータの範囲指定\n",
        "    C = trial.suggest_float(\"C\", 1e-10, 1e10, log=True)\n",
        "    kernel = trial.suggest_categorical(\"kernel\", [\"linear\", \"poly\", \"rbf\", \"sigmoid\"])\n",
        "\n",
        "    # モデルの学習\n",
        "    svm = SVC(C=C, kernel=kernel)\n",
        "#    svm.fit(X_train, y_train)\n",
        "    scores = cross_val_score(svm, X_train, y_train, cv=5)\n",
        "#    print(scores)\n",
        "\n",
        "    # モデルの評価\n",
        "#    y_pred = svm.predict(X_test)\n",
        "#    accuracy = accuracy_score(y_test, y_pred)\n",
        "    accuracy = scores.mean()\n",
        "\n",
        "    return accuracy\n",
        "\n",
        "# 最適化プロセスの実行\n",
        "study = optuna.create_study(direction=\"maximize\")\n",
        "study.optimize(objective, n_trials=100)\n",
        "\n",
        "# 最適化結果の表示\n",
        "print(\"Best trial:\")\n",
        "trial = study.best_trial\n",
        "print(f\"  Value: {trial.value}\")\n",
        "print(f\"  Params: {trial.params}\")"
      ]
    },
    {
      "cell_type": "code",
      "source": [
        "C_opt = trial.params['C']\n",
        "kernel_opt =trial.params['kernel']\n",
        "print('Best C is ', C_opt)\n",
        "print('Best kernel is ', kernel_opt)\n",
        "\n",
        "svm = SVC(C=C_opt, kernel=kernel_opt)\n",
        "svm.fit(X_train, y_train)\n",
        "# Test Accuracy\n",
        "y_pred = svm.predict(X_test)\n",
        "accuracy = accuracy_score(y_test, y_pred)\n",
        "print('Test Accuracy = ', accuracy)\n"
      ],
      "metadata": {
        "colab": {
          "base_uri": "https://localhost:8080/"
        },
        "id": "RV0EZ6ruOrwZ",
        "outputId": "a20bb91e-8899-42cc-f502-312dad73c59f"
      },
      "execution_count": 18,
      "outputs": [
        {
          "output_type": "stream",
          "name": "stdout",
          "text": [
            "Best C is  3.0822459433863028\n",
            "Best kernel is  linear\n",
            "Test Accuracy =  1.0\n"
          ]
        }
      ]
    }
  ]
}