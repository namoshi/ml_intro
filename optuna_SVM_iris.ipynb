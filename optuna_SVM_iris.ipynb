{
  "nbformat": 4,
  "nbformat_minor": 0,
  "metadata": {
    "colab": {
      "provenance": [],
      "authorship_tag": "ABX9TyMxrzNB5A/KtVRATNgsswzq",
      "include_colab_link": true
    },
    "kernelspec": {
      "name": "python3",
      "display_name": "Python 3"
    },
    "language_info": {
      "name": "python"
    }
  },
  "cells": [
    {
      "cell_type": "markdown",
      "metadata": {
        "id": "view-in-github",
        "colab_type": "text"
      },
      "source": [
        "<a href=\"https://colab.research.google.com/github/namoshi/ml_intro/blob/master/optuna_SVM_iris.ipynb\" target=\"_parent\"><img src=\"https://colab.research.google.com/assets/colab-badge.svg\" alt=\"Open In Colab\"/></a>"
      ]
    },
    {
      "cell_type": "markdown",
      "source": [
        "# optunaを用いたSVM のハイパーパラメータの最適化"
      ],
      "metadata": {
        "id": "fSiPqn5KLIQy"
      }
    },
    {
      "cell_type": "code",
      "source": [
        "!pip install optuna"
      ],
      "metadata": {
        "colab": {
          "base_uri": "https://localhost:8080/"
        },
        "id": "x41F06JxLUVS",
        "outputId": "d0b44f8e-de69-4aa3-8e8f-1c184349e3af"
      },
      "execution_count": 1,
      "outputs": [
        {
          "output_type": "stream",
          "name": "stdout",
          "text": [
            "Collecting optuna\n",
            "  Downloading optuna-4.0.0-py3-none-any.whl.metadata (16 kB)\n",
            "Collecting alembic>=1.5.0 (from optuna)\n",
            "  Downloading alembic-1.13.2-py3-none-any.whl.metadata (7.4 kB)\n",
            "Collecting colorlog (from optuna)\n",
            "  Downloading colorlog-6.8.2-py3-none-any.whl.metadata (10 kB)\n",
            "Requirement already satisfied: numpy in /usr/local/lib/python3.10/dist-packages (from optuna) (1.26.4)\n",
            "Requirement already satisfied: packaging>=20.0 in /usr/local/lib/python3.10/dist-packages (from optuna) (24.1)\n",
            "Requirement already satisfied: sqlalchemy>=1.3.0 in /usr/local/lib/python3.10/dist-packages (from optuna) (2.0.34)\n",
            "Requirement already satisfied: tqdm in /usr/local/lib/python3.10/dist-packages (from optuna) (4.66.5)\n",
            "Requirement already satisfied: PyYAML in /usr/local/lib/python3.10/dist-packages (from optuna) (6.0.2)\n",
            "Collecting Mako (from alembic>=1.5.0->optuna)\n",
            "  Downloading Mako-1.3.5-py3-none-any.whl.metadata (2.9 kB)\n",
            "Requirement already satisfied: typing-extensions>=4 in /usr/local/lib/python3.10/dist-packages (from alembic>=1.5.0->optuna) (4.12.2)\n",
            "Requirement already satisfied: greenlet!=0.4.17 in /usr/local/lib/python3.10/dist-packages (from sqlalchemy>=1.3.0->optuna) (3.1.0)\n",
            "Requirement already satisfied: MarkupSafe>=0.9.2 in /usr/local/lib/python3.10/dist-packages (from Mako->alembic>=1.5.0->optuna) (2.1.5)\n",
            "Downloading optuna-4.0.0-py3-none-any.whl (362 kB)\n",
            "\u001b[2K   \u001b[90m━━━━━━━━━━━━━━━━━━━━━━━━━━━━━━━━━━━━━━━━\u001b[0m \u001b[32m362.8/362.8 kB\u001b[0m \u001b[31m9.8 MB/s\u001b[0m eta \u001b[36m0:00:00\u001b[0m\n",
            "\u001b[?25hDownloading alembic-1.13.2-py3-none-any.whl (232 kB)\n",
            "\u001b[2K   \u001b[90m━━━━━━━━━━━━━━━━━━━━━━━━━━━━━━━━━━━━━━━━\u001b[0m \u001b[32m233.0/233.0 kB\u001b[0m \u001b[31m11.9 MB/s\u001b[0m eta \u001b[36m0:00:00\u001b[0m\n",
            "\u001b[?25hDownloading colorlog-6.8.2-py3-none-any.whl (11 kB)\n",
            "Downloading Mako-1.3.5-py3-none-any.whl (78 kB)\n",
            "\u001b[2K   \u001b[90m━━━━━━━━━━━━━━━━━━━━━━━━━━━━━━━━━━━━━━━━\u001b[0m \u001b[32m78.6/78.6 kB\u001b[0m \u001b[31m4.9 MB/s\u001b[0m eta \u001b[36m0:00:00\u001b[0m\n",
            "\u001b[?25hInstalling collected packages: Mako, colorlog, alembic, optuna\n",
            "Successfully installed Mako-1.3.5 alembic-1.13.2 colorlog-6.8.2 optuna-4.0.0\n"
          ]
        }
      ]
    },
    {
      "cell_type": "code",
      "execution_count": 3,
      "metadata": {
        "colab": {
          "base_uri": "https://localhost:8080/"
        },
        "id": "Xjd8RJLvLHgo",
        "outputId": "b9867b35-5414-4813-ec78-d9511dd0097c"
      },
      "outputs": [
        {
          "output_type": "stream",
          "name": "stderr",
          "text": [
            "[I 2024-09-17 04:14:09,188] A new study created in memory with name: no-name-a689d58e-94e9-4021-95e1-787559b02eca\n",
            "[I 2024-09-17 04:14:09,209] Trial 0 finished with value: 0.5555555555555556 and parameters: {'C': 4.603749304574985e-10, 'kernel': 'rbf'}. Best is trial 0 with value: 0.5555555555555556.\n",
            "[I 2024-09-17 04:14:09,220] Trial 1 finished with value: 0.5555555555555556 and parameters: {'C': 2.962689323992759e-06, 'kernel': 'rbf'}. Best is trial 0 with value: 0.5555555555555556.\n",
            "[I 2024-09-17 04:14:09,229] Trial 2 finished with value: 1.0 and parameters: {'C': 10.229990822365593, 'kernel': 'rbf'}. Best is trial 2 with value: 1.0.\n",
            "[I 2024-09-17 04:14:09,240] Trial 3 finished with value: 0.022222222222222223 and parameters: {'C': 56618947.34086856, 'kernel': 'sigmoid'}. Best is trial 2 with value: 1.0.\n",
            "[I 2024-09-17 04:14:09,508] Trial 4 finished with value: 0.9777777777777777 and parameters: {'C': 6169442611.466391, 'kernel': 'poly'}. Best is trial 2 with value: 1.0.\n",
            "[I 2024-09-17 04:14:09,521] Trial 5 finished with value: 1.0 and parameters: {'C': 0.9505697857107662, 'kernel': 'rbf'}. Best is trial 2 with value: 1.0.\n",
            "[I 2024-09-17 04:14:09,531] Trial 6 finished with value: 0.5333333333333333 and parameters: {'C': 8.725820189721292e-06, 'kernel': 'linear'}. Best is trial 2 with value: 1.0.\n",
            "[I 2024-09-17 04:14:09,541] Trial 7 finished with value: 0.2222222222222222 and parameters: {'C': 0.20550958238803232, 'kernel': 'sigmoid'}. Best is trial 2 with value: 1.0.\n",
            "[I 2024-09-17 04:14:10,939] Trial 8 finished with value: 1.0 and parameters: {'C': 2294593.0956957373, 'kernel': 'linear'}. Best is trial 2 with value: 1.0.\n",
            "[I 2024-09-17 04:14:10,956] Trial 9 finished with value: 0.5555555555555556 and parameters: {'C': 1.472694194728883e-09, 'kernel': 'rbf'}. Best is trial 2 with value: 1.0.\n",
            "[I 2024-09-17 04:14:11,000] Trial 10 finished with value: 1.0 and parameters: {'C': 4959.550210481214, 'kernel': 'poly'}. Best is trial 2 with value: 1.0.\n",
            "[I 2024-09-17 04:14:11,019] Trial 11 finished with value: 1.0 and parameters: {'C': 5.396325681723614, 'kernel': 'rbf'}. Best is trial 2 with value: 1.0.\n",
            "[I 2024-09-17 04:14:11,040] Trial 12 finished with value: 1.0 and parameters: {'C': 0.4904429825551388, 'kernel': 'rbf'}. Best is trial 2 with value: 1.0.\n",
            "[I 2024-09-17 04:14:11,072] Trial 13 finished with value: 1.0 and parameters: {'C': 3209.735637884783, 'kernel': 'rbf'}. Best is trial 2 with value: 1.0.\n",
            "[I 2024-09-17 04:14:11,094] Trial 14 finished with value: 0.5555555555555556 and parameters: {'C': 0.00029714691198050254, 'kernel': 'rbf'}. Best is trial 2 with value: 1.0.\n",
            "[I 2024-09-17 04:14:11,106] Trial 15 finished with value: 1.0 and parameters: {'C': 921.6646307953125, 'kernel': 'rbf'}. Best is trial 2 with value: 1.0.\n",
            "[I 2024-09-17 04:14:11,120] Trial 16 finished with value: 0.2222222222222222 and parameters: {'C': 0.01530227717158641, 'kernel': 'sigmoid'}. Best is trial 2 with value: 1.0.\n",
            "[I 2024-09-17 04:14:11,133] Trial 17 finished with value: 1.0 and parameters: {'C': 55.89796021612826, 'kernel': 'linear'}. Best is trial 2 with value: 1.0.\n",
            "[I 2024-09-17 04:14:11,145] Trial 18 finished with value: 0.9333333333333333 and parameters: {'C': 0.0014289661855123282, 'kernel': 'poly'}. Best is trial 2 with value: 1.0.\n",
            "[I 2024-09-17 04:14:11,159] Trial 19 finished with value: 0.9555555555555556 and parameters: {'C': 576882.520407475, 'kernel': 'rbf'}. Best is trial 2 with value: 1.0.\n",
            "[I 2024-09-17 04:14:11,172] Trial 20 finished with value: 0.5555555555555556 and parameters: {'C': 3.3831134576837534e-08, 'kernel': 'rbf'}. Best is trial 2 with value: 1.0.\n",
            "[I 2024-09-17 04:14:13,631] Trial 21 finished with value: 1.0 and parameters: {'C': 1801780.378145649, 'kernel': 'linear'}. Best is trial 2 with value: 1.0.\n",
            "[I 2024-09-17 04:14:13,673] Trial 22 finished with value: 1.0 and parameters: {'C': 99234.63359387794, 'kernel': 'linear'}. Best is trial 2 with value: 1.0.\n",
            "[I 2024-09-17 04:14:14,079] Trial 23 finished with value: 1.0 and parameters: {'C': 299573440.7320464, 'kernel': 'linear'}. Best is trial 2 with value: 1.0.\n",
            "[I 2024-09-17 04:14:14,112] Trial 24 finished with value: 1.0 and parameters: {'C': 49.767748972006856, 'kernel': 'linear'}. Best is trial 2 with value: 1.0.\n",
            "[I 2024-09-17 04:14:14,146] Trial 25 finished with value: 1.0 and parameters: {'C': 0.055028027075215286, 'kernel': 'linear'}. Best is trial 2 with value: 1.0.\n",
            "[I 2024-09-17 04:14:14,189] Trial 26 finished with value: 0.022222222222222223 and parameters: {'C': 10.956989115537958, 'kernel': 'sigmoid'}. Best is trial 2 with value: 1.0.\n",
            "[I 2024-09-17 04:14:14,501] Trial 27 finished with value: 0.9777777777777777 and parameters: {'C': 8024730.338232945, 'kernel': 'poly'}. Best is trial 2 with value: 1.0.\n",
            "[I 2024-09-17 04:14:14,531] Trial 28 finished with value: 1.0 and parameters: {'C': 11083.30210112393, 'kernel': 'rbf'}. Best is trial 2 with value: 1.0.\n",
            "[I 2024-09-17 04:14:14,555] Trial 29 finished with value: 1.0 and parameters: {'C': 211.2723764371412, 'kernel': 'rbf'}. Best is trial 2 with value: 1.0.\n",
            "[I 2024-09-17 04:14:14,575] Trial 30 finished with value: 0.5333333333333333 and parameters: {'C': 0.0007404504162582828, 'kernel': 'linear'}. Best is trial 2 with value: 1.0.\n",
            "[I 2024-09-17 04:14:14,833] Trial 31 finished with value: 0.9777777777777777 and parameters: {'C': 65246.824526494085, 'kernel': 'poly'}. Best is trial 2 with value: 1.0.\n",
            "[I 2024-09-17 04:14:14,851] Trial 32 finished with value: 0.9777777777777777 and parameters: {'C': 3.437227661929831, 'kernel': 'poly'}. Best is trial 2 with value: 1.0.\n",
            "[I 2024-09-17 04:14:14,957] Trial 33 finished with value: 0.9777777777777777 and parameters: {'C': 11082.361779224419, 'kernel': 'poly'}. Best is trial 2 with value: 1.0.\n",
            "[I 2024-09-17 04:14:15,176] Trial 34 finished with value: 0.9777777777777777 and parameters: {'C': 144824404.25752974, 'kernel': 'poly'}. Best is trial 2 with value: 1.0.\n",
            "[I 2024-09-17 04:14:15,496] Trial 35 finished with value: 0.9777777777777777 and parameters: {'C': 2008822768.26157, 'kernel': 'poly'}. Best is trial 2 with value: 1.0.\n",
            "[I 2024-09-17 04:14:15,526] Trial 36 finished with value: 0.022222222222222223 and parameters: {'C': 13631368.226283472, 'kernel': 'sigmoid'}. Best is trial 2 with value: 1.0.\n",
            "[I 2024-09-17 04:14:15,545] Trial 37 finished with value: 1.0 and parameters: {'C': 409.5618870626104, 'kernel': 'rbf'}. Best is trial 2 with value: 1.0.\n",
            "[I 2024-09-17 04:14:15,566] Trial 38 finished with value: 0.5555555555555556 and parameters: {'C': 2.6376645250722214e-05, 'kernel': 'rbf'}. Best is trial 2 with value: 1.0.\n",
            "[I 2024-09-17 04:14:15,585] Trial 39 finished with value: 1.0 and parameters: {'C': 0.013158396554109572, 'kernel': 'poly'}. Best is trial 2 with value: 1.0.\n",
            "[I 2024-09-17 04:14:15,604] Trial 40 finished with value: 1.0 and parameters: {'C': 0.4860765498968702, 'kernel': 'rbf'}. Best is trial 2 with value: 1.0.\n",
            "[I 2024-09-17 04:14:15,625] Trial 41 finished with value: 1.0 and parameters: {'C': 2.9590060939688376, 'kernel': 'rbf'}. Best is trial 2 with value: 1.0.\n",
            "[I 2024-09-17 04:14:15,647] Trial 42 finished with value: 1.0 and parameters: {'C': 21.155931501454887, 'kernel': 'rbf'}. Best is trial 2 with value: 1.0.\n",
            "[I 2024-09-17 04:14:15,691] Trial 43 finished with value: 0.9555555555555556 and parameters: {'C': 108486.34553464976, 'kernel': 'rbf'}. Best is trial 2 with value: 1.0.\n",
            "[I 2024-09-17 04:14:15,710] Trial 44 finished with value: 1.0 and parameters: {'C': 1961.000483754036, 'kernel': 'rbf'}. Best is trial 2 with value: 1.0.\n",
            "[I 2024-09-17 04:14:15,812] Trial 45 finished with value: 0.2222222222222222 and parameters: {'C': 0.2706601950453452, 'kernel': 'sigmoid'}. Best is trial 2 with value: 1.0.\n",
            "[I 2024-09-17 04:14:15,874] Trial 46 finished with value: 0.9777777777777777 and parameters: {'C': 132.60049975980948, 'kernel': 'rbf'}. Best is trial 2 with value: 1.0.\n",
            "[I 2024-09-17 04:14:15,907] Trial 47 finished with value: 1.0 and parameters: {'C': 0.024419930781292058, 'kernel': 'linear'}. Best is trial 2 with value: 1.0.\n",
            "[I 2024-09-17 04:14:15,935] Trial 48 finished with value: 1.0 and parameters: {'C': 2.355171940499359, 'kernel': 'rbf'}. Best is trial 2 with value: 1.0.\n",
            "[I 2024-09-17 04:14:15,965] Trial 49 finished with value: 1.0 and parameters: {'C': 2780.542537125877, 'kernel': 'rbf'}. Best is trial 2 with value: 1.0.\n",
            "[I 2024-09-17 04:14:16,014] Trial 50 finished with value: 0.5333333333333333 and parameters: {'C': 2.821152554661556e-07, 'kernel': 'linear'}. Best is trial 2 with value: 1.0.\n",
            "[I 2024-09-17 04:14:16,065] Trial 51 finished with value: 0.5555555555555556 and parameters: {'C': 0.003483161599430972, 'kernel': 'rbf'}. Best is trial 2 with value: 1.0.\n",
            "[I 2024-09-17 04:14:16,085] Trial 52 finished with value: 1.0 and parameters: {'C': 0.3103972203934396, 'kernel': 'rbf'}. Best is trial 2 with value: 1.0.\n",
            "[I 2024-09-17 04:14:16,143] Trial 53 finished with value: 0.5555555555555556 and parameters: {'C': 0.0001291303055124108, 'kernel': 'rbf'}. Best is trial 2 with value: 1.0.\n",
            "[I 2024-09-17 04:14:16,159] Trial 54 finished with value: 1.0 and parameters: {'C': 16.889626170904407, 'kernel': 'rbf'}. Best is trial 2 with value: 1.0.\n",
            "[I 2024-09-17 04:14:16,174] Trial 55 finished with value: 0.9555555555555556 and parameters: {'C': 2495459.5807672297, 'kernel': 'rbf'}. Best is trial 2 with value: 1.0.\n",
            "[I 2024-09-17 04:14:16,188] Trial 56 finished with value: 1.0 and parameters: {'C': 0.05194294226406437, 'kernel': 'linear'}. Best is trial 2 with value: 1.0.\n",
            "[I 2024-09-17 04:14:16,202] Trial 57 finished with value: 0.2222222222222222 and parameters: {'C': 2.0046314093782897e-10, 'kernel': 'sigmoid'}. Best is trial 2 with value: 1.0.\n",
            "[I 2024-09-17 04:14:16,263] Trial 58 finished with value: 0.9777777777777777 and parameters: {'C': 20331.966056061134, 'kernel': 'poly'}. Best is trial 2 with value: 1.0.\n",
            "[I 2024-09-17 04:14:16,285] Trial 59 finished with value: 0.9555555555555556 and parameters: {'C': 280702.23371725733, 'kernel': 'rbf'}. Best is trial 2 with value: 1.0.\n",
            "[I 2024-09-17 04:14:16,301] Trial 60 finished with value: 1.0 and parameters: {'C': 67.2303261902873, 'kernel': 'linear'}. Best is trial 2 with value: 1.0.\n",
            "[I 2024-09-17 04:14:16,314] Trial 61 finished with value: 1.0 and parameters: {'C': 1372.454618366266, 'kernel': 'rbf'}. Best is trial 2 with value: 1.0.\n",
            "[I 2024-09-17 04:14:16,327] Trial 62 finished with value: 1.0 and parameters: {'C': 2.3509068280713, 'kernel': 'rbf'}. Best is trial 2 with value: 1.0.\n",
            "[I 2024-09-17 04:14:16,341] Trial 63 finished with value: 1.0 and parameters: {'C': 355.84671561397147, 'kernel': 'rbf'}. Best is trial 2 with value: 1.0.\n",
            "[I 2024-09-17 04:14:16,354] Trial 64 finished with value: 1.0 and parameters: {'C': 13.393120242682098, 'kernel': 'rbf'}. Best is trial 2 with value: 1.0.\n",
            "[I 2024-09-17 04:14:16,375] Trial 65 finished with value: 1.0 and parameters: {'C': 0.8237655366738919, 'kernel': 'poly'}. Best is trial 2 with value: 1.0.\n",
            "[I 2024-09-17 04:14:16,388] Trial 66 finished with value: 0.9555555555555556 and parameters: {'C': 776027.434137919, 'kernel': 'rbf'}. Best is trial 2 with value: 1.0.\n",
            "[I 2024-09-17 04:14:16,401] Trial 67 finished with value: 1.0 and parameters: {'C': 8150.815719034378, 'kernel': 'linear'}. Best is trial 2 with value: 1.0.\n",
            "[I 2024-09-17 04:14:16,518] Trial 68 finished with value: 0.9777777777777777 and parameters: {'C': 1043861637.5379997, 'kernel': 'poly'}. Best is trial 2 with value: 1.0.\n",
            "[I 2024-09-17 04:14:16,534] Trial 69 finished with value: 0.022222222222222223 and parameters: {'C': 40893.43958735061, 'kernel': 'sigmoid'}. Best is trial 2 with value: 1.0.\n",
            "[I 2024-09-17 04:14:16,549] Trial 70 finished with value: 0.9555555555555556 and parameters: {'C': 16754096.027785921, 'kernel': 'rbf'}. Best is trial 2 with value: 1.0.\n",
            "[I 2024-09-17 04:14:16,565] Trial 71 finished with value: 1.0 and parameters: {'C': 602.2225916537343, 'kernel': 'rbf'}. Best is trial 2 with value: 1.0.\n",
            "[I 2024-09-17 04:14:16,578] Trial 72 finished with value: 0.9777777777777777 and parameters: {'C': 0.1193990862942173, 'kernel': 'rbf'}. Best is trial 2 with value: 1.0.\n",
            "[I 2024-09-17 04:14:16,591] Trial 73 finished with value: 1.0 and parameters: {'C': 38.10774284147236, 'kernel': 'rbf'}. Best is trial 2 with value: 1.0.\n",
            "[I 2024-09-17 04:14:16,605] Trial 74 finished with value: 1.0 and parameters: {'C': 4438.970440390997, 'kernel': 'rbf'}. Best is trial 2 with value: 1.0.\n",
            "[I 2024-09-17 04:14:16,618] Trial 75 finished with value: 1.0 and parameters: {'C': 5.942094859223628, 'kernel': 'rbf'}. Best is trial 2 with value: 1.0.\n",
            "[I 2024-09-17 04:14:16,632] Trial 76 finished with value: 1.0 and parameters: {'C': 104.90119892509837, 'kernel': 'poly'}. Best is trial 2 with value: 1.0.\n",
            "[I 2024-09-17 04:14:16,644] Trial 77 finished with value: 1.0 and parameters: {'C': 684.2218190739891, 'kernel': 'linear'}. Best is trial 2 with value: 1.0.\n",
            "[I 2024-09-17 04:14:16,659] Trial 78 finished with value: 1.0 and parameters: {'C': 0.9238173897181501, 'kernel': 'rbf'}. Best is trial 2 with value: 1.0.\n",
            "[I 2024-09-17 04:14:16,676] Trial 79 finished with value: 0.9777777777777777 and parameters: {'C': 0.09971795570935273, 'kernel': 'rbf'}. Best is trial 2 with value: 1.0.\n",
            "[I 2024-09-17 04:14:16,690] Trial 80 finished with value: 0.5555555555555556 and parameters: {'C': 0.009408624356504174, 'kernel': 'rbf'}. Best is trial 2 with value: 1.0.\n",
            "[I 2024-09-17 04:14:16,704] Trial 81 finished with value: 1.0 and parameters: {'C': 189.13313133400925, 'kernel': 'linear'}. Best is trial 2 with value: 1.0.\n",
            "[I 2024-09-17 04:14:16,717] Trial 82 finished with value: 0.9777777777777777 and parameters: {'C': 9.176332100270741, 'kernel': 'linear'}. Best is trial 2 with value: 1.0.\n",
            "[I 2024-09-17 04:14:16,730] Trial 83 finished with value: 1.0 and parameters: {'C': 60.83642869099865, 'kernel': 'linear'}. Best is trial 2 with value: 1.0.\n",
            "[I 2024-09-17 04:14:16,753] Trial 84 finished with value: 1.0 and parameters: {'C': 219208.52057517204, 'kernel': 'linear'}. Best is trial 2 with value: 1.0.\n",
            "[I 2024-09-17 04:14:16,785] Trial 85 finished with value: 1.0 and parameters: {'C': 1554.8849085759575, 'kernel': 'poly'}. Best is trial 2 with value: 1.0.\n",
            "[I 2024-09-17 04:14:16,801] Trial 86 finished with value: 1.0 and parameters: {'C': 1.3978877622242463, 'kernel': 'linear'}. Best is trial 2 with value: 1.0.\n",
            "[I 2024-09-17 04:14:16,822] Trial 87 finished with value: 0.022222222222222223 and parameters: {'C': 57454559.3329158, 'kernel': 'sigmoid'}. Best is trial 2 with value: 1.0.\n",
            "[I 2024-09-17 04:14:16,840] Trial 88 finished with value: 0.9777777777777777 and parameters: {'C': 28479.18117314578, 'kernel': 'rbf'}. Best is trial 2 with value: 1.0.\n",
            "[I 2024-09-17 04:14:16,856] Trial 89 finished with value: 1.0 and parameters: {'C': 27.06680939782114, 'kernel': 'rbf'}. Best is trial 2 with value: 1.0.\n",
            "[I 2024-09-17 04:14:16,872] Trial 90 finished with value: 0.9777777777777777 and parameters: {'C': 5.608863112566815, 'kernel': 'linear'}. Best is trial 2 with value: 1.0.\n",
            "[I 2024-09-17 04:14:17,142] Trial 91 finished with value: 1.0 and parameters: {'C': 3241514.3726091166, 'kernel': 'linear'}. Best is trial 2 with value: 1.0.\n",
            "[I 2024-09-17 04:14:17,156] Trial 92 finished with value: 1.0 and parameters: {'C': 6014.669047748839, 'kernel': 'linear'}. Best is trial 2 with value: 1.0.\n",
            "[I 2024-09-17 04:14:17,293] Trial 93 finished with value: 1.0 and parameters: {'C': 1308783.7376100344, 'kernel': 'linear'}. Best is trial 2 with value: 1.0.\n",
            "[I 2024-09-17 04:14:17,329] Trial 94 finished with value: 1.0 and parameters: {'C': 105789.28739385158, 'kernel': 'linear'}. Best is trial 2 with value: 1.0.\n",
            "[I 2024-09-17 04:14:17,342] Trial 95 finished with value: 1.0 and parameters: {'C': 0.492388854943202, 'kernel': 'rbf'}. Best is trial 2 with value: 1.0.\n",
            "[I 2024-09-17 04:14:17,461] Trial 96 finished with value: 0.9777777777777777 and parameters: {'C': 58433195.73104863, 'kernel': 'poly'}. Best is trial 2 with value: 1.0.\n",
            "[I 2024-09-17 04:14:17,477] Trial 97 finished with value: 0.9555555555555556 and parameters: {'C': 6147728.6391304955, 'kernel': 'rbf'}. Best is trial 2 with value: 1.0.\n",
            "[I 2024-09-17 04:14:17,505] Trial 98 finished with value: 1.0 and parameters: {'C': 12992.307207190408, 'kernel': 'linear'}. Best is trial 2 with value: 1.0.\n",
            "[I 2024-09-17 04:14:17,519] Trial 99 finished with value: 0.9555555555555556 and parameters: {'C': 6839631067.30676, 'kernel': 'rbf'}. Best is trial 2 with value: 1.0.\n"
          ]
        },
        {
          "output_type": "stream",
          "name": "stdout",
          "text": [
            "Best trial:\n",
            "  Value: 1.0\n",
            "  Params: {'C': 10.229990822365593, 'kernel': 'rbf'}\n"
          ]
        }
      ],
      "source": [
        "import optuna\n",
        "from sklearn import datasets\n",
        "from sklearn.model_selection import train_test_split\n",
        "from sklearn.metrics import accuracy_score\n",
        "from sklearn.svm import SVC\n",
        "\n",
        "# データの準備\n",
        "iris = datasets.load_iris()\n",
        "X, y = iris.data, iris.target\n",
        "X_train, X_test, y_train, y_test = train_test_split(X, y, test_size=0.3, random_state=42)\n",
        "\n",
        "# 目的関数の定義\n",
        "def objective(trial):\n",
        "    # ハイパーパラメータの範囲指定\n",
        "    C = trial.suggest_float(\"C\", 1e-10, 1e10, log=True)\n",
        "    kernel = trial.suggest_categorical(\"kernel\", [\"linear\", \"poly\", \"rbf\", \"sigmoid\"])\n",
        "\n",
        "    # モデルの学習\n",
        "    svm = SVC(C=C, kernel=kernel)\n",
        "    svm.fit(X_train, y_train)\n",
        "\n",
        "    # モデルの評価\n",
        "    y_pred = svm.predict(X_test)\n",
        "    accuracy = accuracy_score(y_test, y_pred)\n",
        "\n",
        "    return accuracy\n",
        "\n",
        "# 最適化プロセスの実行\n",
        "study = optuna.create_study(direction=\"maximize\")\n",
        "study.optimize(objective, n_trials=100)\n",
        "\n",
        "# 最適化結果の表示\n",
        "print(\"Best trial:\")\n",
        "trial = study.best_trial\n",
        "print(f\"  Value: {trial.value}\")\n",
        "print(f\"  Params: {trial.params}\")"
      ]
    }
  ]
}