{
  "nbformat": 4,
  "nbformat_minor": 0,
  "metadata": {
    "colab": {
      "provenance": [],
      "authorship_tag": "ABX9TyN2a3p03hz8rM6q9+1gjIdY",
      "include_colab_link": true
    },
    "kernelspec": {
      "name": "python3",
      "display_name": "Python 3"
    },
    "language_info": {
      "name": "python"
    }
  },
  "cells": [
    {
      "cell_type": "markdown",
      "metadata": {
        "id": "view-in-github",
        "colab_type": "text"
      },
      "source": [
        "<a href=\"https://colab.research.google.com/github/namoshi/ml_intro/blob/master/kernel_density.ipynb\" target=\"_parent\"><img src=\"https://colab.research.google.com/assets/colab-badge.svg\" alt=\"Open In Colab\"/></a>"
      ]
    },
    {
      "cell_type": "markdown",
      "source": [
        "# Kernel Density Estimation"
      ],
      "metadata": {
        "id": "VPbDTI6KDBSl"
      }
    },
    {
      "cell_type": "code",
      "source": [
        "# Author: Jake Vanderplas <jakevdp@cs.washington.edu>\n",
        "#\n",
        "import matplotlib.pyplot as plt\n",
        "import numpy as np\n",
        "from scipy.stats import norm\n",
        "\n",
        "from sklearn.neighbors import KernelDensity\n"
      ],
      "metadata": {
        "id": "TjvPIdRNDAhG"
      },
      "execution_count": 1,
      "outputs": []
    },
    {
      "cell_type": "code",
      "source": [
        "np.random.seed(1)\n",
        "N = 20\n",
        "X = np.concatenate(\n",
        "    (np.random.normal(0, 1, int(0.3 * N)), np.random.normal(5, 1, int(0.7 * N)))\n",
        ")[:, np.newaxis]\n",
        "X_plot = np.linspace(-5, 10, 1000)[:, np.newaxis]\n",
        "bins = np.linspace(-5, 10, 10)\n"
      ],
      "metadata": {
        "id": "Km2y9v4PDKNi"
      },
      "execution_count": 2,
      "outputs": []
    },
    {
      "cell_type": "code",
      "source": [
        "# Gaussian KDE\n",
        "kde = KernelDensity(kernel=\"gaussian\", bandwidth=0.75).fit(X)\n",
        "log_dens = kde.score_samples(X_plot)\n",
        "plt.fill(X_plot[:, 0], np.exp(log_dens), fc=\"#AAAAFF\")\n",
        "plt.text(-3.5, 0.31, \"Gaussian Kernel Density\")\n",
        "plt.show()"
      ],
      "metadata": {
        "colab": {
          "base_uri": "https://localhost:8080/",
          "height": 546
        },
        "id": "-mW3bViFDgmr",
        "outputId": "45f35055-aa8a-4620-90c4-c71cc1c68231"
      },
      "execution_count": 3,
      "outputs": [
        {
          "output_type": "display_data",
          "data": {
            "text/plain": [
              "<Figure size 640x480 with 1 Axes>"
            ],
            "image/png": "[encoded data removed]"
          },
          "metadata": {}
        }
      ]
    },
    {
      "cell_type": "code",
      "execution_count": null,
      "metadata": {
        "id": "j1HPBrOEC4-l"
      },
      "outputs": [],
      "source": [
        "# Author: Jake Vanderplas <jakevdp@cs.washington.edu>\n",
        "#\n",
        "import matplotlib.pyplot as plt\n",
        "import numpy as np\n",
        "from scipy.stats import norm\n",
        "\n",
        "from sklearn.neighbors import KernelDensity\n",
        "\n",
        "# ----------------------------------------------------------------------\n",
        "# Plot the progression of histograms to kernels\n",
        "np.random.seed(1)\n",
        "N = 20\n",
        "X = np.concatenate(\n",
        "    (np.random.normal(0, 1, int(0.3 * N)), np.random.normal(5, 1, int(0.7 * N)))\n",
        ")[:, np.newaxis]\n",
        "X_plot = np.linspace(-5, 10, 1000)[:, np.newaxis]\n",
        "bins = np.linspace(-5, 10, 10)\n",
        "\n",
        "fig, ax = plt.subplots(2, 2, sharex=True, sharey=True)\n",
        "fig.subplots_adjust(hspace=0.05, wspace=0.05)\n",
        "\n",
        "# histogram 1\n",
        "ax[0, 0].hist(X[:, 0], bins=bins, fc=\"#AAAAFF\", density=True)\n",
        "ax[0, 0].text(-3.5, 0.31, \"Histogram\")\n",
        "\n",
        "# histogram 2\n",
        "ax[0, 1].hist(X[:, 0], bins=bins + 0.75, fc=\"#AAAAFF\", density=True)\n",
        "ax[0, 1].text(-3.5, 0.31, \"Histogram, bins shifted\")\n",
        "\n",
        "# tophat KDE\n",
        "kde = KernelDensity(kernel=\"tophat\", bandwidth=0.75).fit(X)\n",
        "log_dens = kde.score_samples(X_plot)\n",
        "ax[1, 0].fill(X_plot[:, 0], np.exp(log_dens), fc=\"#AAAAFF\")\n",
        "ax[1, 0].text(-3.5, 0.31, \"Tophat Kernel Density\")\n",
        "\n",
        "# Gaussian KDE\n",
        "kde = KernelDensity(kernel=\"gaussian\", bandwidth=0.75).fit(X)\n",
        "log_dens = kde.score_samples(X_plot)\n",
        "ax[1, 1].fill(X_plot[:, 0], np.exp(log_dens), fc=\"#AAAAFF\")\n",
        "ax[1, 1].text(-3.5, 0.31, \"Gaussian Kernel Density\")\n",
        "\n",
        "for axi in ax.ravel():\n",
        "    axi.plot(X[:, 0], np.full(X.shape[0], -0.01), \"+k\")\n",
        "    axi.set_xlim(-4, 9)\n",
        "    axi.set_ylim(-0.02, 0.34)\n",
        "\n",
        "for axi in ax[:, 0]:\n",
        "    axi.set_ylabel(\"Normalized Density\")\n",
        "\n",
        "for axi in ax[1, :]:\n",
        "    axi.set_xlabel(\"x\")\n",
        "\n",
        "# ----------------------------------------------------------------------\n",
        "# Plot all available kernels\n",
        "X_plot = np.linspace(-6, 6, 1000)[:, None]\n",
        "X_src = np.zeros((1, 1))\n",
        "\n",
        "fig, ax = plt.subplots(2, 3, sharex=True, sharey=True)\n",
        "fig.subplots_adjust(left=0.05, right=0.95, hspace=0.05, wspace=0.05)\n",
        "\n",
        "\n",
        "def format_func(x, loc):\n",
        "    if x == 0:\n",
        "        return \"0\"\n",
        "    elif x == 1:\n",
        "        return \"h\"\n",
        "    elif x == -1:\n",
        "        return \"-h\"\n",
        "    else:\n",
        "        return \"%ih\" % x\n",
        "\n",
        "\n",
        "for i, kernel in enumerate(\n",
        "    [\"gaussian\", \"tophat\", \"epanechnikov\", \"exponential\", \"linear\", \"cosine\"]\n",
        "):\n",
        "    axi = ax.ravel()[i]\n",
        "    log_dens = KernelDensity(kernel=kernel).fit(X_src).score_samples(X_plot)\n",
        "    axi.fill(X_plot[:, 0], np.exp(log_dens), \"-k\", fc=\"#AAAAFF\")\n",
        "    axi.text(-2.6, 0.95, kernel)\n",
        "\n",
        "    axi.xaxis.set_major_formatter(plt.FuncFormatter(format_func))\n",
        "    axi.xaxis.set_major_locator(plt.MultipleLocator(1))\n",
        "    axi.yaxis.set_major_locator(plt.NullLocator())\n",
        "\n",
        "    axi.set_ylim(0, 1.05)\n",
        "    axi.set_xlim(-2.9, 2.9)\n",
        "\n",
        "ax[0, 1].set_title(\"Available Kernels\")\n",
        "\n",
        "# ----------------------------------------------------------------------\n",
        "# Plot a 1D density example\n",
        "N = 100\n",
        "np.random.seed(1)\n",
        "X = np.concatenate(\n",
        "    (np.random.normal(0, 1, int(0.3 * N)), np.random.normal(5, 1, int(0.7 * N)))\n",
        ")[:, np.newaxis]\n",
        "\n",
        "X_plot = np.linspace(-5, 10, 1000)[:, np.newaxis]\n",
        "\n",
        "true_dens = 0.3 * norm(0, 1).pdf(X_plot[:, 0]) + 0.7 * norm(5, 1).pdf(X_plot[:, 0])\n",
        "\n",
        "fig, ax = plt.subplots()\n",
        "ax.fill(X_plot[:, 0], true_dens, fc=\"black\", alpha=0.2, label=\"input distribution\")\n",
        "colors = [\"navy\", \"cornflowerblue\", \"darkorange\"]\n",
        "kernels = [\"gaussian\", \"tophat\", \"epanechnikov\"]\n",
        "lw = 2\n",
        "\n",
        "for color, kernel in zip(colors, kernels):\n",
        "    kde = KernelDensity(kernel=kernel, bandwidth=0.5).fit(X)\n",
        "    log_dens = kde.score_samples(X_plot)\n",
        "    ax.plot(\n",
        "        X_plot[:, 0],\n",
        "        np.exp(log_dens),\n",
        "        color=color,\n",
        "        lw=lw,\n",
        "        linestyle=\"-\",\n",
        "        label=\"kernel = '{0}'\".format(kernel),\n",
        "    )\n",
        "\n",
        "ax.text(6, 0.38, \"N={0} points\".format(N))\n",
        "\n",
        "ax.legend(loc=\"upper left\")\n",
        "ax.plot(X[:, 0], -0.005 - 0.01 * np.random.random(X.shape[0]), \"+k\")\n",
        "\n",
        "ax.set_xlim(-4, 9)\n",
        "ax.set_ylim(-0.02, 0.4)\n",
        "plt.show()"
      ]
    }
  ]
}