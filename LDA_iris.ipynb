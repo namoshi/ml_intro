{
  "nbformat": 4,
  "nbformat_minor": 0,
  "metadata": {
    "kernelspec": {
      "display_name": "Python 3",
      "language": "python",
      "name": "python3"
    },
    "language_info": {
      "codemirror_mode": {
        "name": "ipython",
        "version": 3
      },
      "file_extension": ".py",
      "mimetype": "text/x-python",
      "name": "python",
      "nbconvert_exporter": "python",
      "pygments_lexer": "ipython3",
      "version": "3.7.7"
    },
    "colab": {
      "name": "LDA_iris.ipynb",
      "provenance": [],
      "include_colab_link": true
    }
  },
  "cells": [
    {
      "cell_type": "markdown",
      "metadata": {
        "id": "view-in-github",
        "colab_type": "text"
      },
      "source": [
        "<a href=\"https://colab.research.google.com/github/namoshi/ml_intro/blob/master/LDA_iris.ipynb\" target=\"_parent\"><img src=\"https://colab.research.google.com/assets/colab-badge.svg\" alt=\"Open In Colab\"/></a>"
      ]
    },
    {
      "cell_type": "markdown",
      "metadata": {
        "id": "tJAK7cLQVwmM",
        "colab_type": "text"
      },
      "source": [
        "アヤメのデータの線形判別分析（LDA)"
      ]
    },
    {
      "cell_type": "code",
      "metadata": {
        "id": "QPapPe2EVwmN",
        "colab_type": "code",
        "colab": {}
      },
      "source": [
        "from sklearn import datasets\n",
        "from sklearn.discriminant_analysis import LinearDiscriminantAnalysis\n",
        "import matplotlib.pyplot as plt"
      ],
      "execution_count": 1,
      "outputs": []
    },
    {
      "cell_type": "code",
      "metadata": {
        "id": "e27P02asVwmS",
        "colab_type": "code",
        "colab": {}
      },
      "source": [
        "# Read iris data\n",
        "iris = datasets.load_iris()\n",
        "X = iris.data\n",
        "#y = iris.target\n",
        "target_names = iris.target_names\n",
        "y = target_names[iris.target]\n",
        "K = 3"
      ],
      "execution_count": 2,
      "outputs": []
    },
    {
      "cell_type": "code",
      "metadata": {
        "id": "zQZsa28BVwmV",
        "colab_type": "code",
        "colab": {}
      },
      "source": [
        "## LDA\n",
        "lda = LinearDiscriminantAnalysis(n_components=2)\n",
        "X_r = lda.fit(X, y).transform(X)\n",
        "\n",
        "#pca = PCA(n_components=2)\n",
        "#X_r = pca.fit(X).transform(X)"
      ],
      "execution_count": 3,
      "outputs": []
    },
    {
      "cell_type": "code",
      "metadata": {
        "id": "t6AbYQDXVwmZ",
        "colab_type": "code",
        "colab": {
          "base_uri": "https://localhost:8080/",
          "height": 331
        },
        "outputId": "7440c665-8894-48f2-d0e2-8a5a491325c8"
      },
      "source": [
        "## colors\n",
        "colors = ['red', 'blue', 'green']\n",
        "markers = ['D', 'o', 'v']\n",
        "\n",
        "## plot\n",
        "plt.figure()\n",
        "for c, marker, target_name  in zip(colors, markers, target_names):\n",
        "    plt.scatter(X_r[y == target_name, 0], X_r[y == target_name, 1], c=c, marker=marker, label = target_name)\n",
        "plt.legend()\n",
        "plt.title('LDA_iris')\n",
        "plt.xlabel('1st Principal Component')\n",
        "plt.ylabel('2nd Principal Component')\n",
        "plt.savefig('lda_iris.eps')\n",
        "plt.show()"
      ],
      "execution_count": 4,
      "outputs": [
        {
          "output_type": "stream",
          "text": [
            "The PostScript backend does not support transparency; partially transparent artists will be rendered opaque.\n",
            "The PostScript backend does not support transparency; partially transparent artists will be rendered opaque.\n"
          ],
          "name": "stderr"
        },
        {
          "output_type": "display_data",
          "data": {
            "image/png": "[encoded data removed]",
            "text/plain": [
              "<Figure size 432x288 with 1 Axes>"
            ]
          },
          "metadata": {
            "tags": [],
            "needs_background": "light"
          }
        }
      ]
    },
    {
      "cell_type": "code",
      "metadata": {
        "id": "Ir4CiruzVwme",
        "colab_type": "code",
        "colab": {}
      },
      "source": [
        ""
      ],
      "execution_count": null,
      "outputs": []
    }
  ]
}