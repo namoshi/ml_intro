{
  "nbformat": 4,
  "nbformat_minor": 0,
  "metadata": {
    "kernelspec": {
      "display_name": "Python 3",
      "language": "python",
      "name": "python3"
    },
    "language_info": {
      "codemirror_mode": {
        "name": "ipython",
        "version": 3
      },
      "file_extension": ".py",
      "mimetype": "text/x-python",
      "name": "python",
      "nbconvert_exporter": "python",
      "pygments_lexer": "ipython3",
      "version": "3.7.7"
    },
    "colab": {
      "name": "LDA_iris.ipynb",
      "provenance": [],
      "include_colab_link": true
    }
  },
  "cells": [
    {
      "cell_type": "markdown",
      "metadata": {
        "id": "view-in-github",
        "colab_type": "text"
      },
      "source": [
        "<a href=\"https://colab.research.google.com/github/namoshi/ml_intro/blob/master/LDA_iris.ipynb\" target=\"_parent\"><img src=\"https://colab.research.google.com/assets/colab-badge.svg\" alt=\"Open In Colab\"/></a>"
      ]
    },
    {
      "cell_type": "markdown",
      "metadata": {
        "id": "tJAK7cLQVwmM",
        "colab_type": "text"
      },
      "source": [
        "アヤメのデータの線形判別分析（LDA)"
      ]
    },
    {
      "cell_type": "code",
      "metadata": {
        "id": "QPapPe2EVwmN",
        "colab_type": "code",
        "colab": {}
      },
      "source": [
        "from sklearn import datasets\n",
        "from sklearn.discriminant_analysis import LinearDiscriminantAnalysis\n",
        "import matplotlib.pyplot as plt\n",
        "import numpy as np"
      ],
      "execution_count": 44,
      "outputs": []
    },
    {
      "cell_type": "code",
      "metadata": {
        "id": "e27P02asVwmS",
        "colab_type": "code",
        "colab": {}
      },
      "source": [
        "# Read iris data\n",
        "iris = datasets.load_iris()\n",
        "X = iris.data\n",
        "#y = iris.target\n",
        "target_names = iris.target_names\n",
        "y = iris.target\n",
        "y_name = target_names[iris.target]\n",
        "K = 3"
      ],
      "execution_count": 45,
      "outputs": []
    },
    {
      "cell_type": "code",
      "metadata": {
        "id": "zQZsa28BVwmV",
        "colab_type": "code",
        "colab": {
          "base_uri": "https://localhost:8080/",
          "height": 35
        },
        "outputId": "337fe62c-93b7-43a9-8561-3299a74af638"
      },
      "source": [
        "## LDA\n",
        "lda = LinearDiscriminantAnalysis(n_components=2)\n",
        "X_r = lda.fit(X, y).transform(X)\n",
        "\n",
        "print(X_r.shape)\n",
        "#pca = PCA(n_components=2)\n",
        "#X_r = pca.fit(X).transform(X)"
      ],
      "execution_count": 46,
      "outputs": [
        {
          "output_type": "stream",
          "text": [
            "(150, 2)\n"
          ],
          "name": "stdout"
        }
      ]
    },
    {
      "cell_type": "code",
      "metadata": {
        "id": "t6AbYQDXVwmZ",
        "colab_type": "code",
        "colab": {
          "base_uri": "https://localhost:8080/",
          "height": 331
        },
        "outputId": "544b5208-4361-432b-931b-c44f75f4eba8"
      },
      "source": [
        "## colors\n",
        "colors = ['red', 'blue', 'green']\n",
        "markers = ['x', 'o', 'v']\n",
        "\n",
        "## plot\n",
        "plt.figure()\n",
        "for c, marker, target_name  in zip(colors, markers, target_names):\n",
        "    plt.scatter(X_r[y_name == target_name, 0], X_r[y_name == target_name, 1], c=c, marker=marker, label = target_name)\n",
        "plt.legend()\n",
        "plt.title('LDA_iris')\n",
        "plt.xlabel('1st Principal Component')\n",
        "plt.ylabel('2nd Principal Component')\n",
        "plt.savefig('lda_iris.eps')\n",
        "plt.show()"
      ],
      "execution_count": 47,
      "outputs": [
        {
          "output_type": "stream",
          "text": [
            "The PostScript backend does not support transparency; partially transparent artists will be rendered opaque.\n",
            "The PostScript backend does not support transparency; partially transparent artists will be rendered opaque.\n"
          ],
          "name": "stderr"
        },
        {
          "output_type": "display_data",
          "data": {
            "image/png": "[encoded data removed]",
            "text/plain": [
              "<Figure size 432x288 with 1 Axes>"
            ]
          },
          "metadata": {
            "tags": [],
            "needs_background": "light"
          }
        }
      ]
    },
    {
      "cell_type": "code",
      "metadata": {
        "id": "Ir4CiruzVwme",
        "colab_type": "code",
        "colab": {
          "base_uri": "https://localhost:8080/",
          "height": 269
        },
        "outputId": "40165b32-4567-4a1f-8604-41f40cbcbb4b"
      },
      "source": [
        "# Classification the trining samples by nearest centroid classifier\n",
        "from sklearn.neighbors import NearestCentroid\n",
        "from sklearn.metrics import classification_report\n",
        "from sklearn.metrics import confusion_matrix\n",
        "\n",
        "clf = NearestCentroid()\n",
        "clf.fit(X_r, y)\n",
        "y_pred = clf.predict(X_r)\n",
        "\n",
        "#print(y_pred)\n",
        "\n",
        "print(classification_report(y, y_pred))\n",
        "\n",
        "CFM = confusion_matrix(y, y_pred)\n",
        "print('Confusion Matirx\\n', CFM)\n"
      ],
      "execution_count": 48,
      "outputs": [
        {
          "output_type": "stream",
          "text": [
            "              precision    recall  f1-score   support\n",
            "\n",
            "           0       1.00      1.00      1.00        50\n",
            "           1       0.98      0.96      0.97        50\n",
            "           2       0.96      0.98      0.97        50\n",
            "\n",
            "    accuracy                           0.98       150\n",
            "   macro avg       0.98      0.98      0.98       150\n",
            "weighted avg       0.98      0.98      0.98       150\n",
            "\n",
            "Confusion Matirx\n",
            " [[50  0  0]\n",
            " [ 0 48  2]\n",
            " [ 0  1 49]]\n"
          ],
          "name": "stdout"
        }
      ]
    },
    {
      "cell_type": "code",
      "metadata": {
        "id": "FTcvC1TeCYbc",
        "colab_type": "code",
        "colab": {
          "base_uri": "https://localhost:8080/",
          "height": 295
        },
        "outputId": "82fffa69-f215-4fc3-abf4-0e33327564d8"
      },
      "source": [
        "import numpy as np\n",
        "import matplotlib.pyplot as plt\n",
        "from matplotlib.colors import ListedColormap\n",
        "\n",
        "h = .02  # step size in the mesh\n",
        "\n",
        "# Create color maps\n",
        "cmap_light = ListedColormap(['orange', 'cyan', 'cornflowerblue'])\n",
        "cmap_bold = ListedColormap(['darkorange', 'c', 'darkblue'])\n",
        "\n",
        "# Plot the decision boundary. For that, we will assign a color to each\n",
        "# point in the mesh [x_min, x_max]x[y_min, y_max].\n",
        "x_min, x_max = X_r[:, 0].min() - 1, X_r[:, 0].max() + 1\n",
        "y_min, y_max = X_r[:, 1].min() - 1, X_r[:, 1].max() + 1\n",
        "xx, yy = np.meshgrid(np.arange(x_min, x_max, h),\n",
        "                         np.arange(y_min, y_max, h))\n",
        "Z = clf.predict(np.c_[xx.ravel(), yy.ravel()])\n",
        "\n",
        "# Put the result into a color plot\n",
        "Z = Z.reshape(xx.shape)\n",
        "plt.figure()\n",
        "plt.pcolormesh(xx, yy, Z, cmap=cmap_light)\n",
        "\n",
        "# Plot also the training points\n",
        "for c, marker, target_name  in zip(colors, markers, target_names):\n",
        "    plt.scatter(X_r[y_name == target_name, 0], X_r[y_name == target_name, 1], c=c, marker=marker, label = target_name)\n",
        "\n",
        "#plt.scatter(X_r[:, 0], X_r[:, 1], c=y, cmap=cmap_bold, \n",
        "#                edgecolor='k', s=20)\n",
        "plt.title(\"Decision Boundary by Nearest Centrod in Discriminant Space\")\n",
        "#plt.axis('tight')\n",
        "plt.xlabel('1st Principal Component')\n",
        "plt.ylabel('2nd Principal Component')\n",
        "plt.savefig('lda_iris_boundary.eps')\n",
        "\n",
        "plt.show()\n"
      ],
      "execution_count": 49,
      "outputs": [
        {
          "output_type": "display_data",
          "data": {
            "image/png": "[encoded data removed]",
            "text/plain": [
              "<Figure size 432x288 with 1 Axes>"
            ]
          },
          "metadata": {
            "tags": [],
            "needs_background": "light"
          }
        }
      ]
    }
  ]
}