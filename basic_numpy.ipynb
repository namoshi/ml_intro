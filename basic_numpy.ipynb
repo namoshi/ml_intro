{
 "cells": [
  {
   "cell_type": "markdown",
   "metadata": {
    "colab_type": "text",
    "id": "view-in-github"
   },
   "source": [
    "<a href=\"https://colab.research.google.com/github/namoshi/ml_intro/blob/master/basic_numpy.ipynb\" target=\"_parent\"><img src=\"https://colab.research.google.com/assets/colab-badge.svg\" alt=\"Open In Colab\"/></a>"
   ]
  },
  {
   "cell_type": "markdown",
   "metadata": {
    "colab_type": "text",
    "id": "7frB6Z9lKLO1"
   },
   "source": [
    "# numpy \n",
    "\n",
    "vector"
   ]
  },
  {
   "cell_type": "code",
   "execution_count": null,
   "metadata": {
    "colab": {
     "base_uri": "https://localhost:8080/",
     "height": 35
    },
    "colab_type": "code",
    "id": "igIcVGudKLO5",
    "outputId": "a39616ce-9e6a-491b-af74-5aefe14e863a"
   },
   "outputs": [
    {
     "name": "stdout",
     "output_type": "stream",
     "text": [
      "x= [1 2 3]\n"
     ]
    }
   ],
   "source": [
    "import numpy as np\n",
    "x = np.array([1, 2, 3])\n",
    "print('x=', x)"
   ]
  },
  {
   "cell_type": "code",
   "execution_count": null,
   "metadata": {
    "colab": {},
    "colab_type": "code",
    "id": "WJmbsH1XKLPC",
    "outputId": "823ddd2f-0e26-44a2-e7f8-740de9fcfcee"
   },
   "outputs": [
    {
     "data": {
      "text/plain": [
       "numpy.ndarray"
      ]
     },
     "execution_count": 2,
     "metadata": {
      "tags": []
     },
     "output_type": "execute_result"
    }
   ],
   "source": [
    "type(x)"
   ]
  },
  {
   "cell_type": "code",
   "execution_count": null,
   "metadata": {
    "colab": {},
    "colab_type": "code",
    "id": "kbzzvpDUKLPH",
    "outputId": "8881c289-70b2-4fff-b58c-a44f6c854200"
   },
   "outputs": [
    {
     "name": "stdout",
     "output_type": "stream",
     "text": [
      "y= [4 5 6]\n",
      "z= [ 9 12 15]\n"
     ]
    }
   ],
   "source": [
    "y = np.array([4, 5, 6])\n",
    "print('y=', y)\n",
    "z = x + 2*y\n",
    "print('z=', z)"
   ]
  },
  {
   "cell_type": "code",
   "execution_count": null,
   "metadata": {
    "colab": {},
    "colab_type": "code",
    "id": "3HXIG-tUKLPL",
    "outputId": "60fc7f50-6142-4657-8799-9ea68287f6c7"
   },
   "outputs": [
    {
     "name": "stdout",
     "output_type": "stream",
     "text": [
      "x[0]= 1\n",
      "y[2]= 6\n",
      "z[1]= 12\n"
     ]
    }
   ],
   "source": [
    "print('x[0]=', x[0])\n",
    "print('y[2]=', y[2])\n",
    "print('z[1]=', z[1])"
   ]
  },
  {
   "cell_type": "code",
   "execution_count": null,
   "metadata": {
    "colab": {},
    "colab_type": "code",
    "id": "5Ws0ob-JKLPR",
    "outputId": "38040a3a-c438-4543-aa8d-6451d7a3ec3f"
   },
   "outputs": [
    {
     "name": "stdout",
     "output_type": "stream",
     "text": [
      "before [1 2 3]\n",
      "after [2 2 3]\n"
     ]
    }
   ],
   "source": [
    "print('before', x)\n",
    "x[0] = 2\n",
    "print('after', x)"
   ]
  },
  {
   "cell_type": "code",
   "execution_count": null,
   "metadata": {
    "colab": {},
    "colab_type": "code",
    "id": "AMs5XmqZKLPV",
    "outputId": "6bff2bb7-a8de-4e6a-b6e6-798357c4a3a8"
   },
   "outputs": [
    {
     "name": "stdout",
     "output_type": "stream",
     "text": [
      "x= [2 2 3]\n",
      "y= [4 5 6]\n",
      "z= [10 12 15]\n"
     ]
    }
   ],
   "source": [
    "z = x + 2*y\n",
    "print('x=', x)\n",
    "print('y=', y)\n",
    "print('z=', z)"
   ]
  },
  {
   "cell_type": "markdown",
   "metadata": {
    "colab_type": "text",
    "id": "8XS-LCvIKLPa"
   },
   "source": [
    "sequence"
   ]
  },
  {
   "cell_type": "code",
   "execution_count": null,
   "metadata": {
    "colab": {},
    "colab_type": "code",
    "id": "u6euiyDAKLPb",
    "outputId": "7efd03b7-aa26-464d-a8c4-628483623fac"
   },
   "outputs": [
    {
     "name": "stdout",
     "output_type": "stream",
     "text": [
      "a= [0 1 2 3 4 5 6 7 8 9]\n"
     ]
    }
   ],
   "source": [
    "a = np.arange(10)\n",
    "print('a=', a)"
   ]
  },
  {
   "cell_type": "code",
   "execution_count": null,
   "metadata": {
    "colab": {},
    "colab_type": "code",
    "id": "k6VaG7NuKLPg",
    "outputId": "98a9d03f-bb34-4f27-ec53-5c14eff1f699"
   },
   "outputs": [
    {
     "name": "stdout",
     "output_type": "stream",
     "text": [
      "b= [5 6 7 8 9]\n"
     ]
    }
   ],
   "source": [
    "b = np.arange(5,10)\n",
    "print('b=', b)"
   ]
  },
  {
   "cell_type": "markdown",
   "metadata": {
    "colab_type": "text",
    "id": "8uLI7V2DKLPl"
   },
   "source": [
    "Copy of the vector \n",
    "(You can not use a=b for copy.)"
   ]
  },
  {
   "cell_type": "code",
   "execution_count": null,
   "metadata": {
    "colab": {},
    "colab_type": "code",
    "id": "uU0Rumc_KLPm",
    "outputId": "db617f6c-9be3-4095-e97d-00b27c03f84c"
   },
   "outputs": [
    {
     "name": "stdout",
     "output_type": "stream",
     "text": [
      "a is [1 2]\n",
      "b is [2 2]\n",
      "c is [1 2]\n"
     ]
    }
   ],
   "source": [
    "a = np.array([1, 2])\n",
    "b = np.copy(a)\n",
    "b[0] = 2\n",
    "c = a.copy()\n",
    "print('a is {0}'.format(a))\n",
    "print('b is {0}'.format(b))\n",
    "print('c is {0}'.format(c))"
   ]
  },
  {
   "cell_type": "markdown",
   "metadata": {
    "colab_type": "text",
    "id": "G9SEFPxPKLPq"
   },
   "source": [
    "sorting of the elements"
   ]
  },
  {
   "cell_type": "code",
   "execution_count": null,
   "metadata": {
    "colab": {},
    "colab_type": "code",
    "id": "8RjIbdyMKLPr",
    "outputId": "5b4105dd-801e-4565-fd03-c75c04ea1845"
   },
   "outputs": [
    {
     "name": "stdout",
     "output_type": "stream",
     "text": [
      "Before： [74 21 42 57 16 93 25 19  8 51]\n",
      "After： [ 8 16 19 21 25 42 51 57 74 93]\n"
     ]
    }
   ],
   "source": [
    "data = np.random.randint(0,100,10)\n",
    "print('Before：', data)\n",
    "data.sort()\n",
    "print('After：', data)"
   ]
  },
  {
   "cell_type": "markdown",
   "metadata": {
    "colab_type": "text",
    "id": "7u3ZPOYiKLPv"
   },
   "source": [
    "min, max, sum"
   ]
  },
  {
   "cell_type": "code",
   "execution_count": null,
   "metadata": {
    "colab": {},
    "colab_type": "code",
    "id": "sy2M7HcRKLPw",
    "outputId": "d680bcdc-2c63-436c-e901-9bafa31e30d1"
   },
   "outputs": [
    {
     "name": "stdout",
     "output_type": "stream",
     "text": [
      "data: [ 8 16 19 21 25 42 51 57 74 93]\n",
      "Min: 8\n",
      "Max: 93\n",
      "Sum: 406\n"
     ]
    }
   ],
   "source": [
    "print('data:', data)\n",
    "# Min\n",
    "print('Min:', data.min())\n",
    "# Max\n",
    "print('Max:', data.max())\n",
    "# sum\n",
    "print('Sum:', data.sum())"
   ]
  },
  {
   "cell_type": "markdown",
   "metadata": {
    "colab_type": "text",
    "id": "kq0nw9QjKLP0"
   },
   "source": [
    "Marix"
   ]
  },
  {
   "cell_type": "code",
   "execution_count": null,
   "metadata": {
    "colab": {},
    "colab_type": "code",
    "id": "LML801FfKLP1",
    "outputId": "e048fea6-50f9-4329-ac61-9b6373fa2bd5"
   },
   "outputs": [
    {
     "name": "stdout",
     "output_type": "stream",
     "text": [
      "[[1 2 3]\n",
      " [4 5 6]\n",
      " [7 8 9]]\n"
     ]
    }
   ],
   "source": [
    "X = np.array([[1,2,3],[4,5,6],[7,8,9]])\n",
    "print(X)"
   ]
  },
  {
   "cell_type": "code",
   "execution_count": null,
   "metadata": {
    "colab": {},
    "colab_type": "code",
    "id": "hnm_x1x8KLP5",
    "outputId": "0958d27f-4056-43f8-e403-f4247815175b"
   },
   "outputs": [
    {
     "data": {
      "text/plain": [
       "(3, 3)"
      ]
     },
     "execution_count": 13,
     "metadata": {
      "tags": []
     },
     "output_type": "execute_result"
    }
   ],
   "source": [
    "np.shape(X)"
   ]
  },
  {
   "cell_type": "code",
   "execution_count": null,
   "metadata": {
    "colab": {},
    "colab_type": "code",
    "id": "voA1kJMLKLP8",
    "outputId": "e98fcfc6-c96d-425f-dd73-457a92dff772"
   },
   "outputs": [
    {
     "data": {
      "text/plain": [
       "(3, 3)"
      ]
     },
     "execution_count": 14,
     "metadata": {
      "tags": []
     },
     "output_type": "execute_result"
    }
   ],
   "source": [
    "X.shape"
   ]
  },
  {
   "cell_type": "code",
   "execution_count": null,
   "metadata": {
    "colab": {},
    "colab_type": "code",
    "id": "SKTo4ZSlKLQA",
    "outputId": "88980821-2817-422c-fafd-4a141c9afdd5"
   },
   "outputs": [
    {
     "name": "stdout",
     "output_type": "stream",
     "text": [
      "Y is \n",
      "[[1 2 3]\n",
      " [3 2 1]]\n",
      "m = 2\n",
      "n = 3\n"
     ]
    }
   ],
   "source": [
    "Y = np.array([[1,2,3],[3,2,1]])\n",
    "print('Y is ')\n",
    "print(Y)\n",
    "m, n = Y.shape\n",
    "print('m = {0}'.format(m))\n",
    "print('n = {0}'.format(n))"
   ]
  },
  {
   "cell_type": "code",
   "execution_count": null,
   "metadata": {
    "colab": {},
    "colab_type": "code",
    "id": "rnESzw5rKLQD",
    "outputId": "efcba8cb-959e-477a-fcef-049d22a9bc56"
   },
   "outputs": [
    {
     "name": "stdout",
     "output_type": "stream",
     "text": [
      "X is\n",
      "[[1 2 3]\n",
      " [4 5 6]\n",
      " [7 8 9]]\n",
      "X[0,1]= 2\n",
      "X[1,1]= 5\n",
      "X[2,2]= 9\n"
     ]
    }
   ],
   "source": [
    "print('X is')\n",
    "print(X)\n",
    "print('X[0,1]= {0}'.format(X[0, 1]))\n",
    "print('X[1,1]= {0}'.format(X[1, 1]))\n",
    "print('X[2,2]= {0}'.format(X[2, 2]))"
   ]
  },
  {
   "cell_type": "code",
   "execution_count": null,
   "metadata": {
    "colab": {},
    "colab_type": "code",
    "id": "dp7teYtCKLQG",
    "outputId": "be119f8b-8228-4c9f-b4cf-0d0946bb2468"
   },
   "outputs": [
    {
     "name": "stdout",
     "output_type": "stream",
     "text": [
      "X is\n",
      "[[1 2 3]\n",
      " [4 5 6]\n",
      " [7 8 9]]\n",
      "After: X is\n",
      "[[ 1  2  3]\n",
      " [ 4  5 66]\n",
      " [ 7  8  9]]\n"
     ]
    }
   ],
   "source": [
    "print('X is')\n",
    "print(X)\n",
    "X[1, 2] = 66\n",
    "print('After: X is')\n",
    "print(X)"
   ]
  },
  {
   "cell_type": "code",
   "execution_count": null,
   "metadata": {
    "colab": {},
    "colab_type": "code",
    "id": "I3uVfNSYKLQJ",
    "outputId": "a1cee593-71c1-4972-e110-43d866751c75"
   },
   "outputs": [
    {
     "name": "stdout",
     "output_type": "stream",
     "text": [
      "O is\n",
      "[[0. 0. 0.]\n",
      " [0. 0. 0.]\n",
      " [0. 0. 0.]]\n"
     ]
    }
   ],
   "source": [
    "O = np.zeros((3,3))\n",
    "print('O is')\n",
    "print(O)"
   ]
  },
  {
   "cell_type": "code",
   "execution_count": null,
   "metadata": {
    "colab": {},
    "colab_type": "code",
    "id": "pzFduPKXKLQM",
    "outputId": "23b5c6b7-4911-44d1-fcef-6b378656fe87"
   },
   "outputs": [
    {
     "name": "stdout",
     "output_type": "stream",
     "text": [
      "ones (vector)\n",
      "[1. 1. 1. 1. 1. 1. 1. 1. 1. 1.]\n",
      "Ones (Matrix)\n",
      "[[1. 1. 1.]\n",
      " [1. 1. 1.]\n",
      " [1. 1. 1.]]\n"
     ]
    }
   ],
   "source": [
    "ones = np.ones((10))\n",
    "print('ones (vector)')\n",
    "print(ones)\n",
    "Ones = np.ones((3,3))\n",
    "print('Ones (Matrix)')\n",
    "print(Ones)"
   ]
  },
  {
   "cell_type": "code",
   "execution_count": null,
   "metadata": {
    "colab": {},
    "colab_type": "code",
    "id": "589dQEJAKLQP",
    "outputId": "bd32cbaf-4d67-4912-b496-39051b7086d4"
   },
   "outputs": [
    {
     "name": "stdout",
     "output_type": "stream",
     "text": [
      "R is a random matrix\n",
      "[[0.8406382  0.11755086]\n",
      " [0.37045835 0.61300656]\n",
      " [0.14125294 0.66194725]]\n"
     ]
    }
   ],
   "source": [
    "R = np.random.rand(3, 2)\n",
    "print('R is a random matrix')\n",
    "print(R)"
   ]
  },
  {
   "cell_type": "code",
   "execution_count": null,
   "metadata": {
    "colab": {},
    "colab_type": "code",
    "id": "_eQQAui6KLQT",
    "outputId": "17607b46-ef7b-4533-ce75-45e47775fdc0"
   },
   "outputs": [
    {
     "name": "stdout",
     "output_type": "stream",
     "text": [
      "a\n",
      "[0 1 2 3 4 5 6 7 8 9]\n",
      "b is reshaped from a\n",
      "[[0 1 2 3 4]\n",
      " [5 6 7 8 9]]\n"
     ]
    }
   ],
   "source": [
    "a = np.arange(10)\n",
    "print('a')\n",
    "print(a)\n",
    "b = np.reshape(a, (2, 5))\n",
    "print('b is reshaped from a')\n",
    "print(b)"
   ]
  },
  {
   "cell_type": "code",
   "execution_count": null,
   "metadata": {
    "colab": {},
    "colab_type": "code",
    "id": "gyRgiBqVKLQV",
    "outputId": "955ed427-e276-428d-c2c9-18d3fafaf71e"
   },
   "outputs": [
    {
     "name": "stdout",
     "output_type": "stream",
     "text": [
      "[[0 1 2 3 4]\n",
      " [5 6 7 8 9]]\n"
     ]
    }
   ],
   "source": [
    "c = a.reshape(2, 5)\n",
    "print(c)"
   ]
  },
  {
   "cell_type": "markdown",
   "metadata": {
    "colab_type": "text",
    "id": "_AlfRYEFKLQY"
   },
   "source": [
    "## Matrix Calculation\n",
    "Adition, Subtraction"
   ]
  },
  {
   "cell_type": "code",
   "execution_count": null,
   "metadata": {
    "colab": {},
    "colab_type": "code",
    "id": "RhKhySCSKLQZ",
    "outputId": "75a36646-c08b-4d3a-b10f-f55ab768f979"
   },
   "outputs": [
    {
     "name": "stdout",
     "output_type": "stream",
     "text": [
      "A\n",
      "[[1 2 3]\n",
      " [3 3 3]]\n",
      "B\n",
      "[[3 2 1]\n",
      " [1 2 3]]\n",
      "A + B\n",
      "[[4 4 4]\n",
      " [4 5 6]]\n",
      "A - B\n",
      "[[-2  0  2]\n",
      " [ 2  1  0]]\n"
     ]
    }
   ],
   "source": [
    "A = np.array([[1,2,3],[3,3,3]])\n",
    "B = np.array([[3,2,1],[1,2,3]])\n",
    "C = A + B\n",
    "D = A - B\n",
    "print('A')\n",
    "print(A)\n",
    "print('B')\n",
    "print(B)\n",
    "print('A + B')\n",
    "print(C)\n",
    "print('A - B')\n",
    "print(D)"
   ]
  },
  {
   "cell_type": "markdown",
   "metadata": {
    "colab_type": "text",
    "id": "BvRjpkc5KLQc"
   },
   "source": [
    "scalr product"
   ]
  },
  {
   "cell_type": "code",
   "execution_count": null,
   "metadata": {
    "colab": {},
    "colab_type": "code",
    "id": "6-86nGz3KLQd",
    "outputId": "e6d1ec90-474b-4af0-849b-531cecbf978b"
   },
   "outputs": [
    {
     "name": "stdout",
     "output_type": "stream",
     "text": [
      "a=2.0\n",
      "A\n",
      "[[1 2 3]\n",
      " [3 3 3]]\n",
      "a * A\n",
      "[[2. 4. 6.]\n",
      " [6. 6. 6.]]\n"
     ]
    }
   ],
   "source": [
    "a = 2.0\n",
    "C = a * A\n",
    "print('a={0}'.format(a))\n",
    "print('A')\n",
    "print(A)\n",
    "print('a * A')\n",
    "print(C)"
   ]
  },
  {
   "cell_type": "markdown",
   "metadata": {
    "colab_type": "text",
    "id": "u-wX9GnxKLQg"
   },
   "source": [
    "matrix product"
   ]
  },
  {
   "cell_type": "code",
   "execution_count": null,
   "metadata": {
    "colab": {},
    "colab_type": "code",
    "id": "9nAY2APZKLQi",
    "outputId": "c31eefee-8434-4a7a-8343-8b36ceb56b9b"
   },
   "outputs": [
    {
     "name": "stdout",
     "output_type": "stream",
     "text": [
      "A\n",
      "[[1 2 3]\n",
      " [4 5 6]]\n",
      "B\n",
      "[[1 2]\n",
      " [3 1]\n",
      " [2 1]]\n",
      "C=A*B\n",
      "[[13  7]\n",
      " [31 19]]\n",
      "D=A*B\n",
      "[[13  7]\n",
      " [31 19]]\n",
      "C=B*A\n",
      "[[ 9 12 15]\n",
      " [ 7 11 15]\n",
      " [ 6  9 12]]\n",
      "D=B*A\n",
      "[[ 9 12 15]\n",
      " [ 7 11 15]\n",
      " [ 6  9 12]]\n"
     ]
    }
   ],
   "source": [
    "A = np.array([[1,2,3],[4,5,6]])\n",
    "B = np.array([[1,2],[3,1],[2,1]])\n",
    "print('A')\n",
    "print(A)\n",
    "print('B')\n",
    "print(B)\n",
    "C = np.dot(A,B)\n",
    "print('C=A*B')\n",
    "print(C)\n",
    "D = A.dot(B)\n",
    "print('D=A*B')\n",
    "print(D)\n",
    "C = np.dot(B, A)\n",
    "print('C=B*A')\n",
    "print(C)\n",
    "D = B.dot(A)\n",
    "print('D=B*A')\n",
    "print(D)"
   ]
  },
  {
   "cell_type": "markdown",
   "metadata": {
    "colab_type": "text",
    "id": "czX88TgzKLQm"
   },
   "source": [
    "transpose"
   ]
  },
  {
   "cell_type": "code",
   "execution_count": null,
   "metadata": {
    "colab": {},
    "colab_type": "code",
    "id": "2p7PcHumKLQn",
    "outputId": "a9091808-d818-4cd7-dac4-bc6e14ae5b33"
   },
   "outputs": [
    {
     "name": "stdout",
     "output_type": "stream",
     "text": [
      "A\n",
      "[[1 2 3]\n",
      " [4 5 6]\n",
      " [7 8 9]]\n",
      "Transpose of A\n",
      "[[1 4 7]\n",
      " [2 5 8]\n",
      " [3 6 9]]\n",
      "Transpose of A can be calculated by A.T\n",
      "[[1 4 7]\n",
      " [2 5 8]\n",
      " [3 6 9]]\n"
     ]
    }
   ],
   "source": [
    "A = np.array([[1,2,3],[4,5,6],[7,8,9]])\n",
    "print('A')\n",
    "print(A)\n",
    "B = np.transpose(A)\n",
    "print('Transpose of A')\n",
    "print(B)\n",
    "C = A.T\n",
    "print('Transpose of A can be calculated by A.T')\n",
    "print(C)"
   ]
  },
  {
   "cell_type": "markdown",
   "metadata": {
    "colab_type": "text",
    "id": "UE6vO6wlKLQq"
   },
   "source": [
    "Identify matrix"
   ]
  },
  {
   "cell_type": "code",
   "execution_count": null,
   "metadata": {
    "colab": {},
    "colab_type": "code",
    "id": "6_JtmHhGKLQr",
    "outputId": "6069250f-790f-4f50-f649-c9efad7b51c1"
   },
   "outputs": [
    {
     "name": "stdout",
     "output_type": "stream",
     "text": [
      "[[1. 0. 0.]\n",
      " [0. 1. 0.]\n",
      " [0. 0. 1.]]\n"
     ]
    }
   ],
   "source": [
    "E = np.identity((3))\n",
    "print(E)"
   ]
  },
  {
   "cell_type": "markdown",
   "metadata": {
    "colab_type": "text",
    "id": "LR793HkJKLQz"
   },
   "source": [
    "trace"
   ]
  },
  {
   "cell_type": "code",
   "execution_count": null,
   "metadata": {
    "colab": {},
    "colab_type": "code",
    "id": "sdr_X3WoKLQ0",
    "outputId": "cf420a5b-5c0c-42bd-f945-180ae8f98093"
   },
   "outputs": [
    {
     "name": "stdout",
     "output_type": "stream",
     "text": [
      "A\n",
      "[[1 2 3]\n",
      " [4 5 6]\n",
      " [7 8 9]]\n",
      "Trace of A is 15\n"
     ]
    }
   ],
   "source": [
    "A = np.array([[1,2,3],[4,5,6],[7,8,9]])\n",
    "print('A')\n",
    "print(A)\n",
    "t = np.trace(A)\n",
    "print('Trace of A is {0}'.format(t))"
   ]
  },
  {
   "cell_type": "markdown",
   "metadata": {
    "colab_type": "text",
    "id": "nYQ-2HiHKLQ4"
   },
   "source": [
    "Determinant"
   ]
  },
  {
   "cell_type": "code",
   "execution_count": null,
   "metadata": {
    "colab": {},
    "colab_type": "code",
    "id": "-Us1apSYKLQ5",
    "outputId": "89367917-4727-4227-999f-9a022c52c29e"
   },
   "outputs": [
    {
     "name": "stdout",
     "output_type": "stream",
     "text": [
      "A\n",
      "[[1 1 0]\n",
      " [4 5 0]\n",
      " [1 0 1]]\n",
      "Determinant of A is 1.0\n"
     ]
    }
   ],
   "source": [
    "A = np.array([[1,1,0],[4,5,0],[1,0,1]])\n",
    "print('A')\n",
    "print(A)\n",
    "d = np.linalg.det(A)\n",
    "print('Determinant of A is {0}'.format(d))"
   ]
  },
  {
   "cell_type": "markdown",
   "metadata": {
    "colab_type": "text",
    "id": "hbcMTC0dKLQ7"
   },
   "source": [
    "Inverse"
   ]
  },
  {
   "cell_type": "code",
   "execution_count": null,
   "metadata": {
    "colab": {},
    "colab_type": "code",
    "id": "J_4vYLo_KLQ8",
    "outputId": "79067f21-6f82-4a53-f53b-46c312138eef"
   },
   "outputs": [
    {
     "name": "stdout",
     "output_type": "stream",
     "text": [
      "A\n",
      "[[1 1 0]\n",
      " [4 5 0]\n",
      " [1 0 1]]\n",
      "Inverse of A\n",
      "[[ 5. -1.  0.]\n",
      " [-4.  1. -0.]\n",
      " [-5.  1.  1.]]\n",
      "A * Ainv\n",
      "[[1. 0. 0.]\n",
      " [0. 1. 0.]\n",
      " [0. 0. 1.]]\n",
      "Ainv * A\n",
      "[[1. 0. 0.]\n",
      " [0. 1. 0.]\n",
      " [0. 0. 1.]]\n"
     ]
    }
   ],
   "source": [
    "A = np.array([[1,1,0],[4,5,0],[1,0,1]])\n",
    "print('A')\n",
    "print(A)\n",
    "Ainv = np.linalg.inv(A)\n",
    "print('Inverse of A')\n",
    "print(Ainv)\n",
    "print('A * Ainv')\n",
    "print(A.dot(Ainv))\n",
    "print('Ainv * A')\n",
    "print(Ainv.dot(A))"
   ]
  },
  {
   "cell_type": "markdown",
   "metadata": {
    "colab_type": "text",
    "id": "Oh-ZjDjCKLQ-"
   },
   "source": [
    "slicing"
   ]
  },
  {
   "cell_type": "code",
   "execution_count": null,
   "metadata": {
    "colab": {},
    "colab_type": "code",
    "id": "8_FPaoVYKLQ_",
    "outputId": "8b1e0798-6e91-4a8d-f509-1dbcfabb985f"
   },
   "outputs": [
    {
     "name": "stdout",
     "output_type": "stream",
     "text": [
      "[0 1 2 3 4 5 6 7 8 9]\n",
      "[0 1 2 3 4]\n"
     ]
    }
   ],
   "source": [
    "x = np.arange(10)\n",
    "print(x)\n",
    "print(x[:5])"
   ]
  },
  {
   "cell_type": "code",
   "execution_count": null,
   "metadata": {
    "colab": {},
    "colab_type": "code",
    "id": "2o77nNsuKLRC",
    "outputId": "cd5bae66-472a-4b18-f2d1-92f9e49bb20f"
   },
   "outputs": [
    {
     "name": "stdout",
     "output_type": "stream",
     "text": [
      "[5 6 7 8 9]\n"
     ]
    }
   ],
   "source": [
    "print(x[5:])"
   ]
  },
  {
   "cell_type": "code",
   "execution_count": null,
   "metadata": {
    "colab": {},
    "colab_type": "code",
    "id": "OVqE19KzKLRE",
    "outputId": "bc6d284a-d737-4727-febd-6c4b136a33a7"
   },
   "outputs": [
    {
     "name": "stdout",
     "output_type": "stream",
     "text": [
      "[3 4]\n"
     ]
    }
   ],
   "source": [
    "print(x[3:5])"
   ]
  },
  {
   "cell_type": "code",
   "execution_count": null,
   "metadata": {
    "colab": {},
    "colab_type": "code",
    "id": "NqAnpfBBKLRH",
    "outputId": "10aa7a47-d449-4288-e8d7-89936fbc39ad"
   },
   "outputs": [
    {
     "name": "stdout",
     "output_type": "stream",
     "text": [
      "[3 5 7]\n"
     ]
    }
   ],
   "source": [
    "print(x[3:8:2])"
   ]
  },
  {
   "cell_type": "code",
   "execution_count": null,
   "metadata": {
    "colab": {},
    "colab_type": "code",
    "id": "-7WxHb3RKLRJ",
    "outputId": "dbde4b23-cf54-4086-b7c0-f5c4ce37d1cd"
   },
   "outputs": [
    {
     "name": "stdout",
     "output_type": "stream",
     "text": [
      "[[1 2 3]\n",
      " [4 5 6]\n",
      " [7 8 9]]\n",
      "[[1 2]\n",
      " [4 5]]\n"
     ]
    }
   ],
   "source": [
    "X = np.array([[1,2,3],[4,5,6],[7,8,9]])\n",
    "print(X)\n",
    "print(X[:2, 0:2])"
   ]
  },
  {
   "cell_type": "markdown",
   "metadata": {
    "colab_type": "text",
    "id": "BFr3jLh7KLRM"
   },
   "source": [
    "reverse ordering"
   ]
  },
  {
   "cell_type": "code",
   "execution_count": null,
   "metadata": {
    "colab": {},
    "colab_type": "code",
    "id": "U71wLa-4KLRM",
    "outputId": "dddd143c-ab81-47b0-d9c4-f0ee56cc6018"
   },
   "outputs": [
    {
     "name": "stdout",
     "output_type": "stream",
     "text": [
      "x:        [0 1 2 3 4 5 6 7 8 9]\n",
      "x[::-1]:  [9 8 7 6 5 4 3 2 1 0]\n"
     ]
    }
   ],
   "source": [
    "print('x:       ', x)\n",
    "print('x[::-1]: ', x[::-1])"
   ]
  },
  {
   "cell_type": "markdown",
   "metadata": {
    "colab_type": "text",
    "id": "OexBIsN9KLRQ"
   },
   "source": [
    "Selection"
   ]
  },
  {
   "cell_type": "code",
   "execution_count": null,
   "metadata": {
    "colab": {},
    "colab_type": "code",
    "id": "v2TjdAm_KLRS",
    "outputId": "904126c6-093c-4bec-bf29-f40e590c1848"
   },
   "outputs": [
    {
     "name": "stdout",
     "output_type": "stream",
     "text": [
      "[ 1  2  3  4  5  8 13]\n",
      "[False False False  True  True  True  True]\n"
     ]
    }
   ],
   "source": [
    "x = np.array([1,2,3,4,5,8,13])\n",
    "print(x)\n",
    "print(x > 3)"
   ]
  },
  {
   "cell_type": "code",
   "execution_count": null,
   "metadata": {
    "colab": {},
    "colab_type": "code",
    "id": "B-x57sdxKLRW",
    "outputId": "67d658a0-1431-4d8f-b39f-018bed864d10"
   },
   "outputs": [
    {
     "name": "stdout",
     "output_type": "stream",
     "text": [
      "[ 4  5  8 13]\n"
     ]
    }
   ],
   "source": [
    "print(x[x > 3])"
   ]
  },
  {
   "cell_type": "code",
   "execution_count": null,
   "metadata": {
    "colab": {},
    "colab_type": "code",
    "id": "oguRv8u4KLRY",
    "outputId": "4d3d28d1-3779-4a16-9aac-9452ce805175"
   },
   "outputs": [
    {
     "name": "stdout",
     "output_type": "stream",
     "text": [
      "[ 1  2  3 99 99 99 99]\n"
     ]
    }
   ],
   "source": [
    "x[x > 3] = 99\n",
    "print(x)"
   ]
  }
 ],
 "metadata": {
  "colab": {
   "include_colab_link": true,
   "name": "basic_numpy.ipynb",
   "provenance": []
  },
  "kernelspec": {
   "display_name": "Python 3",
   "language": "python",
   "name": "python3"
  },
  "language_info": {
   "codemirror_mode": {
    "name": "ipython",
    "version": 3
   },
   "file_extension": ".py",
   "mimetype": "text/x-python",
   "name": "python",
   "nbconvert_exporter": "python",
   "pygments_lexer": "ipython3",
   "version": "3.7.9"
  }
 },
 "nbformat": 4,
 "nbformat_minor": 4
}
