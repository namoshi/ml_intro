{
  "nbformat": 4,
  "nbformat_minor": 0,
  "metadata": {
    "kernelspec": {
      "name": "python3",
      "display_name": "Python 3",
      "language": "python"
    },
    "language_info": {
      "mimetype": "text/x-python",
      "nbconvert_exporter": "python",
      "name": "python",
      "pygments_lexer": "ipython3",
      "version": "3.5.4",
      "file_extension": ".py",
      "codemirror_mode": {
        "version": 3,
        "name": "ipython"
      }
    },
    "colab": {
      "name": "basic_numpy.ipynb",
      "provenance": [],
      "include_colab_link": true
    }
  },
  "cells": [
    {
      "cell_type": "markdown",
      "metadata": {
        "id": "view-in-github",
        "colab_type": "text"
      },
      "source": [
        "<a href=\"https://colab.research.google.com/github/namoshi/ml_intro/blob/master/basic_numpy.ipynb\" target=\"_parent\"><img src=\"https://colab.research.google.com/assets/colab-badge.svg\" alt=\"Open In Colab\"/></a>"
      ]
    },
    {
      "cell_type": "markdown",
      "metadata": {
        "id": "7frB6Z9lKLO1",
        "colab_type": "text"
      },
      "source": [
        "# numpy \n",
        "\n",
        "vector"
      ]
    },
    {
      "cell_type": "code",
      "metadata": {
        "trusted": true,
        "id": "igIcVGudKLO5",
        "colab_type": "code",
        "colab": {
          "base_uri": "https://localhost:8080/",
          "height": 35
        },
        "outputId": "a39616ce-9e6a-491b-af74-5aefe14e863a"
      },
      "source": [
        "import numpy as np\n",
        "x = np.array([1, 2, 3])\n",
        "print('x=', x)"
      ],
      "execution_count": null,
      "outputs": [
        {
          "output_type": "stream",
          "text": [
            "x= [1 2 3]\n"
          ],
          "name": "stdout"
        }
      ]
    },
    {
      "cell_type": "code",
      "metadata": {
        "trusted": true,
        "id": "WJmbsH1XKLPC",
        "colab_type": "code",
        "colab": {},
        "outputId": "823ddd2f-0e26-44a2-e7f8-740de9fcfcee"
      },
      "source": [
        "type(x)"
      ],
      "execution_count": null,
      "outputs": [
        {
          "output_type": "execute_result",
          "data": {
            "text/plain": [
              "numpy.ndarray"
            ]
          },
          "metadata": {
            "tags": []
          },
          "execution_count": 2
        }
      ]
    },
    {
      "cell_type": "code",
      "metadata": {
        "trusted": true,
        "id": "kbzzvpDUKLPH",
        "colab_type": "code",
        "colab": {},
        "outputId": "8881c289-70b2-4fff-b58c-a44f6c854200"
      },
      "source": [
        "y = np.array([4, 5, 6])\n",
        "print('y=', y)\n",
        "z = x + 2*y\n",
        "print('z=', z)"
      ],
      "execution_count": null,
      "outputs": [
        {
          "output_type": "stream",
          "text": [
            "y= [4 5 6]\n",
            "z= [ 9 12 15]\n"
          ],
          "name": "stdout"
        }
      ]
    },
    {
      "cell_type": "code",
      "metadata": {
        "trusted": true,
        "id": "3HXIG-tUKLPL",
        "colab_type": "code",
        "colab": {},
        "outputId": "60fc7f50-6142-4657-8799-9ea68287f6c7"
      },
      "source": [
        "print('x[0]=', x[0])\n",
        "print('y[2]=', y[2])\n",
        "print('z[1]=', z[1])"
      ],
      "execution_count": null,
      "outputs": [
        {
          "output_type": "stream",
          "text": [
            "x[0]= 1\n",
            "y[2]= 6\n",
            "z[1]= 12\n"
          ],
          "name": "stdout"
        }
      ]
    },
    {
      "cell_type": "code",
      "metadata": {
        "trusted": true,
        "id": "5Ws0ob-JKLPR",
        "colab_type": "code",
        "colab": {},
        "outputId": "38040a3a-c438-4543-aa8d-6451d7a3ec3f"
      },
      "source": [
        "print('before', x)\n",
        "x[0] = 2\n",
        "print('after', x)"
      ],
      "execution_count": null,
      "outputs": [
        {
          "output_type": "stream",
          "text": [
            "before [1 2 3]\n",
            "after [2 2 3]\n"
          ],
          "name": "stdout"
        }
      ]
    },
    {
      "cell_type": "code",
      "metadata": {
        "trusted": true,
        "id": "AMs5XmqZKLPV",
        "colab_type": "code",
        "colab": {},
        "outputId": "6bff2bb7-a8de-4e6a-b6e6-798357c4a3a8"
      },
      "source": [
        "z = x + 2*y\n",
        "print('x=', x)\n",
        "print('y=', y)\n",
        "print('z=', z)"
      ],
      "execution_count": null,
      "outputs": [
        {
          "output_type": "stream",
          "text": [
            "x= [2 2 3]\n",
            "y= [4 5 6]\n",
            "z= [10 12 15]\n"
          ],
          "name": "stdout"
        }
      ]
    },
    {
      "cell_type": "markdown",
      "metadata": {
        "id": "8XS-LCvIKLPa",
        "colab_type": "text"
      },
      "source": [
        "sequence"
      ]
    },
    {
      "cell_type": "code",
      "metadata": {
        "trusted": true,
        "id": "u6euiyDAKLPb",
        "colab_type": "code",
        "colab": {},
        "outputId": "7efd03b7-aa26-464d-a8c4-628483623fac"
      },
      "source": [
        "a = np.arange(10)\n",
        "print('a=', a)"
      ],
      "execution_count": null,
      "outputs": [
        {
          "output_type": "stream",
          "text": [
            "a= [0 1 2 3 4 5 6 7 8 9]\n"
          ],
          "name": "stdout"
        }
      ]
    },
    {
      "cell_type": "code",
      "metadata": {
        "trusted": true,
        "id": "k6VaG7NuKLPg",
        "colab_type": "code",
        "colab": {},
        "outputId": "98a9d03f-bb34-4f27-ec53-5c14eff1f699"
      },
      "source": [
        "b = np.arange(5,10)\n",
        "print('b=', b)"
      ],
      "execution_count": null,
      "outputs": [
        {
          "output_type": "stream",
          "text": [
            "b= [5 6 7 8 9]\n"
          ],
          "name": "stdout"
        }
      ]
    },
    {
      "cell_type": "markdown",
      "metadata": {
        "id": "8uLI7V2DKLPl",
        "colab_type": "text"
      },
      "source": [
        "Copy of the vector \n",
        "(You can not use a=b for copy.)"
      ]
    },
    {
      "cell_type": "code",
      "metadata": {
        "trusted": true,
        "id": "uU0Rumc_KLPm",
        "colab_type": "code",
        "colab": {},
        "outputId": "db617f6c-9be3-4095-e97d-00b27c03f84c"
      },
      "source": [
        "a = np.array([1, 2])\n",
        "b = np.copy(a)\n",
        "b[0] = 2\n",
        "c = a.copy()\n",
        "print('a is {0}'.format(a))\n",
        "print('b is {0}'.format(b))\n",
        "print('c is {0}'.format(c))"
      ],
      "execution_count": null,
      "outputs": [
        {
          "output_type": "stream",
          "text": [
            "a is [1 2]\n",
            "b is [2 2]\n",
            "c is [1 2]\n"
          ],
          "name": "stdout"
        }
      ]
    },
    {
      "cell_type": "markdown",
      "metadata": {
        "id": "G9SEFPxPKLPq",
        "colab_type": "text"
      },
      "source": [
        "sorting of the elements"
      ]
    },
    {
      "cell_type": "code",
      "metadata": {
        "trusted": true,
        "id": "8RjIbdyMKLPr",
        "colab_type": "code",
        "colab": {},
        "outputId": "5b4105dd-801e-4565-fd03-c75c04ea1845"
      },
      "source": [
        "data = np.random.randint(0,100,10)\n",
        "print('Before：', data)\n",
        "data.sort()\n",
        "print('After：', data)"
      ],
      "execution_count": null,
      "outputs": [
        {
          "output_type": "stream",
          "text": [
            "Before： [74 21 42 57 16 93 25 19  8 51]\n",
            "After： [ 8 16 19 21 25 42 51 57 74 93]\n"
          ],
          "name": "stdout"
        }
      ]
    },
    {
      "cell_type": "markdown",
      "metadata": {
        "id": "7u3ZPOYiKLPv",
        "colab_type": "text"
      },
      "source": [
        "min, max, sum"
      ]
    },
    {
      "cell_type": "code",
      "metadata": {
        "trusted": true,
        "id": "sy2M7HcRKLPw",
        "colab_type": "code",
        "colab": {},
        "outputId": "d680bcdc-2c63-436c-e901-9bafa31e30d1"
      },
      "source": [
        "print('data:', data)\n",
        "# Min\n",
        "print('Min:', data.min())\n",
        "# Max\n",
        "print('Max:', data.max())\n",
        "# sum\n",
        "print('Sum:', data.sum())"
      ],
      "execution_count": null,
      "outputs": [
        {
          "output_type": "stream",
          "text": [
            "data: [ 8 16 19 21 25 42 51 57 74 93]\n",
            "Min: 8\n",
            "Max: 93\n",
            "Sum: 406\n"
          ],
          "name": "stdout"
        }
      ]
    },
    {
      "cell_type": "markdown",
      "metadata": {
        "id": "kq0nw9QjKLP0",
        "colab_type": "text"
      },
      "source": [
        "Marix"
      ]
    },
    {
      "cell_type": "code",
      "metadata": {
        "trusted": true,
        "id": "LML801FfKLP1",
        "colab_type": "code",
        "colab": {},
        "outputId": "e048fea6-50f9-4329-ac61-9b6373fa2bd5"
      },
      "source": [
        "X = np.array([[1,2,3],[4,5,6],[7,8,9]])\n",
        "print(X)"
      ],
      "execution_count": null,
      "outputs": [
        {
          "output_type": "stream",
          "text": [
            "[[1 2 3]\n",
            " [4 5 6]\n",
            " [7 8 9]]\n"
          ],
          "name": "stdout"
        }
      ]
    },
    {
      "cell_type": "code",
      "metadata": {
        "trusted": true,
        "id": "hnm_x1x8KLP5",
        "colab_type": "code",
        "colab": {},
        "outputId": "0958d27f-4056-43f8-e403-f4247815175b"
      },
      "source": [
        "np.shape(X)"
      ],
      "execution_count": null,
      "outputs": [
        {
          "output_type": "execute_result",
          "data": {
            "text/plain": [
              "(3, 3)"
            ]
          },
          "metadata": {
            "tags": []
          },
          "execution_count": 13
        }
      ]
    },
    {
      "cell_type": "code",
      "metadata": {
        "trusted": true,
        "id": "voA1kJMLKLP8",
        "colab_type": "code",
        "colab": {},
        "outputId": "e98fcfc6-c96d-425f-dd73-457a92dff772"
      },
      "source": [
        "X.shape"
      ],
      "execution_count": null,
      "outputs": [
        {
          "output_type": "execute_result",
          "data": {
            "text/plain": [
              "(3, 3)"
            ]
          },
          "metadata": {
            "tags": []
          },
          "execution_count": 14
        }
      ]
    },
    {
      "cell_type": "code",
      "metadata": {
        "trusted": true,
        "id": "SKTo4ZSlKLQA",
        "colab_type": "code",
        "colab": {},
        "outputId": "88980821-2817-422c-fafd-4a141c9afdd5"
      },
      "source": [
        "Y = np.array([[1,2,3],[3,2,1]])\n",
        "print('Y is ')\n",
        "print(Y)\n",
        "m, n = Y.shape\n",
        "print('m = {0}'.format(m))\n",
        "print('n = {0}'.format(n))"
      ],
      "execution_count": null,
      "outputs": [
        {
          "output_type": "stream",
          "text": [
            "Y is \n",
            "[[1 2 3]\n",
            " [3 2 1]]\n",
            "m = 2\n",
            "n = 3\n"
          ],
          "name": "stdout"
        }
      ]
    },
    {
      "cell_type": "code",
      "metadata": {
        "trusted": true,
        "id": "rnESzw5rKLQD",
        "colab_type": "code",
        "colab": {},
        "outputId": "efcba8cb-959e-477a-fcef-049d22a9bc56"
      },
      "source": [
        "print('X is')\n",
        "print(X)\n",
        "print('X[0,1]= {0}'.format(X[0, 1]))\n",
        "print('X[1,1]= {0}'.format(X[1, 1]))\n",
        "print('X[2,2]= {0}'.format(X[2, 2]))"
      ],
      "execution_count": null,
      "outputs": [
        {
          "output_type": "stream",
          "text": [
            "X is\n",
            "[[1 2 3]\n",
            " [4 5 6]\n",
            " [7 8 9]]\n",
            "X[0,1]= 2\n",
            "X[1,1]= 5\n",
            "X[2,2]= 9\n"
          ],
          "name": "stdout"
        }
      ]
    },
    {
      "cell_type": "code",
      "metadata": {
        "trusted": true,
        "id": "dp7teYtCKLQG",
        "colab_type": "code",
        "colab": {},
        "outputId": "be119f8b-8228-4c9f-b4cf-0d0946bb2468"
      },
      "source": [
        "print('X is')\n",
        "print(X)\n",
        "X[1, 2] = 66\n",
        "print('After: X is')\n",
        "print(X)"
      ],
      "execution_count": null,
      "outputs": [
        {
          "output_type": "stream",
          "text": [
            "X is\n",
            "[[1 2 3]\n",
            " [4 5 6]\n",
            " [7 8 9]]\n",
            "After: X is\n",
            "[[ 1  2  3]\n",
            " [ 4  5 66]\n",
            " [ 7  8  9]]\n"
          ],
          "name": "stdout"
        }
      ]
    },
    {
      "cell_type": "code",
      "metadata": {
        "trusted": true,
        "id": "I3uVfNSYKLQJ",
        "colab_type": "code",
        "colab": {},
        "outputId": "a1cee593-71c1-4972-e110-43d866751c75"
      },
      "source": [
        "O = np.zeros((3,3))\n",
        "print('O is')\n",
        "print(O)"
      ],
      "execution_count": null,
      "outputs": [
        {
          "output_type": "stream",
          "text": [
            "O is\n",
            "[[0. 0. 0.]\n",
            " [0. 0. 0.]\n",
            " [0. 0. 0.]]\n"
          ],
          "name": "stdout"
        }
      ]
    },
    {
      "cell_type": "code",
      "metadata": {
        "trusted": true,
        "id": "pzFduPKXKLQM",
        "colab_type": "code",
        "colab": {},
        "outputId": "23b5c6b7-4911-44d1-fcef-6b378656fe87"
      },
      "source": [
        "ones = np.ones((10))\n",
        "print('ones (vector)')\n",
        "print(ones)\n",
        "Ones = np.ones((3,3))\n",
        "print('Ones (Matrix)')\n",
        "print(Ones)"
      ],
      "execution_count": null,
      "outputs": [
        {
          "output_type": "stream",
          "text": [
            "ones (vector)\n",
            "[1. 1. 1. 1. 1. 1. 1. 1. 1. 1.]\n",
            "Ones (Matrix)\n",
            "[[1. 1. 1.]\n",
            " [1. 1. 1.]\n",
            " [1. 1. 1.]]\n"
          ],
          "name": "stdout"
        }
      ]
    },
    {
      "cell_type": "code",
      "metadata": {
        "trusted": true,
        "id": "589dQEJAKLQP",
        "colab_type": "code",
        "colab": {},
        "outputId": "bd32cbaf-4d67-4912-b496-39051b7086d4"
      },
      "source": [
        "R = np.random.rand(3, 2)\n",
        "print('R is a random matrix')\n",
        "print(R)"
      ],
      "execution_count": null,
      "outputs": [
        {
          "output_type": "stream",
          "text": [
            "R is a random matrix\n",
            "[[0.8406382  0.11755086]\n",
            " [0.37045835 0.61300656]\n",
            " [0.14125294 0.66194725]]\n"
          ],
          "name": "stdout"
        }
      ]
    },
    {
      "cell_type": "code",
      "metadata": {
        "trusted": true,
        "id": "_eQQAui6KLQT",
        "colab_type": "code",
        "colab": {},
        "outputId": "17607b46-ef7b-4533-ce75-45e47775fdc0"
      },
      "source": [
        "a = np.arange(10)\n",
        "print('a')\n",
        "print(a)\n",
        "b = np.reshape(a, (2, 5))\n",
        "print('b is reshaped from a')\n",
        "print(b)"
      ],
      "execution_count": null,
      "outputs": [
        {
          "output_type": "stream",
          "text": [
            "a\n",
            "[0 1 2 3 4 5 6 7 8 9]\n",
            "b is reshaped from a\n",
            "[[0 1 2 3 4]\n",
            " [5 6 7 8 9]]\n"
          ],
          "name": "stdout"
        }
      ]
    },
    {
      "cell_type": "code",
      "metadata": {
        "trusted": true,
        "id": "gyRgiBqVKLQV",
        "colab_type": "code",
        "colab": {},
        "outputId": "955ed427-e276-428d-c2c9-18d3fafaf71e"
      },
      "source": [
        "c = a.reshape(2, 5)\n",
        "print(c)"
      ],
      "execution_count": null,
      "outputs": [
        {
          "output_type": "stream",
          "text": [
            "[[0 1 2 3 4]\n",
            " [5 6 7 8 9]]\n"
          ],
          "name": "stdout"
        }
      ]
    },
    {
      "cell_type": "markdown",
      "metadata": {
        "id": "_AlfRYEFKLQY",
        "colab_type": "text"
      },
      "source": [
        "## Matrix Calculation\n",
        "Adition, Subtraction"
      ]
    },
    {
      "cell_type": "code",
      "metadata": {
        "trusted": true,
        "id": "RhKhySCSKLQZ",
        "colab_type": "code",
        "colab": {},
        "outputId": "75a36646-c08b-4d3a-b10f-f55ab768f979"
      },
      "source": [
        "A = np.array([[1,2,3],[3,3,3]])\n",
        "B = np.array([[3,2,1],[1,2,3]])\n",
        "C = A + B\n",
        "D = A - B\n",
        "print('A')\n",
        "print(A)\n",
        "print('B')\n",
        "print(B)\n",
        "print('A + B')\n",
        "print(C)\n",
        "print('A - B')\n",
        "print(D)"
      ],
      "execution_count": null,
      "outputs": [
        {
          "output_type": "stream",
          "text": [
            "A\n",
            "[[1 2 3]\n",
            " [3 3 3]]\n",
            "B\n",
            "[[3 2 1]\n",
            " [1 2 3]]\n",
            "A + B\n",
            "[[4 4 4]\n",
            " [4 5 6]]\n",
            "A - B\n",
            "[[-2  0  2]\n",
            " [ 2  1  0]]\n"
          ],
          "name": "stdout"
        }
      ]
    },
    {
      "cell_type": "markdown",
      "metadata": {
        "id": "BvRjpkc5KLQc",
        "colab_type": "text"
      },
      "source": [
        "scalr product"
      ]
    },
    {
      "cell_type": "code",
      "metadata": {
        "trusted": true,
        "id": "6-86nGz3KLQd",
        "colab_type": "code",
        "colab": {},
        "outputId": "e6d1ec90-474b-4af0-849b-531cecbf978b"
      },
      "source": [
        "a = 2.0\n",
        "C = a * A\n",
        "print('a={0}'.format(a))\n",
        "print('A')\n",
        "print(A)\n",
        "print('a * A')\n",
        "print(C)"
      ],
      "execution_count": null,
      "outputs": [
        {
          "output_type": "stream",
          "text": [
            "a=2.0\n",
            "A\n",
            "[[1 2 3]\n",
            " [3 3 3]]\n",
            "a * A\n",
            "[[2. 4. 6.]\n",
            " [6. 6. 6.]]\n"
          ],
          "name": "stdout"
        }
      ]
    },
    {
      "cell_type": "markdown",
      "metadata": {
        "id": "u-wX9GnxKLQg",
        "colab_type": "text"
      },
      "source": [
        "matrix product"
      ]
    },
    {
      "cell_type": "code",
      "metadata": {
        "trusted": true,
        "id": "9nAY2APZKLQi",
        "colab_type": "code",
        "colab": {},
        "outputId": "c31eefee-8434-4a7a-8343-8b36ceb56b9b"
      },
      "source": [
        "A = np.array([[1,2,3],[4,5,6]])\n",
        "B = np.array([[1,2],[3,1],[2,1]])\n",
        "print('A')\n",
        "print(A)\n",
        "print('B')\n",
        "print(B)\n",
        "C = np.dot(A,B)\n",
        "print('C=A*B')\n",
        "print(C)\n",
        "D = A.dot(B)\n",
        "print('D=A*B')\n",
        "print(D)\n",
        "C = np.dot(B, A)\n",
        "print('C=B*A')\n",
        "print(C)\n",
        "D = B.dot(A)\n",
        "print('D=B*A')\n",
        "print(D)"
      ],
      "execution_count": null,
      "outputs": [
        {
          "output_type": "stream",
          "text": [
            "A\n",
            "[[1 2 3]\n",
            " [4 5 6]]\n",
            "B\n",
            "[[1 2]\n",
            " [3 1]\n",
            " [2 1]]\n",
            "C=A*B\n",
            "[[13  7]\n",
            " [31 19]]\n",
            "D=A*B\n",
            "[[13  7]\n",
            " [31 19]]\n",
            "C=B*A\n",
            "[[ 9 12 15]\n",
            " [ 7 11 15]\n",
            " [ 6  9 12]]\n",
            "D=B*A\n",
            "[[ 9 12 15]\n",
            " [ 7 11 15]\n",
            " [ 6  9 12]]\n"
          ],
          "name": "stdout"
        }
      ]
    },
    {
      "cell_type": "markdown",
      "metadata": {
        "id": "czX88TgzKLQm",
        "colab_type": "text"
      },
      "source": [
        "transpose"
      ]
    },
    {
      "cell_type": "code",
      "metadata": {
        "trusted": true,
        "id": "2p7PcHumKLQn",
        "colab_type": "code",
        "colab": {},
        "outputId": "a9091808-d818-4cd7-dac4-bc6e14ae5b33"
      },
      "source": [
        "A = np.array([[1,2,3],[4,5,6],[7,8,9]])\n",
        "print('A')\n",
        "print(A)\n",
        "B = np.transpose(A)\n",
        "print('Transpose of A')\n",
        "print(B)\n",
        "C = A.T\n",
        "print('Transpose of A can be calculated by A.T')\n",
        "print(C)"
      ],
      "execution_count": null,
      "outputs": [
        {
          "output_type": "stream",
          "text": [
            "A\n",
            "[[1 2 3]\n",
            " [4 5 6]\n",
            " [7 8 9]]\n",
            "Transpose of A\n",
            "[[1 4 7]\n",
            " [2 5 8]\n",
            " [3 6 9]]\n",
            "Transpose of A can be calculated by A.T\n",
            "[[1 4 7]\n",
            " [2 5 8]\n",
            " [3 6 9]]\n"
          ],
          "name": "stdout"
        }
      ]
    },
    {
      "cell_type": "markdown",
      "metadata": {
        "id": "UE6vO6wlKLQq",
        "colab_type": "text"
      },
      "source": [
        "Identify matrix"
      ]
    },
    {
      "cell_type": "code",
      "metadata": {
        "trusted": true,
        "id": "6_JtmHhGKLQr",
        "colab_type": "code",
        "colab": {},
        "outputId": "6069250f-790f-4f50-f649-c9efad7b51c1"
      },
      "source": [
        "E = np.identity((3))\n",
        "print(E)"
      ],
      "execution_count": null,
      "outputs": [
        {
          "output_type": "stream",
          "text": [
            "[[1. 0. 0.]\n",
            " [0. 1. 0.]\n",
            " [0. 0. 1.]]\n"
          ],
          "name": "stdout"
        }
      ]
    },
    {
      "cell_type": "markdown",
      "metadata": {
        "id": "LR793HkJKLQz",
        "colab_type": "text"
      },
      "source": [
        "trace"
      ]
    },
    {
      "cell_type": "code",
      "metadata": {
        "trusted": true,
        "id": "sdr_X3WoKLQ0",
        "colab_type": "code",
        "colab": {},
        "outputId": "cf420a5b-5c0c-42bd-f945-180ae8f98093"
      },
      "source": [
        "A = np.array([[1,2,3],[4,5,6],[7,8,9]])\n",
        "print('A')\n",
        "print(A)\n",
        "t = np.trace(A)\n",
        "print('Trace of A is {0}'.format(t))"
      ],
      "execution_count": null,
      "outputs": [
        {
          "output_type": "stream",
          "text": [
            "A\n",
            "[[1 2 3]\n",
            " [4 5 6]\n",
            " [7 8 9]]\n",
            "Trace of A is 15\n"
          ],
          "name": "stdout"
        }
      ]
    },
    {
      "cell_type": "markdown",
      "metadata": {
        "id": "nYQ-2HiHKLQ4",
        "colab_type": "text"
      },
      "source": [
        "Determinant"
      ]
    },
    {
      "cell_type": "code",
      "metadata": {
        "trusted": true,
        "id": "-Us1apSYKLQ5",
        "colab_type": "code",
        "colab": {},
        "outputId": "89367917-4727-4227-999f-9a022c52c29e"
      },
      "source": [
        "A = np.array([[1,1,0],[4,5,0],[1,0,1]])\n",
        "print('A')\n",
        "print(A)\n",
        "d = np.linalg.det(A)\n",
        "print('Determinant of A is {0}'.format(d))"
      ],
      "execution_count": null,
      "outputs": [
        {
          "output_type": "stream",
          "text": [
            "A\n",
            "[[1 1 0]\n",
            " [4 5 0]\n",
            " [1 0 1]]\n",
            "Determinant of A is 1.0\n"
          ],
          "name": "stdout"
        }
      ]
    },
    {
      "cell_type": "markdown",
      "metadata": {
        "id": "hbcMTC0dKLQ7",
        "colab_type": "text"
      },
      "source": [
        "Inverse"
      ]
    },
    {
      "cell_type": "code",
      "metadata": {
        "trusted": true,
        "id": "J_4vYLo_KLQ8",
        "colab_type": "code",
        "colab": {},
        "outputId": "79067f21-6f82-4a53-f53b-46c312138eef"
      },
      "source": [
        "A = np.array([[1,1,0],[4,5,0],[1,0,1]])\n",
        "print('A')\n",
        "print(A)\n",
        "Ainv = np.linalg.inv(A)\n",
        "print('Inverse of A')\n",
        "print(Ainv)\n",
        "print('A * Ainv')\n",
        "print(A.dot(Ainv))\n",
        "print('Ainv * A')\n",
        "print(Ainv.dot(A))"
      ],
      "execution_count": null,
      "outputs": [
        {
          "output_type": "stream",
          "text": [
            "A\n",
            "[[1 1 0]\n",
            " [4 5 0]\n",
            " [1 0 1]]\n",
            "Inverse of A\n",
            "[[ 5. -1.  0.]\n",
            " [-4.  1. -0.]\n",
            " [-5.  1.  1.]]\n",
            "A * Ainv\n",
            "[[1. 0. 0.]\n",
            " [0. 1. 0.]\n",
            " [0. 0. 1.]]\n",
            "Ainv * A\n",
            "[[1. 0. 0.]\n",
            " [0. 1. 0.]\n",
            " [0. 0. 1.]]\n"
          ],
          "name": "stdout"
        }
      ]
    },
    {
      "cell_type": "markdown",
      "metadata": {
        "id": "Oh-ZjDjCKLQ-",
        "colab_type": "text"
      },
      "source": [
        "slicing"
      ]
    },
    {
      "cell_type": "code",
      "metadata": {
        "trusted": true,
        "id": "8_FPaoVYKLQ_",
        "colab_type": "code",
        "colab": {},
        "outputId": "8b1e0798-6e91-4a8d-f509-1dbcfabb985f"
      },
      "source": [
        "x = np.arange(10)\n",
        "print(x)\n",
        "print(x[:5])"
      ],
      "execution_count": null,
      "outputs": [
        {
          "output_type": "stream",
          "text": [
            "[0 1 2 3 4 5 6 7 8 9]\n",
            "[0 1 2 3 4]\n"
          ],
          "name": "stdout"
        }
      ]
    },
    {
      "cell_type": "code",
      "metadata": {
        "trusted": true,
        "id": "2o77nNsuKLRC",
        "colab_type": "code",
        "colab": {},
        "outputId": "cd5bae66-472a-4b18-f2d1-92f9e49bb20f"
      },
      "source": [
        "print(x[5:])"
      ],
      "execution_count": null,
      "outputs": [
        {
          "output_type": "stream",
          "text": [
            "[5 6 7 8 9]\n"
          ],
          "name": "stdout"
        }
      ]
    },
    {
      "cell_type": "code",
      "metadata": {
        "trusted": true,
        "id": "OVqE19KzKLRE",
        "colab_type": "code",
        "colab": {},
        "outputId": "bc6d284a-d737-4727-febd-6c4b136a33a7"
      },
      "source": [
        "print(x[3:5])"
      ],
      "execution_count": null,
      "outputs": [
        {
          "output_type": "stream",
          "text": [
            "[3 4]\n"
          ],
          "name": "stdout"
        }
      ]
    },
    {
      "cell_type": "code",
      "metadata": {
        "trusted": true,
        "id": "NqAnpfBBKLRH",
        "colab_type": "code",
        "colab": {},
        "outputId": "10aa7a47-d449-4288-e8d7-89936fbc39ad"
      },
      "source": [
        "print(x[3:8:2])"
      ],
      "execution_count": null,
      "outputs": [
        {
          "output_type": "stream",
          "text": [
            "[3 5 7]\n"
          ],
          "name": "stdout"
        }
      ]
    },
    {
      "cell_type": "code",
      "metadata": {
        "trusted": true,
        "id": "-7WxHb3RKLRJ",
        "colab_type": "code",
        "colab": {},
        "outputId": "dbde4b23-cf54-4086-b7c0-f5c4ce37d1cd"
      },
      "source": [
        "X = np.array([[1,2,3],[4,5,6],[7,8,9]])\n",
        "print(X)\n",
        "print(X[:2, 0:2])"
      ],
      "execution_count": null,
      "outputs": [
        {
          "output_type": "stream",
          "text": [
            "[[1 2 3]\n",
            " [4 5 6]\n",
            " [7 8 9]]\n",
            "[[1 2]\n",
            " [4 5]]\n"
          ],
          "name": "stdout"
        }
      ]
    },
    {
      "cell_type": "markdown",
      "metadata": {
        "id": "BFr3jLh7KLRM",
        "colab_type": "text"
      },
      "source": [
        "reverse ordering"
      ]
    },
    {
      "cell_type": "code",
      "metadata": {
        "trusted": true,
        "id": "U71wLa-4KLRM",
        "colab_type": "code",
        "colab": {},
        "outputId": "dddd143c-ab81-47b0-d9c4-f0ee56cc6018"
      },
      "source": [
        "print('x:       ', x)\n",
        "print('x[::-1]: ', x[::-1])"
      ],
      "execution_count": null,
      "outputs": [
        {
          "output_type": "stream",
          "text": [
            "x:        [0 1 2 3 4 5 6 7 8 9]\n",
            "x[::-1]:  [9 8 7 6 5 4 3 2 1 0]\n"
          ],
          "name": "stdout"
        }
      ]
    },
    {
      "cell_type": "markdown",
      "metadata": {
        "id": "OexBIsN9KLRQ",
        "colab_type": "text"
      },
      "source": [
        "Selection"
      ]
    },
    {
      "cell_type": "code",
      "metadata": {
        "trusted": true,
        "id": "v2TjdAm_KLRS",
        "colab_type": "code",
        "colab": {},
        "outputId": "904126c6-093c-4bec-bf29-f40e590c1848"
      },
      "source": [
        "x = np.array([1,2,3,4,5,8,13])\n",
        "print(x)\n",
        "print(x > 3)"
      ],
      "execution_count": null,
      "outputs": [
        {
          "output_type": "stream",
          "text": [
            "[ 1  2  3  4  5  8 13]\n",
            "[False False False  True  True  True  True]\n"
          ],
          "name": "stdout"
        }
      ]
    },
    {
      "cell_type": "code",
      "metadata": {
        "trusted": true,
        "id": "B-x57sdxKLRW",
        "colab_type": "code",
        "colab": {},
        "outputId": "67d658a0-1431-4d8f-b39f-018bed864d10"
      },
      "source": [
        "print(x[x > 3])"
      ],
      "execution_count": null,
      "outputs": [
        {
          "output_type": "stream",
          "text": [
            "[ 4  5  8 13]\n"
          ],
          "name": "stdout"
        }
      ]
    },
    {
      "cell_type": "code",
      "metadata": {
        "trusted": true,
        "id": "oguRv8u4KLRY",
        "colab_type": "code",
        "colab": {},
        "outputId": "4d3d28d1-3779-4a16-9aac-9452ce805175"
      },
      "source": [
        "x[x > 3] = 99\n",
        "print(x)"
      ],
      "execution_count": null,
      "outputs": [
        {
          "output_type": "stream",
          "text": [
            "[ 1  2  3 99 99 99 99]\n"
          ],
          "name": "stdout"
        }
      ]
    }
  ]
}