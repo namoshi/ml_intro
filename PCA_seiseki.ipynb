{
 "cells": [
  {
   "cell_type": "markdown",
   "metadata": {},
   "source": [
    "## 成績データの主成分分析（PCA)"
   ]
  },
  {
   "cell_type": "code",
   "execution_count": 1,
   "metadata": {},
   "outputs": [],
   "source": [
    "import matplotlib.pyplot as plt\n",
    "import numpy as np\n",
    "\n",
    "from sklearn import datasets\n",
    "from sklearn.decomposition import PCA"
   ]
  },
  {
   "cell_type": "markdown",
   "metadata": {},
   "source": [
    "成績データの読み込み"
   ]
  },
  {
   "cell_type": "code",
   "execution_count": 3,
   "metadata": {},
   "outputs": [
    {
     "name": "stdout",
     "output_type": "stream",
     "text": [
      "[[89. 90. 67. 46. 50.]\n",
      " [57. 70. 80. 85. 90.]\n",
      " [80. 90. 35. 40. 50.]\n",
      " [40. 60. 50. 45. 55.]\n",
      " [78. 85. 45. 55. 60.]\n",
      " [55. 65. 80. 75. 85.]\n",
      " [90. 85. 88. 92. 95.]]\n"
     ]
    }
   ],
   "source": [
    "seiseki = np.loadtxt(\"seiseki.txt\",delimiter=\" \")\n",
    "\n",
    "print(seiseki)"
   ]
  },
  {
   "cell_type": "markdown",
   "metadata": {},
   "source": [
    "主成分分析の実行と2次元スコアの計算"
   ]
  },
  {
   "cell_type": "code",
   "execution_count": 4,
   "metadata": {},
   "outputs": [],
   "source": [
    "pca = PCA()\n",
    "X_r = pca.fit(seiseki).transform(seiseki)"
   ]
  },
  {
   "cell_type": "markdown",
   "metadata": {},
   "source": [
    "寄与率の計算"
   ]
  },
  {
   "cell_type": "code",
   "execution_count": 5,
   "metadata": {},
   "outputs": [
    {
     "name": "stdout",
     "output_type": "stream",
     "text": [
      "explained variance ratio (first two components): [0.6688013  0.28791087 0.04119209 0.00115958 0.00093615]\n"
     ]
    }
   ],
   "source": [
    "# Percentage of variance explained for each components\n",
    "print('explained variance ratio (first two components): %s'\n",
    "      % str(pca.explained_variance_ratio_))"
   ]
  },
  {
   "cell_type": "markdown",
   "metadata": {},
   "source": [
    "主成分スコアのプロット"
   ]
  },
  {
   "cell_type": "code",
   "execution_count": 6,
   "metadata": {},
   "outputs": [
    {
     "name": "stdout",
     "output_type": "stream",
     "text": [
      "[[-21.21097689 -21.47715546  16.13893274   0.74974975   0.0553171 ]\n",
      " [ 35.71460142  11.68959258  -3.08132203   2.5479804    0.94612138]\n",
      " [-42.0704435  -10.53162768  -7.96504946  -0.62218006   1.84247267]\n",
      " [-22.74370588  37.14882026   2.94042802  -0.24176613  -1.15384889]\n",
      " [-21.22256751  -8.3637958   -9.08119457   0.48014937  -1.65118749]\n",
      " [ 27.54978153  16.81652223   3.32710151  -1.92187619   0.89322097]\n",
      " [ 43.98331082 -25.28235614  -2.27889621  -0.99205713  -0.93209573]]\n"
     ]
    }
   ],
   "source": [
    "print(X_r)"
   ]
  },
  {
   "cell_type": "code",
   "execution_count": 9,
   "metadata": {},
   "outputs": [
    {
     "data": {
      "image/png": "[encoded data removed]",
      "text/plain": [
       "<Figure size 432x288 with 1 Axes>"
      ]
     },
     "metadata": {
      "needs_background": "light"
     },
     "output_type": "display_data"
    }
   ],
   "source": [
    "%matplotlib inline\n",
    "\n",
    "plt.figure()\n",
    "plt.scatter(X_r[:, 0], X_r[:, 1])\n",
    "plt.title('PCA of Seiseki dataset')\n",
    "for i,(x,y) in enumerate(zip(X_r[:, 0], X_r[:, 1])):\n",
    "    plt.annotate(str(i),(x+2,y-1))\n",
    "plt.xlabel('1st Principal Component')\n",
    "plt.ylabel('2nd Principal Component')\n",
    "plt.savefig('pca_seiseki.eps')\n",
    "plt.show()"
   ]
  },
  {
   "cell_type": "code",
   "execution_count": null,
   "metadata": {},
   "outputs": [],
   "source": []
  }
 ],
 "metadata": {
  "kernelspec": {
   "display_name": "Python 3",
   "language": "python",
   "name": "python3"
  },
  "language_info": {
   "codemirror_mode": {
    "name": "ipython",
    "version": 3
   },
   "file_extension": ".py",
   "mimetype": "text/x-python",
   "name": "python",
   "nbconvert_exporter": "python",
   "pygments_lexer": "ipython3",
   "version": "3.7.7"
  }
 },
 "nbformat": 4,
 "nbformat_minor": 4
}
