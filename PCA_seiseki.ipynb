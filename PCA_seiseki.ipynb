{
  "nbformat": 4,
  "nbformat_minor": 0,
  "metadata": {
    "kernelspec": {
      "display_name": "Python 3",
      "language": "python",
      "name": "python3"
    },
    "language_info": {
      "codemirror_mode": {
        "name": "ipython",
        "version": 3
      },
      "file_extension": ".py",
      "mimetype": "text/x-python",
      "name": "python",
      "nbconvert_exporter": "python",
      "pygments_lexer": "ipython3",
      "version": "3.7.7"
    },
    "colab": {
      "name": "PCA_seiseki.ipynb",
      "provenance": [],
      "include_colab_link": true
    }
  },
  "cells": [
    {
      "cell_type": "markdown",
      "metadata": {
        "id": "view-in-github",
        "colab_type": "text"
      },
      "source": [
        "<a href=\"https://colab.research.google.com/github/namoshi/ml_intro/blob/master/PCA_seiseki.ipynb\" target=\"_parent\"><img src=\"https://colab.research.google.com/assets/colab-badge.svg\" alt=\"Open In Colab\"/></a>"
      ]
    },
    {
      "cell_type": "markdown",
      "metadata": {
        "id": "1HjaaWCzkqPT",
        "colab_type": "text"
      },
      "source": [
        "## 成績データの主成分分析（PCA)"
      ]
    },
    {
      "cell_type": "code",
      "metadata": {
        "id": "ZVJlb2yTkqPU",
        "colab_type": "code",
        "colab": {}
      },
      "source": [
        "import matplotlib.pyplot as plt\n",
        "import numpy as np\n",
        "\n",
        "from sklearn import datasets\n",
        "from sklearn.decomposition import PCA"
      ],
      "execution_count": 1,
      "outputs": []
    },
    {
      "cell_type": "markdown",
      "metadata": {
        "id": "QPNgieXhkqPZ",
        "colab_type": "text"
      },
      "source": [
        "成績データの読み込み"
      ]
    },
    {
      "cell_type": "code",
      "metadata": {
        "id": "P4xv3PURkqPa",
        "colab_type": "code",
        "colab": {
          "base_uri": "https://localhost:8080/",
          "height": 143
        },
        "outputId": "65ad0017-d022-4eb0-a6c3-100361db36a3"
      },
      "source": [
        "seiseki = np.loadtxt(\"https://raw.githubusercontent.com/namoshi/ml_intro/master/seiseki.txt\",delimiter=\" \")\n",
        "\n",
        "print(seiseki)"
      ],
      "execution_count": 2,
      "outputs": [
        {
          "output_type": "stream",
          "text": [
            "[[89. 90. 67. 46. 50.]\n",
            " [57. 70. 80. 85. 90.]\n",
            " [80. 90. 35. 40. 50.]\n",
            " [40. 60. 50. 45. 55.]\n",
            " [78. 85. 45. 55. 60.]\n",
            " [55. 65. 80. 75. 85.]\n",
            " [90. 85. 88. 92. 95.]]\n"
          ],
          "name": "stdout"
        }
      ]
    },
    {
      "cell_type": "markdown",
      "metadata": {
        "id": "g6Bdb-MSkqPf",
        "colab_type": "text"
      },
      "source": [
        "主成分分析の実行と2次元スコアの計算"
      ]
    },
    {
      "cell_type": "code",
      "metadata": {
        "id": "KaqW2tpIkqPg",
        "colab_type": "code",
        "colab": {}
      },
      "source": [
        "pca = PCA()\n",
        "X_r = pca.fit(seiseki).transform(seiseki)"
      ],
      "execution_count": 3,
      "outputs": []
    },
    {
      "cell_type": "markdown",
      "metadata": {
        "id": "akqcAwGukqPk",
        "colab_type": "text"
      },
      "source": [
        "寄与率の計算"
      ]
    },
    {
      "cell_type": "code",
      "metadata": {
        "id": "H5GqM6jVkqPk",
        "colab_type": "code",
        "colab": {
          "base_uri": "https://localhost:8080/",
          "height": 35
        },
        "outputId": "c8d8b2bb-b799-4bd8-b732-77f8440e54f8"
      },
      "source": [
        "# Percentage of variance explained for each components\n",
        "print('explained variance ratio (first two components): %s'\n",
        "      % str(pca.explained_variance_ratio_))"
      ],
      "execution_count": 4,
      "outputs": [
        {
          "output_type": "stream",
          "text": [
            "explained variance ratio (first two components): [0.6688013  0.28791087 0.04119209 0.00115958 0.00093615]\n"
          ],
          "name": "stdout"
        }
      ]
    },
    {
      "cell_type": "markdown",
      "metadata": {
        "id": "HXL6yXGekqPo",
        "colab_type": "text"
      },
      "source": [
        "主成分スコアのプロット"
      ]
    },
    {
      "cell_type": "code",
      "metadata": {
        "id": "7vQutUk5kqPp",
        "colab_type": "code",
        "colab": {
          "base_uri": "https://localhost:8080/",
          "height": 143
        },
        "outputId": "e016f856-af98-4bd2-e384-05eec138e4a5"
      },
      "source": [
        "print(X_r)"
      ],
      "execution_count": 5,
      "outputs": [
        {
          "output_type": "stream",
          "text": [
            "[[-21.21097689 -21.47715546  16.13893274   0.74974975   0.0553171 ]\n",
            " [ 35.71460142  11.68959258  -3.08132203   2.5479804    0.94612138]\n",
            " [-42.0704435  -10.53162768  -7.96504946  -0.62218006   1.84247267]\n",
            " [-22.74370588  37.14882026   2.94042802  -0.24176613  -1.15384889]\n",
            " [-21.22256751  -8.3637958   -9.08119457   0.48014937  -1.65118749]\n",
            " [ 27.54978153  16.81652223   3.32710151  -1.92187619   0.89322097]\n",
            " [ 43.98331082 -25.28235614  -2.27889621  -0.99205713  -0.93209573]]\n"
          ],
          "name": "stdout"
        }
      ]
    },
    {
      "cell_type": "code",
      "metadata": {
        "id": "9yE-mCm4kqPt",
        "colab_type": "code",
        "colab": {
          "base_uri": "https://localhost:8080/",
          "height": 295
        },
        "outputId": "9b788227-524c-42f6-e948-5075c1b27094"
      },
      "source": [
        "%matplotlib inline\n",
        "\n",
        "plt.figure()\n",
        "plt.scatter(X_r[:, 0], X_r[:, 1])\n",
        "plt.title('PCA of Seiseki dataset')\n",
        "for i,(x,y) in enumerate(zip(X_r[:, 0], X_r[:, 1])):\n",
        "    plt.annotate(str(i),(x+2,y-1))\n",
        "plt.xlabel('1st Principal Component')\n",
        "plt.ylabel('2nd Principal Component')\n",
        "plt.savefig('pca_seiseki.eps')\n",
        "plt.show()"
      ],
      "execution_count": 6,
      "outputs": [
        {
          "output_type": "display_data",
          "data": {
            "image/png": "[encoded data removed]",
            "text/plain": [
              "<Figure size 432x288 with 1 Axes>"
            ]
          },
          "metadata": {
            "tags": [],
            "needs_background": "light"
          }
        }
      ]
    },
    {
      "cell_type": "code",
      "metadata": {
        "id": "_NfQTSl1kqPx",
        "colab_type": "code",
        "colab": {}
      },
      "source": [
        ""
      ],
      "execution_count": null,
      "outputs": []
    }
  ]
}