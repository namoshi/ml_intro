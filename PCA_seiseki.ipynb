{
  "cells": [
    {
      "cell_type": "markdown",
      "metadata": {
        "id": "view-in-github",
        "colab_type": "text"
      },
      "source": [
        "<a href=\"https://colab.research.google.com/github/namoshi/ml_intro/blob/master/PCA_seiseki.ipynb\" target=\"_parent\"><img src=\"https://colab.research.google.com/assets/colab-badge.svg\" alt=\"Open In Colab\"/></a>"
      ]
    },
    {
      "cell_type": "markdown",
      "metadata": {
        "id": "1HjaaWCzkqPT"
      },
      "source": [
        "## 成績データの主成分分析（PCA)"
      ]
    },
    {
      "cell_type": "code",
      "execution_count": 8,
      "metadata": {
        "id": "ZVJlb2yTkqPU"
      },
      "outputs": [],
      "source": [
        "import matplotlib.pyplot as plt\n",
        "import numpy as np\n",
        "\n",
        "from sklearn import datasets\n",
        "from sklearn.decomposition import PCA"
      ]
    },
    {
      "cell_type": "markdown",
      "metadata": {
        "id": "QPNgieXhkqPZ"
      },
      "source": [
        "成績データの読み込み"
      ]
    },
    {
      "cell_type": "code",
      "execution_count": 9,
      "metadata": {
        "colab": {
          "base_uri": "https://localhost:8080/"
        },
        "id": "P4xv3PURkqPa",
        "outputId": "c96c841b-db44-4a7d-da9f-6c15328a005b"
      },
      "outputs": [
        {
          "output_type": "stream",
          "name": "stdout",
          "text": [
            "[[86. 79. 67. 68.]\n",
            " [71. 75. 78. 84.]\n",
            " [42. 43. 39. 44.]\n",
            " [62. 58. 98. 95.]\n",
            " [96. 97. 61. 63.]\n",
            " [39. 33. 45. 50.]\n",
            " [50. 53. 64. 72.]\n",
            " [78. 66. 52. 47.]\n",
            " [51. 44. 76. 72.]\n",
            " [89. 92. 93. 91.]]\n"
          ]
        }
      ],
      "source": [
        "seiseki = np.loadtxt(\"https://raw.githubusercontent.com/namoshi/ml_intro/master/seiseki.txt\",delimiter=\" \")\n",
        "\n",
        "print(seiseki)"
      ]
    },
    {
      "cell_type": "markdown",
      "metadata": {
        "id": "g6Bdb-MSkqPf"
      },
      "source": [
        "主成分分析の実行と2次元スコアの計算"
      ]
    },
    {
      "cell_type": "code",
      "execution_count": 10,
      "metadata": {
        "colab": {
          "base_uri": "https://localhost:8080/"
        },
        "id": "KaqW2tpIkqPg",
        "outputId": "11bd71ce-d231-4c2e-c821-4805d75947d5"
      },
      "outputs": [
        {
          "output_type": "stream",
          "name": "stdout",
          "text": [
            "[[-19.18709305 -15.14355359   2.53751405   2.38731386]\n",
            " [-19.84827902   8.36203256  -5.39319338   0.91961755]\n",
            " [ 47.99679372 -10.93388537  -3.89851908  -1.99235851]\n",
            " [-18.1011269   36.81668154   3.41742385   0.11126429]\n",
            " [-30.65001441 -33.01621373  -2.54170384  -0.50595404]\n",
            " [ 50.51589661   1.21342535   0.14248807   1.28898635]\n",
            " [ 15.56521938  11.63085683  -5.83765402   0.88255904]\n",
            " [  7.8182296  -26.82400995   7.64675778  -0.29132688]\n",
            " [ 15.02506949  21.70607578   5.1362877   -1.05929687]\n",
            " [-49.13469542   6.18859058  -1.20940113  -1.74080479]]\n"
          ]
        }
      ],
      "source": [
        "pca = PCA()\n",
        "X_r = pca.fit(seiseki).transform(seiseki)\n",
        "\n",
        "print(X_r)"
      ]
    },
    {
      "cell_type": "markdown",
      "metadata": {
        "id": "akqcAwGukqPk"
      },
      "source": [
        "寄与率の計算"
      ]
    },
    {
      "cell_type": "code",
      "execution_count": 11,
      "metadata": {
        "colab": {
          "base_uri": "https://localhost:8080/"
        },
        "id": "H5GqM6jVkqPk",
        "outputId": "ea6af56b-9252-44e9-a8e7-cb494d273549"
      },
      "outputs": [
        {
          "output_type": "stream",
          "name": "stdout",
          "text": [
            "explained variance ratio (first two components): [0.68897032 0.29653683 0.01326883 0.00122403]\n"
          ]
        }
      ],
      "source": [
        "# Percentage of variance explained for each components\n",
        "print('explained variance ratio (first two components): %s'\n",
        "      % str(pca.explained_variance_ratio_))"
      ]
    },
    {
      "cell_type": "markdown",
      "metadata": {
        "id": "HXL6yXGekqPo"
      },
      "source": [
        "主成分スコアのプロット"
      ]
    },
    {
      "cell_type": "code",
      "execution_count": 12,
      "metadata": {
        "colab": {
          "base_uri": "https://localhost:8080/",
          "height": 472
        },
        "id": "9yE-mCm4kqPt",
        "outputId": "363a02c6-a7bb-4d5d-d222-026463f02313"
      },
      "outputs": [
        {
          "output_type": "display_data",
          "data": {
            "text/plain": [
              "<Figure size 640x480 with 1 Axes>"
            ],
            "image/png": "[encoded data removed]"
          },
          "metadata": {}
        }
      ],
      "source": [
        "%matplotlib inline\n",
        "\n",
        "plt.figure()\n",
        "plt.scatter(X_r[:, 0], X_r[:, 1])\n",
        "plt.title('PCA of Seiseki dataset')\n",
        "for i,(x,y) in enumerate(zip(X_r[:, 0], X_r[:, 1])):\n",
        "    plt.annotate(str(i),(x+2,y-1))\n",
        "plt.xlabel('1st Principal Component')\n",
        "plt.ylabel('2nd Principal Component')\n",
        "plt.savefig('pca_seiseki.png')\n",
        "plt.show()"
      ]
    },
    {
      "cell_type": "code",
      "execution_count": null,
      "metadata": {
        "id": "_NfQTSl1kqPx"
      },
      "outputs": [],
      "source": []
    }
  ],
  "metadata": {
    "colab": {
      "name": "PCA_seiseki.ipynb",
      "provenance": [],
      "include_colab_link": true
    },
    "kernelspec": {
      "display_name": "Python 3",
      "language": "python",
      "name": "python3"
    },
    "language_info": {
      "codemirror_mode": {
        "name": "ipython",
        "version": 3
      },
      "file_extension": ".py",
      "mimetype": "text/x-python",
      "name": "python",
      "nbconvert_exporter": "python",
      "pygments_lexer": "ipython3",
      "version": "3.7.9"
    }
  },
  "nbformat": 4,
  "nbformat_minor": 0
}