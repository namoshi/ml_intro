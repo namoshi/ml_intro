{
 "cells": [
  {
   "cell_type": "markdown",
   "metadata": {
    "colab_type": "text",
    "id": "view-in-github"
   },
   "source": [
    "<a href=\"https://colab.research.google.com/github/namoshi/ml_intro/blob/master/Regression-sklearn.ipynb\" target=\"_parent\"><img src=\"https://colab.research.google.com/assets/colab-badge.svg\" alt=\"Open In Colab\"/></a>"
   ]
  },
  {
   "cell_type": "markdown",
   "metadata": {
    "colab_type": "text",
    "id": "TxT6w_xwMPwG"
   },
   "source": [
    "# scikit-learnを利用した線形回帰\n"
   ]
  },
  {
   "cell_type": "code",
   "execution_count": 14,
   "metadata": {
    "colab": {},
    "colab_type": "code",
    "id": "NTRc7roFMPwI"
   },
   "outputs": [],
   "source": [
    "import numpy as np\n",
    "import matplotlib.pyplot as plt\n",
    "from sklearn import datasets, linear_model\n",
    "from sklearn.metrics import mean_squared_error, r2_score\n",
    "\n",
    "%matplotlib inline\n",
    "\n",
    "np.random.seed(9876789)"
   ]
  },
  {
   "cell_type": "markdown",
   "metadata": {
    "colab_type": "text",
    "id": "TTx-nP8hMPwN"
   },
   "source": [
    "収率データの読み込みとプロット"
   ]
  },
  {
   "cell_type": "code",
   "execution_count": 15,
   "metadata": {
    "colab": {
     "base_uri": "https://localhost:8080/",
     "height": 513
    },
    "colab_type": "code",
    "id": "8oEYs28vMPwO",
    "outputId": "50423f24-39ac-498c-898e-8a81fb07cf33"
   },
   "outputs": [
    {
     "name": "stdout",
     "output_type": "stream",
     "text": [
      "data= [[ 2.2 71. ]\n",
      " [ 4.1 81. ]\n",
      " [ 5.5 86. ]\n",
      " [ 1.9 72. ]\n",
      " [ 3.4 77. ]\n",
      " [ 2.6 73. ]\n",
      " [ 2.6 73. ]\n",
      " [ 4.2 80. ]\n",
      " [ 3.7 81. ]\n",
      " [ 4.9 85. ]\n",
      " [ 3.2 74. ]]\n",
      "x= [2.2 4.1 5.5 1.9 3.4 2.6 2.6 4.2 3.7 4.9 3.2]\n",
      "y= [71. 81. 86. 72. 77. 73. 73. 80. 81. 85. 74.]\n"
     ]
    },
    {
     "data": {
      "image/png": "[encoded data removed]",
      "text/plain": [
       "<Figure size 432x288 with 1 Axes>"
      ]
     },
     "metadata": {
      "needs_background": "light"
     },
     "output_type": "display_data"
    }
   ],
   "source": [
    "data = np.loadtxt(\"https://raw.githubusercontent.com/namoshi/ml_intro/master/syuritu.dat\", comments=\"#\")\n",
    "\n",
    "print('data=', data)\n",
    "\n",
    "x = data[:,0]\n",
    "\n",
    "y = data[:,1]\n",
    "\n",
    "print('x=', x)\n",
    "print('y=', y)\n",
    "\n",
    "plt.plot(x,y,'.')\n",
    "plt.show()"
   ]
  },
  {
   "cell_type": "markdown",
   "metadata": {
    "colab_type": "text",
    "id": "qXwewObxMPwT"
   },
   "source": [
    "単回帰分析"
   ]
  },
  {
   "cell_type": "code",
   "execution_count": 16,
   "metadata": {
    "colab": {
     "base_uri": "https://localhost:8080/",
     "height": 475
    },
    "colab_type": "code",
    "id": "S7J_rEQwMPwU",
    "outputId": "38fe8ce0-7686-420c-ac6e-ac76fa5527ba"
   },
   "outputs": [
    {
     "name": "stdout",
     "output_type": "stream",
     "text": [
      "X\n",
      " [[2.2]\n",
      " [4.1]\n",
      " [5.5]\n",
      " [1.9]\n",
      " [3.4]\n",
      " [2.6]\n",
      " [2.6]\n",
      " [4.2]\n",
      " [3.7]\n",
      " [4.9]\n",
      " [3.2]]\n",
      "y\n",
      " [71. 81. 86. 72. 77. 73. 73. 80. 81. 85. 74.]\n",
      "predicted y\n",
      " [71.69371542 80.36756987 86.75883104 70.32415946 77.17193928 73.51979004\n",
      " 73.51979004 80.82408852 78.54149525 84.01971911 76.25890197]\n",
      "predicted errors\n",
      " [-0.69371542  0.63243013 -0.75883104  1.67584054 -0.17193928 -0.51979004\n",
      " -0.51979004 -0.82408852  2.45850475  0.98028089 -2.25890197]\n",
      "\n",
      "===== Model ====\n",
      "coef= [4.56518655] intercept= 61.65030500780252\n",
      "R^2= 0.9381079388270429\n"
     ]
    }
   ],
   "source": [
    "X = []\n",
    "for i in range(len(x)):\n",
    "    X.append([x[i]])\n",
    "X = np.array(X)\n",
    "print('X\\n',X)\n",
    "print('y\\n',y)\n",
    "\n",
    "# Create linear regression object\n",
    "regr = linear_model.LinearRegression()\n",
    "\n",
    "regr.fit(X, y)\n",
    "\n",
    "# predictions\n",
    "y_pred = regr.predict(X)\n",
    "print('predicted y\\n', y_pred)\n",
    "print('predicted errors\\n', y - y_pred)\n",
    "\n",
    "\n",
    "print('\\n===== Model ====')\n",
    "# Coeff\n",
    "print('coef=',regr.coef_, 'intercept=', regr.intercept_)\n",
    "\n",
    "# R^2\n",
    "print('R^2=', regr.score(X, y))"
   ]
  },
  {
   "cell_type": "markdown",
   "metadata": {
    "colab_type": "text",
    "id": "4xmtW_apMPwZ"
   },
   "source": [
    "回帰直線の表示"
   ]
  },
  {
   "cell_type": "code",
   "execution_count": 17,
   "metadata": {
    "colab": {},
    "colab_type": "code",
    "id": "3smDSG5-MPwZ",
    "outputId": "7a7368e2-8307-4df7-be6f-4ee8e46e9c7d"
   },
   "outputs": [
    {
     "data": {
      "image/png": "[encoded data removed]",
      "text/plain": [
       "<Figure size 432x288 with 1 Axes>"
      ]
     },
     "metadata": {
      "needs_background": "light"
     },
     "output_type": "display_data"
    }
   ],
   "source": [
    "plt.plot(x,y,'.')\n",
    "max_x = np.max(x)\n",
    "min_x = np.min(x)\n",
    "\n",
    "# model\n",
    "#beta = regr.coef_\n",
    "#print('Coeffs=', beta)\n",
    "xx = np.linspace(min_x, max_x, 100)\n",
    "XX = []\n",
    "for i in range(len(xx)):\n",
    "    XX.append([xx[i]])\n",
    "XX = np.array(XX)\n",
    "yy = regr.predict(XX)\n",
    "plt.plot(xx, yy)\n",
    "plt.title('Linear Regression (Syuritu)')\n",
    "plt.savefig(\"linreg_syuritu.eps\")\n",
    "plt.show()"
   ]
  },
  {
   "cell_type": "markdown",
   "metadata": {
    "colab_type": "text",
    "id": "3O2EMshvMPwe"
   },
   "source": [
    "## 重回帰分析\n",
    "\n",
    "マンションの広さと築年数から価格（千万円）を推定するためのモデルを重回帰分析を用いて構築"
   ]
  },
  {
   "cell_type": "markdown",
   "metadata": {
    "colab_type": "text",
    "id": "Fj3dOiMCMPwf"
   },
   "source": [
    "マンションデータの読み込み"
   ]
  },
  {
   "cell_type": "code",
   "execution_count": 5,
   "metadata": {
    "colab": {
     "base_uri": "https://localhost:8080/",
     "height": 456
    },
    "colab_type": "code",
    "id": "ZTCKyuEYMPwg",
    "outputId": "3a04f3d4-904b-4393-991a-6a45143f1803"
   },
   "outputs": [
    {
     "name": "stdout",
     "output_type": "stream",
     "text": [
      "data= [[51.  16.   3. ]\n",
      " [38.   4.   3.2]\n",
      " [57.  16.   3.3]\n",
      " [51.  11.   3.9]\n",
      " [53.   4.   4.4]\n",
      " [77.  22.   4.5]\n",
      " [63.   5.   4.5]\n",
      " [69.   5.   5.4]\n",
      " [72.   2.   5.4]\n",
      " [73.   1.   6. ]]\n",
      "x\n",
      " [[51. 16.]\n",
      " [38.  4.]\n",
      " [57. 16.]\n",
      " [51. 11.]\n",
      " [53.  4.]\n",
      " [77. 22.]\n",
      " [63.  5.]\n",
      " [69.  5.]\n",
      " [72.  2.]\n",
      " [73.  1.]]\n",
      "y\n",
      " [3.  3.2 3.3 3.9 4.4 4.5 4.5 5.4 5.4 6. ]\n"
     ]
    }
   ],
   "source": [
    "data = np.loadtxt(\"https://raw.githubusercontent.com/namoshi/ml_intro/master/condo.dat\", comments=\"#\")\n",
    "\n",
    "print('data=', data)\n",
    "\n",
    "x = data[:,:2]\n",
    "\n",
    "y = data[:,2]\n",
    "\n",
    "print('x\\n', x)\n",
    "print('y\\n', y)"
   ]
  },
  {
   "cell_type": "markdown",
   "metadata": {
    "colab_type": "text",
    "id": "BRe5CMYVMPwm"
   },
   "source": [
    "重回帰分析"
   ]
  },
  {
   "cell_type": "code",
   "execution_count": 6,
   "metadata": {
    "colab": {
     "base_uri": "https://localhost:8080/",
     "height": 265
    },
    "colab_type": "code",
    "id": "OKvQ2125MPwn",
    "outputId": "f1af9fcf-7aa2-4e2b-a5ef-284b96bdb8c8"
   },
   "outputs": [
    {
     "name": "stdout",
     "output_type": "stream",
     "text": [
      "y\n",
      " [3.  3.2 3.3 3.9 4.4 4.5 4.5 5.4 5.4 6. ]\n",
      "predicted price\n",
      " [3.13389369 3.23539093 3.53472229 3.53804336 4.23746242 4.38583801\n",
      " 4.82468015 5.22550875 5.66841285 5.81604755]\n",
      "prediction errors\n",
      " [-0.13389369 -0.03539093 -0.23472229  0.36195664  0.16253758  0.11416199\n",
      " -0.32468015  0.17449125 -0.26841285  0.18395245]\n",
      "\n",
      "===== Model ====\n",
      "coef= [ 0.06680477 -0.08082993]\n",
      "intercept= 1.0201295472033305\n",
      "R^2= 0.9483778666529434\n"
     ]
    }
   ],
   "source": [
    "# Create linear regression object\n",
    "regr = linear_model.LinearRegression()\n",
    "\n",
    "# Train the model using the training sets\n",
    "regr.fit(x, y)\n",
    "\n",
    "print('y\\n', y)\n",
    "# predictions\n",
    "y_pred = regr.predict(x)\n",
    "print('predicted price\\n', y_pred)\n",
    "print('prediction errors\\n', y - y_pred)\n",
    "\n",
    "print('\\n===== Model ====')\n",
    "#\n",
    "# Coeff\n",
    "print('coef=',regr.coef_)\n",
    "print('intercept=', regr.intercept_)\n",
    "\n",
    "# R^2\n",
    "print('R^2=', regr.score(x, y))"
   ]
  },
  {
   "cell_type": "markdown",
   "metadata": {
    "colab_type": "text",
    "id": "RvWfUpOdMPws"
   },
   "source": [
    "## ボール投げのデータの重回帰分析\n",
    "\n",
    "握力，体重，身長からボール投げの記録を推定するモデルを重回帰分析を用いて構築\n"
   ]
  },
  {
   "cell_type": "markdown",
   "metadata": {
    "colab_type": "text",
    "id": "XXWZNJ7GMPwt"
   },
   "source": [
    "データの読み込み"
   ]
  },
  {
   "cell_type": "code",
   "execution_count": 7,
   "metadata": {
    "colab": {
     "base_uri": "https://localhost:8080/",
     "height": 666
    },
    "colab_type": "code",
    "id": "xLHCm3LcMPwu",
    "outputId": "4a72978f-9ee5-471f-ffb4-c9e35dc7bc49"
   },
   "outputs": [
    {
     "name": "stdout",
     "output_type": "stream",
     "text": [
      "data\n",
      " [[ 22.  28. 146.  34.]\n",
      " [ 36.  46. 169.  57.]\n",
      " [ 24.  39. 160.  48.]\n",
      " [ 22.  25. 156.  38.]\n",
      " [ 27.  34. 161.  47.]\n",
      " [ 29.  29. 168.  50.]\n",
      " [ 26.  38. 154.  54.]\n",
      " [ 23.  23. 153.  40.]\n",
      " [ 31.  42. 160.  62.]\n",
      " [ 24.  27. 152.  39.]\n",
      " [ 23.  35. 155.  46.]\n",
      " [ 27.  39. 154.  54.]\n",
      " [ 31.  38. 157.  57.]\n",
      " [ 25.  32. 162.  53.]\n",
      " [ 23.  25. 142.  32.]]\n",
      "x\n",
      " [[ 28. 146.  34.]\n",
      " [ 46. 169.  57.]\n",
      " [ 39. 160.  48.]\n",
      " [ 25. 156.  38.]\n",
      " [ 34. 161.  47.]\n",
      " [ 29. 168.  50.]\n",
      " [ 38. 154.  54.]\n",
      " [ 23. 153.  40.]\n",
      " [ 42. 160.  62.]\n",
      " [ 27. 152.  39.]\n",
      " [ 35. 155.  46.]\n",
      " [ 39. 154.  54.]\n",
      " [ 38. 157.  57.]\n",
      " [ 32. 162.  53.]\n",
      " [ 25. 142.  32.]]\n",
      "y\n",
      " [22. 36. 24. 22. 27. 29. 26. 23. 31. 24. 23. 27. 31. 25. 23.]\n"
     ]
    }
   ],
   "source": [
    "data = np.loadtxt(\"https://raw.githubusercontent.com/namoshi/ml_intro/master/ball.dat\", comments=\"#\")\n",
    "\n",
    "print('data\\n', data)\n",
    "\n",
    "x = data[:,1:]\n",
    "\n",
    "y = data[:,0]\n",
    "\n",
    "print('x\\n', x)\n",
    "print('y\\n', y)"
   ]
  },
  {
   "cell_type": "markdown",
   "metadata": {
    "colab_type": "text",
    "id": "AFyLzQdXMPwy"
   },
   "source": [
    "重回帰分析"
   ]
  },
  {
   "cell_type": "code",
   "execution_count": 8,
   "metadata": {
    "colab": {
     "base_uri": "https://localhost:8080/",
     "height": 304
    },
    "colab_type": "code",
    "id": "K5evLi6BMPwz",
    "outputId": "bc9b67df-4901-42b3-cfc7-b32dc0ffbefc"
   },
   "outputs": [
    {
     "name": "stdout",
     "output_type": "stream",
     "text": [
      "y\n",
      " [22. 36. 24. 22. 27. 29. 26. 23. 31. 24. 23. 27. 31. 25. 23.]\n",
      "predicted y\n",
      " [21.63889629 32.07092924 27.9975849  23.24478244 27.03678226 27.60189815\n",
      " 27.51971724 22.5788405  30.35091442 23.0883807  26.08706895 27.72109413\n",
      " 28.40761928 27.55470971 20.10078179]\n",
      "errors\n",
      " [ 0.36110371  3.92907076 -3.9975849  -1.24478244 -0.03678226  1.39810185\n",
      " -1.51971724  0.4211595   0.64908558  0.9116193  -3.08706895 -0.72109413\n",
      "  2.59238072 -2.55470971  2.89921821]\n",
      "\n",
      "===== Model ====\n",
      "coef= [0.20137689 0.17102457 0.12494278]\n",
      "intercept= -13.217298316378471\n",
      "R^2= 0.6913489585945566\n"
     ]
    }
   ],
   "source": [
    "# Create linear regression object\n",
    "regr = linear_model.LinearRegression()\n",
    "\n",
    "# Train the model using the training sets\n",
    "regr.fit(x, y)\n",
    "\n",
    "print('y\\n', y)\n",
    "# predictions\n",
    "y_pred = regr.predict(x)\n",
    "print('predicted y\\n', y_pred)\n",
    "print('errors\\n', y - y_pred)\n",
    "\n",
    "print('\\n===== Model ====')\n",
    "#\n",
    "# Coeff\n",
    "print('coef=',regr.coef_)\n",
    "print('intercept=', regr.intercept_)\n",
    "\n",
    "# R^2\n",
    "print('R^2=', regr.score(x, y))"
   ]
  },
  {
   "cell_type": "markdown",
   "metadata": {
    "colab_type": "text",
    "id": "AC_7mbyqMPw3"
   },
   "source": [
    "## 多項式回帰\n",
    "\n",
    "サイン関数にノイズを付加したデータに対する多項式回帰の当てはめ"
   ]
  },
  {
   "cell_type": "markdown",
   "metadata": {
    "colab_type": "text",
    "id": "XehGkfOdMPw3"
   },
   "source": [
    "サイン関数にノイズを付加したデータの生成"
   ]
  },
  {
   "cell_type": "code",
   "execution_count": 9,
   "metadata": {
    "colab": {
     "base_uri": "https://localhost:8080/",
     "height": 265
    },
    "colab_type": "code",
    "id": "ld9JcXs2MPw4",
    "outputId": "550aeb77-bdac-40a4-c42e-876c570a84f9"
   },
   "outputs": [
    {
     "data": {
      "image/png": "[encoded data removed]",
      "text/plain": [
       "<Figure size 432x288 with 1 Axes>"
      ]
     },
     "metadata": {
      "needs_background": "light"
     },
     "output_type": "display_data"
    }
   ],
   "source": [
    "%matplotlib inline\n",
    "import math\n",
    "nsample = 20\n",
    "err = np.random.normal(size=nsample)/3.0\n",
    "x = np.linspace(0.0, 1.0, nsample)\n",
    "y = np.sin(2*math.pi*x) + err\n",
    "\n",
    "# plot samples\n",
    "plt.plot(x,y,'.')\n",
    "\n",
    "# plot graph of sin(x)\n",
    "xx = np.linspace(0.0, 1.0, 200)\n",
    "plt.plot(xx,np.sin(2*math.pi*xx))\n",
    "plt.show()\n"
   ]
  },
  {
   "cell_type": "markdown",
   "metadata": {
    "colab_type": "text",
    "id": "BcrhcI8dMPw8"
   },
   "source": [
    "多項式回帰（３次）"
   ]
  },
  {
   "cell_type": "code",
   "execution_count": 10,
   "metadata": {
    "colab": {
     "base_uri": "https://localhost:8080/",
     "height": 514
    },
    "colab_type": "code",
    "id": "kN6tNAptMPw9",
    "outputId": "9cd1ab0b-5e37-4fe9-f9f5-0195635f4dc4"
   },
   "outputs": [
    {
     "name": "stdout",
     "output_type": "stream",
     "text": [
      "X [[0.00000000e+00 0.00000000e+00 0.00000000e+00]\n",
      " [5.26315789e-02 2.77008310e-03 1.45793847e-04]\n",
      " [1.05263158e-01 1.10803324e-02 1.16635078e-03]\n",
      " [1.57894737e-01 2.49307479e-02 3.93643388e-03]\n",
      " [2.10526316e-01 4.43213296e-02 9.33080624e-03]\n",
      " [2.63157895e-01 6.92520776e-02 1.82242309e-02]\n",
      " [3.15789474e-01 9.97229917e-02 3.14914711e-02]\n",
      " [3.68421053e-01 1.35734072e-01 5.00072897e-02]\n",
      " [4.21052632e-01 1.77285319e-01 7.46464499e-02]\n",
      " [4.73684211e-01 2.24376731e-01 1.06283715e-01]\n",
      " [5.26315789e-01 2.77008310e-01 1.45793847e-01]\n",
      " [5.78947368e-01 3.35180055e-01 1.94051611e-01]\n",
      " [6.31578947e-01 3.98891967e-01 2.51931768e-01]\n",
      " [6.84210526e-01 4.68144044e-01 3.20309083e-01]\n",
      " [7.36842105e-01 5.42936288e-01 4.00058318e-01]\n",
      " [7.89473684e-01 6.23268698e-01 4.92054235e-01]\n",
      " [8.42105263e-01 7.09141274e-01 5.97171599e-01]\n",
      " [8.94736842e-01 8.00554017e-01 7.16285173e-01]\n",
      " [9.47368421e-01 8.97506925e-01 8.50269719e-01]\n",
      " [1.00000000e+00 1.00000000e+00 1.00000000e+00]]\n",
      "[ 0.02805186  0.51248019  0.83934959  1.02684282  1.09314264  1.0564318\n",
      "  0.93489307  0.74670919  0.51006292  0.24313703 -0.03588574 -0.30882262\n",
      " -0.55749086 -0.76370771 -0.9092904  -0.97605619 -0.94582231 -0.800406\n",
      " -0.52162452 -0.09129511]\n",
      "coef= [ 10.81610542 -31.7213735   20.78592112]\n",
      "intercept= 0.028051861218780463\n"
     ]
    }
   ],
   "source": [
    "X = np.column_stack((x, x**2, x**3))\n",
    "print('X', X)\n",
    "\n",
    "# Create linear regression object\n",
    "regr = linear_model.LinearRegression()\n",
    "\n",
    "# Train the model using the training sets\n",
    "regr.fit(X, y)\n",
    "\n",
    "# predictions\n",
    "y_pred = regr.predict(X)\n",
    "print(y_pred)\n",
    "\n",
    "#\n",
    "# Coeff\n",
    "print('coef=',regr.coef_)\n",
    "print('intercept=', regr.intercept_)"
   ]
  },
  {
   "cell_type": "markdown",
   "metadata": {
    "colab_type": "text",
    "id": "V9ZKGQnXMPxA"
   },
   "source": [
    "結果の表示"
   ]
  },
  {
   "cell_type": "code",
   "execution_count": 11,
   "metadata": {
    "colab": {
     "base_uri": "https://localhost:8080/",
     "height": 265
    },
    "colab_type": "code",
    "id": "oXQrCAU2MPxB",
    "outputId": "ed70acaa-d486-4285-bbd0-4da3a8baf9b7"
   },
   "outputs": [
    {
     "data": {
      "image/png": "[encoded data removed]",
      "text/plain": [
       "<Figure size 432x288 with 1 Axes>"
      ]
     },
     "metadata": {
      "needs_background": "light"
     },
     "output_type": "display_data"
    }
   ],
   "source": [
    "# plot samples\n",
    "plt.plot(x,y,'.')\n",
    "\n",
    "# plot graph of sin(x)\n",
    "xx = np.linspace(0.0, 1.0, 200)\n",
    "plt.plot(xx,np.sin(2*math.pi*xx))\n",
    "\n",
    "XX = np.column_stack((xx, xx**2, xx**3))\n",
    "yy = regr.predict(XX)\n",
    "plt.plot(xx, yy)\n",
    "plt.title('Polynomial Regression (Sin)')\n",
    "plt.savefig(\"polyreg_sin_qubic.eps\")\n",
    "plt.show()\n"
   ]
  },
  {
   "cell_type": "code",
   "execution_count": null,
   "metadata": {
    "colab": {},
    "colab_type": "code",
    "id": "_18Y4hj9MPxF"
   },
   "outputs": [],
   "source": []
  }
 ],
 "metadata": {
  "colab": {
   "include_colab_link": true,
   "name": "Regression-sklearn.ipynb",
   "provenance": []
  },
  "kernelspec": {
   "display_name": "Python 3",
   "language": "python",
   "name": "python3"
  },
  "language_info": {
   "codemirror_mode": {
    "name": "ipython",
    "version": 3
   },
   "file_extension": ".py",
   "mimetype": "text/x-python",
   "name": "python",
   "nbconvert_exporter": "python",
   "pygments_lexer": "ipython3",
   "version": "3.8.5"
  }
 },
 "nbformat": 4,
 "nbformat_minor": 4
}
