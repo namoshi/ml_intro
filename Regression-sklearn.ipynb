{
  "cells": [
    {
      "cell_type": "markdown",
      "metadata": {
        "id": "view-in-github",
        "colab_type": "text"
      },
      "source": [
        "<a href=\"https://colab.research.google.com/github/namoshi/ml_intro/blob/master/Regression-sklearn.ipynb\" target=\"_parent\"><img src=\"https://colab.research.google.com/assets/colab-badge.svg\" alt=\"Open In Colab\"/></a>"
      ]
    },
    {
      "cell_type": "markdown",
      "metadata": {
        "id": "TxT6w_xwMPwG"
      },
      "source": [
        "# scikit-learnを利用した線形回帰\n"
      ]
    },
    {
      "cell_type": "code",
      "execution_count": null,
      "metadata": {
        "id": "NTRc7roFMPwI"
      },
      "outputs": [],
      "source": [
        "import numpy as np\n",
        "import matplotlib.pyplot as plt\n",
        "from sklearn import datasets, linear_model\n",
        "from sklearn.metrics import mean_squared_error, r2_score\n",
        "\n",
        "%matplotlib inline\n",
        "\n",
        "np.random.seed(9876789)"
      ]
    },
    {
      "cell_type": "markdown",
      "metadata": {
        "id": "TTx-nP8hMPwN"
      },
      "source": [
        "収率データの読み込みとプロット"
      ]
    },
    {
      "cell_type": "code",
      "execution_count": null,
      "metadata": {
        "id": "8oEYs28vMPwO"
      },
      "outputs": [],
      "source": [
        "data = np.loadtxt(\"https://raw.githubusercontent.com/namoshi/ml_intro/master/syuritu.dat\", comments=\"#\")\n",
        "\n",
        "print('data=', data)\n",
        "\n",
        "x = data[:,0]\n",
        "\n",
        "y = data[:,1]\n",
        "\n",
        "print('x=', x)\n",
        "print('y=', y)\n",
        "\n",
        "plt.plot(x,y,'.')\n",
        "plt.show()"
      ]
    },
    {
      "cell_type": "markdown",
      "metadata": {
        "id": "qXwewObxMPwT"
      },
      "source": [
        "単回帰分析"
      ]
    },
    {
      "cell_type": "code",
      "execution_count": null,
      "metadata": {
        "id": "S7J_rEQwMPwU"
      },
      "outputs": [],
      "source": [
        "X = []\n",
        "for i in range(len(x)):\n",
        "    X.append([x[i]])\n",
        "X = np.array(X)\n",
        "print('X\\n',X)\n",
        "print('y\\n',y)\n",
        "\n",
        "# Create linear regression object\n",
        "regr = linear_model.LinearRegression()\n",
        "\n",
        "regr.fit(X, y)\n",
        "\n",
        "# predictions\n",
        "y_pred = regr.predict(X)\n",
        "print('predicted y\\n', y_pred)\n",
        "print('predicted errors\\n', y - y_pred)\n",
        "\n",
        "\n",
        "print('\\n===== Model ====')\n",
        "# Coeff\n",
        "print('coef=',regr.coef_, 'intercept=', regr.intercept_)\n",
        "\n",
        "# R^2\n",
        "print('R^2=', regr.score(X, y))"
      ]
    },
    {
      "cell_type": "markdown",
      "metadata": {
        "id": "4xmtW_apMPwZ"
      },
      "source": [
        "回帰直線の表示"
      ]
    },
    {
      "cell_type": "code",
      "execution_count": null,
      "metadata": {
        "id": "3smDSG5-MPwZ"
      },
      "outputs": [],
      "source": [
        "plt.plot(x,y,'.')\n",
        "max_x = np.max(x)\n",
        "min_x = np.min(x)\n",
        "\n",
        "# model\n",
        "#beta = regr.coef_\n",
        "#print('Coeffs=', beta)\n",
        "xx = np.linspace(min_x, max_x, 100)\n",
        "XX = []\n",
        "for i in range(len(xx)):\n",
        "    XX.append([xx[i]])\n",
        "XX = np.array(XX)\n",
        "yy = regr.predict(XX)\n",
        "plt.plot(xx, yy)\n",
        "plt.title('Linear Regression (Syuritu)')\n",
        "plt.savefig(\"linreg_syuritu.eps\")\n",
        "plt.show()"
      ]
    },
    {
      "cell_type": "markdown",
      "metadata": {
        "id": "3O2EMshvMPwe"
      },
      "source": [
        "## 重回帰分析\n",
        "\n",
        "マンションの広さと築年数から価格（千万円）を推定するためのモデルを重回帰分析を用いて構築"
      ]
    },
    {
      "cell_type": "markdown",
      "metadata": {
        "id": "Fj3dOiMCMPwf"
      },
      "source": [
        "マンションデータの読み込み"
      ]
    },
    {
      "cell_type": "code",
      "source": [
        "import numpy as np\n",
        "import matplotlib.pyplot as plt\n",
        "from sklearn import datasets, linear_model\n",
        "from sklearn.metrics import mean_squared_error, r2_score"
      ],
      "metadata": {
        "id": "niUkumOsT0K-"
      },
      "execution_count": null,
      "outputs": []
    },
    {
      "cell_type": "code",
      "execution_count": null,
      "metadata": {
        "id": "ZTCKyuEYMPwg"
      },
      "outputs": [],
      "source": [
        "data = np.loadtxt(\"https://raw.githubusercontent.com/namoshi/ml_intro/master/condo.dat\", comments=\"#\")\n",
        "\n",
        "print('data=', data)\n",
        "\n",
        "x = data[:,:2]\n",
        "\n",
        "y = data[:,2]\n",
        "\n",
        "print('x\\n', x)\n",
        "print('y\\n', y)"
      ]
    },
    {
      "cell_type": "markdown",
      "metadata": {
        "id": "BRe5CMYVMPwm"
      },
      "source": [
        "重回帰分析"
      ]
    },
    {
      "cell_type": "code",
      "execution_count": null,
      "metadata": {
        "id": "OKvQ2125MPwn"
      },
      "outputs": [],
      "source": [
        "# Create linear regression object\n",
        "regr = linear_model.LinearRegression()\n",
        "\n",
        "# Train the model using the training sets\n",
        "regr.fit(x, y)\n",
        "\n",
        "print('y\\n', y)\n",
        "# predictions\n",
        "y_pred = regr.predict(x)\n",
        "print('predicted price\\n', y_pred)\n",
        "print('prediction errors\\n', y - y_pred)\n",
        "\n",
        "print('\\n===== Model ====')\n",
        "#\n",
        "# Coeff\n",
        "print('coef=',regr.coef_)\n",
        "print('intercept=', regr.intercept_)\n",
        "\n",
        "# R^2\n",
        "print('R^2=', regr.score(x, y))"
      ]
    },
    {
      "cell_type": "markdown",
      "metadata": {
        "id": "RvWfUpOdMPws"
      },
      "source": [
        "## ボール投げのデータの重回帰分析\n",
        "\n",
        "握力，体重，身長からボール投げの記録を推定するモデルを重回帰分析を用いて構築\n"
      ]
    },
    {
      "cell_type": "markdown",
      "metadata": {
        "id": "XXWZNJ7GMPwt"
      },
      "source": [
        "データの読み込み"
      ]
    },
    {
      "cell_type": "code",
      "execution_count": null,
      "metadata": {
        "id": "xLHCm3LcMPwu"
      },
      "outputs": [],
      "source": [
        "data = np.loadtxt(\"https://raw.githubusercontent.com/namoshi/ml_intro/master/ball.dat\", comments=\"#\")\n",
        "\n",
        "print('data\\n', data)\n",
        "\n",
        "x = data[:,1:]\n",
        "\n",
        "y = data[:,0]\n",
        "\n",
        "print('x\\n', x)\n",
        "print('y\\n', y)"
      ]
    },
    {
      "cell_type": "markdown",
      "metadata": {
        "id": "AFyLzQdXMPwy"
      },
      "source": [
        "重回帰分析"
      ]
    },
    {
      "cell_type": "code",
      "execution_count": null,
      "metadata": {
        "id": "K5evLi6BMPwz"
      },
      "outputs": [],
      "source": [
        "# Create linear regression object\n",
        "regr = linear_model.LinearRegression()\n",
        "\n",
        "# Train the model using the training sets\n",
        "regr.fit(x, y)\n",
        "\n",
        "print('y\\n', y)\n",
        "# predictions\n",
        "y_pred = regr.predict(x)\n",
        "print('predicted y\\n', y_pred)\n",
        "print('errors\\n', y - y_pred)\n",
        "\n",
        "print('\\n===== Model ====')\n",
        "#\n",
        "# Coeff\n",
        "print('coef=',regr.coef_)\n",
        "print('intercept=', regr.intercept_)\n",
        "\n",
        "# R^2\n",
        "print('R^2=', regr.score(x, y))"
      ]
    },
    {
      "cell_type": "markdown",
      "metadata": {
        "id": "AC_7mbyqMPw3"
      },
      "source": [
        "## 多項式回帰\n",
        "\n",
        "サイン関数にノイズを付加したデータに対する多項式回帰の当てはめ"
      ]
    },
    {
      "cell_type": "markdown",
      "metadata": {
        "id": "XehGkfOdMPw3"
      },
      "source": [
        "サイン関数にノイズを付加したデータの生成"
      ]
    },
    {
      "cell_type": "code",
      "execution_count": 16,
      "metadata": {
        "colab": {
          "base_uri": "https://localhost:8080/",
          "height": 430
        },
        "id": "ld9JcXs2MPw4",
        "outputId": "33b3bc69-4f08-485a-c5c7-80ac0b97d426"
      },
      "outputs": [
        {
          "output_type": "display_data",
          "data": {
            "text/plain": [
              "<Figure size 640x480 with 1 Axes>"
            ],
            "image/png": "[encoded data removed]"
          },
          "metadata": {}
        }
      ],
      "source": [
        "%matplotlib inline\n",
        "import math\n",
        "nsample = 20\n",
        "err = np.random.normal(size=nsample)/3.0\n",
        "x = np.linspace(0.0, 1.0, nsample)\n",
        "y = np.sin(2*math.pi*x) + err\n",
        "\n",
        "# plot samples\n",
        "plt.plot(x,y,'.')\n",
        "\n",
        "# plot graph of sin(x)\n",
        "xx = np.linspace(0.0, 1.0, 200)\n",
        "plt.plot(xx,np.sin(2*math.pi*xx), label=\"Sin\")\n",
        "plt.legend()\n",
        "plt.show()\n"
      ]
    },
    {
      "cell_type": "markdown",
      "metadata": {
        "id": "BcrhcI8dMPw8"
      },
      "source": [
        "多項式回帰（３次）"
      ]
    },
    {
      "cell_type": "code",
      "execution_count": 17,
      "metadata": {
        "colab": {
          "base_uri": "https://localhost:8080/"
        },
        "id": "kN6tNAptMPw9",
        "outputId": "bc68eb3b-b9e5-41b1-a415-c2061175a58f"
      },
      "outputs": [
        {
          "output_type": "stream",
          "name": "stdout",
          "text": [
            "X [[0.00000000e+00 0.00000000e+00 0.00000000e+00]\n",
            " [5.26315789e-02 2.77008310e-03 1.45793847e-04]\n",
            " [1.05263158e-01 1.10803324e-02 1.16635078e-03]\n",
            " [1.57894737e-01 2.49307479e-02 3.93643388e-03]\n",
            " [2.10526316e-01 4.43213296e-02 9.33080624e-03]\n",
            " [2.63157895e-01 6.92520776e-02 1.82242309e-02]\n",
            " [3.15789474e-01 9.97229917e-02 3.14914711e-02]\n",
            " [3.68421053e-01 1.35734072e-01 5.00072897e-02]\n",
            " [4.21052632e-01 1.77285319e-01 7.46464499e-02]\n",
            " [4.73684211e-01 2.24376731e-01 1.06283715e-01]\n",
            " [5.26315789e-01 2.77008310e-01 1.45793847e-01]\n",
            " [5.78947368e-01 3.35180055e-01 1.94051611e-01]\n",
            " [6.31578947e-01 3.98891967e-01 2.51931768e-01]\n",
            " [6.84210526e-01 4.68144044e-01 3.20309083e-01]\n",
            " [7.36842105e-01 5.42936288e-01 4.00058318e-01]\n",
            " [7.89473684e-01 6.23268698e-01 4.92054235e-01]\n",
            " [8.42105263e-01 7.09141274e-01 5.97171599e-01]\n",
            " [8.94736842e-01 8.00554017e-01 7.16285173e-01]\n",
            " [9.47368421e-01 8.97506925e-01 8.50269719e-01]\n",
            " [1.00000000e+00 1.00000000e+00 1.00000000e+00]]\n",
            "[-0.10737113  0.41201976  0.76566444  0.97260755  1.0518937   1.02256753\n",
            "  0.90367365  0.7142567   0.47336131  0.20003209 -0.08668633 -0.36774931\n",
            " -0.62411224 -0.83673049 -0.98655943 -1.05455443 -1.02167088 -0.86886413\n",
            " -0.57708958 -0.12730258]\n",
            "coef= [ 11.56363182 -33.35474503  21.77118176]\n",
            "intercept= -0.10737113421245972\n"
          ]
        }
      ],
      "source": [
        "X = np.column_stack((x, x**2, x**3))\n",
        "print('X', X)\n",
        "\n",
        "# Create linear regression object\n",
        "regr = linear_model.LinearRegression()\n",
        "\n",
        "# Train the model using the training sets\n",
        "regr.fit(X, y)\n",
        "\n",
        "# predictions\n",
        "y_pred = regr.predict(X)\n",
        "print(y_pred)\n",
        "\n",
        "#\n",
        "# Coeff\n",
        "print('coef=',regr.coef_)\n",
        "print('intercept=', regr.intercept_)"
      ]
    },
    {
      "cell_type": "markdown",
      "metadata": {
        "id": "V9ZKGQnXMPxA"
      },
      "source": [
        "結果の表示"
      ]
    },
    {
      "cell_type": "code",
      "execution_count": 18,
      "metadata": {
        "colab": {
          "base_uri": "https://localhost:8080/",
          "height": 469
        },
        "id": "oXQrCAU2MPxB",
        "outputId": "7efeebe0-ab5b-4a2c-cc8a-cfd4c9d5b0b0"
      },
      "outputs": [
        {
          "output_type": "stream",
          "name": "stderr",
          "text": [
            "WARNING:matplotlib.backends.backend_ps:The PostScript backend does not support transparency; partially transparent artists will be rendered opaque.\n"
          ]
        },
        {
          "output_type": "display_data",
          "data": {
            "text/plain": [
              "<Figure size 640x480 with 1 Axes>"
            ],
            "image/png": "[encoded data removed]"
          },
          "metadata": {}
        }
      ],
      "source": [
        "# plot samples\n",
        "plt.plot(x,y,'.')\n",
        "\n",
        "# plot graph of sin(x)\n",
        "xx = np.linspace(0.0, 1.0, 200)\n",
        "plt.plot(xx,np.sin(2*math.pi*xx), label=\"Sin\")\n",
        "\n",
        "XX = np.column_stack((xx, xx**2, xx**3))\n",
        "yy = regr.predict(XX)\n",
        "plt.plot(xx, yy, label=\"Estimated\")\n",
        "plt.legend()\n",
        "plt.title('Polynomial Regression (Sin)')\n",
        "plt.savefig(\"polyreg_sin_qubic.eps\")\n",
        "plt.show()\n"
      ]
    },
    {
      "cell_type": "code",
      "execution_count": null,
      "metadata": {
        "id": "_18Y4hj9MPxF"
      },
      "outputs": [],
      "source": []
    }
  ],
  "metadata": {
    "colab": {
      "name": "Regression-sklearn.ipynb",
      "provenance": [],
      "include_colab_link": true
    },
    "kernelspec": {
      "display_name": "Python 3",
      "language": "python",
      "name": "python3"
    },
    "language_info": {
      "codemirror_mode": {
        "name": "ipython",
        "version": 3
      },
      "file_extension": ".py",
      "mimetype": "text/x-python",
      "name": "python",
      "nbconvert_exporter": "python",
      "pygments_lexer": "ipython3",
      "version": "3.8.5"
    }
  },
  "nbformat": 4,
  "nbformat_minor": 0
}