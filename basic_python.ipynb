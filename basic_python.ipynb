{
  "nbformat": 4,
  "nbformat_minor": 0,
  "metadata": {
    "kernelspec": {
      "name": "python3",
      "display_name": "Python 3",
      "language": "python"
    },
    "language_info": {
      "mimetype": "text/x-python",
      "nbconvert_exporter": "python",
      "name": "python",
      "pygments_lexer": "ipython3",
      "version": "3.5.4",
      "file_extension": ".py",
      "codemirror_mode": {
        "version": 3,
        "name": "ipython"
      }
    },
    "colab": {
      "name": "basic_python.ipynb",
      "provenance": [],
      "include_colab_link": true
    }
  },
  "cells": [
    {
      "cell_type": "markdown",
      "metadata": {
        "id": "view-in-github",
        "colab_type": "text"
      },
      "source": [
        "<a href=\"https://colab.research.google.com/github/namoshi/ml_intro/blob/master/basic_python.ipynb\" target=\"_parent\"><img src=\"https://colab.research.google.com/assets/colab-badge.svg\" alt=\"Open In Colab\"/></a>"
      ]
    },
    {
      "cell_type": "markdown",
      "metadata": {
        "id": "m3spaqxdJnuv",
        "colab_type": "text"
      },
      "source": [
        "Simple Calculation"
      ]
    },
    {
      "cell_type": "code",
      "metadata": {
        "trusted": true,
        "id": "f9DL-41dJnuz",
        "colab_type": "code",
        "colab": {
          "base_uri": "https://localhost:8080/",
          "height": 35
        },
        "outputId": "ce4fff0a-778b-4fab-8f93-b90428c5999c"
      },
      "source": [
        "1+2*3-4/5"
      ],
      "execution_count": null,
      "outputs": [
        {
          "output_type": "execute_result",
          "data": {
            "text/plain": [
              "6.2"
            ]
          },
          "metadata": {
            "tags": []
          },
          "execution_count": 8
        }
      ]
    },
    {
      "cell_type": "code",
      "metadata": {
        "trusted": true,
        "id": "sPr06IbvJnu7",
        "colab_type": "code",
        "colab": {},
        "outputId": "ec2d35b2-7295-4b44-cea7-22b611b9adba"
      },
      "source": [
        "(1+2+3+4+5+6+7+8+9+10)/5"
      ],
      "execution_count": null,
      "outputs": [
        {
          "output_type": "execute_result",
          "data": {
            "text/plain": [
              "11.0"
            ]
          },
          "metadata": {
            "tags": []
          },
          "execution_count": 36
        }
      ]
    },
    {
      "cell_type": "markdown",
      "metadata": {
        "id": "uIahR_G2JnvA",
        "colab_type": "text"
      },
      "source": [
        "power"
      ]
    },
    {
      "cell_type": "code",
      "metadata": {
        "trusted": true,
        "id": "LvACeItzJnvC",
        "colab_type": "code",
        "colab": {
          "base_uri": "https://localhost:8080/",
          "height": 36
        },
        "outputId": "b98e350b-7470-4bfe-cb80-f04f8916141c"
      },
      "source": [
        "2**10"
      ],
      "execution_count": 1,
      "outputs": [
        {
          "output_type": "execute_result",
          "data": {
            "text/plain": [
              "1024"
            ]
          },
          "metadata": {
            "tags": []
          },
          "execution_count": 1
        }
      ]
    },
    {
      "cell_type": "markdown",
      "metadata": {
        "id": "3alEaEqPJnvG",
        "colab_type": "text"
      },
      "source": [
        "Variables"
      ]
    },
    {
      "cell_type": "code",
      "metadata": {
        "trusted": true,
        "id": "3OH6xRBfJnvH",
        "colab_type": "code",
        "colab": {
          "base_uri": "https://localhost:8080/",
          "height": 36
        },
        "outputId": "515da7de-5e3c-4195-feea-429b42b269bb"
      },
      "source": [
        "x = 1\n",
        "y = 1/3\n",
        "x + y"
      ],
      "execution_count": 2,
      "outputs": [
        {
          "output_type": "execute_result",
          "data": {
            "text/plain": [
              "1.3333333333333333"
            ]
          },
          "metadata": {
            "tags": []
          },
          "execution_count": 2
        }
      ]
    },
    {
      "cell_type": "code",
      "metadata": {
        "trusted": true,
        "id": "R6aaERr6JnvL",
        "colab_type": "code",
        "colab": {
          "base_uri": "https://localhost:8080/",
          "height": 36
        },
        "outputId": "79361248-ba6a-4387-aa18-5ba1eecbcaa4"
      },
      "source": [
        "My_Int = 1\n",
        "My_Real = 1/3\n",
        "My_Int + My_Real"
      ],
      "execution_count": 3,
      "outputs": [
        {
          "output_type": "execute_result",
          "data": {
            "text/plain": [
              "1.3333333333333333"
            ]
          },
          "metadata": {
            "tags": []
          },
          "execution_count": 3
        }
      ]
    },
    {
      "cell_type": "markdown",
      "metadata": {
        "id": "a5nze7-OJnvP",
        "colab_type": "text"
      },
      "source": [
        "Types of the variables"
      ]
    },
    {
      "cell_type": "code",
      "metadata": {
        "trusted": true,
        "id": "EAyvpkjZJnvQ",
        "colab_type": "code",
        "colab": {
          "base_uri": "https://localhost:8080/",
          "height": 36
        },
        "outputId": "2b47467c-7130-4fec-856f-5ac608a7049b"
      },
      "source": [
        "type(My_Int)"
      ],
      "execution_count": 4,
      "outputs": [
        {
          "output_type": "execute_result",
          "data": {
            "text/plain": [
              "int"
            ]
          },
          "metadata": {
            "tags": []
          },
          "execution_count": 4
        }
      ]
    },
    {
      "cell_type": "code",
      "metadata": {
        "trusted": true,
        "id": "2Wr1Be1jJnvU",
        "colab_type": "code",
        "colab": {
          "base_uri": "https://localhost:8080/",
          "height": 36
        },
        "outputId": "8a97623f-2cfe-406a-d0af-0aa949979b18"
      },
      "source": [
        "type(My_Real)"
      ],
      "execution_count": 5,
      "outputs": [
        {
          "output_type": "execute_result",
          "data": {
            "text/plain": [
              "float"
            ]
          },
          "metadata": {
            "tags": []
          },
          "execution_count": 5
        }
      ]
    },
    {
      "cell_type": "code",
      "metadata": {
        "trusted": true,
        "id": "cOxo_06XJnvZ",
        "colab_type": "code",
        "colab": {
          "base_uri": "https://localhost:8080/",
          "height": 36
        },
        "outputId": "00d8ec32-d6e9-4d24-e963-06cbfc72c573"
      },
      "source": [
        "type(1.0)"
      ],
      "execution_count": 6,
      "outputs": [
        {
          "output_type": "execute_result",
          "data": {
            "text/plain": [
              "float"
            ]
          },
          "metadata": {
            "tags": []
          },
          "execution_count": 6
        }
      ]
    },
    {
      "cell_type": "markdown",
      "metadata": {
        "id": "aUtXn2_KJnve",
        "colab_type": "text"
      },
      "source": [
        "Character Strings"
      ]
    },
    {
      "cell_type": "code",
      "metadata": {
        "trusted": true,
        "id": "3R6fplW1Jnvg",
        "colab_type": "code",
        "colab": {
          "base_uri": "https://localhost:8080/",
          "height": 36
        },
        "outputId": "6fcf2eb7-84f0-43fb-e883-5fbbcd3933e0"
      },
      "source": [
        "s = 'Machine Learning'\n",
        "type(s)"
      ],
      "execution_count": 9,
      "outputs": [
        {
          "output_type": "execute_result",
          "data": {
            "text/plain": [
              "str"
            ]
          },
          "metadata": {
            "tags": []
          },
          "execution_count": 9
        }
      ]
    },
    {
      "cell_type": "code",
      "metadata": {
        "trusted": true,
        "id": "3Ez6GszzJnvj",
        "colab_type": "code",
        "colab": {
          "base_uri": "https://localhost:8080/",
          "height": 36
        },
        "outputId": "d51e1f94-ce6a-45b7-f967-c6c54e68c7bf"
      },
      "source": [
        "t = ' is a set of tools for AI.'\n",
        "s + t"
      ],
      "execution_count": 8,
      "outputs": [
        {
          "output_type": "execute_result",
          "data": {
            "application/vnd.google.colaboratory.intrinsic+json": {
              "type": "string"
            },
            "text/plain": [
              "'Machine Learning is a set of tools for AI.'"
            ]
          },
          "metadata": {
            "tags": []
          },
          "execution_count": 8
        }
      ]
    },
    {
      "cell_type": "markdown",
      "metadata": {
        "id": "ENHykGeXJnvm",
        "colab_type": "text"
      },
      "source": [
        "print"
      ]
    },
    {
      "cell_type": "code",
      "metadata": {
        "trusted": true,
        "id": "DGmmiz8WJnvn",
        "colab_type": "code",
        "colab": {},
        "outputId": "a894d036-a1ba-42f5-a547-42bd88c45e56"
      },
      "source": [
        "x = 1 / 3\n",
        "print(x)\n",
        "y = 2 / 3\n",
        "print(y)"
      ],
      "execution_count": null,
      "outputs": [
        {
          "output_type": "stream",
          "text": [
            "0.3333333333333333\n",
            "0.6666666666666666\n"
          ],
          "name": "stdout"
        }
      ]
    },
    {
      "cell_type": "code",
      "metadata": {
        "trusted": true,
        "id": "k5Wm2943Jnvr",
        "colab_type": "code",
        "colab": {},
        "outputId": "2d6481e7-d2c2-41a3-e3e1-bff6d8f1d8df"
      },
      "source": [
        "print('weight = {0} kg'.format(x))"
      ],
      "execution_count": null,
      "outputs": [
        {
          "output_type": "stream",
          "text": [
            "weight = 0.3333333333333333 kg\n"
          ],
          "name": "stdout"
        }
      ]
    },
    {
      "cell_type": "code",
      "metadata": {
        "trusted": true,
        "id": "97D-eWFCJnvv",
        "colab_type": "code",
        "colab": {},
        "outputId": "670e4173-7753-4f18-ccd6-273ad677b93e"
      },
      "source": [
        "print('weight = {0} kg, {1} kg'.format(x, y))"
      ],
      "execution_count": null,
      "outputs": [
        {
          "output_type": "stream",
          "text": [
            "weight = 0.3333333333333333 kg, 0.6666666666666666 kg\n"
          ],
          "name": "stdout"
        }
      ]
    },
    {
      "cell_type": "code",
      "metadata": {
        "trusted": true,
        "id": "GzuKZ2n0Jnvz",
        "colab_type": "code",
        "colab": {},
        "outputId": "aab852f6-3c52-49f5-dfda-19a7f757aa2d"
      },
      "source": [
        "print('weight = {0:.2f} kg, {1:.2f} kg'.format(x, y))"
      ],
      "execution_count": null,
      "outputs": [
        {
          "output_type": "stream",
          "text": [
            "weight = 0.33 kg, 0.67 kg\n"
          ],
          "name": "stdout"
        }
      ]
    },
    {
      "cell_type": "markdown",
      "metadata": {
        "id": "vEi8IjwJJnv3",
        "colab_type": "text"
      },
      "source": [
        "List"
      ]
    },
    {
      "cell_type": "code",
      "metadata": {
        "trusted": true,
        "id": "X5Jc3HOsJnv4",
        "colab_type": "code",
        "colab": {},
        "outputId": "ab0c1316-ecef-4075-d05d-46c09d1be0f2"
      },
      "source": [
        "x = [1, 0, 2, 3, 4, 5]\n",
        "print(x)"
      ],
      "execution_count": null,
      "outputs": [
        {
          "output_type": "stream",
          "text": [
            "[1, 0, 2, 3, 4, 5]\n"
          ],
          "name": "stdout"
        }
      ]
    },
    {
      "cell_type": "code",
      "metadata": {
        "trusted": true,
        "id": "HoL2C_kAJnv7",
        "colab_type": "code",
        "colab": {},
        "outputId": "3074abea-bf9a-4fd9-e64e-c73ffa2e5740"
      },
      "source": [
        "type(x)"
      ],
      "execution_count": null,
      "outputs": [
        {
          "output_type": "execute_result",
          "data": {
            "text/plain": [
              "list"
            ]
          },
          "metadata": {
            "tags": []
          },
          "execution_count": 50
        }
      ]
    },
    {
      "cell_type": "code",
      "metadata": {
        "trusted": true,
        "id": "1sAOGxIxJnv-",
        "colab_type": "code",
        "colab": {},
        "outputId": "89afedc1-8292-4b71-b16f-d449ed369e8f"
      },
      "source": [
        "x[0]"
      ],
      "execution_count": null,
      "outputs": [
        {
          "output_type": "execute_result",
          "data": {
            "text/plain": [
              "1"
            ]
          },
          "metadata": {
            "tags": []
          },
          "execution_count": 51
        }
      ]
    },
    {
      "cell_type": "code",
      "metadata": {
        "trusted": true,
        "id": "cqs681-qJnwC",
        "colab_type": "code",
        "colab": {},
        "outputId": "9d4f8fd3-a625-4289-f02b-087170bd62b5"
      },
      "source": [
        "x[3]"
      ],
      "execution_count": null,
      "outputs": [
        {
          "output_type": "execute_result",
          "data": {
            "text/plain": [
              "3"
            ]
          },
          "metadata": {
            "tags": []
          },
          "execution_count": 52
        }
      ]
    },
    {
      "cell_type": "code",
      "metadata": {
        "trusted": true,
        "id": "FGv1DubDJnwF",
        "colab_type": "code",
        "colab": {},
        "outputId": "dcde94ab-df6a-4249-aecf-ec0144aaf3fb"
      },
      "source": [
        "type(x[3])"
      ],
      "execution_count": null,
      "outputs": [
        {
          "output_type": "execute_result",
          "data": {
            "text/plain": [
              "int"
            ]
          },
          "metadata": {
            "tags": []
          },
          "execution_count": 53
        }
      ]
    },
    {
      "cell_type": "code",
      "metadata": {
        "trusted": true,
        "id": "SmTRjX37JnwI",
        "colab_type": "code",
        "colab": {},
        "outputId": "db357304-0638-4d29-8a1b-c01114a42ae3"
      },
      "source": [
        "s = ['SUN', 'MON', 'TUE']\n",
        "print(s)"
      ],
      "execution_count": null,
      "outputs": [
        {
          "output_type": "stream",
          "text": [
            "['SUN', 'MON', 'TUE']\n"
          ],
          "name": "stdout"
        }
      ]
    },
    {
      "cell_type": "code",
      "metadata": {
        "trusted": true,
        "id": "ZrZfbfeRJnwM",
        "colab_type": "code",
        "colab": {},
        "outputId": "2a5103bb-02da-42b2-dbcf-27163c73c71d"
      },
      "source": [
        "s[1]"
      ],
      "execution_count": null,
      "outputs": [
        {
          "output_type": "execute_result",
          "data": {
            "text/plain": [
              "'MON'"
            ]
          },
          "metadata": {
            "tags": []
          },
          "execution_count": 55
        }
      ]
    },
    {
      "cell_type": "code",
      "metadata": {
        "trusted": true,
        "id": "n2sfnwaBJnwP",
        "colab_type": "code",
        "colab": {},
        "outputId": "736d072c-30eb-4cd0-f35b-b932d8bd2b9d"
      },
      "source": [
        "type(s)"
      ],
      "execution_count": null,
      "outputs": [
        {
          "output_type": "execute_result",
          "data": {
            "text/plain": [
              "list"
            ]
          },
          "metadata": {
            "tags": []
          },
          "execution_count": 56
        }
      ]
    },
    {
      "cell_type": "code",
      "metadata": {
        "trusted": true,
        "id": "b2keyDE-JnwS",
        "colab_type": "code",
        "colab": {},
        "outputId": "ac21d66d-bd30-4245-e0b2-e796bb1909c2"
      },
      "source": [
        "type(s[1])"
      ],
      "execution_count": null,
      "outputs": [
        {
          "output_type": "execute_result",
          "data": {
            "text/plain": [
              "str"
            ]
          },
          "metadata": {
            "tags": []
          },
          "execution_count": 57
        }
      ]
    },
    {
      "cell_type": "markdown",
      "metadata": {
        "id": "j33eq6zjJnwW",
        "colab_type": "text"
      },
      "source": [
        "2 dimensional array (list of list)"
      ]
    },
    {
      "cell_type": "code",
      "metadata": {
        "trusted": true,
        "id": "7GJybTVLJnwX",
        "colab_type": "code",
        "colab": {},
        "outputId": "c0793419-68cf-44b9-a893-3c46c74baf0a"
      },
      "source": [
        "a = [[1, 2, 3], [4, 5, 6]]\n",
        "print(a)"
      ],
      "execution_count": null,
      "outputs": [
        {
          "output_type": "stream",
          "text": [
            "[[1, 2, 3], [4, 5, 6]]\n"
          ],
          "name": "stdout"
        }
      ]
    },
    {
      "cell_type": "code",
      "metadata": {
        "trusted": true,
        "id": "dPLetmV5Jnwb",
        "colab_type": "code",
        "colab": {},
        "outputId": "f156151d-8bf3-45d6-8db3-f9b1885f4633"
      },
      "source": [
        "a[0][1]"
      ],
      "execution_count": null,
      "outputs": [
        {
          "output_type": "execute_result",
          "data": {
            "text/plain": [
              "2"
            ]
          },
          "metadata": {
            "tags": []
          },
          "execution_count": 59
        }
      ]
    },
    {
      "cell_type": "code",
      "metadata": {
        "trusted": true,
        "id": "LLDjM8MVJnwf",
        "colab_type": "code",
        "colab": {},
        "outputId": "5d0d82a7-bcf5-48a1-ea40-ebcdc85077c6"
      },
      "source": [
        "a[1][2]"
      ],
      "execution_count": null,
      "outputs": [
        {
          "output_type": "execute_result",
          "data": {
            "text/plain": [
              "6"
            ]
          },
          "metadata": {
            "tags": []
          },
          "execution_count": 60
        }
      ]
    },
    {
      "cell_type": "code",
      "metadata": {
        "trusted": true,
        "id": "9Gsm6r1sJnwi",
        "colab_type": "code",
        "colab": {},
        "outputId": "d06f1805-4b5c-40ee-e132-494f071b3481"
      },
      "source": [
        "a[0][1] = 10\n",
        "print(a)"
      ],
      "execution_count": null,
      "outputs": [
        {
          "output_type": "stream",
          "text": [
            "[[1, 10, 3], [4, 5, 6]]\n"
          ],
          "name": "stdout"
        }
      ]
    },
    {
      "cell_type": "code",
      "metadata": {
        "trusted": true,
        "id": "uHO0DawlJnwl",
        "colab_type": "code",
        "colab": {},
        "outputId": "ef94a979-e4c4-4592-9bb7-e5eccb82f72d"
      },
      "source": [
        "len(s)"
      ],
      "execution_count": null,
      "outputs": [
        {
          "output_type": "execute_result",
          "data": {
            "text/plain": [
              "3"
            ]
          },
          "metadata": {
            "tags": []
          },
          "execution_count": 62
        }
      ]
    },
    {
      "cell_type": "code",
      "metadata": {
        "trusted": true,
        "id": "hQcIHDLiJnwo",
        "colab_type": "code",
        "colab": {},
        "outputId": "b99d5174-39b9-4123-9f36-4fb448aed59c"
      },
      "source": [
        "len(a)"
      ],
      "execution_count": null,
      "outputs": [
        {
          "output_type": "execute_result",
          "data": {
            "text/plain": [
              "2"
            ]
          },
          "metadata": {
            "tags": []
          },
          "execution_count": 63
        }
      ]
    },
    {
      "cell_type": "code",
      "metadata": {
        "trusted": true,
        "id": "8qiMe2-IJnwr",
        "colab_type": "code",
        "colab": {},
        "outputId": "1d881a7e-3787-4408-adae-cde6e619781d"
      },
      "source": [
        "len(a[0])"
      ],
      "execution_count": null,
      "outputs": [
        {
          "output_type": "execute_result",
          "data": {
            "text/plain": [
              "3"
            ]
          },
          "metadata": {
            "tags": []
          },
          "execution_count": 64
        }
      ]
    },
    {
      "cell_type": "markdown",
      "metadata": {
        "id": "_AoHmjkXJnwx",
        "colab_type": "text"
      },
      "source": [
        "Sequence of integer values (range)"
      ]
    },
    {
      "cell_type": "code",
      "metadata": {
        "trusted": true,
        "id": "pUJM5jmXJnwy",
        "colab_type": "code",
        "colab": {},
        "outputId": "f0ecd05a-e323-4c30-bfb3-d618943e79f0"
      },
      "source": [
        "y = range(5, 10)\n",
        "print(y)"
      ],
      "execution_count": null,
      "outputs": [
        {
          "output_type": "stream",
          "text": [
            "range(5, 10)\n"
          ],
          "name": "stdout"
        }
      ]
    },
    {
      "cell_type": "code",
      "metadata": {
        "trusted": true,
        "id": "vHBaR-NUJnw1",
        "colab_type": "code",
        "colab": {},
        "outputId": "3187acf1-eee9-40cf-89c4-dab2458f6435"
      },
      "source": [
        "y[0]"
      ],
      "execution_count": null,
      "outputs": [
        {
          "output_type": "execute_result",
          "data": {
            "text/plain": [
              "5"
            ]
          },
          "metadata": {
            "tags": []
          },
          "execution_count": 66
        }
      ]
    },
    {
      "cell_type": "code",
      "metadata": {
        "trusted": true,
        "id": "-eboXauTJnw4",
        "colab_type": "code",
        "colab": {},
        "outputId": "85b40e72-4b5f-40a1-e407-8205effd81a2"
      },
      "source": [
        "z = list(range(5, 10))\n",
        "print(z)"
      ],
      "execution_count": null,
      "outputs": [
        {
          "output_type": "stream",
          "text": [
            "[5, 6, 7, 8, 9]\n"
          ],
          "name": "stdout"
        }
      ]
    },
    {
      "cell_type": "code",
      "metadata": {
        "trusted": true,
        "id": "UtoEVEm5Jnw7",
        "colab_type": "code",
        "colab": {},
        "outputId": "11e670e6-7816-491d-87cb-11a7e51a4601"
      },
      "source": [
        "zz = list(range(10))\n",
        "print(zz)"
      ],
      "execution_count": null,
      "outputs": [
        {
          "output_type": "stream",
          "text": [
            "[0, 1, 2, 3, 4, 5, 6, 7, 8, 9]\n"
          ],
          "name": "stdout"
        }
      ]
    },
    {
      "cell_type": "markdown",
      "metadata": {
        "id": "NvzZMTQCJnw-",
        "colab_type": "text"
      },
      "source": [
        "tuple"
      ]
    },
    {
      "cell_type": "code",
      "metadata": {
        "trusted": true,
        "id": "m6Tw1KibJnw_",
        "colab_type": "code",
        "colab": {},
        "outputId": "b9b520b1-8d2f-4168-9ba3-20c2cb23d3a5"
      },
      "source": [
        "a = (1, 2, 3)\n",
        "print(a)"
      ],
      "execution_count": null,
      "outputs": [
        {
          "output_type": "stream",
          "text": [
            "(1, 2, 3)\n"
          ],
          "name": "stdout"
        }
      ]
    },
    {
      "cell_type": "code",
      "metadata": {
        "trusted": true,
        "id": "hx-LKaCyJnxB",
        "colab_type": "code",
        "colab": {},
        "outputId": "09a7c611-71cd-43f4-c83c-5f3501905120"
      },
      "source": [
        "print(a[1])"
      ],
      "execution_count": null,
      "outputs": [
        {
          "output_type": "stream",
          "text": [
            "2\n"
          ],
          "name": "stdout"
        }
      ]
    },
    {
      "cell_type": "code",
      "metadata": {
        "trusted": true,
        "id": "xK3q6lV2JnxE",
        "colab_type": "code",
        "colab": {},
        "outputId": "864bdaf5-8c2e-49e6-d857-384bb04b043b"
      },
      "source": [
        "type(a)"
      ],
      "execution_count": null,
      "outputs": [
        {
          "output_type": "execute_result",
          "data": {
            "text/plain": [
              "tuple"
            ]
          },
          "metadata": {
            "tags": []
          },
          "execution_count": 71
        }
      ]
    },
    {
      "cell_type": "markdown",
      "metadata": {
        "id": "wc1o-lG6_6Zd",
        "colab_type": "text"
      },
      "source": [
        "You can not assign item to tuple. So you will get an error message as follows."
      ]
    },
    {
      "cell_type": "code",
      "metadata": {
        "trusted": true,
        "id": "dXMOa-XtJnxG",
        "colab_type": "code",
        "colab": {},
        "outputId": "a9aa35f2-68fd-424a-9fa1-ab873fd370fd"
      },
      "source": [
        "a[2] = 1"
      ],
      "execution_count": null,
      "outputs": [
        {
          "output_type": "error",
          "ename": "TypeError",
          "evalue": "'tuple' object does not support item assignment",
          "traceback": [
            "\u001b[0;31m---------------------------------------------------------------------------\u001b[0m",
            "\u001b[0;31mTypeError\u001b[0m                                 Traceback (most recent call last)",
            "\u001b[0;32m<ipython-input-72-05809b234b3f>\u001b[0m in \u001b[0;36m<module>\u001b[0;34m()\u001b[0m\n\u001b[0;32m----> 1\u001b[0;31m \u001b[0ma\u001b[0m\u001b[0;34m[\u001b[0m\u001b[0;36m2\u001b[0m\u001b[0;34m]\u001b[0m \u001b[0;34m=\u001b[0m \u001b[0;36m1\u001b[0m\u001b[0;34m\u001b[0m\u001b[0m\n\u001b[0m",
            "\u001b[0;31mTypeError\u001b[0m: 'tuple' object does not support item assignment"
          ]
        }
      ]
    },
    {
      "cell_type": "code",
      "metadata": {
        "trusted": true,
        "id": "jR_SAIeRJnxK",
        "colab_type": "code",
        "colab": {},
        "outputId": "5f26f4c2-d145-4b26-e0d6-9da694bf2f6b"
      },
      "source": [
        "a = (1)\n",
        "type(a)"
      ],
      "execution_count": null,
      "outputs": [
        {
          "output_type": "execute_result",
          "data": {
            "text/plain": [
              "int"
            ]
          },
          "metadata": {
            "tags": []
          },
          "execution_count": 73
        }
      ]
    },
    {
      "cell_type": "code",
      "metadata": {
        "trusted": true,
        "id": "YqlKnF0vJnxN",
        "colab_type": "code",
        "colab": {},
        "outputId": "27099716-9085-42ba-bc41-a30077f8deba"
      },
      "source": [
        "a = (1,)\n",
        "type(a)"
      ],
      "execution_count": null,
      "outputs": [
        {
          "output_type": "execute_result",
          "data": {
            "text/plain": [
              "tuple"
            ]
          },
          "metadata": {
            "tags": []
          },
          "execution_count": 74
        }
      ]
    },
    {
      "cell_type": "markdown",
      "metadata": {
        "id": "1uStmLo2JnxQ",
        "colab_type": "text"
      },
      "source": [
        "if statement"
      ]
    },
    {
      "cell_type": "code",
      "metadata": {
        "trusted": true,
        "id": "FGu13EmyJnxQ",
        "colab_type": "code",
        "colab": {},
        "outputId": "c7ca3529-1269-4ce1-e9da-cfe4f8b40401"
      },
      "source": [
        "x = 11\n",
        "if x > 10:\n",
        "    print('x is larger than 10.')\n",
        "    print('x = {0}'.format(x))\n",
        "else:\n",
        "    print('x = {0}'.format(x))"
      ],
      "execution_count": null,
      "outputs": [
        {
          "output_type": "stream",
          "text": [
            "x is larger than 10.\n",
            "x = 11\n"
          ],
          "name": "stdout"
        }
      ]
    },
    {
      "cell_type": "code",
      "metadata": {
        "trusted": true,
        "id": "tgUNsU35JnxU",
        "colab_type": "code",
        "colab": {},
        "outputId": "51c5dd8f-a3aa-4c46-9afe-759b284a1683"
      },
      "source": [
        "x > 10"
      ],
      "execution_count": null,
      "outputs": [
        {
          "output_type": "execute_result",
          "data": {
            "text/plain": [
              "True"
            ]
          },
          "metadata": {
            "tags": []
          },
          "execution_count": 76
        }
      ]
    },
    {
      "cell_type": "code",
      "metadata": {
        "trusted": true,
        "id": "h-3ZEOhNJnxX",
        "colab_type": "code",
        "colab": {},
        "outputId": "54cf6edf-6435-40c6-a730-400132ad942a"
      },
      "source": [
        "type(x > 10)"
      ],
      "execution_count": null,
      "outputs": [
        {
          "output_type": "execute_result",
          "data": {
            "text/plain": [
              "bool"
            ]
          },
          "metadata": {
            "tags": []
          },
          "execution_count": 77
        }
      ]
    },
    {
      "cell_type": "markdown",
      "metadata": {
        "id": "fI32MWf4Jnxb",
        "colab_type": "text"
      },
      "source": [
        "Comparison operator"
      ]
    },
    {
      "cell_type": "code",
      "metadata": {
        "trusted": true,
        "id": "rozY9ZmAJnxc",
        "colab_type": "code",
        "colab": {},
        "outputId": "79d3e89f-b96d-4e80-d720-223a5ba509b5"
      },
      "source": [
        "a = 10\n",
        "b = 11\n",
        "print(a == b)\n",
        "print(a > b)\n",
        "print(a >= b)\n",
        "print(a < b)\n",
        "print(a <= b)\n",
        "print(a != b)\n",
        "print(a < b and a != b)"
      ],
      "execution_count": null,
      "outputs": [
        {
          "output_type": "stream",
          "text": [
            "False\n",
            "False\n",
            "False\n",
            "True\n",
            "True\n",
            "True\n",
            "True\n"
          ],
          "name": "stdout"
        }
      ]
    },
    {
      "cell_type": "markdown",
      "metadata": {
        "id": "khupjEepJnxe",
        "colab_type": "text"
      },
      "source": [
        "for statement"
      ]
    },
    {
      "cell_type": "code",
      "metadata": {
        "trusted": true,
        "id": "6aK8CIDHJnxf",
        "colab_type": "code",
        "colab": {},
        "outputId": "f28323a8-3b32-47d3-cfaa-659c6299afec"
      },
      "source": [
        "for i in [1, 2, 3]:\n",
        "    print('i = {0}'.format(i))"
      ],
      "execution_count": null,
      "outputs": [
        {
          "output_type": "stream",
          "text": [
            "i = 1\n",
            "i = 2\n",
            "i = 3\n"
          ],
          "name": "stdout"
        }
      ]
    },
    {
      "cell_type": "code",
      "metadata": {
        "trusted": true,
        "id": "Qws7cA0-Jnxm",
        "colab_type": "code",
        "colab": {},
        "outputId": "4587c69d-4c1d-4e6c-8cf9-a9dcec3b619e"
      },
      "source": [
        "num = [2, 4, 6, 8, 10]\n",
        "for i in range(len(num)):\n",
        "    num[i] = num[i] * 2\n",
        "print(num)"
      ],
      "execution_count": null,
      "outputs": [
        {
          "output_type": "stream",
          "text": [
            "[4, 8, 12, 16, 20]\n"
          ],
          "name": "stdout"
        }
      ]
    },
    {
      "cell_type": "markdown",
      "metadata": {
        "id": "YCaA-pZhJnxo",
        "colab_type": "text"
      },
      "source": [
        "Function Definition"
      ]
    },
    {
      "cell_type": "code",
      "metadata": {
        "trusted": true,
        "id": "_2wBwx9GJnxp",
        "colab_type": "code",
        "colab": {}
      },
      "source": [
        "def my_sum(a, b):\n",
        "    c = a + b\n",
        "    return c"
      ],
      "execution_count": null,
      "outputs": []
    },
    {
      "cell_type": "markdown",
      "metadata": {
        "id": "M0Jt5Ri5Jnxr",
        "colab_type": "text"
      },
      "source": [
        "Execution of the defined function"
      ]
    },
    {
      "cell_type": "code",
      "metadata": {
        "trusted": true,
        "id": "j183Z5hAJnxs",
        "colab_type": "code",
        "colab": {},
        "outputId": "24046de6-0a0e-4520-8587-80abe9f552ba"
      },
      "source": [
        "x = 10.0\n",
        "y = 20.0\n",
        "z = my_sum(x, y)\n",
        "print(z)"
      ],
      "execution_count": null,
      "outputs": [
        {
          "output_type": "stream",
          "text": [
            "30.0\n"
          ],
          "name": "stdout"
        }
      ]
    }
  ]
}