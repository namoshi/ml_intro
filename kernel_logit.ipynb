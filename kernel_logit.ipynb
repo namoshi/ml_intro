{
  "nbformat": 4,
  "nbformat_minor": 0,
  "metadata": {
    "colab": {
      "name": "logit_iris_2d.ipynb",
      "provenance": [],
      "include_colab_link": true
    },
    "kernelspec": {
      "display_name": "Python 3",
      "language": "python",
      "name": "python3"
    },
    "language_info": {
      "codemirror_mode": {
        "name": "ipython",
        "version": 3
      },
      "file_extension": ".py",
      "mimetype": "text/x-python",
      "name": "python",
      "nbconvert_exporter": "python",
      "pygments_lexer": "ipython3",
      "version": "3.7.7"
    }
  },
  "cells": [
    {
      "cell_type": "markdown",
      "metadata": {
        "id": "view-in-github",
        "colab_type": "text"
      },
      "source": [
        "<a href=\"https://colab.research.google.com/github/namoshi/ml_intro/blob/master/kernel_logit.ipynb\" target=\"_parent\"><img src=\"https://colab.research.google.com/assets/colab-badge.svg\" alt=\"Open In Colab\"/></a>"
      ]
    },
    {
      "cell_type": "markdown",
      "metadata": {
        "colab_type": "text",
        "id": "tMtWL_fOIwqU"
      },
      "source": [
        "## カーネルロジスティック回帰\n",
        "カーネルロジスティック回帰によるアヤメのデータ（２次元）の識別"
      ]
    },
    {
      "cell_type": "code",
      "metadata": {
        "colab_type": "code",
        "id": "kXi7NxVkIwqW",
        "colab": {}
      },
      "source": [
        "import numpy as np\n",
        "import matplotlib.pyplot as plt\n",
        "from sklearn.linear_model import LogisticRegression\n",
        "from sklearn import datasets\n",
        "#from sklearn.metrics import confusion_matrix\n",
        "from matplotlib.colors import ListedColormap\n",
        "from sklearn.kernel_approximation import Nystroem\n",
        "from sklearn.datasets import make_circles\n"
      ],
      "execution_count": 1,
      "outputs": []
    },
    {
      "cell_type": "code",
      "metadata": {
        "id": "j-9lFndXq4x7",
        "colab_type": "code",
        "colab": {
          "base_uri": "https://localhost:8080/",
          "height": 297
        },
        "outputId": "a1833f60-e287-4f70-dde6-20abce308bd9"
      },
      "source": [
        "# Generate the circles data\n",
        "\n",
        "np.random.seed(0)\n",
        "\n",
        "X, y = make_circles(n_samples=400, factor=.3, noise=.05)\n",
        "\n",
        "# Plot Oritinal Space\n",
        "\n",
        "reds = y == 0\n",
        "blues = y == 1\n",
        "\n",
        "plt.scatter(X[reds, 0], X[reds, 1], c=\"red\",\n",
        "            s=20, edgecolor='k')\n",
        "plt.scatter(X[blues, 0], X[blues, 1], c=\"blue\",\n",
        "            s=20, edgecolor='k')\n",
        "plt.title(\"Original space\")\n",
        "plt.xlabel(\"$x_1$\")\n",
        "plt.ylabel(\"$x_2$\")\n",
        "plt.savefig(\"circles_data.png\")\n",
        "plt.show()"
      ],
      "execution_count": 2,
      "outputs": [
        {
          "output_type": "display_data",
          "data": {
            "image/png": "[encoded data removed]",
            "text/plain": [
              "<Figure size 432x288 with 1 Axes>"
            ]
          },
          "metadata": {
            "tags": [],
            "needs_background": "light"
          }
        }
      ]
    },
    {
      "cell_type": "markdown",
      "metadata": {
        "colab_type": "text",
        "id": "Mc8c1-PoKi1p"
      },
      "source": [
        "カーネルロジスティック回帰による学習（L2正則化：C=1.0）"
      ]
    },
    {
      "cell_type": "code",
      "metadata": {
        "id": "t_YArH0uq4yA",
        "colab_type": "code",
        "colab": {
          "base_uri": "https://localhost:8080/",
          "height": 161
        },
        "outputId": "b5bd470f-58e8-48ea-c9c9-55a6da583b78"
      },
      "source": [
        "# カーネル特徴の計算\n",
        "\n",
        "feature_map_nystroem = Nystroem(kernel='rbf', gamma=.2, random_state=1, n_components=100)\n",
        "data_transformed = feature_map_nystroem.fit_transform(X)\n",
        "print(data_transformed)\n",
        "print(data_transformed.shape)"
      ],
      "execution_count": 3,
      "outputs": [
        {
          "output_type": "stream",
          "text": [
            "[[0.01436095 0.22529832 0.12704089 ... 0.12796734 0.06138312 0.08001502]\n",
            " [0.06173454 0.09690946 0.12211708 ... 0.12781056 0.11009611 0.10703614]\n",
            " [0.04490456 0.12671032 0.13422706 ... 0.13017139 0.09982978 0.11452396]\n",
            " ...\n",
            " [0.02398137 0.14000731 0.10401945 ... 0.13367164 0.06664459 0.05797064]\n",
            " [0.21742104 0.01018846 0.04292469 ... 0.05119498 0.09594511 0.05568319]\n",
            " [0.01409451 0.14831703 0.11707073 ... 0.07533608 0.06317626 0.13262464]]\n",
            "(400, 100)\n"
          ],
          "name": "stdout"
        }
      ]
    },
    {
      "cell_type": "code",
      "metadata": {
        "colab_type": "code",
        "id": "bVZgssYZJ63M",
        "colab": {
          "base_uri": "https://localhost:8080/",
          "height": 35
        },
        "outputId": "78f22301-3c7c-4f8b-80cf-2e71a73d31b7"
      },
      "source": [
        "# Logistic Regression for the transformed data\n",
        "\n",
        "clf_LR = LogisticRegression(C=1.0, penalty='l2', tol=1e-6)\n",
        "clf_LR.fit(data_transformed, y)\n",
        "\n",
        "#coef_LR = clf_LR.coef_.ravel()\n",
        "#sparsity_LR = np.mean(coef_LR == 0) * 100\n",
        "\n",
        "print(\"Mean Accuracy: %.4f\" % clf_LR.score(data_transformed, y))\n",
        "#print(\"Sparsity of the parameters: %.2f%%\" % sparsity_LR)\n",
        "\n",
        "yy = clf_LR.predict(data_transformed)\n",
        "pp = clf_LR.predict_proba(data_transformed)\n",
        "#print('Estimated Classes\\n', yy)\n",
        "#print('Estimated Probability\\n', pp)"
      ],
      "execution_count": 4,
      "outputs": [
        {
          "output_type": "stream",
          "text": [
            "Mean Accuracy: 1.0000\n"
          ],
          "name": "stdout"
        }
      ]
    },
    {
      "cell_type": "code",
      "metadata": {
        "colab_type": "code",
        "id": "X1Te0bS3Iwqh",
        "colab": {
          "base_uri": "https://localhost:8080/",
          "height": 297
        },
        "outputId": "15906252-68fd-4068-9d30-fb83c20594ba"
      },
      "source": [
        "%matplotlib inline\n",
        "# Create color maps\n",
        "cmap_light = ListedColormap(['#FFAAAA', '#AAFFAA', '#AAAAFF'])\n",
        "cmap_bold = ListedColormap(['#FF0000', '#00FF00', '#0000FF'])\n",
        "\n",
        "## colors\n",
        "colors = ['red', 'green', 'blue']\n",
        "markers = ['x', 'o', 'v']\n",
        "\n",
        "# Plot the decision boundary. For that, we will assign a color to each\n",
        "# point in the mesh [x_min, x_max]x[y_min, y_max].\n",
        "h = .02  # step size in the mesh\n",
        "x_min, x_max = X[:, 0].min() - .5, X[:, 0].max() + .5\n",
        "y_min, y_max = X[:, 1].min() - .5, X[:, 1].max() + .5\n",
        "xx, yy = np.meshgrid(np.arange(x_min, x_max, h), np.arange(y_min, y_max, h))\n",
        "\n",
        "(xsize, ysize) = xx.shape\n",
        "nelm = xsize * ysize\n",
        "\n",
        "XX = np.c_[xx.reshape((nelm,1)), yy.reshape((nelm,1))]\n",
        "#print XX\n",
        "data_transformed_XX = feature_map_nystroem.transform(XX)\n",
        "\n",
        "\n",
        "Z = clf_LR.predict(data_transformed_XX)\n",
        "#print('Z\\n', Z)\n",
        "\n",
        "# Put the result into a color plot\n",
        "Z = Z.reshape(xx.shape)\n",
        "plt.figure()\n",
        "#plt.figure(1, figsize=(4, 3))\n",
        "plt.pcolormesh(xx, yy, Z, cmap=cmap_light)\n",
        "\n",
        "# Plot also the training points\n",
        "for k, c, marker  in zip([0, 1], colors, markers):\n",
        "    plt.scatter(X[y == k, 0], X[y == k, 1], c=c, marker=marker)\n",
        "#plt.scatter(data[:, 0], data[:, 1], c=y, edgecolors='k', cmap=plt.cm.Paired)\n",
        "#plt.legend()\n",
        "plt.title('kernel logit for circles data (C=1)')\n",
        "plt.xlabel(\"$x_1$\")\n",
        "plt.ylabel(\"$x_2$\")\n",
        "plt.savefig('kernel_logit_circles.png')\n",
        "\n",
        "#plt.xlim(xx.min(), xx.max())\n",
        "#plt.ylim(yy.min(), yy.max())\n",
        "#plt.xticks(())\n",
        "#plt.yticks(())\n",
        "\n",
        "plt.show()"
      ],
      "execution_count": 5,
      "outputs": [
        {
          "output_type": "display_data",
          "data": {
            "image/png": "[encoded data removed]",
            "text/plain": [
              "<Figure size 432x288 with 1 Axes>"
            ]
          },
          "metadata": {
            "tags": [],
            "needs_background": "light"
          }
        }
      ]
    },
    {
      "cell_type": "code",
      "metadata": {
        "id": "tNvp4zKCq4yM",
        "colab_type": "code",
        "colab": {}
      },
      "source": [
        ""
      ],
      "execution_count": null,
      "outputs": []
    }
  ]
}