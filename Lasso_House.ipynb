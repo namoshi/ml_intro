{
  "nbformat": 4,
  "nbformat_minor": 0,
  "metadata": {
    "kernelspec": {
      "display_name": "Python 3",
      "language": "python",
      "name": "python3"
    },
    "language_info": {
      "codemirror_mode": {
        "name": "ipython",
        "version": 3
      },
      "file_extension": ".py",
      "mimetype": "text/x-python",
      "name": "python",
      "nbconvert_exporter": "python",
      "pygments_lexer": "ipython3",
      "version": "3.7.7"
    },
    "colab": {
      "name": "RigeRegression_House.ipynb",
      "provenance": [],
      "toc_visible": true,
      "include_colab_link": true
    }
  },
  "cells": [
    {
      "cell_type": "markdown",
      "metadata": {
        "id": "view-in-github",
        "colab_type": "text"
      },
      "source": [
        "<a href=\"https://colab.research.google.com/github/namoshi/ml_intro/blob/master/Lasso_House.ipynb\" target=\"_parent\"><img src=\"https://colab.research.google.com/assets/colab-badge.svg\" alt=\"Open In Colab\"/></a>"
      ]
    },
    {
      "cell_type": "markdown",
      "metadata": {
        "id": "JoT2y1nIfa3b",
        "colab_type": "text"
      },
      "source": [
        "## Lasso"
      ]
    },
    {
      "cell_type": "code",
      "metadata": {
        "id": "Tu-oXEF-2Jmb",
        "colab_type": "code",
        "colab": {
          "base_uri": "https://localhost:8080/",
          "height": 35
        },
        "outputId": "0fd423e4-3ad2-4bcd-e541-34071c81b180"
      },
      "source": [
        "import numpy as np\n",
        "import pandas as pd\n",
        "import matplotlib.pyplot as plt\n",
        "from sklearn import model_selection, preprocessing, linear_model\n",
        "import sklearn\n",
        "sklearn.__version__"
      ],
      "execution_count": 18,
      "outputs": [
        {
          "output_type": "execute_result",
          "data": {
            "application/vnd.google.colaboratory.intrinsic+json": {
              "type": "string"
            },
            "text/plain": [
              "'0.22.2.post1'"
            ]
          },
          "metadata": {
            "tags": []
          },
          "execution_count": 18
        }
      ]
    },
    {
      "cell_type": "markdown",
      "metadata": {
        "id": "zDqiOzV-25k3",
        "colab_type": "text"
      },
      "source": [
        "Housing Data (ボストンの家の価格（不動産）のデータ)\n",
        "\n",
        "課題：1970年代のボストン郊外地域の不動産物件に関するデータ．次の13個の属性を元にして，その地域の平均物件価格を予測する．\n",
        "\n",
        "説明変数：13個\n",
        "\n",
        "・CRIM--犯罪発生率（人口単位）\n",
        "・ZN--25,000平方フィート以上の住宅区画の割合\n",
        "・INDUS--非小売業の土地面積の割合（人口単位）\n",
        "・CHAS--チャールズ川沿いかどうか（1:Yes、0:No）\n",
        "・NOX--窒素酸化物の濃度（pphm単位）\n",
        "・RM--1戸あたりの平均部屋数\n",
        "・AGE--1940年よりも前に建てられた家屋の割合\n",
        "・DIS--ボストンの主な5つの雇用圏までの重み付き距離\n",
        "・RAD--幹線道路へのアクセス指数\n",
        "・TAX--10,000ドルあたりの所得税率\n",
        "・PTRATIO--教師あたりの生徒の数（人口単位）\n",
        "・B-黒人居住者の割合（人口単位）\n",
        "・LSTAT--低所得者の割合\n",
        "\n"
      ]
    },
    {
      "cell_type": "code",
      "metadata": {
        "id": "weV2-zEM2Jmi",
        "colab_type": "code",
        "colab": {
          "base_uri": "https://localhost:8080/",
          "height": 1277
        },
        "outputId": "da8ef102-263f-4de5-f05b-aa062207d6e4"
      },
      "source": [
        "# Read Housing Data\n",
        "df=pd.read_csv('https://archive.ics.uci.edu/ml/machine-learning-databases/housing/housing.data', header=None, sep='\\s+')\n",
        "df.columns=['CRIM','ZN', 'INDUS', 'CHAS', 'NOX', 'RM', 'AGE', 'DIS', 'RAD', 'TAX', 'PTRATIO', 'B', 'LSTAT', 'MEDV']\n",
        "X_rm=df[['RM']].values\n",
        "X=df.iloc[:, 0:13]\n",
        "Y=df['MEDV'].values\n",
        "\n",
        "# Normalization of Data\n",
        "sc=preprocessing.StandardScaler()\n",
        "sc.fit(X)\n",
        "X=sc.transform(X)\n",
        "\n",
        "# Split Data into Trainig Samples and Test Samples\n",
        "X_train, X_test, Y_train, Y_test = model_selection.train_test_split(X, Y, test_size=0.5, random_state=0)\n",
        "print(X_train.shape)\n",
        "print(Y_train.shape)\n",
        "print('X_train\\n', X_train)\n",
        "print('Y_train\\n', Y_train)\n",
        "print('X_test\\n', X_test)\n",
        "print('Y_test\\n', Y_test)"
      ],
      "execution_count": 19,
      "outputs": [
        {
          "output_type": "stream",
          "text": [
            "(253, 13)\n",
            "(253,)\n",
            "X_train\n",
            " [[-0.35356906 -0.48772236 -0.72032214 ... -0.48803915  0.32055363\n",
            "  -1.4273985 ]\n",
            " [-0.3821352  -0.48772236  1.56899549 ...  1.26893833  0.35103455\n",
            "   0.33318422]\n",
            " [-0.28648804 -0.48772236 -0.43725801 ...  1.17646583  0.02298095\n",
            "   0.79856118]\n",
            " ...\n",
            " [-0.40294739 -0.48772236 -0.16440754 ... -0.30309415  0.41484712\n",
            "  -0.32983778]\n",
            " [-0.39383653 -0.48772236 -0.61672651 ... -0.2568579   0.3954402\n",
            "   0.86163938]\n",
            " [-0.40432525 -0.48772236 -1.03402724 ... -0.85792914  0.44105193\n",
            "   0.28552513]]\n",
            "Y_train\n",
            " [41.7 18.4 13.1 25.  21.2 16.  34.9 25.2 24.8 21.5 23.4 18.9 10.8 21.\n",
            " 27.5 17.5 13.5 28.7 14.8 19.1 28.6 13.1 19.  11.3 13.3 22.4 20.1 18.2\n",
            " 22.9 20.6 25.  12.8 34.9 23.7 50.  29.  30.1 22.  15.6 23.3 30.1 14.3\n",
            " 22.8 50.  20.8  6.3 34.9 32.4 19.9 20.3 17.8 23.1 20.4 23.2  7.  16.8\n",
            " 46.7 50.  22.9 23.9 21.4 21.7 15.4 15.3 23.1 23.9 19.4 11.9 17.8 31.5\n",
            " 33.8 20.8 19.8 22.4  5.  24.5 19.4 15.1 18.2 19.3 27.1 20.7 37.6 11.7\n",
            " 33.4 30.1 21.4 45.4 20.1 20.8 26.4 10.4 21.8 32.  21.7 18.4 37.9 17.8\n",
            " 28.  28.2 36.  18.9 15.  22.5 30.7 20.  19.1 23.3 26.6 21.1 19.7 20.\n",
            " 12.1  7.2 14.2 17.3 27.5 22.2 10.9 19.2 32.  14.5 24.7 12.6 24.  24.1\n",
            " 50.  16.1 43.8 26.6 36.1 21.8 29.9 50.  44.  20.6 19.6 28.4 19.1 22.3\n",
            " 20.9 28.4 14.4 32.7 13.8  8.5 22.5 35.1 31.6 17.8 15.6 20.7 39.8 17.8\n",
            " 19.6 14.9 22.  48.8 25.  48.5 23.9 20.3 15.2 10.5 19.  16.4  8.8 22.\n",
            " 24.8 50.  19.3 22.7 37.3 31.6  8.3 23.1 50.  13.9 16.1 25.3 19.5 10.2\n",
            " 19.9 35.2 13.4 24.7 11.5 23.4 16.7 15.4 18.  28.5 18.4 32.5 50.  50.\n",
            " 19.6 17.6 42.3 14.5 13.2 16.2 29.6 16.7 13.  22.3 13.4  5.  19.5 14.6\n",
            " 22.   8.1 24.6 33.2 20.6 14.1 14.1 21.1 30.3 23.7 21.4 18.3  8.5 22.8\n",
            " 22.8 22.2 13.9 25.  18.5  7.  22.6 20.1 30.8 31.1 23.8 12.5 23.6 23.2\n",
            " 24.2 22.2 27.9 22.2 33.1 19.3 18.9 22.6 50.  24.8 18.5 36.4 19.2 16.6\n",
            " 23.1]\n",
            "X_test\n",
            " [[-0.41269248 -0.48772236 -1.15221381 ... -0.71922039  0.203235\n",
            "  -0.74475218]\n",
            " [ 0.65387518 -0.48772236  1.01599907 ...  0.80657583  0.10389791\n",
            "  -0.43777159]\n",
            " [-0.40722178 -0.48772236  0.40172073 ... -0.95040164  0.40640456\n",
            "  -0.30180302]\n",
            " ...\n",
            " [ 1.76857946 -0.48772236  1.01599907 ...  0.80657583 -3.59503802\n",
            "   3.04414519]\n",
            " [ 0.72267387 -0.48772236  1.01599907 ...  0.80657583  0.44105193\n",
            "   1.20366341]\n",
            " [ 0.60265001 -0.48772236  1.01599907 ...  0.80657583 -3.87068199\n",
            "   0.63175438]]\n",
            "Y_test\n",
            " [22.6 50.  23.   8.3 21.2 19.9 20.6 18.7 16.1 18.6  8.8 17.2 14.9 10.5\n",
            " 50.  29.  23.  33.3 29.4 21.  23.8 19.1 20.4 29.1 19.3 23.1 19.6 19.4\n",
            " 38.7 18.7 14.6 20.  20.5 20.1 23.6 16.8  5.6 50.  14.5 13.3 23.9 20.\n",
            " 19.8 13.8 16.5 21.6 20.3 17.  11.8 27.5 15.6 23.1 24.3 42.8 15.6 21.7\n",
            " 17.1 17.2 15.  21.7 18.6 21.  33.1 31.5 20.1 29.8 15.2 15.  27.5 22.6\n",
            " 20.  21.4 23.5 31.2 23.7  7.4 48.3 24.4 22.6 18.3 23.3 17.1 27.9 44.8\n",
            " 50.  23.  21.4 10.2 23.3 23.2 18.9 13.4 21.9 24.8 11.9 24.3 13.8 24.7\n",
            " 14.1 18.7 28.1 19.8 26.7 21.7 22.  22.9 10.4 21.9 20.6 26.4 41.3 17.2\n",
            " 27.1 20.4 16.5 24.4  8.4 23.   9.7 50.  30.5 12.3 19.4 21.2 20.3 18.8\n",
            " 33.4 18.5 19.6 33.2 13.1  7.5 13.6 17.4  8.4 35.4 24.  13.4 26.2  7.2\n",
            " 13.1 24.5 37.2 25.  24.1 16.6 32.9 36.2 11.   7.2 22.8 28.7 14.4 24.4\n",
            " 18.1 22.5 20.5 15.2 17.4 13.6  8.7 18.2 35.4 31.7 33.  22.2 20.4 23.9\n",
            " 25.  12.7 29.1 12.  17.7 27.  20.6 10.2 17.5 19.7 29.8 20.5 14.9 10.9\n",
            " 19.5 22.7 19.5 24.6 25.  24.5 50.  14.3 11.8 31.  28.7 16.2 43.5 25.\n",
            " 22.  19.9 22.1 46.  22.9 20.2 43.1 34.6 13.8 24.3 21.5 24.4 21.2 23.8\n",
            " 26.6 25.1  9.6 19.4 19.4  9.5 14.  26.5 13.8 34.7 16.3 21.7 17.5 15.6\n",
            " 20.9 21.7 12.7 18.5 23.7 19.3 12.7 21.6 23.2 29.6 21.2 23.8 17.1 22.\n",
            " 36.5 18.8 21.9 23.1 20.2 17.4 37.  24.1 36.2 15.7 32.2 13.5 17.9 13.3\n",
            " 11.7]\n"
          ],
          "name": "stdout"
        }
      ]
    },
    {
      "cell_type": "code",
      "metadata": {
        "id": "W_ciCu_K2Jmn",
        "colab_type": "code",
        "colab": {
          "base_uri": "https://localhost:8080/",
          "height": 431
        },
        "outputId": "e366d768-6eaa-475a-a057-e27ca00e1c01"
      },
      "source": [
        "# Linear Regression\n",
        "clf = linear_model.LinearRegression()\n",
        "clf.fit(X_train, Y_train)\n",
        "\n",
        "print(\"Coef. of Linear Regression\")\n",
        "print(clf.intercept_) \n",
        "print(clf.coef_) \n",
        "\n",
        "# Test Accuracy\n",
        "Y_pred=clf.predict(X_test)\n",
        "RMS=np.mean((Y_pred - Y_test) ** 2)\n",
        "print(\"R^2 of Linear Regression:  \", clf.score(X_train, Y_train))\n",
        "print(\"MSE of Test Samples by Linear Regression: \", RMS)\n",
        "\n",
        "# Ridge Regression\n",
        "clf_ridge= linear_model.Ridge(alpha=2.0)\n",
        "clf_ridge.fit(X_train, Y_train)\n",
        "\n",
        "print(\"\\nCoef. of Ridge Regression\")\n",
        "print(clf_ridge.intercept_) \n",
        "print(clf_ridge.coef_) \n",
        "\n",
        "Y_ridge_pred=clf_ridge.predict(X_test)\n",
        "RMS_ridge=np.mean((Y_ridge_pred - Y_test) ** 2)\n",
        "print(\"R^2 of Ridge Regression: \", clf_ridge.score(X_train, Y_train))\n",
        "print(\"MSE of Test Samples by Ridge Regression: \", RMS_ridge)\n",
        "\n",
        "# Lasso\n",
        "clf_lasso= linear_model.Lasso(alpha=0.5)\n",
        "clf_lasso.fit(X_train, Y_train)\n",
        "\n",
        "print(\"\\nCoef. of Lasso\")\n",
        "print(clf_lasso.intercept_) \n",
        "print(clf_lasso.coef_) \n",
        "\n",
        "Y_lasso_pred=clf_lasso.predict(X_test)\n",
        "RMS_lasso=np.mean((Y_lasso_pred - Y_test) ** 2)\n",
        "print(\"R^2 of Lasso: \", clf_lasso.score(X_train, Y_train))\n",
        "print(\"MSE of Test Samples by Lasso: \", RMS_lasso)\n"
      ],
      "execution_count": 20,
      "outputs": [
        {
          "output_type": "stream",
          "text": [
            "Coef. of Linear Regression\n",
            "22.64412344113058\n",
            "[-1.05434084  1.34399171  0.50856781  0.8600616  -1.91462375  2.51098915\n",
            " -0.08381021 -3.27660143  2.17551714 -1.63967633 -2.43375784  0.62481843\n",
            " -4.22625719]\n",
            "R^2 of Linear Regression:   0.7877808902724839\n",
            "MSE of Test Samples by Linear Regression:  25.301661765846276\n",
            "\n",
            "Coef. of Ridge Regression\n",
            "22.650075631372715\n",
            "[-1.03810547  1.2942119   0.40639625  0.87389964 -1.79277751  2.55706837\n",
            " -0.10575363 -3.16175034  1.96484683 -1.44140529 -2.3997054   0.62619064\n",
            " -4.15856705]\n",
            "R^2 of Ridge Regression:  0.7876412156045218\n",
            "MSE of Test Samples by Ridge Regression:  25.2697184822404\n",
            "\n",
            "Coef. of Lasso\n",
            "22.806637801325476\n",
            "[-0.33789045  0.0230495  -0.          0.62324363 -0.          2.93035727\n",
            " -0.         -0.35165643 -0.         -0.         -2.10338901  0.01810736\n",
            " -4.06136124]\n",
            "R^2 of Lasso:  0.7449487404393083\n",
            "MSE of Test Samples by Lasso:  28.137668154268397\n"
          ],
          "name": "stdout"
        }
      ]
    },
    {
      "cell_type": "code",
      "metadata": {
        "id": "SaIb9gkV2Jms",
        "colab_type": "code",
        "colab": {
          "base_uri": "https://localhost:8080/",
          "height": 295
        },
        "outputId": "d6eb8c18-2b71-468e-8d29-d0fb51b556e1"
      },
      "source": [
        "# Plot coefficinets of Linear Regression\n",
        "m, s, _ = plt.stem(np.where(clf.coef_)[0], clf.coef_[clf.coef_ != 0], label='linear regression',\n",
        "         markerfmt='gx', use_line_collection=True)\n",
        "plt.setp([m, s], color=\"#2ca02c\")\n",
        "#plt.legend(loc='best')\n",
        "#plt.title(\"Coeff of Linear Regression and Ridge Regression\")\n",
        "#plt.show()\n",
        "\n",
        "# Plot coefficinets of Ridge Regression\n",
        "m, s, _ = plt.stem(np.where(clf_ridge.coef_)[0], clf_ridge.coef_[clf_ridge.coef_ != 0], label='ridge regression',\n",
        "         markerfmt='ro', use_line_collection=True)\n",
        "plt.setp([m, s], color='#ff7f0e')\n",
        "\n",
        "# Plot coefficinets of Ridge Regression\n",
        "m, s, _ = plt.stem(np.where(clf_lasso.coef_)[0], clf_lasso.coef_[clf_lasso.coef_ != 0], label='lasso',\n",
        "         markerfmt='bD', use_line_collection=True)\n",
        "plt.setp([m, s], color='#0e0ef7')\n",
        "\n",
        "plt.legend(loc='best')\n",
        "plt.xlabel(\"Coeff #\")\n",
        "plt.ylabel(\"Coeff Value\")\n",
        "plt.title(\"Coeff of Linear Regression and Ridge Regression\")\n",
        "plt.savefig('Lasso_House_Coeff.png')\n",
        "plt.show()"
      ],
      "execution_count": 22,
      "outputs": [
        {
          "output_type": "display_data",
          "data": {
            "image/png": "[encoded data removed]",
            "text/plain": [
              "<Figure size 432x288 with 1 Axes>"
            ]
          },
          "metadata": {
            "tags": [],
            "needs_background": "light"
          }
        }
      ]
    }
  ]
}