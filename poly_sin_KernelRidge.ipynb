{
  "nbformat": 4,
  "nbformat_minor": 0,
  "metadata": {
    "kernelspec": {
      "display_name": "Python 3",
      "language": "python",
      "name": "python3"
    },
    "language_info": {
      "codemirror_mode": {
        "name": "ipython",
        "version": 3
      },
      "file_extension": ".py",
      "mimetype": "text/x-python",
      "name": "python",
      "nbconvert_exporter": "python",
      "pygments_lexer": "ipython3",
      "version": "3.7.7"
    },
    "colab": {
      "name": "poly_sin_KernelRidge.ipynb",
      "provenance": [],
      "include_colab_link": true
    }
  },
  "cells": [
    {
      "cell_type": "markdown",
      "metadata": {
        "id": "view-in-github",
        "colab_type": "text"
      },
      "source": [
        "<a href=\"https://colab.research.google.com/github/namoshi/ml_intro/blob/master/poly_sin_KernelRidge.ipynb\" target=\"_parent\"><img src=\"https://colab.research.google.com/assets/colab-badge.svg\" alt=\"Open In Colab\"/></a>"
      ]
    },
    {
      "cell_type": "markdown",
      "metadata": {
        "id": "rvRN8Iya6hWc",
        "colab_type": "text"
      },
      "source": [
        "## Kernel Ridge Regression"
      ]
    },
    {
      "cell_type": "code",
      "metadata": {
        "id": "pmyd3__A6hWd",
        "colab_type": "code",
        "colab": {}
      },
      "source": [
        "import numpy as np\n",
        "from sklearn.kernel_ridge import KernelRidge\n",
        "import matplotlib.pyplot as plt\n"
      ],
      "execution_count": 1,
      "outputs": []
    },
    {
      "cell_type": "code",
      "metadata": {
        "id": "Fs3XjSbY6hWh",
        "colab_type": "code",
        "colab": {}
      },
      "source": [
        "def y(x, W, M):\n",
        "    Y = np.array([W[i] * (x ** i) for i in range(M+1)])\n",
        "    return Y.sum()"
      ],
      "execution_count": 2,
      "outputs": []
    },
    {
      "cell_type": "code",
      "metadata": {
        "id": "eDulqcKl6hWl",
        "colab_type": "code",
        "colab": {}
      },
      "source": [
        "#Sine curve\n",
        "x_real = np.arange(0, 1, 0.01)\n",
        "y_real = np.sin(2*np.pi*x_real)\n",
        "\n",
        "##Training Data\n",
        "N=10\n",
        "x_train = np.arange(0, 1, 0.1)\n",
        "\n",
        "#Set \"small level of random noise having a Gaussian distribution\"\n",
        "loc = 0\n",
        "scale = 0.3\n",
        "y_train =  np.sin(2*np.pi*x_train) + np.random.normal(loc,scale,N)\n"
      ],
      "execution_count": 3,
      "outputs": []
    },
    {
      "cell_type": "code",
      "metadata": {
        "id": "k2ccY3Kh6hWo",
        "colab_type": "code",
        "colab": {
          "base_uri": "https://localhost:8080/",
          "height": 359
        },
        "outputId": "94eb93d4-c074-47e5-af85-8c18d6564a3b"
      },
      "source": [
        "clf = KernelRidge(alpha=0.1, kernel='rbf', gamma=8.0)\n",
        "print(clf)\n",
        "clf.fit(x_train.reshape((N,1)), y_train)\n",
        "    \n",
        "y_estimate = clf.predict(x_real.reshape((len(x_real),1)))\n",
        "\n",
        "print(y_estimate)\n"
      ],
      "execution_count": 4,
      "outputs": [
        {
          "output_type": "stream",
          "text": [
            "KernelRidge(alpha=0.1, coef0=1, degree=3, gamma=8.0, kernel='rbf',\n",
            "            kernel_params=None)\n",
            "[ 0.4100273   0.4383928   0.46712177  0.49611677  0.52527271  0.55447692\n",
            "  0.5836092   0.61254196  0.6411405   0.6692633   0.69676239  0.72348387\n",
            "  0.74926852  0.77395245  0.79736795  0.81934436  0.83970911  0.85828886\n",
            "  0.87491071  0.88940352  0.90159933  0.91133489  0.91845317  0.92280502\n",
            "  0.92425081  0.9226621   0.91792333  0.9099335   0.89860771  0.8838788\n",
            "  0.86569875  0.84404004  0.81889686  0.79028617  0.75824855  0.72284888\n",
            "  0.68417674  0.64234669  0.59749815  0.54979511  0.49942559  0.44660074\n",
            "  0.39155373  0.33453836  0.27582742  0.21571077  0.15449319  0.09249208\n",
            "  0.03003488 -0.03254359 -0.094904   -0.15670539 -0.21760822 -0.27727735\n",
            " -0.33538505 -0.39161402 -0.44566022 -0.49723568 -0.54607108 -0.59191819\n",
            " -0.63455209 -0.67377308 -0.70940841 -0.74131368 -0.76937386 -0.79350413\n",
            " -0.81365023 -0.82978864 -0.84192628 -0.85009999 -0.85437562 -0.85484689\n",
            " -0.85163392 -0.84488154 -0.83475729 -0.82144934 -0.8051641  -0.78612385\n",
            " -0.76456408 -0.74073092 -0.71487844 -0.68726598 -0.65815552 -0.6278091\n",
            " -0.59648634 -0.56444205 -0.53192408 -0.49917119 -0.4664113  -0.43385973\n",
            " -0.40171785 -0.37017183 -0.33939166 -0.30953041 -0.28072368 -0.25308937\n",
            " -0.22672752 -0.20172049 -0.17813327 -0.15601394]\n"
          ],
          "name": "stdout"
        }
      ]
    },
    {
      "cell_type": "code",
      "metadata": {
        "id": "PLCWRsIP6hWt",
        "colab_type": "code",
        "colab": {
          "base_uri": "https://localhost:8080/",
          "height": 295
        },
        "outputId": "a76b3532-626a-4050-fa15-3840806ddbeb"
      },
      "source": [
        "plt.plot(x_real, y_estimate, 'r-')\n",
        "plt.plot(x_train, y_train, 'bo') \n",
        "plt.plot(x_real, y_real, 'g-')\n",
        "plt.xlim(0.0, 1.0)\n",
        "plt.ylim(-1.6, 1.6)\n",
        "plt.title(\"poly_sin_KernelRidge\")\n",
        "plt.xlabel('x')\n",
        "plt.ylabel('y')\n",
        "plt.savefig('poly_sin_KernelRidge.eps')\n",
        "plt.show()\n",
        "plt.close()\n"
      ],
      "execution_count": 5,
      "outputs": [
        {
          "output_type": "display_data",
          "data": {
            "image/png": "[encoded data removed]",
            "text/plain": [
              "<Figure size 432x288 with 1 Axes>"
            ]
          },
          "metadata": {
            "tags": [],
            "needs_background": "light"
          }
        }
      ]
    },
    {
      "cell_type": "code",
      "metadata": {
        "id": "e4nV-MUc6hWx",
        "colab_type": "code",
        "colab": {}
      },
      "source": [
        ""
      ],
      "execution_count": null,
      "outputs": []
    }
  ]
}