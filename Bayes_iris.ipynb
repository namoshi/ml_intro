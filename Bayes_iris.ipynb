{
  "nbformat": 4,
  "nbformat_minor": 0,
  "metadata": {
    "celltoolbar": "Slideshow",
    "kernelspec": {
      "name": "python3",
      "display_name": "Python 3",
      "language": "python"
    },
    "language_info": {
      "mimetype": "text/x-python",
      "nbconvert_exporter": "python",
      "name": "python",
      "pygments_lexer": "ipython3",
      "version": "3.5.4",
      "file_extension": ".py",
      "codemirror_mode": {
        "version": 3,
        "name": "ipython"
      }
    },
    "colab": {
      "name": "Bayes_iris.ipynb",
      "provenance": [],
      "include_colab_link": true
    }
  },
  "cells": [
    {
      "cell_type": "markdown",
      "metadata": {
        "id": "view-in-github",
        "colab_type": "text"
      },
      "source": [
        "<a href=\"https://colab.research.google.com/github/namoshi/ml_intro/blob/master/Bayes_iris.ipynb\" target=\"_parent\"><img src=\"https://colab.research.google.com/assets/colab-badge.svg\" alt=\"Open In Colab\"/></a>"
      ]
    },
    {
      "cell_type": "markdown",
      "metadata": {
        "id": "sf7KVyh23zER"
      },
      "source": [
        "## フィッシャーのアヤメのデータを用いたベイズ識別"
      ]
    },
    {
      "cell_type": "markdown",
      "metadata": {
        "id": "sHqJMIjg3zEU"
      },
      "source": [
        "アヤメのデータの読み込み"
      ]
    },
    {
      "cell_type": "code",
      "metadata": {
        "trusted": true,
        "id": "Kquf83JC3zEW",
        "outputId": "715aa4ff-52b9-450f-ff9d-be9ab68aae83",
        "colab": {
          "base_uri": "https://localhost:8080/",
          "height": 127
        }
      },
      "source": [
        "import numpy as np\n",
        "import pylab as pl\n",
        "from sklearn import datasets\n",
        "\n",
        "# data = np.loadtxt(\"iris.dat\",comments='#')                                    \n",
        "iris = datasets.load_iris()\n",
        "data = iris.data\n",
        "y = iris.target\n",
        "target_names = iris.target_names\n",
        "\n",
        "print('Size of the data = ', data.shape)\n",
        "\n",
        "n = data.shape[0]\n",
        "mdim = data.shape[1]\n",
        "\n",
        "print(y)\n",
        "\n",
        "X1 = data[y == 0,:]\n",
        "X2 = data[y == 1,:]\n",
        "X3 = data[y == 2,:]\n",
        "\n",
        "n1 = len(X1)\n",
        "n2 = len(X2)\n",
        "n3 = len(X3)\n"
      ],
      "execution_count": 1,
      "outputs": [
        {
          "output_type": "stream",
          "text": [
            "Size of the data =  (150, 4)\n",
            "[0 0 0 0 0 0 0 0 0 0 0 0 0 0 0 0 0 0 0 0 0 0 0 0 0 0 0 0 0 0 0 0 0 0 0 0 0\n",
            " 0 0 0 0 0 0 0 0 0 0 0 0 0 1 1 1 1 1 1 1 1 1 1 1 1 1 1 1 1 1 1 1 1 1 1 1 1\n",
            " 1 1 1 1 1 1 1 1 1 1 1 1 1 1 1 1 1 1 1 1 1 1 1 1 1 1 2 2 2 2 2 2 2 2 2 2 2\n",
            " 2 2 2 2 2 2 2 2 2 2 2 2 2 2 2 2 2 2 2 2 2 2 2 2 2 2 2 2 2 2 2 2 2 2 2 2 2\n",
            " 2 2]\n"
          ],
          "name": "stdout"
        }
      ]
    },
    {
      "cell_type": "markdown",
      "metadata": {
        "id": "8eJ6NItz3zEj"
      },
      "source": [
        "各クラスの平均ベクトルの計算"
      ]
    },
    {
      "cell_type": "code",
      "metadata": {
        "trusted": true,
        "id": "By9mTe_L3zEl",
        "outputId": "5b69f964-f225-4b2a-979c-61ff69e1b878",
        "colab": {
          "base_uri": "https://localhost:8080/",
          "height": 127
        }
      },
      "source": [
        "# estimate the mean vector of each class                                        \n",
        "mu1 = sum(np.asarray(X1,dtype=np.float)) / float(n1)\n",
        "mu2 = sum(np.asarray(X2,dtype=np.float)) / float(n2)\n",
        "mu3 = sum(np.asarray(X3,dtype=np.float)) / float(n3)\n",
        "\n",
        "print('mu1\\n', mu1)                                                             \n",
        "print('mu2\\n', mu2)                                                             \n",
        "print('mu3\\n', mu3)                                                             \n"
      ],
      "execution_count": 2,
      "outputs": [
        {
          "output_type": "stream",
          "text": [
            "mu1\n",
            " [5.006 3.428 1.462 0.246]\n",
            "mu2\n",
            " [5.936 2.77  4.26  1.326]\n",
            "mu3\n",
            " [6.588 2.974 5.552 2.026]\n"
          ],
          "name": "stdout"
        }
      ]
    },
    {
      "cell_type": "markdown",
      "metadata": {
        "id": "GmJLPp4z3zEu"
      },
      "source": [
        "各クラスの分散共分散行列の計算"
      ]
    },
    {
      "cell_type": "code",
      "metadata": {
        "trusted": true,
        "id": "qYXfSlk33zEw",
        "outputId": "b99f16d4-4ee1-402a-df5b-43621e2d59b1",
        "colab": {
          "base_uri": "https://localhost:8080/",
          "height": 293
        }
      },
      "source": [
        "# estimate the covariance matrices of each class                                \n",
        "X1_m = X1 - mu1\n",
        "X2_m = X2 - mu2\n",
        "X3_m = X3 - mu3\n",
        "\n",
        "#print 'X1_m\\n', X1_m                                                           \n",
        "#print 'X2_m\\n', X2_m                                                           \n",
        "#print 'X3_m\\n', X3_m                                                           \n",
        "\n",
        "S1 = np.dot(X1_m.T, X1_m)/float(n1)\n",
        "S2 = np.dot(X2_m.T, X2_m)/float(n2)\n",
        "S3 = np.dot(X3_m.T, X3_m)/float(n3)\n",
        "\n",
        "print('S1\\n', S1)\n",
        "print('S2\\n', S2)\n",
        "print('S3\\n', S3)\n"
      ],
      "execution_count": 4,
      "outputs": [
        {
          "output_type": "stream",
          "text": [
            "S1\n",
            " [[0.121764 0.097232 0.016028 0.010124]\n",
            " [0.097232 0.140816 0.011464 0.009112]\n",
            " [0.016028 0.011464 0.029556 0.005948]\n",
            " [0.010124 0.009112 0.005948 0.010884]]\n",
            "S2\n",
            " [[0.261104 0.08348  0.17924  0.054664]\n",
            " [0.08348  0.0965   0.081    0.04038 ]\n",
            " [0.17924  0.081    0.2164   0.07164 ]\n",
            " [0.054664 0.04038  0.07164  0.038324]]\n",
            "S3\n",
            " [[0.396256 0.091888 0.297224 0.048112]\n",
            " [0.091888 0.101924 0.069952 0.046676]\n",
            " [0.297224 0.069952 0.298496 0.047848]\n",
            " [0.048112 0.046676 0.047848 0.073924]]\n"
          ],
          "name": "stdout"
        }
      ]
    },
    {
      "cell_type": "markdown",
      "metadata": {
        "id": "uhdsatpj3zE5"
      },
      "source": [
        "２次識別関数の計算"
      ]
    },
    {
      "cell_type": "code",
      "metadata": {
        "trusted": true,
        "id": "ovgpHvXo3zE6",
        "outputId": "ab311efb-6d99-4d0f-b15b-975459d9ffb6",
        "colab": {
          "base_uri": "https://localhost:8080/",
          "height": 1000
        }
      },
      "source": [
        "S1inv = np.linalg.inv(S1)\n",
        "S2inv = np.linalg.inv(S2)\n",
        "S3inv = np.linalg.inv(S3)\n",
        "\n",
        "print('S1inv\\n', S1inv)\n",
        "print('S2inv\\n', S2inv)\n",
        "print('S3inv\\n', S3inv)\n",
        "\n",
        "S1det = np.linalg.det(S1)\n",
        "S2det = np.linalg.det(S2)\n",
        "S3det = np.linalg.det(S3)\n",
        "\n",
        "print('S1det = ', S1det, 'S2det = ', S2det, 'S3det = ', S3det)\n",
        "\n",
        "# probabilities of each class P(C_k)\n",
        "P1 = 1.0 / 3.0\n",
        "P2 = 1.0 / 3.0\n",
        "P3 = 1.0 / 3.0\n",
        "\n",
        "# discriminant functions\n",
        "G = np.zeros((n,3))\n",
        "\n",
        "for i in range(n):\n",
        "    dx1 = data[i,:] - mu1\n",
        "    dx2 = data[i,:] - mu2\n",
        "    dx3 = data[i,:] - mu3\n",
        "    G[i,0] = np.log(P1) - np.dot(np.dot(dx1.T, S1inv),dx1)/2.0 - np.log(S1det)\n",
        "    G[i,1] = np.log(P2) - np.dot(np.dot(dx2.T, S2inv),dx2)/2.0 - np.log(S2det)\n",
        "    G[i,2] = np.log(P3) - np.dot(np.dot(dx3.T, S3inv),dx3)/2.0 - np.log(S3det)\n",
        "    \n",
        "print('G\\n', G)\n"
      ],
      "execution_count": 5,
      "outputs": [
        {
          "output_type": "stream",
          "text": [
            "S1inv\n",
            " [[ 19.33003958 -12.65798587  -4.59204749  -4.87359931]\n",
            " [-12.65798587  15.8883063    1.13375422  -2.1470386 ]\n",
            " [ -4.59204749   1.13375422  39.56755523 -18.30105643]\n",
            " [ -4.87359931  -2.1470386  -18.30105643 108.21010831]]\n",
            "S2inv\n",
            " [[  9.69669772  -3.75124144  -8.8078693    6.586228  ]\n",
            " [ -3.75124144  20.11323105   2.15920653 -19.87788235]\n",
            " [ -8.8078693    2.15920653  20.20791605 -27.48696634]\n",
            " [  6.586228   -19.87788235 -27.48696634  89.02529982]]\n",
            "S3inv\n",
            " [[ 10.74884367  -3.55074106 -10.16341423   1.82464513]\n",
            " [ -3.55074106  16.19943087   1.12519255  -8.64576585]\n",
            " [-10.16341423   1.12519255  13.6794087   -2.94991681]\n",
            " [  1.82464513  -8.64576585  -2.94991681  19.70821465]]\n",
            "S1det =  1.9490447916159986e-06 S2det =  1.746807079488e-05 S3det =  0.0001224424655205123\n",
            "G\n",
            " [[ 1.18204192e+01 -4.87171954e+01 -8.54253903e+01]\n",
            " [ 1.09877761e+01 -3.26513149e+01 -7.06493908e+01]\n",
            " [ 1.13942859e+01 -3.85722647e+01 -7.39755124e+01]\n",
            " [ 1.11790451e+01 -3.23775575e+01 -6.38465563e+01]\n",
            " [ 1.16609439e+01 -5.16133868e+01 -8.59871438e+01]\n",
            " [ 1.01553510e+01 -5.16128993e+01 -8.56101745e+01]\n",
            " [ 1.03025200e+01 -3.91248401e+01 -7.06716937e+01]\n",
            " [ 1.18743348e+01 -4.31102443e+01 -7.75214193e+01]\n",
            " [ 1.05207443e+01 -2.78715322e+01 -5.98282726e+01]\n",
            " [ 1.04168620e+01 -3.78454634e+01 -7.20594231e+01]\n",
            " [ 1.10847871e+01 -5.63042956e+01 -9.35218682e+01]\n",
            " [ 1.10215592e+01 -4.09686223e+01 -7.08119887e+01]\n",
            " [ 1.05458175e+01 -3.58267031e+01 -7.14612835e+01]\n",
            " [ 8.45761502e+00 -3.80861665e+01 -7.20836391e+01]\n",
            " [ 6.83421345e+00 -7.91600166e+01 -1.24727236e+02]\n",
            " [ 8.14455721e+00 -7.94539839e+01 -1.15822014e+02]\n",
            " [ 9.11977891e+00 -6.08768978e+01 -1.00616708e+02]\n",
            " [ 1.17249391e+01 -4.49976515e+01 -8.24237423e+01]\n",
            " [ 9.40375547e+00 -5.44595098e+01 -9.24675725e+01]\n",
            " [ 1.12268993e+01 -5.36146433e+01 -8.68723946e+01]\n",
            " [ 9.32044727e+00 -4.27233914e+01 -7.88645546e+01]\n",
            " [ 1.06606021e+01 -4.63846949e+01 -8.10436570e+01]\n",
            " [ 6.41464664e+00 -5.70857907e+01 -9.23119451e+01]\n",
            " [ 8.36059186e+00 -2.79536498e+01 -6.24444388e+01]\n",
            " [ 7.07610284e+00 -3.84469706e+01 -6.24206745e+01]\n",
            " [ 1.01258291e+01 -3.01698350e+01 -6.59914359e+01]\n",
            " [ 1.07609430e+01 -3.43068976e+01 -6.84596701e+01]\n",
            " [ 1.16265338e+01 -4.76811250e+01 -8.39768353e+01]\n",
            " [ 1.13745513e+01 -4.61941281e+01 -8.52041343e+01]\n",
            " [ 1.09401733e+01 -3.43665843e+01 -6.45904424e+01]\n",
            " [ 1.10319537e+01 -3.18021921e+01 -6.41639360e+01]\n",
            " [ 9.55511421e+00 -3.97618313e+01 -8.05059379e+01]\n",
            " [ 8.12135561e+00 -7.76329786e+01 -1.05427792e+02]\n",
            " [ 9.37199564e+00 -7.99602554e+01 -1.15105681e+02]\n",
            " [ 1.14031400e+01 -3.36241875e+01 -6.91405316e+01]\n",
            " [ 1.03649546e+01 -4.25960185e+01 -8.38020830e+01]\n",
            " [ 9.13054364e+00 -5.45085844e+01 -9.87316558e+01]\n",
            " [ 1.04752481e+01 -5.60436933e+01 -8.74050921e+01]\n",
            " [ 1.03810660e+01 -3.18133982e+01 -6.46605852e+01]\n",
            " [ 1.17488715e+01 -4.37041513e+01 -7.95020208e+01]\n",
            " [ 1.11899430e+01 -4.63656181e+01 -8.39245642e+01]\n",
            " [ 5.75994730e+00 -1.74221009e+01 -5.50796915e+01]\n",
            " [ 9.90617185e+00 -3.74915017e+01 -6.88231851e+01]\n",
            " [ 5.76891717e+00 -3.30730303e+01 -6.55833714e+01]\n",
            " [ 7.66121205e+00 -4.32373571e+01 -7.10413774e+01]\n",
            " [ 1.09298386e+01 -2.90899767e+01 -6.60160034e+01]\n",
            " [ 1.06435679e+01 -5.67828167e+01 -8.68323270e+01]\n",
            " [ 1.12899325e+01 -3.65991495e+01 -6.89870649e+01]\n",
            " [ 1.14104121e+01 -5.55320249e+01 -9.13253236e+01]\n",
            " [ 1.17971324e+01 -4.15947896e+01 -7.86476814e+01]\n",
            " [-2.02504849e+02  6.74853627e+00 -4.44283092e+00]\n",
            " [-1.80983551e+02  8.63340736e+00 -4.39455673e-01]\n",
            " [-2.29489112e+02  8.03857334e+00  5.26177969e-01]\n",
            " [-1.37068399e+02  7.85761493e+00  9.00757430e-01]\n",
            " [-2.01207161e+02  8.60353923e+00  1.60060998e+00]\n",
            " [-1.71365205e+02  8.19694115e+00  2.66860158e+00]\n",
            " [-2.04864447e+02  8.26571706e+00  1.96856009e+00]\n",
            " [-6.81126217e+01  7.44014044e+00 -5.76536088e+00]\n",
            " [-1.87922839e+02  8.37120848e+00 -1.20789096e+00]\n",
            " [-1.28995792e+02  7.62376786e+00  1.51299460e+00]\n",
            " [-8.79403897e+01  6.57547917e+00 -4.26178761e+00]\n",
            " [-1.55650643e+02  8.50177275e+00  8.80197010e-01]\n",
            " [-1.31321162e+02  6.71313220e+00 -5.64770068e+00]\n",
            " [-1.97088333e+02  8.95460414e+00  3.45788998e+00]\n",
            " [-9.78753795e+01  7.02942352e+00 -5.60236668e+00]\n",
            " [-1.71685918e+02  7.67552869e+00 -4.74990583e+00]\n",
            " [-1.81748844e+02  8.05659154e+00  3.43067917e+00]\n",
            " [-1.24069748e+02  6.52679777e+00 -3.53171085e+00]\n",
            " [-2.05344522e+02  3.48434732e+00  1.03036086e+00]\n",
            " [-1.14141232e+02  9.13802982e+00 -2.26430434e+00]\n",
            " [-2.34254419e+02  5.51233295e+00  5.25389747e+00]\n",
            " [-1.31177681e+02  8.86207451e+00 -3.81982993e+00]\n",
            " [-2.36741240e+02  6.76102372e+00  4.94597911e+00]\n",
            " [-1.89109868e+02  6.21687477e+00  1.63947208e+00]\n",
            " [-1.57138082e+02  8.95868341e+00 -3.00602739e+00]\n",
            " [-1.72537367e+02  8.36673046e+00 -3.14094226e+00]\n",
            " [-2.20033002e+02  7.93119770e+00  3.67075547e-01]\n",
            " [-2.54293090e+02  7.44194193e+00  4.62735344e+00]\n",
            " [-1.83972727e+02  9.36033611e+00  3.46908500e+00]\n",
            " [-8.05157287e+01  7.58557596e+00 -9.93378438e+00]\n",
            " [-1.07994467e+02  9.02150813e+00 -2.56338838e+00]\n",
            " [-9.62634418e+01  8.44673626e+00 -4.79351371e+00]\n",
            " [-1.16736720e+02  9.42321852e+00 -3.14329791e+00]\n",
            " [-2.57701120e+02  5.72951597e+00  6.51136051e+00]\n",
            " [-1.82767939e+02  6.84490540e+00  3.01969662e+00]\n",
            " [-1.83921526e+02  7.00480812e+00  4.21010602e-01]\n",
            " [-2.05907686e+02  8.59094794e+00  7.94493656e-02]\n",
            " [-1.81612965e+02  6.91885190e+00 -9.83084823e-01]\n",
            " [-1.32372676e+02  8.68943022e+00 -7.87343404e-01]\n",
            " [-1.32674053e+02  9.02779952e+00  1.08170541e+00]\n",
            " [-1.59626513e+02  7.11040718e+00  2.15087046e+00]\n",
            " [-1.85112129e+02  9.19609545e+00  2.32781616e+00]\n",
            " [-1.26546296e+02  9.60263563e+00 -1.67111932e+00]\n",
            " [-6.97527941e+01  7.57369011e+00 -6.12342971e+00]\n",
            " [-1.45516524e+02  9.47166947e+00  1.78576543e+00]\n",
            " [-1.35166716e+02  7.69822936e+00 -1.62991218e+00]\n",
            " [-1.42327648e+02  9.31182082e+00  4.37107745e-01]\n",
            " [-1.54432586e+02  9.46235939e+00 -1.29262937e+00]\n",
            " [-5.72292135e+01  4.60611952e+00 -1.08155510e+01]\n",
            " [-1.35723393e+02  9.66350560e+00  2.06340869e-01]\n",
            " [-4.60244082e+02 -1.55380466e+01  3.41839473e+00]\n",
            " [-2.85221501e+02  4.74003325e-02  6.94270872e+00]\n",
            " [-4.06136854e+02 -1.58709949e+00  7.48406430e+00]\n",
            " [-3.31626452e+02  2.54522530e+00  6.83305950e+00]\n",
            " [-3.98521858e+02 -5.06480029e+00  7.10031149e+00]\n",
            " [-5.16978484e+02 -6.68310420e+00  5.78416743e+00]\n",
            " [-2.11723103e+02 -8.77443530e-01  3.83052591e+00]\n",
            " [-4.43017091e+02 -3.23691079e+00  6.03773400e+00]\n",
            " [-3.73966280e+02 -2.04775351e+00  6.13113443e+00]\n",
            " [-4.68306871e+02 -1.02812810e+01  5.63949051e+00]\n",
            " [-2.87950537e+02  2.22646185e+00  6.47816971e+00]\n",
            " [-3.10660043e+02  1.31057702e+00  7.45606220e+00]\n",
            " [-3.52049334e+02 -1.41590702e+00  7.47548755e+00]\n",
            " [-2.90691040e+02 -6.62870695e+00  6.04949770e+00]\n",
            " [-3.51662322e+02 -2.33916389e+01  5.04583768e+00]\n",
            " [-3.48071320e+02 -8.97822390e+00  6.95185250e+00]\n",
            " [-3.17925535e+02  4.83828528e+00  7.32784045e+00]\n",
            " [-5.18771459e+02 -4.39868319e+00  3.07250608e+00]\n",
            " [-6.04973630e+02 -2.12358337e+01  9.35229230e-01]\n",
            " [-2.52614661e+02  2.37411585e+00  4.63437863e+00]\n",
            " [-3.96877331e+02 -6.55010247e+00  7.26382478e+00]\n",
            " [-2.74613440e+02 -3.28255770e+00  6.57561398e+00]\n",
            " [-5.34566591e+02 -9.88883510e+00  4.51350869e+00]\n",
            " [-2.56354712e+02  3.62092259e+00  6.28341467e+00]\n",
            " [-3.67690888e+02  1.04024696e+00  7.24683734e+00]\n",
            " [-3.87485616e+02  2.22984623e+00  6.28239096e+00]\n",
            " [-2.42890188e+02  4.30675751e+00  6.22301418e+00]\n",
            " [-2.47826924e+02  5.79630350e+00  6.60341534e+00]\n",
            " [-3.65747013e+02 -3.95909193e+00  7.36273118e+00]\n",
            " [-3.52765610e+02  2.31483511e+00  5.34197108e+00]\n",
            " [-4.27343000e+02 -1.80764488e+00  6.21063754e+00]\n",
            " [-4.57038945e+02 -1.43161341e+00  2.38560529e+00]\n",
            " [-3.78232695e+02 -7.85749047e+00  7.01637593e+00]\n",
            " [-2.50557993e+02  7.11182590e+00  5.72318509e+00]\n",
            " [-3.11075290e+02 -4.23241875e+00  3.42738755e+00]\n",
            " [-4.68928576e+02 -1.06036454e+01  4.69282386e+00]\n",
            " [-3.93093018e+02 -1.04975939e+01  5.62729601e+00]\n",
            " [-3.14963200e+02  4.75578555e+00  6.80247434e+00]\n",
            " [-2.37546680e+02  5.45172710e+00  6.34422114e+00]\n",
            " [-3.38979865e+02 -1.06482317e+00  6.72996431e+00]\n",
            " [-4.00247767e+02 -1.33484136e+01  6.80102804e+00]\n",
            " [-3.34182494e+02 -1.46807166e+01  3.66785553e+00]\n",
            " [-2.85221501e+02  4.74003325e-02  6.94270872e+00]\n",
            " [-4.21082828e+02 -5.98523130e+00  7.22800132e+00]\n",
            " [-4.22379940e+02 -1.56101575e+01  6.30711586e+00]\n",
            " [-3.44540202e+02 -1.34256053e+01  5.59013040e+00]\n",
            " [-2.82857777e+02 -2.06395317e+00  5.86451316e+00]\n",
            " [-3.03351210e+02  1.31522230e+00  7.34200788e+00]\n",
            " [-3.55650594e+02 -7.08372568e+00  5.89808762e+00]\n",
            " [-2.68964721e+02  4.69708394e+00  6.53625641e+00]]\n"
          ],
          "name": "stdout"
        }
      ]
    },
    {
      "cell_type": "markdown",
      "metadata": {
        "id": "cjBQrV7I3zFD"
      },
      "source": [
        "結果の表示"
      ]
    },
    {
      "cell_type": "code",
      "metadata": {
        "trusted": true,
        "id": "voPR_9xM3zFF",
        "outputId": "a1b8f02e-6e77-4575-b04c-a7d022b4e4c5",
        "colab": {
          "base_uri": "https://localhost:8080/",
          "height": 283
        }
      },
      "source": [
        "%pylab inline\n",
        "\n",
        "x = range(n)\n",
        "#print x\n",
        "\n",
        "pl.plot(x, G[:,0], color='red')\n",
        "pl.plot(x, G[:,1], color='blue')\n",
        "pl.plot(x, G[:,2], color='green')\n",
        "\n",
        "pl.show()\n"
      ],
      "execution_count": 6,
      "outputs": [
        {
          "output_type": "stream",
          "text": [
            "Populating the interactive namespace from numpy and matplotlib\n"
          ],
          "name": "stdout"
        },
        {
          "output_type": "display_data",
          "data": {
            "image/png": "[encoded data removed]",
            "text/plain": [
              "<Figure size 432x288 with 1 Axes>"
            ]
          },
          "metadata": {
            "tags": [],
            "needs_background": "light"
          }
        }
      ]
    },
    {
      "cell_type": "code",
      "metadata": {
        "trusted": false,
        "id": "0UvauBxl3zFN"
      },
      "source": [
        ""
      ],
      "execution_count": null,
      "outputs": []
    },
    {
      "cell_type": "code",
      "metadata": {
        "trusted": false,
        "id": "lG3BwgpT3zFW"
      },
      "source": [
        ""
      ],
      "execution_count": null,
      "outputs": []
    }
  ]
}