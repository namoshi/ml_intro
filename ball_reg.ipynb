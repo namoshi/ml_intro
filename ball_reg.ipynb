{
 "cells": [
  {
   "cell_type": "code",
   "execution_count": 4,
   "metadata": {},
   "outputs": [],
   "source": [
    "import numpy as np\n",
    "import statsmodels.api as sm\n"
   ]
  },
  {
   "cell_type": "code",
   "execution_count": 5,
   "metadata": {},
   "outputs": [
    {
     "output_type": "stream",
     "name": "stdout",
     "text": "data= [[ 22.  28. 146.  34.]\n [ 36.  46. 169.  57.]\n [ 24.  39. 160.  48.]\n [ 22.  25. 156.  38.]\n [ 27.  34. 161.  47.]\n [ 29.  29. 168.  50.]\n [ 26.  38. 154.  54.]\n [ 23.  23. 153.  40.]\n [ 31.  42. 160.  62.]\n [ 24.  27. 152.  39.]\n [ 23.  35. 155.  46.]\n [ 27.  39. 154.  54.]\n [ 31.  38. 157.  57.]\n [ 25.  32. 162.  53.]\n [ 23.  25. 142.  32.]]\nx= [[ 28. 146.  34.]\n [ 46. 169.  57.]\n [ 39. 160.  48.]\n [ 25. 156.  38.]\n [ 34. 161.  47.]\n [ 29. 168.  50.]\n [ 38. 154.  54.]\n [ 23. 153.  40.]\n [ 42. 160.  62.]\n [ 27. 152.  39.]\n [ 35. 155.  46.]\n [ 39. 154.  54.]\n [ 38. 157.  57.]\n [ 32. 162.  53.]\n [ 25. 142.  32.]]\ny= [22. 36. 24. 22. 27. 29. 26. 23. 31. 24. 23. 27. 31. 25. 23.]\nX [[  1.  28. 146.  34.]\n [  1.  46. 169.  57.]\n [  1.  39. 160.  48.]\n [  1.  25. 156.  38.]\n [  1.  34. 161.  47.]\n [  1.  29. 168.  50.]\n [  1.  38. 154.  54.]\n [  1.  23. 153.  40.]\n [  1.  42. 160.  62.]\n [  1.  27. 152.  39.]\n [  1.  35. 155.  46.]\n [  1.  39. 154.  54.]\n [  1.  38. 157.  57.]\n [  1.  32. 162.  53.]\n [  1.  25. 142.  32.]]\n"
    }
   ],
   "source": [
    "\n",
    "data = np.loadtxt(\"ball.dat\", comments=\"#\")\n",
    "\n",
    "print('data=', data)\n",
    "\n",
    "x = data[:,1:]\n",
    "\n",
    "y = data[:,0]\n",
    "\n",
    "print('x=', x)\n",
    "print('y=', y)\n",
    "\n",
    "X = sm.add_constant(x)\n",
    "print('X', X)\n"
   ]
  },
  {
   "cell_type": "code",
   "execution_count": 6,
   "metadata": {},
   "outputs": [
    {
     "output_type": "execute_result",
     "data": {
      "text/plain": "<class 'statsmodels.iolib.summary.Summary'>\n\"\"\"\n                            OLS Regression Results                            \n==============================================================================\nDep. Variable:                      y   R-squared:                       0.691\nModel:                            OLS   Adj. R-squared:                  0.607\nMethod:                 Least Squares   F-statistic:                     8.213\nDate:                Sun, 10 May 2020   Prob (F-statistic):            0.00377\nTime:                        19:33:05   Log-Likelihood:                -32.890\nNo. Observations:                  15   AIC:                             73.78\nDf Residuals:                      11   BIC:                             76.61\nDf Model:                           3                                         \nCovariance Type:            nonrobust                                         \n==============================================================================\n                 coef    std err          t      P>|t|      [0.025      0.975]\n------------------------------------------------------------------------------\nconst        -13.2173     17.604     -0.751      0.469     -51.963      25.528\nx1             0.2014      0.184      1.093      0.298      -0.204       0.607\nx2             0.1710      0.132      1.300      0.220      -0.119       0.461\nx3             0.1249      0.167      0.750      0.469      -0.242       0.492\n==============================================================================\nOmnibus:                        0.111   Durbin-Watson:                   2.665\nProb(Omnibus):                  0.946   Jarque-Bera (JB):                0.333\nSkew:                          -0.062   Prob(JB):                        0.847\nKurtosis:                       2.281   Cond. No.                     4.50e+03\n==============================================================================\n\nWarnings:\n[1] Standard Errors assume that the covariance matrix of the errors is correctly specified.\n[2] The condition number is large, 4.5e+03. This might indicate that there are\nstrong multicollinearity or other numerical problems.\n\"\"\"",
      "text/html": "<table class=\"simpletable\">\n<caption>OLS Regression Results</caption>\n<tr>\n  <th>Dep. Variable:</th>            <td>y</td>        <th>  R-squared:         </th> <td>   0.691</td>\n</tr>\n<tr>\n  <th>Model:</th>                   <td>OLS</td>       <th>  Adj. R-squared:    </th> <td>   0.607</td>\n</tr>\n<tr>\n  <th>Method:</th>             <td>Least Squares</td>  <th>  F-statistic:       </th> <td>   8.213</td>\n</tr>\n<tr>\n  <th>Date:</th>             <td>Sun, 10 May 2020</td> <th>  Prob (F-statistic):</th>  <td>0.00377</td>\n</tr>\n<tr>\n  <th>Time:</th>                 <td>19:33:05</td>     <th>  Log-Likelihood:    </th> <td> -32.890</td>\n</tr>\n<tr>\n  <th>No. Observations:</th>      <td>    15</td>      <th>  AIC:               </th> <td>   73.78</td>\n</tr>\n<tr>\n  <th>Df Residuals:</th>          <td>    11</td>      <th>  BIC:               </th> <td>   76.61</td>\n</tr>\n<tr>\n  <th>Df Model:</th>              <td>     3</td>      <th>                     </th>     <td> </td>   \n</tr>\n<tr>\n  <th>Covariance Type:</th>      <td>nonrobust</td>    <th>                     </th>     <td> </td>   \n</tr>\n</table>\n<table class=\"simpletable\">\n<tr>\n    <td></td>       <th>coef</th>     <th>std err</th>      <th>t</th>      <th>P>|t|</th>  <th>[0.025</th>    <th>0.975]</th>  \n</tr>\n<tr>\n  <th>const</th> <td>  -13.2173</td> <td>   17.604</td> <td>   -0.751</td> <td> 0.469</td> <td>  -51.963</td> <td>   25.528</td>\n</tr>\n<tr>\n  <th>x1</th>    <td>    0.2014</td> <td>    0.184</td> <td>    1.093</td> <td> 0.298</td> <td>   -0.204</td> <td>    0.607</td>\n</tr>\n<tr>\n  <th>x2</th>    <td>    0.1710</td> <td>    0.132</td> <td>    1.300</td> <td> 0.220</td> <td>   -0.119</td> <td>    0.461</td>\n</tr>\n<tr>\n  <th>x3</th>    <td>    0.1249</td> <td>    0.167</td> <td>    0.750</td> <td> 0.469</td> <td>   -0.242</td> <td>    0.492</td>\n</tr>\n</table>\n<table class=\"simpletable\">\n<tr>\n  <th>Omnibus:</th>       <td> 0.111</td> <th>  Durbin-Watson:     </th> <td>   2.665</td>\n</tr>\n<tr>\n  <th>Prob(Omnibus):</th> <td> 0.946</td> <th>  Jarque-Bera (JB):  </th> <td>   0.333</td>\n</tr>\n<tr>\n  <th>Skew:</th>          <td>-0.062</td> <th>  Prob(JB):          </th> <td>   0.847</td>\n</tr>\n<tr>\n  <th>Kurtosis:</th>      <td> 2.281</td> <th>  Cond. No.          </th> <td>4.50e+03</td>\n</tr>\n</table><br/><br/>Warnings:<br/>[1] Standard Errors assume that the covariance matrix of the errors is correctly specified.<br/>[2] The condition number is large, 4.5e+03. This might indicate that there are<br/>strong multicollinearity or other numerical problems."
     },
     "metadata": {},
     "execution_count": 6
    }
   ],
   "source": [
    "model = sm.OLS(y, X)\n",
    "results = model.fit()\n",
    "results.summary()"
   ]
  },
  {
   "cell_type": "code",
   "execution_count": null,
   "metadata": {},
   "outputs": [],
   "source": []
  }
 ],
 "metadata": {
  "language_info": {
   "codemirror_mode": {
    "name": "ipython",
    "version": 3
   },
   "file_extension": ".py",
   "mimetype": "text/x-python",
   "name": "python",
   "nbconvert_exporter": "python",
   "pygments_lexer": "ipython3",
   "version": "3.7.7-final"
  },
  "orig_nbformat": 2,
  "kernelspec": {
   "name": "python37764bitf17792507ed64d5eba6302694e3f1111",
   "display_name": "Python 3.7.7 64-bit"
  }
 },
 "nbformat": 4,
 "nbformat_minor": 2
}