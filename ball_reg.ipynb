{
  "nbformat": 4,
  "nbformat_minor": 0,
  "metadata": {
    "language_info": {
      "codemirror_mode": {
        "name": "ipython",
        "version": 3
      },
      "file_extension": ".py",
      "mimetype": "text/x-python",
      "name": "python",
      "nbconvert_exporter": "python",
      "pygments_lexer": "ipython3",
      "version": "3.7.7-final"
    },
    "orig_nbformat": 2,
    "kernelspec": {
      "name": "python37764bitf17792507ed64d5eba6302694e3f1111",
      "display_name": "Python 3.7.7 64-bit"
    },
    "colab": {
      "name": "ball_reg.ipynb",
      "provenance": [],
      "include_colab_link": true
    }
  },
  "cells": [
    {
      "cell_type": "markdown",
      "metadata": {
        "id": "view-in-github",
        "colab_type": "text"
      },
      "source": [
        "<a href=\"https://colab.research.google.com/github/namoshi/ml_intro/blob/master/ball_reg.ipynb\" target=\"_parent\"><img src=\"https://colab.research.google.com/assets/colab-badge.svg\" alt=\"Open In Colab\"/></a>"
      ]
    },
    {
      "cell_type": "markdown",
      "metadata": {
        "id": "EySeTYxOjyYi",
        "colab_type": "text"
      },
      "source": [
        "## 重回帰分析によるボール投げの予測モデルの学習\n",
        "\n",
        "握力，体重，身長からボール投げの記録を予測する\n"
      ]
    },
    {
      "cell_type": "code",
      "metadata": {
        "id": "u2ih2wz0jusI",
        "colab_type": "code",
        "colab": {}
      },
      "source": [
        "import numpy as np\n",
        "import pandas.util.testing as tm\n",
        "import statsmodels.api as sm\n"
      ],
      "execution_count": 4,
      "outputs": []
    },
    {
      "cell_type": "markdown",
      "metadata": {
        "id": "7kG_Bv1Bkqit",
        "colab_type": "text"
      },
      "source": [
        "ボール投げのデータの読み込み（サンプル数：15，握力，体重，身長，ボール投げの記録）"
      ]
    },
    {
      "cell_type": "code",
      "metadata": {
        "id": "JD7jLtodjusO",
        "colab_type": "code",
        "colab": {
          "base_uri": "https://localhost:8080/",
          "height": 972
        },
        "outputId": "66a2f027-6f8a-40e5-cb39-e891ce093d70"
      },
      "source": [
        "# Read Data\n",
        "data = np.loadtxt(\"https://raw.githubusercontent.com/namoshi/ml_intro/master/ball.dat\", comments=\"#\")\n",
        "\n",
        "print('data\\n', data)\n",
        "\n",
        "x = data[:,1:]\n",
        "\n",
        "y = data[:,0]\n",
        "\n",
        "print('x\\n', x)\n",
        "print('y\\n', y)\n",
        "\n",
        "X = sm.add_constant(x)\n",
        "print('X\\n', X)\n"
      ],
      "execution_count": 5,
      "outputs": [
        {
          "output_type": "stream",
          "text": [
            "data\n",
            " [[ 22.  28. 146.  34.]\n",
            " [ 36.  46. 169.  57.]\n",
            " [ 24.  39. 160.  48.]\n",
            " [ 22.  25. 156.  38.]\n",
            " [ 27.  34. 161.  47.]\n",
            " [ 29.  29. 168.  50.]\n",
            " [ 26.  38. 154.  54.]\n",
            " [ 23.  23. 153.  40.]\n",
            " [ 31.  42. 160.  62.]\n",
            " [ 24.  27. 152.  39.]\n",
            " [ 23.  35. 155.  46.]\n",
            " [ 27.  39. 154.  54.]\n",
            " [ 31.  38. 157.  57.]\n",
            " [ 25.  32. 162.  53.]\n",
            " [ 23.  25. 142.  32.]]\n",
            "x\n",
            " [[ 28. 146.  34.]\n",
            " [ 46. 169.  57.]\n",
            " [ 39. 160.  48.]\n",
            " [ 25. 156.  38.]\n",
            " [ 34. 161.  47.]\n",
            " [ 29. 168.  50.]\n",
            " [ 38. 154.  54.]\n",
            " [ 23. 153.  40.]\n",
            " [ 42. 160.  62.]\n",
            " [ 27. 152.  39.]\n",
            " [ 35. 155.  46.]\n",
            " [ 39. 154.  54.]\n",
            " [ 38. 157.  57.]\n",
            " [ 32. 162.  53.]\n",
            " [ 25. 142.  32.]]\n",
            "y\n",
            " [22. 36. 24. 22. 27. 29. 26. 23. 31. 24. 23. 27. 31. 25. 23.]\n",
            "X\n",
            " [[  1.  28. 146.  34.]\n",
            " [  1.  46. 169.  57.]\n",
            " [  1.  39. 160.  48.]\n",
            " [  1.  25. 156.  38.]\n",
            " [  1.  34. 161.  47.]\n",
            " [  1.  29. 168.  50.]\n",
            " [  1.  38. 154.  54.]\n",
            " [  1.  23. 153.  40.]\n",
            " [  1.  42. 160.  62.]\n",
            " [  1.  27. 152.  39.]\n",
            " [  1.  35. 155.  46.]\n",
            " [  1.  39. 154.  54.]\n",
            " [  1.  38. 157.  57.]\n",
            " [  1.  32. 162.  53.]\n",
            " [  1.  25. 142.  32.]]\n"
          ],
          "name": "stdout"
        }
      ]
    },
    {
      "cell_type": "markdown",
      "metadata": {
        "id": "EHRZ0BnllLD0",
        "colab_type": "text"
      },
      "source": [
        "線形回帰モデルの学習（OLSを利用）"
      ]
    },
    {
      "cell_type": "code",
      "metadata": {
        "id": "hUDGp4Wwjusc",
        "colab_type": "code",
        "colab": {
          "base_uri": "https://localhost:8080/",
          "height": 558
        },
        "outputId": "0e50eb1e-cdb4-4e5c-90af-38011acc6884"
      },
      "source": [
        "model = sm.OLS(y, X)\n",
        "\n",
        "results = model.fit()\n",
        "results.summary()"
      ],
      "execution_count": 6,
      "outputs": [
        {
          "output_type": "stream",
          "text": [
            "/usr/local/lib/python3.6/dist-packages/scipy/stats/stats.py:1535: UserWarning: kurtosistest only valid for n>=20 ... continuing anyway, n=15\n",
            "  \"anyway, n=%i\" % int(n))\n"
          ],
          "name": "stderr"
        },
        {
          "output_type": "execute_result",
          "data": {
            "text/html": [
              "<table class=\"simpletable\">\n",
              "<caption>OLS Regression Results</caption>\n",
              "<tr>\n",
              "  <th>Dep. Variable:</th>            <td>y</td>        <th>  R-squared:         </th> <td>   0.691</td>\n",
              "</tr>\n",
              "<tr>\n",
              "  <th>Model:</th>                   <td>OLS</td>       <th>  Adj. R-squared:    </th> <td>   0.607</td>\n",
              "</tr>\n",
              "<tr>\n",
              "  <th>Method:</th>             <td>Least Squares</td>  <th>  F-statistic:       </th> <td>   8.213</td>\n",
              "</tr>\n",
              "<tr>\n",
              "  <th>Date:</th>             <td>Sat, 25 Jul 2020</td> <th>  Prob (F-statistic):</th>  <td>0.00377</td>\n",
              "</tr>\n",
              "<tr>\n",
              "  <th>Time:</th>                 <td>01:27:50</td>     <th>  Log-Likelihood:    </th> <td> -32.890</td>\n",
              "</tr>\n",
              "<tr>\n",
              "  <th>No. Observations:</th>      <td>    15</td>      <th>  AIC:               </th> <td>   73.78</td>\n",
              "</tr>\n",
              "<tr>\n",
              "  <th>Df Residuals:</th>          <td>    11</td>      <th>  BIC:               </th> <td>   76.61</td>\n",
              "</tr>\n",
              "<tr>\n",
              "  <th>Df Model:</th>              <td>     3</td>      <th>                     </th>     <td> </td>   \n",
              "</tr>\n",
              "<tr>\n",
              "  <th>Covariance Type:</th>      <td>nonrobust</td>    <th>                     </th>     <td> </td>   \n",
              "</tr>\n",
              "</table>\n",
              "<table class=\"simpletable\">\n",
              "<tr>\n",
              "    <td></td>       <th>coef</th>     <th>std err</th>      <th>t</th>      <th>P>|t|</th>  <th>[0.025</th>    <th>0.975]</th>  \n",
              "</tr>\n",
              "<tr>\n",
              "  <th>const</th> <td>  -13.2173</td> <td>   17.604</td> <td>   -0.751</td> <td> 0.469</td> <td>  -51.963</td> <td>   25.528</td>\n",
              "</tr>\n",
              "<tr>\n",
              "  <th>x1</th>    <td>    0.2014</td> <td>    0.184</td> <td>    1.093</td> <td> 0.298</td> <td>   -0.204</td> <td>    0.607</td>\n",
              "</tr>\n",
              "<tr>\n",
              "  <th>x2</th>    <td>    0.1710</td> <td>    0.132</td> <td>    1.300</td> <td> 0.220</td> <td>   -0.119</td> <td>    0.461</td>\n",
              "</tr>\n",
              "<tr>\n",
              "  <th>x3</th>    <td>    0.1249</td> <td>    0.167</td> <td>    0.750</td> <td> 0.469</td> <td>   -0.242</td> <td>    0.492</td>\n",
              "</tr>\n",
              "</table>\n",
              "<table class=\"simpletable\">\n",
              "<tr>\n",
              "  <th>Omnibus:</th>       <td> 0.111</td> <th>  Durbin-Watson:     </th> <td>   2.665</td>\n",
              "</tr>\n",
              "<tr>\n",
              "  <th>Prob(Omnibus):</th> <td> 0.946</td> <th>  Jarque-Bera (JB):  </th> <td>   0.333</td>\n",
              "</tr>\n",
              "<tr>\n",
              "  <th>Skew:</th>          <td>-0.062</td> <th>  Prob(JB):          </th> <td>   0.847</td>\n",
              "</tr>\n",
              "<tr>\n",
              "  <th>Kurtosis:</th>      <td> 2.281</td> <th>  Cond. No.          </th> <td>4.50e+03</td>\n",
              "</tr>\n",
              "</table><br/><br/>Warnings:<br/>[1] Standard Errors assume that the covariance matrix of the errors is correctly specified.<br/>[2] The condition number is large, 4.5e+03. This might indicate that there are<br/>strong multicollinearity or other numerical problems."
            ],
            "text/plain": [
              "<class 'statsmodels.iolib.summary.Summary'>\n",
              "\"\"\"\n",
              "                            OLS Regression Results                            \n",
              "==============================================================================\n",
              "Dep. Variable:                      y   R-squared:                       0.691\n",
              "Model:                            OLS   Adj. R-squared:                  0.607\n",
              "Method:                 Least Squares   F-statistic:                     8.213\n",
              "Date:                Sat, 25 Jul 2020   Prob (F-statistic):            0.00377\n",
              "Time:                        01:27:50   Log-Likelihood:                -32.890\n",
              "No. Observations:                  15   AIC:                             73.78\n",
              "Df Residuals:                      11   BIC:                             76.61\n",
              "Df Model:                           3                                         \n",
              "Covariance Type:            nonrobust                                         \n",
              "==============================================================================\n",
              "                 coef    std err          t      P>|t|      [0.025      0.975]\n",
              "------------------------------------------------------------------------------\n",
              "const        -13.2173     17.604     -0.751      0.469     -51.963      25.528\n",
              "x1             0.2014      0.184      1.093      0.298      -0.204       0.607\n",
              "x2             0.1710      0.132      1.300      0.220      -0.119       0.461\n",
              "x3             0.1249      0.167      0.750      0.469      -0.242       0.492\n",
              "==============================================================================\n",
              "Omnibus:                        0.111   Durbin-Watson:                   2.665\n",
              "Prob(Omnibus):                  0.946   Jarque-Bera (JB):                0.333\n",
              "Skew:                          -0.062   Prob(JB):                        0.847\n",
              "Kurtosis:                       2.281   Cond. No.                     4.50e+03\n",
              "==============================================================================\n",
              "\n",
              "Warnings:\n",
              "[1] Standard Errors assume that the covariance matrix of the errors is correctly specified.\n",
              "[2] The condition number is large, 4.5e+03. This might indicate that there are\n",
              "strong multicollinearity or other numerical problems.\n",
              "\"\"\""
            ]
          },
          "metadata": {
            "tags": []
          },
          "execution_count": 6
        }
      ]
    },
    {
      "cell_type": "code",
      "metadata": {
        "id": "M4I9G2nMjusi",
        "colab_type": "code",
        "colab": {}
      },
      "source": [
        ""
      ],
      "execution_count": null,
      "outputs": []
    }
  ]
}