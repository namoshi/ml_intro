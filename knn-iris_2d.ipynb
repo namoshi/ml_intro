{
  "nbformat": 4,
  "nbformat_minor": 0,
  "metadata": {
    "kernelspec": {
      "name": "python36",
      "display_name": "Python 3.6",
      "language": "python"
    },
    "language_info": {
      "mimetype": "text/x-python",
      "nbconvert_exporter": "python",
      "name": "python",
      "pygments_lexer": "ipython3",
      "version": "3.6.6",
      "file_extension": ".py",
      "codemirror_mode": {
        "version": 3,
        "name": "ipython"
      }
    },
    "colab": {
      "name": "knn-iris_2d.ipynb",
      "provenance": [],
      "include_colab_link": true
    }
  },
  "cells": [
    {
      "cell_type": "markdown",
      "metadata": {
        "id": "view-in-github",
        "colab_type": "text"
      },
      "source": [
        "<a href=\"https://colab.research.google.com/github/namoshi/ml_intro/blob/master/knn-iris_2d.ipynb\" target=\"_parent\"><img src=\"https://colab.research.google.com/assets/colab-badge.svg\" alt=\"Open In Colab\"/></a>"
      ]
    },
    {
      "cell_type": "markdown",
      "metadata": {
        "collapsed": true,
        "id": "h0ah8tth01Ad",
        "colab_type": "text"
      },
      "source": [
        "K-最近傍法でのアヤメのデータの識別"
      ]
    },
    {
      "cell_type": "code",
      "metadata": {
        "trusted": true,
        "id": "0xOhBi5d01Ae",
        "colab_type": "code",
        "colab": {}
      },
      "source": [
        "import numpy as np\n",
        "import matplotlib.pyplot as plt\n",
        "from sklearn import datasets\n",
        "from sklearn.metrics import confusion_matrix\n",
        "from matplotlib.colors import ListedColormap\n",
        "from sklearn import neighbors"
      ],
      "execution_count": 1,
      "outputs": []
    },
    {
      "cell_type": "code",
      "metadata": {
        "trusted": true,
        "id": "F6dpB_KW01Ai",
        "colab_type": "code",
        "colab": {
          "base_uri": "https://localhost:8080/",
          "height": 125
        },
        "outputId": "8b303329-d4b8-4af3-d21c-372a1953cfc8"
      },
      "source": [
        "# data = np.loadtxt(\"iris.dat\",comments='#')\n",
        "iris = datasets.load_iris()\n",
        "X = iris.data[:,:2]\n",
        "y = iris.target\n",
        "target_names = iris.target_names\n",
        "\n",
        "print('Size of the data = ', X.shape)\n",
        "\n",
        "n = X.shape[0]\n",
        "mdim = X.shape[1]\n",
        "\n",
        "print(y)\n"
      ],
      "execution_count": 2,
      "outputs": [
        {
          "output_type": "stream",
          "text": [
            "Size of the data =  (150, 2)\n",
            "[0 0 0 0 0 0 0 0 0 0 0 0 0 0 0 0 0 0 0 0 0 0 0 0 0 0 0 0 0 0 0 0 0 0 0 0 0\n",
            " 0 0 0 0 0 0 0 0 0 0 0 0 0 1 1 1 1 1 1 1 1 1 1 1 1 1 1 1 1 1 1 1 1 1 1 1 1\n",
            " 1 1 1 1 1 1 1 1 1 1 1 1 1 1 1 1 1 1 1 1 1 1 1 1 1 1 2 2 2 2 2 2 2 2 2 2 2\n",
            " 2 2 2 2 2 2 2 2 2 2 2 2 2 2 2 2 2 2 2 2 2 2 2 2 2 2 2 2 2 2 2 2 2 2 2 2 2\n",
            " 2 2]\n"
          ],
          "name": "stdout"
        }
      ]
    },
    {
      "cell_type": "code",
      "metadata": {
        "trusted": true,
        "id": "fVuD9NYY01Am",
        "colab_type": "code",
        "colab": {
          "base_uri": "https://localhost:8080/",
          "height": 107
        },
        "outputId": "a1dd7f18-2574-4cbe-b155-bb7d4c26e804"
      },
      "source": [
        "## colors\n",
        "colors = ['red', 'green', 'blue']\n",
        "markers = ['D', 'o', 'v']\n",
        "\n",
        "# Create color maps\n",
        "cmap_light = ListedColormap(['#FFAAAA', '#AAFFAA', '#AAAAFF'])\n",
        "cmap_bold = ListedColormap(['#FF0000', '#00FF00', '#0000FF'])\n",
        "\n",
        "# K-NN (K=3)\n",
        "n_neighbors = 3                      \n",
        "\n",
        "# we create an instance of Neighbours Classifier and fit the data.\n",
        "clf = neighbors.KNeighborsClassifier(n_neighbors)\n",
        "clf.fit(X, y)\n",
        "\n",
        "print('Confusion Matrix (k = %i)\\n' % (n_neighbors))\n",
        "print(confusion_matrix(y, clf.predict(X)))\n"
      ],
      "execution_count": 3,
      "outputs": [
        {
          "output_type": "stream",
          "text": [
            "Confusion Matrix (k = 3)\n",
            "\n",
            "[[50  0  0]\n",
            " [ 0 36 14]\n",
            " [ 0  8 42]]\n"
          ],
          "name": "stdout"
        }
      ]
    },
    {
      "cell_type": "code",
      "metadata": {
        "trusted": true,
        "id": "M1QX4qpi01Ap",
        "colab_type": "code",
        "colab": {
          "base_uri": "https://localhost:8080/",
          "height": 331
        },
        "outputId": "2b687d05-6ec2-4265-a27e-43d3a0c6f4fc"
      },
      "source": [
        "# Plot the decision boundary. For that, we will assign a color to each\n",
        "# point in the mesh [x_min, x_max]x[y_min, y_max].\n",
        "h = .02  # step size in the mesh\n",
        "x_min, x_max = X[:, 0].min() - 1, X[:, 0].max() + 1\n",
        "y_min, y_max = X[:, 1].min() - 1, X[:, 1].max() + 1\n",
        "xx, yy = np.meshgrid(np.arange(x_min, x_max, h), np.arange(y_min, y_max, h))\n",
        "Z = clf.predict(np.c_[xx.ravel(), yy.ravel()])\n",
        "\n",
        "# Put the result into a color plot\n",
        "Z = Z.reshape(xx.shape)\n",
        "plt.figure()\n",
        "plt.pcolormesh(xx, yy, Z, cmap=cmap_light)\n",
        "\n",
        "# Plot also the training points\n",
        "for k, c, marker, target_name  in zip([0, 1, 2], colors, markers, target_names):\n",
        "    plt.scatter(X[y == k, 0], X[y == k, 1], c=c, marker=marker, label = target_name)\n",
        "\n",
        "# Plot also the training points\n",
        "#plt.scatter(X[:, 0], X[:, 1], c=y, cmap=cmap_bold, edgecolor='k', s=20)\n",
        "#plt.xlim(xx.min(), xx.max())\n",
        "#plt.ylim(yy.min(), yy.max())\n",
        "plt.legend()\n",
        "plt.title(\"K-NN iris_2d (k = %i)\" % (n_neighbors))\n",
        "plt.xlabel('Sepal length')\n",
        "plt.ylabel('Sepal width')\n",
        "plt.savefig('knn3_iris_2d.eps')\n",
        "\n",
        "plt.show()\n"
      ],
      "execution_count": 4,
      "outputs": [
        {
          "output_type": "stream",
          "text": [
            "The PostScript backend does not support transparency; partially transparent artists will be rendered opaque.\n",
            "The PostScript backend does not support transparency; partially transparent artists will be rendered opaque.\n"
          ],
          "name": "stderr"
        },
        {
          "output_type": "display_data",
          "data": {
            "image/png": "[encoded data removed]",
            "text/plain": [
              "<Figure size 432x288 with 1 Axes>"
            ]
          },
          "metadata": {
            "tags": [],
            "needs_background": "light"
          }
        }
      ]
    },
    {
      "cell_type": "code",
      "metadata": {
        "trusted": true,
        "id": "DrK4yTeR01As",
        "colab_type": "code",
        "colab": {
          "base_uri": "https://localhost:8080/",
          "height": 421
        },
        "outputId": "2694fbcf-83f7-4fd0-e3ad-2c8a449ee789"
      },
      "source": [
        "# K-NN (K=3)\n",
        "n_neighbors = 15                      \n",
        "\n",
        "# we create an instance of Neighbours Classifier and fit the data.\n",
        "clf = neighbors.KNeighborsClassifier(n_neighbors)\n",
        "clf.fit(X, y)\n",
        "\n",
        "print('Confusion Matrix (k = %i)\\n' % (n_neighbors))\n",
        "print(confusion_matrix(y, clf.predict(X)))\n",
        "\n",
        "# Plot the decision boundary. For that, we will assign a color to each\n",
        "# point in the mesh [x_min, x_max]x[y_min, y_max].\n",
        "h = .02  # step size in the mesh\n",
        "x_min, x_max = X[:, 0].min() - 1, X[:, 0].max() + 1\n",
        "y_min, y_max = X[:, 1].min() - 1, X[:, 1].max() + 1\n",
        "xx, yy = np.meshgrid(np.arange(x_min, x_max, h), np.arange(y_min, y_max, h))\n",
        "Z = clf.predict(np.c_[xx.ravel(), yy.ravel()])\n",
        "\n",
        "# Put the result into a color plot\n",
        "Z = Z.reshape(xx.shape)\n",
        "plt.figure()\n",
        "plt.pcolormesh(xx, yy, Z, cmap=cmap_light)\n",
        "\n",
        "# Plot also the training points\n",
        "for k, c, marker, target_name  in zip([0, 1, 2], colors, markers, target_names):\n",
        "    plt.scatter(X[y == k, 0], X[y == k, 1], c=c, marker=marker, label = target_name)\n",
        "\n",
        "# Plot also the training points\n",
        "#plt.scatter(X[:, 0], X[:, 1], c=y, cmap=cmap_bold, edgecolor='k', s=20)\n",
        "#plt.xlim(xx.min(), xx.max())\n",
        "#plt.ylim(yy.min(), yy.max())\n",
        "plt.legend()\n",
        "plt.title(\"K-NN iris_2d (k = %i)\" % (n_neighbors))\n",
        "plt.xlabel('Sepal length')\n",
        "plt.ylabel('Sepal width')\n",
        "plt.savefig('knn15_iris_2d.eps')\n",
        "\n",
        "plt.show()"
      ],
      "execution_count": 5,
      "outputs": [
        {
          "output_type": "stream",
          "text": [
            "Confusion Matrix (k = 15)\n",
            "\n",
            "[[50  0  0]\n",
            " [ 0 33 17]\n",
            " [ 1 11 38]]\n"
          ],
          "name": "stdout"
        },
        {
          "output_type": "stream",
          "text": [
            "The PostScript backend does not support transparency; partially transparent artists will be rendered opaque.\n",
            "The PostScript backend does not support transparency; partially transparent artists will be rendered opaque.\n"
          ],
          "name": "stderr"
        },
        {
          "output_type": "display_data",
          "data": {
            "image/png": "[encoded data removed]",
            "text/plain": [
              "<Figure size 432x288 with 1 Axes>"
            ]
          },
          "metadata": {
            "tags": [],
            "needs_background": "light"
          }
        }
      ]
    },
    {
      "cell_type": "code",
      "metadata": {
        "trusted": true,
        "id": "oyUhTZcK01Aw",
        "colab_type": "code",
        "colab": {}
      },
      "source": [
        ""
      ],
      "execution_count": null,
      "outputs": []
    }
  ]
}