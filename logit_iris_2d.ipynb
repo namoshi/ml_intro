{
  "nbformat": 4,
  "nbformat_minor": 0,
  "metadata": {
    "kernelspec": {
      "name": "python36",
      "display_name": "Python 3.6",
      "language": "python"
    },
    "language_info": {
      "mimetype": "text/x-python",
      "nbconvert_exporter": "python",
      "name": "python",
      "pygments_lexer": "ipython3",
      "version": "3.6.6",
      "file_extension": ".py",
      "codemirror_mode": {
        "version": 3,
        "name": "ipython"
      }
    },
    "colab": {
      "name": "logit_iris_2d.ipynb",
      "provenance": [],
      "include_colab_link": true
    }
  },
  "cells": [
    {
      "cell_type": "markdown",
      "metadata": {
        "id": "view-in-github",
        "colab_type": "text"
      },
      "source": [
        "<a href=\"https://colab.research.google.com/github/namoshi/ml_intro/blob/master/logit_iris_2d.ipynb\" target=\"_parent\"><img src=\"https://colab.research.google.com/assets/colab-badge.svg\" alt=\"Open In Colab\"/></a>"
      ]
    },
    {
      "cell_type": "markdown",
      "metadata": {
        "collapsed": true,
        "id": "tMtWL_fOIwqU",
        "colab_type": "text"
      },
      "source": [
        "## ロジスティック回帰\n",
        "ロジスティック回帰によるアヤメのデータ（２次元）の識別"
      ]
    },
    {
      "cell_type": "code",
      "metadata": {
        "trusted": true,
        "id": "kXi7NxVkIwqW",
        "colab_type": "code",
        "colab": {}
      },
      "source": [
        "import numpy as np\n",
        "import matplotlib.pyplot as plt\n",
        "from sklearn.linear_model import LogisticRegression\n",
        "from sklearn import datasets\n",
        "#from sklearn.metrics import confusion_matrix\n",
        "from matplotlib.colors import ListedColormap"
      ],
      "execution_count": 3,
      "outputs": []
    },
    {
      "cell_type": "code",
      "metadata": {
        "trusted": true,
        "id": "hSSLOQv9Iwqb",
        "colab_type": "code",
        "colab": {
          "base_uri": "https://localhost:8080/",
          "height": 75
        },
        "outputId": "8427f120-b5df-42f6-b115-d245e1507cae"
      },
      "source": [
        "# data = np.loadtxt(\"iris.dat\",comments='#')\n",
        "iris = datasets.load_iris()\n",
        "X = iris.data[:100,:2]\n",
        "y = iris.target[:100]\n",
        "target_names = iris.target_names\n",
        "\n",
        "print('Size of the data = ', X.shape)\n",
        "n = X.shape[0]\n",
        "mdim = X.shape[1]\n",
        "print('N=', n, 'mdim=', mdim)\n",
        "print('size of y', y.shape)\n"
      ],
      "execution_count": 7,
      "outputs": [
        {
          "output_type": "stream",
          "text": [
            "Size of the data =  (100, 2)\n",
            "N= 100 mdim= 2\n",
            "size of y (100,)\n"
          ],
          "name": "stdout"
        }
      ]
    },
    {
      "cell_type": "markdown",
      "metadata": {
        "id": "Mc8c1-PoKi1p",
        "colab_type": "text"
      },
      "source": [
        "Logistic 回帰による学習（L2正則化：C=1.0）"
      ]
    },
    {
      "cell_type": "code",
      "metadata": {
        "id": "bVZgssYZJ63M",
        "colab_type": "code",
        "colab": {
          "base_uri": "https://localhost:8080/",
          "height": 1000
        },
        "outputId": "b3aa868f-ed60-4706-df1c-19f2f5b07210"
      },
      "source": [
        "clf_LR = LogisticRegression(C=1.0, penalty='l2', tol=0.01)\n",
        "clf_LR.fit(X, y)\n",
        "\n",
        "coef_LR = clf_LR.coef_.ravel()\n",
        "sparsity_LR = np.mean(coef_LR == 0) * 100\n",
        "\n",
        "print(\"Mean Accuracy: %.4f\" % clf_LR.score(X, y))\n",
        "print(\"Sparsity of the parameters: %.2f%%\" % sparsity_LR)\n",
        "\n",
        "yy = clf_LR.predict(X)\n",
        "pp = clf_LR.predict_proba(X)\n",
        "print('Estimated Classes\\n', yy)\n",
        "print('Estimated Probability\\n', pp)"
      ],
      "execution_count": 12,
      "outputs": [
        {
          "output_type": "stream",
          "text": [
            "Mean Accuracy: 1.0000\n",
            "Sparsity of the parameters: 0.00%\n",
            "Estimated Classes\n",
            " [0 0 0 0 0 0 0 0 0 0 0 0 0 0 0 0 0 0 0 0 0 0 0 0 0 0 0 0 0 0 0 0 0 0 0 0 0\n",
            " 0 0 0 0 0 0 0 0 0 0 0 0 0 1 1 1 1 1 1 1 1 1 1 1 1 1 1 1 1 1 1 1 1 1 1 1 1\n",
            " 1 1 1 1 1 1 1 1 1 1 1 1 1 1 1 1 1 1 1 1 1 1 1 1 1 1]\n",
            "Estimated Probability\n",
            " [[0.89861514 0.10138486]\n",
            " [0.78399938 0.21600062]\n",
            " [0.92479796 0.07520204]\n",
            " [0.92524182 0.07475818]\n",
            " [0.94224558 0.05775442]\n",
            " [0.9216226  0.0783774 ]\n",
            " [0.96836668 0.03163332]\n",
            " [0.89919669 0.10080331]\n",
            " [0.92612232 0.07387768]\n",
            " [0.830756   0.169244  ]\n",
            " [0.8653977  0.1346023 ]\n",
            " [0.94293816 0.05706184]\n",
            " [0.83165388 0.16834612]\n",
            " [0.95846237 0.04153763]\n",
            " [0.82250305 0.17749695]\n",
            " [0.95474525 0.04525475]\n",
            " [0.9216226  0.0783774 ]\n",
            " [0.89861514 0.10138486]\n",
            " [0.77520359 0.22479641]\n",
            " [0.95637561 0.04362439]\n",
            " [0.72217207 0.27782793]\n",
            " [0.94189634 0.05810366]\n",
            " [0.98245241 0.01754759]\n",
            " [0.82894882 0.17105118]\n",
            " [0.94293816 0.05706184]\n",
            " [0.72727876 0.27272124]\n",
            " [0.89919669 0.10080331]\n",
            " [0.86688164 0.13311836]\n",
            " [0.8280395  0.1719605 ]\n",
            " [0.92479796 0.07520204]\n",
            " [0.86980797 0.13019203]\n",
            " [0.72217207 0.27782793]\n",
            " [0.97551417 0.02448583]\n",
            " [0.95529505 0.04470495]\n",
            " [0.830756   0.169244  ]\n",
            " [0.82985432 0.17014568]\n",
            " [0.72088624 0.27911376]\n",
            " [0.95690649 0.04309351]\n",
            " [0.94429998 0.05570002]\n",
            " [0.8676184  0.1323816 ]\n",
            " [0.92345182 0.07654818]\n",
            " [0.60087731 0.39912269]\n",
            " [0.96875641 0.03124359]\n",
            " [0.92345182 0.07654818]\n",
            " [0.95637561 0.04362439]\n",
            " [0.83165388 0.16834612]\n",
            " [0.95637561 0.04362439]\n",
            " [0.94362294 0.05637706]\n",
            " [0.8974431  0.1025569 ]\n",
            " [0.8683517  0.1316483 ]\n",
            " [0.01014326 0.98985674]\n",
            " [0.06116028 0.93883972]\n",
            " [0.01020772 0.98979228]\n",
            " [0.06455221 0.93544779]\n",
            " [0.01410688 0.98589312]\n",
            " [0.14421094 0.85578906]\n",
            " [0.10707129 0.89292871]\n",
            " [0.3723661  0.6276339 ]\n",
            " [0.01401816 0.98598184]\n",
            " [0.3678903  0.6321097 ]\n",
            " [0.11528913 0.88471087]\n",
            " [0.14263853 0.85736147]\n",
            " [0.01080636 0.98919364]\n",
            " [0.06227199 0.93772801]\n",
            " [0.23674442 0.76325558]\n",
            " [0.01874663 0.98125337]\n",
            " [0.2955157  0.7044843 ]\n",
            " [0.08387065 0.91612935]\n",
            " [0.00586256 0.99413744]\n",
            " [0.08485934 0.91514066]\n",
            " [0.23329284 0.76670716]\n",
            " [0.0468056  0.9531944 ]\n",
            " [0.01060305 0.98939695]\n",
            " [0.0468056  0.9531944 ]\n",
            " [0.02566192 0.97433808]\n",
            " [0.01886472 0.98113528]\n",
            " [0.00564296 0.99435704]\n",
            " [0.01392998 0.98607002]\n",
            " [0.08289244 0.91710756]\n",
            " [0.08436368 0.91563632]\n",
            " [0.08535764 0.91464236]\n",
            " [0.08535764 0.91464236]\n",
            " [0.08387065 0.91612935]\n",
            " [0.04709195 0.95290805]\n",
            " [0.43727974 0.56272026]\n",
            " [0.29021455 0.70978545]\n",
            " [0.01874663 0.98125337]\n",
            " [0.00582538 0.99417462]\n",
            " [0.2955157  0.7044843 ]\n",
            " [0.1120654  0.8879346 ]\n",
            " [0.14579773 0.85420227]\n",
            " [0.08240723 0.91759277]\n",
            " [0.06340254 0.93659746]\n",
            " [0.24375265 0.75624735]\n",
            " [0.14500254 0.85499746]\n",
            " [0.23558999 0.76441001]\n",
            " [0.18559679 0.81440321]\n",
            " [0.04652091 0.95347909]\n",
            " [0.30222049 0.69777951]\n",
            " [0.14421094 0.85578906]]\n"
          ],
          "name": "stdout"
        }
      ]
    },
    {
      "cell_type": "code",
      "metadata": {
        "trusted": true,
        "id": "X1Te0bS3Iwqh",
        "colab_type": "code",
        "colab": {
          "base_uri": "https://localhost:8080/",
          "height": 333
        },
        "outputId": "70552fcc-5bc9-42c1-871c-6f2ac181920d"
      },
      "source": [
        "%matplotlib inline\n",
        "# Create color maps\n",
        "cmap_light = ListedColormap(['#FFAAAA', '#AAFFAA', '#AAAAFF'])\n",
        "cmap_bold = ListedColormap(['#FF0000', '#00FF00', '#0000FF'])\n",
        "\n",
        "## colors\n",
        "colors = ['red', 'green', 'blue']\n",
        "markers = ['x', 'o', 'v']\n",
        "\n",
        "# Plot the decision boundary. For that, we will assign a color to each\n",
        "# point in the mesh [x_min, x_max]x[y_min, y_max].\n",
        "h = .02  # step size in the mesh\n",
        "x_min, x_max = X[:, 0].min() - .5, X[:, 0].max() + .5\n",
        "y_min, y_max = X[:, 1].min() - .5, X[:, 1].max() + .5\n",
        "xx, yy = np.meshgrid(np.arange(x_min, x_max, h), np.arange(y_min, y_max, h))\n",
        "\n",
        "(xsize, ysize) = xx.shape\n",
        "nelm = xsize * ysize\n",
        "\n",
        "XX = np.c_[xx.reshape((nelm,1)), yy.reshape((nelm,1))]\n",
        "#print XX\n",
        "\n",
        "Z = clf_LR.predict(XX)\n",
        "#print('Z\\n', Z)\n",
        "\n",
        "# Put the result into a color plot\n",
        "Z = Z.reshape(xx.shape)\n",
        "plt.figure()\n",
        "#plt.figure(1, figsize=(4, 3))\n",
        "plt.pcolormesh(xx, yy, Z, cmap=cmap_light)\n",
        "\n",
        "# Plot also the training points\n",
        "for k, c, marker, target_name  in zip([0, 1], colors, markers, target_names):\n",
        "    plt.scatter(X[y == k, 0], X[y == k, 1], c=c, marker=marker, label = target_name)\n",
        "#plt.scatter(data[:, 0], data[:, 1], c=y, edgecolors='k', cmap=plt.cm.Paired)\n",
        "plt.legend()\n",
        "plt.title('logit_iris_2d (C=1)')\n",
        "plt.xlabel('Sepal length')\n",
        "plt.ylabel('Sepal width')\n",
        "plt.savefig('logit_iris_2d_C1.eps')\n",
        "\n",
        "#plt.xlim(xx.min(), xx.max())\n",
        "#plt.ylim(yy.min(), yy.max())\n",
        "#plt.xticks(())\n",
        "#plt.yticks(())\n",
        "\n",
        "plt.show()"
      ],
      "execution_count": 11,
      "outputs": [
        {
          "output_type": "stream",
          "text": [
            "The PostScript backend does not support transparency; partially transparent artists will be rendered opaque.\n",
            "The PostScript backend does not support transparency; partially transparent artists will be rendered opaque.\n"
          ],
          "name": "stderr"
        },
        {
          "output_type": "display_data",
          "data": {
            "image/png": "[encoded data removed]",
            "text/plain": [
              "<Figure size 432x288 with 1 Axes>"
            ]
          },
          "metadata": {
            "tags": [],
            "needs_background": "light"
          }
        }
      ]
    },
    {
      "cell_type": "markdown",
      "metadata": {
        "id": "h1eYG6mgKzTq",
        "colab_type": "text"
      },
      "source": [
        "Logistic回帰による学習（L2正則化：C=1000.0）"
      ]
    },
    {
      "cell_type": "code",
      "metadata": {
        "trusted": true,
        "id": "LKevswvxIwql",
        "colab_type": "code",
        "colab": {
          "base_uri": "https://localhost:8080/",
          "height": 1000
        },
        "outputId": "826ba836-0479-41bd-84a2-b02ff56ec1ca"
      },
      "source": [
        "clf_LR = LogisticRegression(C=1000.0, penalty='l2', tol=0.01)\n",
        "clf_LR.fit(X, y)\n",
        "\n",
        "coef_LR = clf_LR.coef_.ravel()\n",
        "sparsity_LR = np.mean(coef_LR == 0) * 100\n",
        "\n",
        "print(\"Mean Accuracy: %.4f\" % clf_LR.score(X, y))\n",
        "print(\"Sparsity of the parameters: %.2f%%\" % sparsity_LR)\n",
        "\n",
        "\n",
        "yy = clf_LR.predict(X)\n",
        "\n",
        "pp = clf_LR.predict_proba(X)\n",
        "\n",
        "print('Estimated Classes\\n', yy)\n",
        "print('Estimated Probability\\n', pp)\n"
      ],
      "execution_count": 13,
      "outputs": [
        {
          "output_type": "stream",
          "text": [
            "Mean Accuracy: 1.0000\n",
            "Sparsity of the parameters: 0.00%\n",
            "Estimated Classes\n",
            " [0 0 0 0 0 0 0 0 0 0 0 0 0 0 0 0 0 0 0 0 0 0 0 0 0 0 0 0 0 0 0 0 0 0 0 0 0\n",
            " 0 0 0 0 0 0 0 0 0 0 0 0 0 1 1 1 1 1 1 1 1 1 1 1 1 1 1 1 1 1 1 1 1 1 1 1 1\n",
            " 1 1 1 1 1 1 1 1 1 1 1 1 1 1 1 1 1 1 1 1 1 1 1 1 1 1]\n",
            "Estimated Probability\n",
            " [[9.99995352e-01 4.64779718e-06]\n",
            " [9.99382816e-01 6.17183750e-04]\n",
            " [9.99999728e-01 2.72237574e-07]\n",
            " [9.99999790e-01 2.10163556e-07]\n",
            " [9.99999902e-01 9.75847456e-08]\n",
            " [9.99998334e-01 1.66602785e-06]\n",
            " [9.99999999e-01 9.42633154e-10]\n",
            " [9.99996412e-01 3.58803725e-06]\n",
            " [9.99999875e-01 1.25249521e-07]\n",
            " [9.99898164e-01 1.01835714e-04]\n",
            " [9.99938746e-01 6.12537810e-05]\n",
            " [9.99999942e-01 5.81568106e-08]\n",
            " [9.99921382e-01 7.86175513e-05]\n",
            " [9.99999997e-01 2.62971642e-09]\n",
            " [9.98955264e-01 1.04473597e-03]\n",
            " [9.99999902e-01 9.84868996e-08]\n",
            " [9.99998334e-01 1.66602785e-06]\n",
            " [9.99995352e-01 4.64779718e-06]\n",
            " [9.95128226e-01 4.87177396e-03]\n",
            " [9.99999979e-01 2.08465595e-08]\n",
            " [9.86526420e-01 1.34735802e-02]\n",
            " [9.99999874e-01 1.26407431e-07]\n",
            " [1.00000000e+00 2.56369399e-11]\n",
            " [9.99829136e-01 1.70864366e-04]\n",
            " [9.99999942e-01 5.81568106e-08]\n",
            " [9.95172637e-01 4.82736324e-03]\n",
            " [9.99996412e-01 3.58803725e-06]\n",
            " [9.99963494e-01 3.65058345e-05]\n",
            " [9.99778680e-01 2.21319800e-04]\n",
            " [9.99999728e-01 2.72237574e-07]\n",
            " [9.99987034e-01 1.29661118e-05]\n",
            " [9.86526420e-01 1.34735802e-02]\n",
            " [9.99999999e-01 7.34426871e-10]\n",
            " [9.99999941e-01 5.86944603e-08]\n",
            " [9.99898164e-01 1.01835714e-04]\n",
            " [9.99868090e-01 1.31910005e-04]\n",
            " [9.82616036e-01 1.73839644e-02]\n",
            " [9.99999988e-01 1.24237591e-08]\n",
            " [9.99999979e-01 2.06556020e-08]\n",
            " [9.99971818e-01 2.81822206e-05]\n",
            " [9.99999408e-01 5.91725087e-07]\n",
            " [9.53377091e-01 4.66229087e-02]\n",
            " [9.99999999e-01 5.61773619e-10]\n",
            " [9.99999408e-01 5.91725087e-07]\n",
            " [9.99999979e-01 2.08465595e-08]\n",
            " [9.99921382e-01 7.86175513e-05]\n",
            " [9.99999979e-01 2.08465595e-08]\n",
            " [9.99999965e-01 3.46592548e-08]\n",
            " [9.99992201e-01 7.79878899e-06]\n",
            " [9.99978244e-01 2.17564141e-05]\n",
            " [9.54791801e-15 1.00000000e+00]\n",
            " [2.22771535e-09 9.99999998e-01]\n",
            " [1.22124533e-14 1.00000000e+00]\n",
            " [2.28757772e-08 9.99999977e-01]\n",
            " [2.09832152e-13 1.00000000e+00]\n",
            " [3.03954073e-06 9.99996960e-01]\n",
            " [1.06102806e-07 9.99999894e-01]\n",
            " [3.15475840e-02 9.68452416e-01]\n",
            " [1.61870517e-13 1.00000000e+00]\n",
            " [1.47657417e-02 9.85234258e-01]\n",
            " [3.06764068e-06 9.99996932e-01]\n",
            " [1.81145325e-06 9.99998189e-01]\n",
            " [1.26121336e-13 1.00000000e+00]\n",
            " [4.84207785e-09 9.99999995e-01]\n",
            " [1.44748353e-04 9.99855252e-01]\n",
            " [7.58060281e-13 1.00000000e+00]\n",
            " [8.77068852e-04 9.99122931e-01]\n",
            " [6.38178325e-08 9.99999936e-01]\n",
            " [1.99840144e-15 1.00000000e+00]\n",
            " [1.07083708e-07 9.99999893e-01]\n",
            " [6.66001977e-05 9.99933400e-01]\n",
            " [7.98534128e-10 9.99999999e-01]\n",
            " [5.79536419e-14 1.00000000e+00]\n",
            " [7.98534128e-10 9.99999999e-01]\n",
            " [9.99178518e-12 1.00000000e+00]\n",
            " [9.82103288e-13 1.00000000e+00]\n",
            " [4.44089210e-16 1.00000000e+00]\n",
            " [1.25011113e-13 1.00000000e+00]\n",
            " [3.80330095e-08 9.99999962e-01]\n",
            " [8.26671045e-08 9.99999917e-01]\n",
            " [1.38712012e-07 9.99999861e-01]\n",
            " [1.38712012e-07 9.99999861e-01]\n",
            " [6.38178325e-08 9.99999936e-01]\n",
            " [1.03438969e-09 9.99999999e-01]\n",
            " [5.13767268e-02 9.48623273e-01]\n",
            " [3.11685527e-04 9.99688314e-01]\n",
            " [7.58060281e-13 1.00000000e+00]\n",
            " [1.55431223e-15 1.00000000e+00]\n",
            " [8.77068852e-04 9.99122931e-01]\n",
            " [8.41108516e-07 9.99999159e-01]\n",
            " [5.10021452e-06 9.99994900e-01]\n",
            " [2.93609437e-08 9.99999971e-01]\n",
            " [1.05245567e-08 9.99999989e-01]\n",
            " [6.83476642e-04 9.99316523e-01]\n",
            " [3.93729779e-06 9.99996063e-01]\n",
            " [1.11747362e-04 9.99888253e-01]\n",
            " [1.84306031e-05 9.99981569e-01]\n",
            " [6.16457108e-10 9.99999999e-01]\n",
            " [3.19139064e-03 9.96808609e-01]\n",
            " [3.03954073e-06 9.99996960e-01]]\n"
          ],
          "name": "stdout"
        }
      ]
    },
    {
      "cell_type": "code",
      "metadata": {
        "trusted": true,
        "id": "KWRA3-JRIwqq",
        "colab_type": "code",
        "colab": {
          "base_uri": "https://localhost:8080/",
          "height": 333
        },
        "outputId": "6138f871-4285-4cf6-b9e4-265165c971ee"
      },
      "source": [
        "# Plot the decision boundary. For that, we will assign a color to each\n",
        "# point in the mesh [x_min, x_max]x[y_min, y_max].\n",
        "h = .02  # step size in the mesh\n",
        "x_min, x_max = X[:, 0].min() - .5, X[:, 0].max() + .5\n",
        "y_min, y_max = X[:, 1].min() - .5, X[:, 1].max() + .5\n",
        "xx, yy = np.meshgrid(np.arange(x_min, x_max, h), np.arange(y_min, y_max, h))\n",
        "\n",
        "(xsize, ysize) = xx.shape\n",
        "nelm = xsize * ysize\n",
        "\n",
        "XX = np.c_[xx.reshape((nelm,1)), yy.reshape((nelm,1))]\n",
        "#print XX\n",
        "\n",
        "Z = clf_LR.predict(XX)\n",
        "#print('Z\\n', Z)\n",
        "\n",
        "# Put the result into a color plot\n",
        "Z = Z.reshape(xx.shape)\n",
        "plt.figure()\n",
        "#plt.figure(1, figsize=(4, 3))\n",
        "plt.pcolormesh(xx, yy, Z, cmap=cmap_light)\n",
        "\n",
        "# Plot also the training points\n",
        "for k, c, marker, target_name  in zip([0, 1], colors, markers, target_names):\n",
        "    plt.scatter(X[y == k, 0], X[y == k, 1], c=c, marker=marker, label = target_name)\n",
        "#plt.scatter(data[:, 0], data[:, 1], c=y, edgecolors='k', cmap=plt.cm.Paired)\n",
        "plt.legend()\n",
        "plt.title('logit_iris_2d (C=1000)')\n",
        "plt.xlabel('Sepal length')\n",
        "plt.ylabel('Sepal width')\n",
        "plt.savefig('logit_iris_2d_C1000.eps')\n",
        "\n",
        "#plt.xlim(xx.min(), xx.max())\n",
        "#plt.ylim(yy.min(), yy.max())\n",
        "#plt.xticks(())\n",
        "#plt.yticks(())\n",
        "\n",
        "plt.show()"
      ],
      "execution_count": 14,
      "outputs": [
        {
          "output_type": "stream",
          "text": [
            "The PostScript backend does not support transparency; partially transparent artists will be rendered opaque.\n",
            "The PostScript backend does not support transparency; partially transparent artists will be rendered opaque.\n"
          ],
          "name": "stderr"
        },
        {
          "output_type": "display_data",
          "data": {
            "image/png": "[encoded data removed]",
            "text/plain": [
              "<Figure size 432x288 with 1 Axes>"
            ]
          },
          "metadata": {
            "tags": [],
            "needs_background": "light"
          }
        }
      ]
    },
    {
      "cell_type": "code",
      "metadata": {
        "trusted": true,
        "id": "i33e63ZpIwqu",
        "colab_type": "code",
        "colab": {
          "base_uri": "https://localhost:8080/",
          "height": 75
        },
        "outputId": "0acaddd0-d4b5-4a1f-ca76-9a71f88d1d45"
      },
      "source": [
        "# 3 classes classification\n",
        "\n",
        "# Data \n",
        "X = iris.data[:,:2]\n",
        "y = iris.target\n",
        "target_names = iris.target_names\n",
        "\n",
        "print('Size of the data = ', X.shape)\n",
        "n = X.shape[0]\n",
        "mdim = X.shape[1]\n",
        "print('N=', n, 'mdim=', mdim)\n",
        "print('size of y', y.shape)"
      ],
      "execution_count": 15,
      "outputs": [
        {
          "output_type": "stream",
          "text": [
            "Size of the data =  (150, 2)\n",
            "N= 150 mdim= 2\n",
            "size of y (150,)\n"
          ],
          "name": "stdout"
        }
      ]
    },
    {
      "cell_type": "markdown",
      "metadata": {
        "id": "K7YqrIXQMCrN",
        "colab_type": "text"
      },
      "source": [
        "多項Logistic回帰（3クラス）（L2正則化：C=1.0）"
      ]
    },
    {
      "cell_type": "code",
      "metadata": {
        "trusted": true,
        "id": "6-EJDuaYIwqz",
        "colab_type": "code",
        "colab": {
          "base_uri": "https://localhost:8080/",
          "height": 1000
        },
        "outputId": "e683248c-2929-4e94-b81c-6c7af88908e2"
      },
      "source": [
        "clf_LR = LogisticRegression(C=1.0, penalty='l2', tol=0.01, multi_class='multinomial', solver ='newton-cg')\n",
        "clf_LR.fit(X, y)\n",
        "\n",
        "coef_LR = clf_LR.coef_.ravel()\n",
        "sparsity_LR = np.mean(coef_LR == 0) * 100\n",
        "\n",
        "print(\"Mean Accuracy: %.4f\" % clf_LR.score(X, y))\n",
        "print(\"Sparsity of the parameters: %.2f%%\" % sparsity_LR)\n",
        "\n",
        "yy = clf_LR.predict(X)\n",
        "pp = clf_LR.predict_proba(X)\n",
        "print('Estimated Classes\\n', yy)\n",
        "print('Estimated Probability\\n', pp)"
      ],
      "execution_count": 17,
      "outputs": [
        {
          "output_type": "stream",
          "text": [
            "Mean Accuracy: 0.8200\n",
            "Sparsity of the parameters: 0.00%\n",
            "Estimated Classes\n",
            " [0 0 0 0 0 0 0 0 0 0 0 0 0 0 0 0 0 0 0 0 0 0 0 0 0 0 0 0 0 0 0 0 0 0 0 0 0\n",
            " 0 0 0 0 0 0 0 0 0 0 0 0 0 2 2 2 1 2 1 2 1 2 1 1 1 1 1 1 2 1 1 1 1 1 1 1 1\n",
            " 2 2 2 2 1 1 1 1 1 1 1 2 2 1 1 1 1 1 1 1 1 1 1 1 1 1 2 1 2 2 2 2 1 2 2 2 2\n",
            " 2 2 1 1 2 2 2 2 1 2 1 2 1 2 2 1 1 2 2 2 2 2 2 1 2 2 2 1 2 2 2 1 2 2 2 1 2\n",
            " 2 1]\n",
            "Estimated Probability\n",
            " [[9.23457387e-01 5.85214309e-02 1.80211822e-02]\n",
            " [7.91537350e-01 1.80937542e-01 2.75251081e-02]\n",
            " [9.42346358e-01 5.08794386e-02 6.77420337e-03]\n",
            " [9.40534438e-01 5.37769878e-02 5.68857443e-03]\n",
            " [9.61842068e-01 2.96236853e-02 8.53424708e-03]\n",
            " [9.43185962e-01 3.40956495e-02 2.27183882e-02]\n",
            " [9.80220089e-01 1.74247360e-02 2.35517552e-03]\n",
            " [9.22910094e-01 6.19366182e-02 1.51532882e-02]\n",
            " [9.35976691e-01 6.00159710e-02 4.00733746e-03]\n",
            " [8.47155968e-01 1.31188045e-01 2.16559866e-02]\n",
            " [8.90201437e-01 7.01201290e-02 3.96784338e-02]\n",
            " [9.60780582e-01 3.31848277e-02 6.03459044e-03]\n",
            " [8.43526565e-01 1.38331048e-01 1.81423872e-02]\n",
            " [9.67951488e-01 3.01642573e-02 1.88425424e-03]\n",
            " [8.24094661e-01 7.61899762e-02 9.97153630e-02]\n",
            " [9.65414563e-01 1.34862952e-02 2.10991414e-02]\n",
            " [9.43185962e-01 3.40956495e-02 2.27183882e-02]\n",
            " [9.23457387e-01 5.85214309e-02 1.80211822e-02]\n",
            " [7.79417106e-01 1.12643743e-01 1.07939151e-01]\n",
            " [9.73278814e-01 1.91759188e-02 7.54526719e-03]\n",
            " [7.32301363e-01 1.85533963e-01 8.21646741e-02]\n",
            " [9.61881383e-01 2.79747890e-02 1.01438284e-02]\n",
            " [9.90632058e-01 8.08169041e-03 1.28625186e-03]\n",
            " [8.51644790e-01 1.17600548e-01 3.07546617e-02]\n",
            " [9.60780582e-01 3.31848277e-02 6.03459044e-03]\n",
            " [7.27347398e-01 2.31758426e-01 4.08941760e-02]\n",
            " [9.22910094e-01 6.19366182e-02 1.51532882e-02]\n",
            " [8.92946884e-01 7.88787599e-02 2.81743558e-02]\n",
            " [8.52285228e-01 1.11133706e-01 3.65810656e-02]\n",
            " [9.42346358e-01 5.08794386e-02 6.77420337e-03]\n",
            " [8.87385652e-01 9.85841091e-02 1.40302384e-02]\n",
            " [7.32301363e-01 1.85533963e-01 8.21646741e-02]\n",
            " [9.86662577e-01 8.42451247e-03 4.91291101e-03]\n",
            " [9.69803390e-01 1.51929653e-02 1.50036448e-02]\n",
            " [8.47155968e-01 1.31188045e-01 2.16559866e-02]\n",
            " [8.49895907e-01 1.24281534e-01 2.58225583e-02]\n",
            " [7.28543364e-01 1.74300635e-01 9.71560012e-02]\n",
            " [9.73157336e-01 2.15021559e-02 5.34050780e-03]\n",
            " [9.55487716e-01 4.15050101e-02 3.00727379e-03]\n",
            " [8.92783433e-01 8.35161734e-02 2.37003938e-02]\n",
            " [9.45596701e-01 4.29900206e-02 1.14132785e-02]\n",
            " [5.07986822e-01 4.69730704e-01 2.22824740e-02]\n",
            " [9.78822081e-01 1.95131057e-02 1.66481345e-03]\n",
            " [9.45596701e-01 4.29900206e-02 1.14132785e-02]\n",
            " [9.73278814e-01 1.91759188e-02 7.54526719e-03]\n",
            " [8.43526565e-01 1.38331048e-01 1.81423872e-02]\n",
            " [9.73278814e-01 1.91759188e-02 7.54526719e-03]\n",
            " [9.58606934e-01 3.71309404e-02 4.26212603e-03]\n",
            " [9.22443707e-01 5.21264221e-02 2.54298707e-02]\n",
            " [8.91743324e-01 8.83393801e-02 1.99172959e-02]\n",
            " [1.76707572e-03 1.98163405e-01 8.00069520e-01]\n",
            " [2.40191318e-02 3.67203975e-01 6.08776894e-01]\n",
            " [1.99722716e-03 2.37184212e-01 7.60818561e-01]\n",
            " [3.12874160e-02 8.01179656e-01 1.67532927e-01]\n",
            " [4.12363782e-03 4.17227096e-01 5.78649266e-01]\n",
            " [9.00574191e-02 6.39323276e-01 2.70619305e-01]\n",
            " [5.01158207e-02 3.72359258e-01 5.77524921e-01]\n",
            " [2.78919277e-01 6.59620479e-01 6.14602438e-02]\n",
            " [3.79755296e-03 3.62832193e-01 6.33370254e-01]\n",
            " [2.97502548e-01 5.92428906e-01 1.10068546e-01]\n",
            " [5.59549249e-02 8.75781646e-01 6.82634293e-02]\n",
            " [8.63912496e-02 5.46878365e-01 3.66730385e-01]\n",
            " [3.56640310e-03 7.09412586e-01 2.87021011e-01]\n",
            " [2.91959055e-02 5.30080792e-01 4.40723302e-01]\n",
            " [1.71927202e-01 5.93175024e-01 2.34897774e-01]\n",
            " [4.81130403e-03 2.94068409e-01 7.01120287e-01]\n",
            " [2.30327158e-01 5.38340460e-01 2.31332383e-01]\n",
            " [4.50121541e-02 6.57496698e-01 2.97491148e-01]\n",
            " [1.67259341e-03 6.46445006e-01 3.51882400e-01]\n",
            " [4.53316849e-02 7.42584147e-01 2.12084169e-01]\n",
            " [1.61312817e-01 4.68637554e-01 3.70049628e-01]\n",
            " [2.06887867e-02 5.54474435e-01 4.24836778e-01]\n",
            " [3.29359038e-03 5.51655557e-01 4.45050853e-01]\n",
            " [2.06887867e-02 5.54474435e-01 4.24836778e-01]\n",
            " [8.77388135e-03 4.31440578e-01 5.59785541e-01]\n",
            " [5.30979281e-03 3.43679132e-01 6.51011076e-01]\n",
            " [1.15191171e-03 3.15660542e-01 6.83187546e-01]\n",
            " [3.45478710e-03 3.11697448e-01 6.84847765e-01]\n",
            " [4.28052184e-02 5.57545691e-01 3.99649091e-01]\n",
            " [4.53939937e-02 7.02186035e-01 2.52419971e-01]\n",
            " [4.48759097e-02 7.78479344e-01 1.76644746e-01]\n",
            " [4.48759097e-02 7.78479344e-01 1.76644746e-01]\n",
            " [4.50121541e-02 6.57496698e-01 2.97491148e-01]\n",
            " [2.14322900e-02 6.08282188e-01 3.70285522e-01]\n",
            " [3.86527885e-01 4.64964676e-01 1.48507439e-01]\n",
            " [2.05643951e-01 3.82179816e-01 4.12176233e-01]\n",
            " [4.81130403e-03 2.94068409e-01 7.01120287e-01]\n",
            " [1.62333832e-03 5.92461628e-01 4.05915033e-01]\n",
            " [2.30327158e-01 5.38340460e-01 2.31332383e-01]\n",
            " [6.39160518e-02 7.51133930e-01 1.84950018e-01]\n",
            " [9.01842365e-02 7.17978907e-01 1.91836857e-01]\n",
            " [4.09893828e-02 5.04156195e-01 4.54854422e-01]\n",
            " [3.16930824e-02 6.83368012e-01 2.84938905e-01]\n",
            " [1.57462666e-01 7.66224369e-01 7.63129641e-02]\n",
            " [9.05300451e-02 6.80587194e-01 2.28882761e-01]\n",
            " [1.70014359e-01 5.53903166e-01 2.76082474e-01]\n",
            " [1.24715919e-01 5.99786274e-01 2.75497807e-01]\n",
            " [1.97182457e-02 4.99027825e-01 4.81253929e-01]\n",
            " [2.20442925e-01 6.86211702e-01 9.33453730e-02]\n",
            " [9.00574191e-02 6.39323276e-01 2.70619305e-01]\n",
            " [5.01158207e-02 3.72359258e-01 5.77524921e-01]\n",
            " [4.50121541e-02 6.57496698e-01 2.97491148e-01]\n",
            " [5.89539342e-04 2.00803018e-01 7.98607443e-01]\n",
            " [1.32033964e-02 4.65777520e-01 5.21019084e-01]\n",
            " [8.11255723e-03 3.76701187e-01 6.15186255e-01]\n",
            " [5.96649275e-05 1.06944491e-01 8.92995844e-01]\n",
            " [3.61783673e-01 5.79613078e-01 5.86032485e-02]\n",
            " [1.72561518e-04 1.68577857e-01 8.31249582e-01]\n",
            " [6.42373849e-04 4.06192359e-01 5.93165267e-01]\n",
            " [2.54756202e-03 1.16912313e-01 8.80540125e-01]\n",
            " [1.58004632e-02 3.36710190e-01 6.47489347e-01]\n",
            " [4.42065005e-03 4.73661563e-01 5.21917787e-01]\n",
            " [2.23580297e-03 2.81178337e-01 7.16585860e-01]\n",
            " [3.18489619e-02 7.27236159e-01 2.40914879e-01]\n",
            " [6.34760190e-02 6.28126437e-01 3.08397544e-01]\n",
            " [2.40191318e-02 3.67203975e-01 6.08776894e-01]\n",
            " [8.11255723e-03 3.76701187e-01 6.15186255e-01]\n",
            " [4.59656172e-04 5.09445424e-02 9.48595801e-01]\n",
            " [1.05566140e-05 1.25229275e-01 8.74760169e-01]\n",
            " [3.56640310e-03 7.09412586e-01 2.87021011e-01]\n",
            " [2.76636657e-03 2.22557202e-01 7.74676431e-01]\n",
            " [1.25763110e-01 6.40498206e-01 2.33738684e-01]\n",
            " [1.99105879e-05 1.08395819e-01 8.91584270e-01]\n",
            " [6.62734188e-03 5.09430580e-01 4.83942078e-01]\n",
            " [9.27654548e-03 2.60207058e-01 7.30516396e-01]\n",
            " [7.13028365e-04 1.55363089e-01 8.43923883e-01]\n",
            " [1.39745268e-02 5.22059482e-01 4.63965991e-01]\n",
            " [4.09893828e-02 5.04156195e-01 4.54854422e-01]\n",
            " [6.23530376e-03 4.52598630e-01 5.41166066e-01]\n",
            " [3.75097267e-04 1.78089254e-01 8.21535648e-01]\n",
            " [7.93279317e-05 1.59457689e-01 8.40462983e-01]\n",
            " [1.78218025e-04 3.83785832e-02 9.61443199e-01]\n",
            " [6.23530376e-03 4.52598630e-01 5.41166066e-01]\n",
            " [9.36736475e-03 4.87794253e-01 5.02838382e-01]\n",
            " [1.02672293e-02 5.99587462e-01 3.90145309e-01]\n",
            " [3.74557198e-05 9.35823227e-02 9.06380222e-01]\n",
            " [6.89429395e-02 3.47016973e-01 5.84040087e-01]\n",
            " [1.72279295e-02 3.88785038e-01 5.93987032e-01]\n",
            " [5.99260592e-02 5.28777634e-01 4.11296307e-01]\n",
            " [1.99722716e-03 2.37184212e-01 7.60818561e-01]\n",
            " [4.81130403e-03 2.94068409e-01 7.01120287e-01]\n",
            " [1.99722716e-03 2.37184212e-01 7.60818561e-01]\n",
            " [4.50121541e-02 6.57496698e-01 2.97491148e-01]\n",
            " [4.31190194e-03 2.48865348e-01 7.46822750e-01]\n",
            " [9.27654548e-03 2.60207058e-01 7.30516396e-01]\n",
            " [3.45478710e-03 3.11697448e-01 6.84847765e-01]\n",
            " [3.29359038e-03 5.51655557e-01 4.45050853e-01]\n",
            " [8.11255723e-03 3.76701187e-01 6.15186255e-01]\n",
            " [1.01517809e-01 3.66578328e-01 5.31903863e-01]\n",
            " [8.63912496e-02 5.46878365e-01 3.66730385e-01]]\n"
          ],
          "name": "stdout"
        }
      ]
    },
    {
      "cell_type": "code",
      "metadata": {
        "trusted": true,
        "id": "g3RT8MeEIwq4",
        "colab_type": "code",
        "colab": {
          "base_uri": "https://localhost:8080/",
          "height": 333
        },
        "outputId": "05c32d74-cf02-473f-94b6-64872740d61a"
      },
      "source": [
        "# Plot the decision boundary. For that, we will assign a color to each\n",
        "# point in the mesh [x_min, x_max]x[y_min, y_max].\n",
        "h = .02  # step size in the mesh\n",
        "x_min, x_max = X[:, 0].min() - .5, X[:, 0].max() + .5\n",
        "y_min, y_max = X[:, 1].min() - .5, X[:, 1].max() + .5\n",
        "xx, yy = np.meshgrid(np.arange(x_min, x_max, h), np.arange(y_min, y_max, h))\n",
        "\n",
        "(xsize, ysize) = xx.shape\n",
        "nelm = xsize * ysize\n",
        "\n",
        "XX = np.c_[xx.reshape((nelm,1)), yy.reshape((nelm,1))]\n",
        "#print XX\n",
        "\n",
        "Z = clf_LR.predict(XX)\n",
        "#print('Z\\n', Z)\n",
        "\n",
        "# Put the result into a color plot\n",
        "Z = Z.reshape(xx.shape)\n",
        "plt.figure()\n",
        "#plt.figure(1, figsize=(4, 3))\n",
        "plt.pcolormesh(xx, yy, Z, cmap=cmap_light)\n",
        "\n",
        "# Plot also the training points\n",
        "for k, c, marker, target_name  in zip([0, 1, 2], colors, markers, target_names):\n",
        "    plt.scatter(X[y == k, 0], X[y == k, 1], c=c, marker=marker, label = target_name)\n",
        "#plt.scatter(data[:, 0], data[:, 1], c=y, edgecolors='k', cmap=plt.cm.Paired)\n",
        "plt.legend()\n",
        "plt.title('logit_iris_2d_multi (C=1)')\n",
        "plt.xlabel('Sepal length')\n",
        "plt.ylabel('Sepal width')\n",
        "plt.savefig('logit_iris_2d_3class_C1.eps')\n",
        "\n",
        "#plt.xlim(xx.min(), xx.max())\n",
        "#plt.ylim(yy.min(), yy.max())\n",
        "#plt.xticks(())\n",
        "#plt.yticks(())\n",
        "\n",
        "plt.show()"
      ],
      "execution_count": 18,
      "outputs": [
        {
          "output_type": "stream",
          "text": [
            "The PostScript backend does not support transparency; partially transparent artists will be rendered opaque.\n",
            "The PostScript backend does not support transparency; partially transparent artists will be rendered opaque.\n"
          ],
          "name": "stderr"
        },
        {
          "output_type": "display_data",
          "data": {
            "image/png": "[encoded data removed]",
            "text/plain": [
              "<Figure size 432x288 with 1 Axes>"
            ]
          },
          "metadata": {
            "tags": [],
            "needs_background": "light"
          }
        }
      ]
    },
    {
      "cell_type": "code",
      "metadata": {
        "trusted": true,
        "id": "VXJ--wVRIwq8",
        "colab_type": "code",
        "colab": {}
      },
      "source": [
        ""
      ],
      "execution_count": null,
      "outputs": []
    }
  ]
}