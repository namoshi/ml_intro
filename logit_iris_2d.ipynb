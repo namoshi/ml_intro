{
 "cells": [
  {
   "cell_type": "markdown",
   "metadata": {
    "colab_type": "text",
    "id": "view-in-github"
   },
   "source": [
    "<a href=\"https://colab.research.google.com/github/namoshi/ml_intro/blob/master/logit_iris_2d.ipynb\" target=\"_parent\"><img src=\"https://colab.research.google.com/assets/colab-badge.svg\" alt=\"Open In Colab\"/></a>"
   ]
  },
  {
   "cell_type": "markdown",
   "metadata": {
    "colab_type": "text",
    "id": "tMtWL_fOIwqU"
   },
   "source": [
    "## ロジスティック回帰\n",
    "ロジスティック回帰によるアヤメのデータ（２次元）の識別"
   ]
  },
  {
   "cell_type": "code",
   "execution_count": 11,
   "metadata": {
    "colab": {},
    "colab_type": "code",
    "id": "kXi7NxVkIwqW"
   },
   "outputs": [],
   "source": [
    "import numpy as np\n",
    "import matplotlib.pyplot as plt\n",
    "from sklearn.linear_model import LogisticRegression\n",
    "from sklearn import datasets\n",
    "#from sklearn.metrics import confusion_matrix\n",
    "from matplotlib.colors import ListedColormap"
   ]
  },
  {
   "cell_type": "code",
   "execution_count": 12,
   "metadata": {
    "colab": {
     "base_uri": "https://localhost:8080/",
     "height": 75
    },
    "colab_type": "code",
    "id": "hSSLOQv9Iwqb",
    "outputId": "09417da9-7dba-4ded-c0c8-1991c6c5ff78"
   },
   "outputs": [
    {
     "name": "stdout",
     "output_type": "stream",
     "text": [
      "Size of the data =  (100, 2)\n",
      "N= 100 mdim= 2\n",
      "size of y (100,)\n"
     ]
    }
   ],
   "source": [
    "# data = np.loadtxt(\"iris.dat\",comments='#')\n",
    "iris = datasets.load_iris()\n",
    "X = iris.data[:100,:2]\n",
    "y = iris.target[:100]\n",
    "target_names = iris.target_names\n",
    "\n",
    "print('Size of the data = ', X.shape)\n",
    "n = X.shape[0]\n",
    "mdim = X.shape[1]\n",
    "print('N=', n, 'mdim=', mdim)\n",
    "print('size of y', y.shape)\n"
   ]
  },
  {
   "cell_type": "markdown",
   "metadata": {
    "colab_type": "text",
    "id": "Mc8c1-PoKi1p"
   },
   "source": [
    "Logistic 回帰による学習（L2正則化：C=1.0）"
   ]
  },
  {
   "cell_type": "code",
   "execution_count": 13,
   "metadata": {
    "colab": {
     "base_uri": "https://localhost:8080/",
     "height": 1000
    },
    "colab_type": "code",
    "id": "bVZgssYZJ63M",
    "outputId": "22f606fe-23f4-42dc-90ac-2c443b34dfb2"
   },
   "outputs": [
    {
     "name": "stdout",
     "output_type": "stream",
     "text": [
      "Mean Accuracy: 1.0000\n",
      "Sparsity of the parameters: 0.00%\n",
      "Estimated Classes\n",
      " [0 0 0 0 0 0 0 0 0 0 0 0 0 0 0 0 0 0 0 0 0 0 0 0 0 0 0 0 0 0 0 0 0 0 0 0 0\n",
      " 0 0 0 0 0 0 0 0 0 0 0 0 0 1 1 1 1 1 1 1 1 1 1 1 1 1 1 1 1 1 1 1 1 1 1 1 1\n",
      " 1 1 1 1 1 1 1 1 1 1 1 1 1 1 1 1 1 1 1 1 1 1 1 1 1 1]\n",
      "Estimated Probability\n",
      " [[0.89862433 0.10137567]\n",
      " [0.78359919 0.21640081]\n",
      " [0.92462463 0.07537537]\n",
      " [0.92501875 0.07498125]\n",
      " [0.94224758 0.05775242]\n",
      " [0.92181217 0.07818783]\n",
      " [0.96829859 0.03170141]\n",
      " [0.89913956 0.10086044]\n",
      " [0.9258013  0.0741987 ]\n",
      " [0.83047066 0.16952934]\n",
      " [0.86562589 0.13437411]\n",
      " [0.94286143 0.05713857]\n",
      " [0.83126724 0.16873276]\n",
      " [0.95827298 0.04172702]\n",
      " [0.82316647 0.17683353]\n",
      " [0.95498175 0.04501825]\n",
      " [0.92181217 0.07818783]\n",
      " [0.89862433 0.10137567]\n",
      " [0.77581057 0.22418943]\n",
      " [0.95642153 0.04357847]\n",
      " [0.72236464 0.27763536]\n",
      " [0.94193834 0.05806166]\n",
      " [0.98242561 0.01757439]\n",
      " [0.82886854 0.17113146]\n",
      " [0.94286143 0.05713857]\n",
      " [0.72688903 0.27311097]\n",
      " [0.89913956 0.10086044]\n",
      " [0.86693914 0.13306086]\n",
      " [0.82806298 0.17193702]\n",
      " [0.92462463 0.07537537]\n",
      " [0.86953304 0.13046696]\n",
      " [0.72236464 0.27763536]\n",
      " [0.9755738  0.0244262 ]\n",
      " [0.95546664 0.04453336]\n",
      " [0.83047066 0.16952934]\n",
      " [0.8296711  0.1703289 ]\n",
      " [0.72122636 0.27877364]\n",
      " [0.95689162 0.04310838]\n",
      " [0.94407078 0.05592922]\n",
      " [0.86759168 0.13240832]\n",
      " [0.92343085 0.07656915]\n",
      " [0.59936883 0.40063117]\n",
      " [0.96864476 0.03135524]\n",
      " [0.92343085 0.07656915]\n",
      " [0.95642153 0.04357847]\n",
      " [0.83126724 0.16873276]\n",
      " [0.95642153 0.04357847]\n",
      " [0.94346915 0.05653085]\n",
      " [0.89758686 0.10241314]\n",
      " [0.86824151 0.13175849]\n",
      " [0.01021028 0.98978972]\n",
      " [0.06140582 0.93859418]\n",
      " [0.01026773 0.98973227]\n",
      " [0.06441282 0.93558718]\n",
      " [0.0141533  0.9858467 ]\n",
      " [0.14422967 0.85577033]\n",
      " [0.10747391 0.89252609]\n",
      " [0.37134714 0.62865286]\n",
      " [0.01407442 0.98592558]\n",
      " [0.36738597 0.63261403]\n",
      " [0.11474977 0.88525023]\n",
      " [0.14283599 0.85716401]\n",
      " [0.01079935 0.98920065]\n",
      " [0.06239329 0.93760671]\n",
      " [0.23676026 0.76323974]\n",
      " [0.01884119 0.98115881]\n",
      " [0.29560339 0.70439661]\n",
      " [0.08388723 0.91611277]\n",
      " [0.00586336 0.99413664]\n",
      " [0.08476261 0.91523739]\n",
      " [0.23370103 0.76629897]\n",
      " [0.04688338 0.95311662]\n",
      " [0.01061918 0.98938082]\n",
      " [0.04688338 0.95311662]\n",
      " [0.02574376 0.97425624]\n",
      " [0.01894626 0.98105374]\n",
      " [0.00566841 0.99433159]\n",
      " [0.01399598 0.98600402]\n",
      " [0.08302007 0.91697993]\n",
      " [0.08432389 0.91567611]\n",
      " [0.0852034  0.9147966 ]\n",
      " [0.0852034  0.9147966 ]\n",
      " [0.08388723 0.91611277]\n",
      " [0.04713733 0.95286267]\n",
      " [0.43718774 0.56281226]\n",
      " [0.2909041  0.7090959 ]\n",
      " [0.01884119 0.98115881]\n",
      " [0.00583041 0.99416959]\n",
      " [0.29560339 0.70439661]\n",
      " [0.11190194 0.88809806]\n",
      " [0.14563463 0.85436537]\n",
      " [0.08258956 0.91741044]\n",
      " [0.06339556 0.93660444]\n",
      " [0.24296118 0.75703882]\n",
      " [0.14493073 0.85506927]\n",
      " [0.23573745 0.76426255]\n",
      " [0.18567014 0.81432986]\n",
      " [0.04663072 0.95336928]\n",
      " [0.30153896 0.69846104]\n",
      " [0.14422967 0.85577033]]\n"
     ]
    }
   ],
   "source": [
    "clf_LR = LogisticRegression(C=1.0, penalty='l2', tol=1e-6)\n",
    "clf_LR.fit(X, y)\n",
    "\n",
    "coef_LR = clf_LR.coef_.ravel()\n",
    "sparsity_LR = np.mean(coef_LR == 0) * 100\n",
    "\n",
    "print(\"Mean Accuracy: %.4f\" % clf_LR.score(X, y))\n",
    "print(\"Sparsity of the parameters: %.2f%%\" % sparsity_LR)\n",
    "\n",
    "yy = clf_LR.predict(X)\n",
    "pp = clf_LR.predict_proba(X)\n",
    "print('Estimated Classes\\n', yy)\n",
    "print('Estimated Probability\\n', pp)"
   ]
  },
  {
   "cell_type": "code",
   "execution_count": 14,
   "metadata": {
    "colab": {
     "base_uri": "https://localhost:8080/",
     "height": 333
    },
    "colab_type": "code",
    "id": "X1Te0bS3Iwqh",
    "outputId": "a02d1027-b8a2-4b50-a2db-353e03408851"
   },
   "outputs": [
    {
     "name": "stderr",
     "output_type": "stream",
     "text": [
      "/home/kurita/anaconda3/lib/python3.7/site-packages/ipykernel_launcher.py:30: MatplotlibDeprecationWarning: shading='flat' when X and Y have the same dimensions as C is deprecated since 3.3.  Either specify the corners of the quadrilaterals with X and Y, or pass shading='auto', 'nearest' or 'gouraud', or set rcParams['pcolor.shading'].  This will become an error two minor releases later.\n",
      "The PostScript backend does not support transparency; partially transparent artists will be rendered opaque.\n",
      "The PostScript backend does not support transparency; partially transparent artists will be rendered opaque.\n"
     ]
    },
    {
     "data": {
      "image/png": "[encoded data removed]",
      "text/plain": [
       "<Figure size 432x288 with 1 Axes>"
      ]
     },
     "metadata": {
      "needs_background": "light"
     },
     "output_type": "display_data"
    }
   ],
   "source": [
    "%matplotlib inline\n",
    "# Create color maps\n",
    "cmap_light = ListedColormap(['#FFAAAA', '#AAFFAA', '#AAAAFF'])\n",
    "cmap_bold = ListedColormap(['#FF0000', '#00FF00', '#0000FF'])\n",
    "\n",
    "## colors\n",
    "colors = ['red', 'green', 'blue']\n",
    "markers = ['x', 'o', 'v']\n",
    "\n",
    "# Plot the decision boundary. For that, we will assign a color to each\n",
    "# point in the mesh [x_min, x_max]x[y_min, y_max].\n",
    "h = .02  # step size in the mesh\n",
    "x_min, x_max = X[:, 0].min() - .5, X[:, 0].max() + .5\n",
    "y_min, y_max = X[:, 1].min() - .5, X[:, 1].max() + .5\n",
    "xx, yy = np.meshgrid(np.arange(x_min, x_max, h), np.arange(y_min, y_max, h))\n",
    "\n",
    "(xsize, ysize) = xx.shape\n",
    "nelm = xsize * ysize\n",
    "\n",
    "XX = np.c_[xx.reshape((nelm,1)), yy.reshape((nelm,1))]\n",
    "#print XX\n",
    "\n",
    "Z = clf_LR.predict(XX)\n",
    "#print('Z\\n', Z)\n",
    "\n",
    "# Put the result into a color plot\n",
    "Z = Z.reshape(xx.shape)\n",
    "plt.figure()\n",
    "#plt.figure(1, figsize=(4, 3))\n",
    "plt.pcolormesh(xx, yy, Z, cmap=cmap_light)\n",
    "\n",
    "# Plot also the training points\n",
    "for k, c, marker, target_name  in zip([0, 1], colors, markers, target_names):\n",
    "    plt.scatter(X[y == k, 0], X[y == k, 1], c=c, marker=marker, label = target_name)\n",
    "#plt.scatter(data[:, 0], data[:, 1], c=y, edgecolors='k', cmap=plt.cm.Paired)\n",
    "plt.legend()\n",
    "plt.title('logit_iris_2d (C=1)')\n",
    "plt.xlabel('Sepal length')\n",
    "plt.ylabel('Sepal width')\n",
    "plt.savefig('logit_iris_2d_C1.eps')\n",
    "\n",
    "#plt.xlim(xx.min(), xx.max())\n",
    "#plt.ylim(yy.min(), yy.max())\n",
    "#plt.xticks(())\n",
    "#plt.yticks(())\n",
    "\n",
    "plt.show()"
   ]
  },
  {
   "cell_type": "markdown",
   "metadata": {
    "colab_type": "text",
    "id": "h1eYG6mgKzTq"
   },
   "source": [
    "Logistic回帰による学習（L2正則化：C=1000.0）"
   ]
  },
  {
   "cell_type": "code",
   "execution_count": 5,
   "metadata": {
    "colab": {
     "base_uri": "https://localhost:8080/",
     "height": 1000
    },
    "colab_type": "code",
    "id": "LKevswvxIwql",
    "outputId": "33761ad7-fb29-479a-b382-3de283bc6c91"
   },
   "outputs": [
    {
     "name": "stdout",
     "output_type": "stream",
     "text": [
      "Mean Accuracy: 1.0000\n",
      "Sparsity of the parameters: 0.00%\n",
      "Estimated Classes\n",
      " [0 0 0 0 0 0 0 0 0 0 0 0 0 0 0 0 0 0 0 0 0 0 0 0 0 0 0 0 0 0 0 0 0 0 0 0 0\n",
      " 0 0 0 0 0 0 0 0 0 0 0 0 0 1 1 1 1 1 1 1 1 1 1 1 1 1 1 1 1 1 1 1 1 1 1 1 1\n",
      " 1 1 1 1 1 1 1 1 1 1 1 1 1 1 1 1 1 1 1 1 1 1 1 1 1 1]\n",
      "Estimated Probability\n",
      " [[9.99995487e-01 4.51313431e-06]\n",
      " [9.99397024e-01 6.02976385e-04]\n",
      " [9.99999741e-01 2.58793107e-07]\n",
      " [9.99999801e-01 1.98963836e-07]\n",
      " [9.99999907e-01 9.34706923e-08]\n",
      " [9.99998370e-01 1.63005476e-06]\n",
      " [9.99999999e-01 8.79700889e-10]\n",
      " [9.99996530e-01 3.46976552e-06]\n",
      " [9.99999882e-01 1.17602625e-07]\n",
      " [9.99900984e-01 9.90161831e-05]\n",
      " [9.99939493e-01 6.05066012e-05]\n",
      " [9.99999945e-01 5.52482223e-08]\n",
      " [9.99923873e-01 7.61267937e-05]\n",
      " [9.99999998e-01 2.43563578e-09]\n",
      " [9.98945860e-01 1.05414023e-03]\n",
      " [9.99999903e-01 9.66301106e-08]\n",
      " [9.99998370e-01 1.63005476e-06]\n",
      " [9.99995487e-01 4.51313431e-06]\n",
      " [9.95081310e-01 4.91869044e-03]\n",
      " [9.99999980e-01 1.99545073e-08]\n",
      " [9.86499032e-01 1.35009678e-02]\n",
      " [9.99999878e-01 1.21577730e-07]\n",
      " [1.00000000e+00 2.36978473e-11]\n",
      " [9.99832493e-01 1.67507246e-04]\n",
      " [9.99999945e-01 5.52482223e-08]\n",
      " [9.95241366e-01 4.75863420e-03]\n",
      " [9.99996530e-01 3.46976552e-06]\n",
      " [9.99964235e-01 3.57648441e-05]\n",
      " [9.99782134e-01 2.17866425e-04]\n",
      " [9.99999741e-01 2.58793107e-07]\n",
      " [9.99987505e-01 1.24954559e-05]\n",
      " [9.86499032e-01 1.35009678e-02]\n",
      " [9.99999999e-01 6.99187195e-10]\n",
      " [9.99999943e-01 5.71156767e-08]\n",
      " [9.99900984e-01 9.90161831e-05]\n",
      " [9.99871213e-01 1.28786943e-04]\n",
      " [9.82510238e-01 1.74897623e-02]\n",
      " [9.99999988e-01 1.17946170e-08]\n",
      " [9.99999981e-01 1.93020746e-08]\n",
      " [9.99972503e-01 2.74967486e-05]\n",
      " [9.99999431e-01 5.69492908e-07]\n",
      " [9.54494834e-01 4.55051658e-02]\n",
      " [9.99999999e-01 5.19969492e-10]\n",
      " [9.99999431e-01 5.69492908e-07]\n",
      " [9.99999980e-01 1.99545073e-08]\n",
      " [9.99923873e-01 7.61267937e-05]\n",
      " [9.99999980e-01 1.99545073e-08]\n",
      " [9.99999967e-01 3.26558619e-08]\n",
      " [9.99992365e-01 7.63544001e-06]\n",
      " [9.99978860e-01 2.11400262e-05]\n",
      " [8.21565038e-15 1.00000000e+00]\n",
      " [2.01460137e-09 9.99999998e-01]\n",
      " [1.06581410e-14 1.00000000e+00]\n",
      " [2.14682361e-08 9.99999979e-01]\n",
      " [1.84519067e-13 1.00000000e+00]\n",
      " [2.86996870e-06 9.99997130e-01]\n",
      " [9.72733326e-08 9.99999903e-01]\n",
      " [3.13841882e-02 9.68615812e-01]\n",
      " [1.41886503e-13 1.00000000e+00]\n",
      " [1.45102767e-02 9.85489723e-01]\n",
      " [2.96697671e-06 9.99997033e-01]\n",
      " [1.69636968e-06 9.99998304e-01]\n",
      " [1.12798659e-13 1.00000000e+00]\n",
      " [4.43327708e-09 9.99999996e-01]\n",
      " [1.38555237e-04 9.99861445e-01]\n",
      " [6.64357458e-13 1.00000000e+00]\n",
      " [8.43586599e-04 9.99156413e-01]\n",
      " [5.94392968e-08 9.99999941e-01]\n",
      " [1.77635684e-15 1.00000000e+00]\n",
      " [1.00561285e-07 9.99999899e-01]\n",
      " [6.29680183e-05 9.99937032e-01]\n",
      " [7.27631955e-10 9.99999999e-01]\n",
      " [5.12923037e-14 1.00000000e+00]\n",
      " [7.27631955e-10 9.99999999e-01]\n",
      " [8.90731933e-12 1.00000000e+00]\n",
      " [8.64197602e-13 1.00000000e+00]\n",
      " [4.44089210e-16 1.00000000e+00]\n",
      " [1.09023901e-13 1.00000000e+00]\n",
      " [3.51331028e-08 9.99999965e-01]\n",
      " [7.73129489e-08 9.99999923e-01]\n",
      " [1.30800494e-07 9.99999869e-01]\n",
      " [1.30800494e-07 9.99999869e-01]\n",
      " [5.94392968e-08 9.99999941e-01]\n",
      " [9.46434042e-10 9.99999999e-01]\n",
      " [5.03547995e-02 9.49645201e-01]\n",
      " [2.94885739e-04 9.99705114e-01]\n",
      " [6.64357458e-13 1.00000000e+00]\n",
      " [1.33226763e-15 1.00000000e+00]\n",
      " [8.43586599e-04 9.99156413e-01]\n",
      " [7.96933642e-07 9.99999203e-01]\n",
      " [4.85549448e-06 9.99995145e-01]\n",
      " [2.70108297e-08 9.99999973e-01]\n",
      " [9.75574899e-09 9.99999990e-01]\n",
      " [6.70599602e-04 9.99329400e-01]\n",
      " [3.73297747e-06 9.99996267e-01]\n",
      " [1.06526651e-04 9.99893473e-01]\n",
      " [1.74857345e-05 9.99982514e-01]\n",
      " [5.59413849e-10 9.99999999e-01]\n",
      " [3.13347420e-03 9.96866526e-01]\n",
      " [2.86996870e-06 9.99997130e-01]]\n"
     ]
    }
   ],
   "source": [
    "clf_LR = LogisticRegression(C=1000.0, penalty='l2', tol=1e-6)\n",
    "clf_LR.fit(X, y)\n",
    "\n",
    "coef_LR = clf_LR.coef_.ravel()\n",
    "sparsity_LR = np.mean(coef_LR == 0) * 100\n",
    "\n",
    "print(\"Mean Accuracy: %.4f\" % clf_LR.score(X, y))\n",
    "print(\"Sparsity of the parameters: %.2f%%\" % sparsity_LR)\n",
    "\n",
    "\n",
    "yy = clf_LR.predict(X)\n",
    "\n",
    "pp = clf_LR.predict_proba(X)\n",
    "\n",
    "print('Estimated Classes\\n', yy)\n",
    "print('Estimated Probability\\n', pp)\n"
   ]
  },
  {
   "cell_type": "code",
   "execution_count": 6,
   "metadata": {
    "colab": {
     "base_uri": "https://localhost:8080/",
     "height": 333
    },
    "colab_type": "code",
    "id": "KWRA3-JRIwqq",
    "outputId": "447ba228-804f-4fa4-d693-b9abc1c8ed73"
   },
   "outputs": [
    {
     "name": "stderr",
     "output_type": "stream",
     "text": [
      "The PostScript backend does not support transparency; partially transparent artists will be rendered opaque.\n",
      "The PostScript backend does not support transparency; partially transparent artists will be rendered opaque.\n"
     ]
    },
    {
     "data": {
      "image/png": "[encoded data removed]",
      "text/plain": [
       "<Figure size 432x288 with 1 Axes>"
      ]
     },
     "metadata": {
      "needs_background": "light"
     },
     "output_type": "display_data"
    }
   ],
   "source": [
    "# Plot the decision boundary. For that, we will assign a color to each\n",
    "# point in the mesh [x_min, x_max]x[y_min, y_max].\n",
    "h = .02  # step size in the mesh\n",
    "x_min, x_max = X[:, 0].min() - .5, X[:, 0].max() + .5\n",
    "y_min, y_max = X[:, 1].min() - .5, X[:, 1].max() + .5\n",
    "xx, yy = np.meshgrid(np.arange(x_min, x_max, h), np.arange(y_min, y_max, h))\n",
    "\n",
    "(xsize, ysize) = xx.shape\n",
    "nelm = xsize * ysize\n",
    "\n",
    "XX = np.c_[xx.reshape((nelm,1)), yy.reshape((nelm,1))]\n",
    "#print XX\n",
    "\n",
    "Z = clf_LR.predict(XX)\n",
    "#print('Z\\n', Z)\n",
    "\n",
    "# Put the result into a color plot\n",
    "Z = Z.reshape(xx.shape)\n",
    "plt.figure()\n",
    "#plt.figure(1, figsize=(4, 3))\n",
    "plt.pcolormesh(xx, yy, Z, cmap=cmap_light)\n",
    "\n",
    "# Plot also the training points\n",
    "for k, c, marker, target_name  in zip([0, 1], colors, markers, target_names):\n",
    "    plt.scatter(X[y == k, 0], X[y == k, 1], c=c, marker=marker, label = target_name)\n",
    "#plt.scatter(data[:, 0], data[:, 1], c=y, edgecolors='k', cmap=plt.cm.Paired)\n",
    "plt.legend()\n",
    "plt.title('logit_iris_2d (C=1000)')\n",
    "plt.xlabel('Sepal length')\n",
    "plt.ylabel('Sepal width')\n",
    "plt.savefig('logit_iris_2d_C1000.eps')\n",
    "\n",
    "#plt.xlim(xx.min(), xx.max())\n",
    "#plt.ylim(yy.min(), yy.max())\n",
    "#plt.xticks(())\n",
    "#plt.yticks(())\n",
    "\n",
    "plt.show()"
   ]
  },
  {
   "cell_type": "markdown",
   "metadata": {
    "colab_type": "text",
    "id": "K7YqrIXQMCrN"
   },
   "source": [
    "## 多項Logistic回帰（3クラス）（L2正則化：C=1.0）"
   ]
  },
  {
   "cell_type": "code",
   "execution_count": 15,
   "metadata": {
    "colab": {
     "base_uri": "https://localhost:8080/",
     "height": 75
    },
    "colab_type": "code",
    "id": "i33e63ZpIwqu",
    "outputId": "33847046-3aca-461a-e16a-d274bf7ee79f"
   },
   "outputs": [
    {
     "name": "stdout",
     "output_type": "stream",
     "text": [
      "Size of the data =  (150, 2)\n",
      "N= 150 mdim= 2\n",
      "size of y (150,)\n"
     ]
    }
   ],
   "source": [
    "# 3 classes classification\n",
    "\n",
    "# Data \n",
    "X = iris.data[:,:2]\n",
    "y = iris.target\n",
    "target_names = iris.target_names\n",
    "\n",
    "print('Size of the data = ', X.shape)\n",
    "n = X.shape[0]\n",
    "mdim = X.shape[1]\n",
    "print('N=', n, 'mdim=', mdim)\n",
    "print('size of y', y.shape)"
   ]
  },
  {
   "cell_type": "code",
   "execution_count": 16,
   "metadata": {
    "colab": {
     "base_uri": "https://localhost:8080/",
     "height": 1000
    },
    "colab_type": "code",
    "id": "6-EJDuaYIwqz",
    "outputId": "16c8dfc6-0adf-49f6-9094-c65eb6bbdcc4"
   },
   "outputs": [
    {
     "name": "stdout",
     "output_type": "stream",
     "text": [
      "Mean Accuracy: 0.8200\n",
      "Sparsity of the parameters: 0.00%\n",
      "Estimated Classes\n",
      " [0 0 0 0 0 0 0 0 0 0 0 0 0 0 0 0 0 0 0 0 0 0 0 0 0 0 0 0 0 0 0 0 0 0 0 0 0\n",
      " 0 0 0 0 0 0 0 0 0 0 0 0 0 2 2 2 1 2 1 2 1 2 1 1 1 1 1 1 2 1 1 1 1 1 1 1 1\n",
      " 2 2 2 2 1 1 1 1 1 1 1 2 2 1 1 1 1 1 1 1 1 1 1 1 1 1 2 1 2 2 2 2 1 2 2 2 2\n",
      " 2 2 1 1 2 2 2 2 1 2 1 2 1 2 2 1 1 2 2 2 2 2 2 1 2 2 2 1 2 2 2 1 2 2 2 1 2\n",
      " 2 1]\n",
      "Estimated Probability\n",
      " [[9.23471523e-01 5.85094870e-02 1.80189902e-02]\n",
      " [7.91561803e-01 1.80915492e-01 2.75227047e-02]\n",
      " [9.42363112e-01 5.08643197e-02 6.77256825e-03]\n",
      " [9.40552681e-01 5.37602500e-02 5.68706921e-03]\n",
      " [9.61852332e-01 2.96150999e-02 8.53256802e-03]\n",
      " [9.43194379e-01 3.40889656e-02 2.27166554e-02]\n",
      " [9.80228224e-01 1.74174108e-02 2.35436504e-03]\n",
      " [9.22925796e-01 6.19231099e-02 1.51510943e-02]\n",
      " [9.35998281e-01 5.99956260e-02 4.00609265e-03]\n",
      " [8.47179165e-01 1.31167309e-01 2.16535256e-02]\n",
      " [8.90211547e-01 7.01111384e-02 3.96773144e-02]\n",
      " [9.60792655e-01 3.31742304e-02 6.03311469e-03]\n",
      " [8.43552576e-01 1.38307487e-01 1.81399373e-02]\n",
      " [9.67965164e-01 3.01513166e-02 1.88351933e-03]\n",
      " [8.24090632e-01 7.61862492e-02 9.97231187e-02]\n",
      " [9.65418616e-01 1.34833416e-02 2.10980428e-02]\n",
      " [9.43194379e-01 3.40889656e-02 2.27166554e-02]\n",
      " [9.23471523e-01 5.85094870e-02 1.80189902e-02]\n",
      " [7.79412697e-01 1.12640060e-01 1.07947243e-01]\n",
      " [9.73286247e-01 1.91699776e-02 7.54377521e-03]\n",
      " [7.32305263e-01 1.85527253e-01 8.21674843e-02]\n",
      " [9.61890827e-01 2.79670971e-02 1.01420761e-02]\n",
      " [9.90636520e-01 8.07773404e-03 1.28574568e-03]\n",
      " [8.51662608e-01 1.17584896e-01 3.07524967e-02]\n",
      " [9.60792655e-01 3.31742304e-02 6.03311469e-03]\n",
      " [7.27367085e-01 2.31740516e-01 4.08923982e-02]\n",
      " [9.22925796e-01 6.19231099e-02 1.51510943e-02]\n",
      " [8.92961175e-01 7.88665340e-02 2.81722914e-02]\n",
      " [8.52300401e-01 1.11120314e-01 3.65792855e-02]\n",
      " [9.42363112e-01 5.08643197e-02 6.77256825e-03]\n",
      " [8.87408459e-01 9.85635892e-02 1.40279517e-02]\n",
      " [7.32305263e-01 1.85527253e-01 8.21674843e-02]\n",
      " [9.86666724e-01 8.42145503e-03 4.91182063e-03]\n",
      " [9.69808684e-01 1.51891797e-02 1.50021367e-02]\n",
      " [8.47179165e-01 1.31167309e-01 2.16535256e-02]\n",
      " [8.49916385e-01 1.24263434e-01 2.58201808e-02]\n",
      " [7.28542834e-01 1.74296015e-01 9.71611510e-02]\n",
      " [9.73165962e-01 2.14948448e-02 5.33919291e-03]\n",
      " [9.55504395e-01 4.14893508e-02 3.00625418e-03]\n",
      " [8.92799769e-01 8.35021081e-02 2.36981225e-02]\n",
      " [9.45609580e-01 4.29790934e-02 1.14113270e-02]\n",
      " [5.08016555e-01 4.69702991e-01 2.22804541e-02]\n",
      " [9.78831524e-01 1.95043159e-02 1.66416007e-03]\n",
      " [9.45609580e-01 4.29790934e-02 1.14113270e-02]\n",
      " [9.73286247e-01 1.91699776e-02 7.54377521e-03]\n",
      " [8.43552576e-01 1.38307487e-01 1.81399373e-02]\n",
      " [9.73286247e-01 1.91699776e-02 7.54377521e-03]\n",
      " [9.58621119e-01 3.71179993e-02 4.26088144e-03]\n",
      " [9.22454792e-01 5.21172499e-02 2.54279578e-02]\n",
      " [8.91761739e-01 8.83233224e-02 1.99149390e-02]\n",
      " [1.76561306e-03 1.98157540e-01 8.00076847e-01]\n",
      " [2.40065944e-02 3.67198797e-01 6.08794609e-01]\n",
      " [1.99562258e-03 2.37179238e-01 7.60825139e-01]\n",
      " [3.12765121e-02 8.01194087e-01 1.67529401e-01]\n",
      " [4.12080968e-03 4.17227570e-01 5.78651621e-01]\n",
      " [9.00326287e-02 6.39339009e-01 2.70628362e-01]\n",
      " [5.00939452e-02 3.72355648e-01 5.77550406e-01]\n",
      " [2.78910969e-01 6.59629470e-01 6.14595612e-02]\n",
      " [3.79486563e-03 3.62830387e-01 6.33374747e-01]\n",
      " [2.97483534e-01 5.92444692e-01 1.10071774e-01]\n",
      " [5.59434148e-02 8.75796440e-01 6.82601452e-02]\n",
      " [8.63642410e-02 5.46888574e-01 3.66747185e-01]\n",
      " [3.56417860e-03 7.09424928e-01 2.87010893e-01]\n",
      " [2.91826429e-02 5.30084237e-01 4.40733120e-01]\n",
      " [1.71895266e-01 5.93194623e-01 2.34910111e-01]\n",
      " [4.80791595e-03 2.94062968e-01 7.01129116e-01]\n",
      " [2.30292601e-01 5.38359878e-01 2.31347521e-01]\n",
      " [4.49958017e-02 6.57508317e-01 2.97495881e-01]\n",
      " [1.67139313e-03 6.46458117e-01 3.51870490e-01]\n",
      " [4.53167505e-02 7.42599070e-01 2.12084180e-01]\n",
      " [1.61274040e-01 4.68649523e-01 3.70076437e-01]\n",
      " [2.06787373e-02 5.54478706e-01 4.24842556e-01]\n",
      " [3.29136802e-03 5.51663001e-01 4.45045631e-01]\n",
      " [2.06787373e-02 5.54478706e-01 4.24842556e-01]\n",
      " [8.76854520e-03 4.31439598e-01 5.59791857e-01]\n",
      " [5.30617829e-03 3.43675442e-01 6.51018380e-01]\n",
      " [1.15095376e-03 3.15660691e-01 6.83188355e-01]\n",
      " [3.45226367e-03 3.11693693e-01 6.84854043e-01]\n",
      " [4.27880396e-02 5.57551852e-01 3.99660109e-01]\n",
      " [4.53782910e-02 7.02199610e-01 2.52422099e-01]\n",
      " [4.48618322e-02 7.78495020e-01 1.76643148e-01]\n",
      " [4.48618322e-02 7.78495020e-01 1.76643148e-01]\n",
      " [4.49958017e-02 6.57508317e-01 2.97495881e-01]\n",
      " [2.14222962e-02 6.08289146e-01 3.70288557e-01]\n",
      " [3.86504941e-01 4.64978594e-01 1.48516466e-01]\n",
      " [2.05597696e-01 3.82188996e-01 4.12213307e-01]\n",
      " [4.80791595e-03 2.94062968e-01 7.01129116e-01]\n",
      " [1.62214661e-03 5.92473173e-01 4.05904680e-01]\n",
      " [2.30292601e-01 5.38359878e-01 2.31347521e-01]\n",
      " [6.38982620e-02 7.51151070e-01 1.84950668e-01]\n",
      " [9.01623720e-02 7.17997587e-01 1.91840041e-01]\n",
      " [4.09720768e-02 5.04159157e-01 4.54868766e-01]\n",
      " [3.16804933e-02 6.83379238e-01 2.84940268e-01]\n",
      " [1.57446571e-01 7.66241461e-01 7.63119679e-02]\n",
      " [9.05066538e-02 6.80604746e-01 2.28888600e-01]\n",
      " [1.69979925e-01 5.53920873e-01 2.76099202e-01]\n",
      " [1.24686107e-01 5.99803164e-01 2.75510729e-01]\n",
      " [1.97082614e-02 4.99029224e-01 4.81262515e-01]\n",
      " [2.20424781e-01 6.86229016e-01 9.33462031e-02]\n",
      " [9.00326287e-02 6.39339009e-01 2.70628362e-01]\n",
      " [5.00939452e-02 3.72355648e-01 5.77550406e-01]\n",
      " [4.49958017e-02 6.57508317e-01 2.97495881e-01]\n",
      " [5.88993495e-04 2.00800199e-01 7.98610807e-01]\n",
      " [1.31960340e-02 4.65777479e-01 5.21026487e-01]\n",
      " [8.10744200e-03 3.76697827e-01 6.15194731e-01]\n",
      " [5.95953240e-05 1.06943109e-01 8.92997295e-01]\n",
      " [3.61781513e-01 5.79615831e-01 5.86026562e-02]\n",
      " [1.72380882e-04 1.68576922e-01 8.31250697e-01]\n",
      " [6.41818546e-04 4.06199382e-01 5.93158800e-01]\n",
      " [2.54544795e-03 1.16904635e-01 8.80549917e-01]\n",
      " [1.57913787e-02 3.36703893e-01 6.47504729e-01]\n",
      " [4.41771003e-03 4.73664503e-01 5.21917787e-01]\n",
      " [2.23405972e-03 2.81174694e-01 7.16591246e-01]\n",
      " [3.18368512e-02 7.27249017e-01 2.40914131e-01]\n",
      " [6.34551561e-02 6.28138750e-01 3.08406094e-01]\n",
      " [2.40065944e-02 3.67198797e-01 6.08794609e-01]\n",
      " [8.10744200e-03 3.76697827e-01 6.15194731e-01]\n",
      " [4.59183512e-04 5.09400773e-02 9.48600739e-01]\n",
      " [1.05427832e-05 1.25232094e-01 8.74757363e-01]\n",
      " [3.56417860e-03 7.09424928e-01 2.87010893e-01]\n",
      " [2.76421356e-03 2.22550855e-01 7.74684932e-01]\n",
      " [1.25735178e-01 6.40517026e-01 2.33747796e-01]\n",
      " [1.98854606e-05 1.08396397e-01 8.91583717e-01]\n",
      " [6.62325866e-03 5.09434030e-01 4.83942711e-01]\n",
      " [9.27049967e-03 2.60198888e-01 7.30530612e-01]\n",
      " [7.12368326e-04 1.55358301e-01 8.43929331e-01]\n",
      " [1.39670274e-02 5.22062186e-01 4.63970787e-01]\n",
      " [4.09720768e-02 5.04159157e-01 4.54868766e-01]\n",
      " [6.23133437e-03 4.52599532e-01 5.41169133e-01]\n",
      " [3.74731833e-04 1.78086757e-01 8.21538512e-01]\n",
      " [7.92391598e-05 1.59458203e-01 8.40462558e-01]\n",
      " [1.78017525e-04 3.83752189e-02 9.61446764e-01]\n",
      " [6.23133437e-03 4.52599532e-01 5.41169133e-01]\n",
      " [9.36186701e-03 4.87795867e-01 5.02842266e-01]\n",
      " [1.02616064e-02 5.99594145e-01 3.90144248e-01]\n",
      " [3.74102308e-05 9.35811559e-02 9.06381434e-01]\n",
      " [6.89150757e-02 3.47013491e-01 5.84071433e-01]\n",
      " [1.72184364e-02 3.88780964e-01 5.94000599e-01]\n",
      " [5.99040186e-02 5.28783924e-01 4.11312058e-01]\n",
      " [1.99562258e-03 2.37179238e-01 7.60825139e-01]\n",
      " [4.80791595e-03 2.94062968e-01 7.01129116e-01]\n",
      " [1.99562258e-03 2.37179238e-01 7.60825139e-01]\n",
      " [4.49958017e-02 6.57508317e-01 2.97495881e-01]\n",
      " [4.30876110e-03 2.48858623e-01 7.46832616e-01]\n",
      " [9.27049967e-03 2.60198888e-01 7.30530612e-01]\n",
      " [3.45226367e-03 3.11693693e-01 6.84854043e-01]\n",
      " [3.29136802e-03 5.51663001e-01 4.45045631e-01]\n",
      " [8.10744200e-03 3.76697827e-01 6.15194731e-01]\n",
      " [1.01482794e-01 3.66578628e-01 5.31938578e-01]\n",
      " [8.63642410e-02 5.46888574e-01 3.66747185e-01]]\n"
     ]
    }
   ],
   "source": [
    "clf_LR = LogisticRegression(C=1.0, penalty='l2', tol=1e-6, multi_class='multinomial', solver ='newton-cg')\n",
    "clf_LR.fit(X, y)\n",
    "\n",
    "coef_LR = clf_LR.coef_.ravel()\n",
    "sparsity_LR = np.mean(coef_LR == 0) * 100\n",
    "\n",
    "print(\"Mean Accuracy: %.4f\" % clf_LR.score(X, y))\n",
    "print(\"Sparsity of the parameters: %.2f%%\" % sparsity_LR)\n",
    "\n",
    "yy = clf_LR.predict(X)\n",
    "pp = clf_LR.predict_proba(X)\n",
    "print('Estimated Classes\\n', yy)\n",
    "print('Estimated Probability\\n', pp)"
   ]
  },
  {
   "cell_type": "code",
   "execution_count": 17,
   "metadata": {
    "colab": {
     "base_uri": "https://localhost:8080/",
     "height": 333
    },
    "colab_type": "code",
    "id": "g3RT8MeEIwq4",
    "outputId": "d09b50f5-7a63-4aad-ba80-587c94aae56b"
   },
   "outputs": [
    {
     "name": "stderr",
     "output_type": "stream",
     "text": [
      "/home/kurita/anaconda3/lib/python3.7/site-packages/ipykernel_launcher.py:21: MatplotlibDeprecationWarning: shading='flat' when X and Y have the same dimensions as C is deprecated since 3.3.  Either specify the corners of the quadrilaterals with X and Y, or pass shading='auto', 'nearest' or 'gouraud', or set rcParams['pcolor.shading'].  This will become an error two minor releases later.\n",
      "The PostScript backend does not support transparency; partially transparent artists will be rendered opaque.\n",
      "The PostScript backend does not support transparency; partially transparent artists will be rendered opaque.\n"
     ]
    },
    {
     "data": {
      "image/png": "[encoded data removed]",
      "text/plain": [
       "<Figure size 432x288 with 1 Axes>"
      ]
     },
     "metadata": {
      "needs_background": "light"
     },
     "output_type": "display_data"
    }
   ],
   "source": [
    "# Plot the decision boundary. For that, we will assign a color to each\n",
    "# point in the mesh [x_min, x_max]x[y_min, y_max].\n",
    "h = .02  # step size in the mesh\n",
    "x_min, x_max = X[:, 0].min() - .5, X[:, 0].max() + .5\n",
    "y_min, y_max = X[:, 1].min() - .5, X[:, 1].max() + .5\n",
    "xx, yy = np.meshgrid(np.arange(x_min, x_max, h), np.arange(y_min, y_max, h))\n",
    "\n",
    "(xsize, ysize) = xx.shape\n",
    "nelm = xsize * ysize\n",
    "\n",
    "XX = np.c_[xx.reshape((nelm,1)), yy.reshape((nelm,1))]\n",
    "#print XX\n",
    "\n",
    "Z = clf_LR.predict(XX)\n",
    "#print('Z\\n', Z)\n",
    "\n",
    "# Put the result into a color plot\n",
    "Z = Z.reshape(xx.shape)\n",
    "plt.figure()\n",
    "#plt.figure(1, figsize=(4, 3))\n",
    "plt.pcolormesh(xx, yy, Z, cmap=cmap_light)\n",
    "\n",
    "# Plot also the training points\n",
    "for k, c, marker, target_name  in zip([0, 1, 2], colors, markers, target_names):\n",
    "    plt.scatter(X[y == k, 0], X[y == k, 1], c=c, marker=marker, label = target_name)\n",
    "#plt.scatter(data[:, 0], data[:, 1], c=y, edgecolors='k', cmap=plt.cm.Paired)\n",
    "plt.legend()\n",
    "plt.title('logit_iris_2d_multi (C=1)')\n",
    "plt.xlabel('Sepal length')\n",
    "plt.ylabel('Sepal width')\n",
    "plt.savefig('logit_iris_2d_3class_C1.eps')\n",
    "\n",
    "#plt.xlim(xx.min(), xx.max())\n",
    "#plt.ylim(yy.min(), yy.max())\n",
    "#plt.xticks(())\n",
    "#plt.yticks(())\n",
    "\n",
    "plt.show()"
   ]
  },
  {
   "cell_type": "code",
   "execution_count": null,
   "metadata": {
    "colab": {},
    "colab_type": "code",
    "id": "VXJ--wVRIwq8"
   },
   "outputs": [],
   "source": []
  }
 ],
 "metadata": {
  "colab": {
   "include_colab_link": true,
   "name": "logit_iris_2d.ipynb",
   "provenance": []
  },
  "kernelspec": {
   "display_name": "Python 3",
   "language": "python",
   "name": "python3"
  },
  "language_info": {
   "codemirror_mode": {
    "name": "ipython",
    "version": 3
   },
   "file_extension": ".py",
   "mimetype": "text/x-python",
   "name": "python",
   "nbconvert_exporter": "python",
   "pygments_lexer": "ipython3",
   "version": "3.7.7"
  }
 },
 "nbformat": 4,
 "nbformat_minor": 4
}
