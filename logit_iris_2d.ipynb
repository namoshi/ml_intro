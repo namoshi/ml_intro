{
  "cells": [
    {
      "cell_type": "markdown",
      "metadata": {
        "id": "view-in-github",
        "colab_type": "text"
      },
      "source": [
        "<a href=\"https://colab.research.google.com/github/namoshi/ml_intro/blob/master/logit_iris_2d.ipynb\" target=\"_parent\"><img src=\"https://colab.research.google.com/assets/colab-badge.svg\" alt=\"Open In Colab\"/></a>"
      ]
    },
    {
      "cell_type": "markdown",
      "metadata": {
        "id": "tMtWL_fOIwqU"
      },
      "source": [
        "## ロジスティック回帰\n",
        "\n",
        "ロジスティック回帰を用いたアヤメのデータ（２次元）の識別\n",
        "\n",
        "\n",
        "\n"
      ]
    },
    {
      "cell_type": "code",
      "execution_count": null,
      "metadata": {
        "id": "kXi7NxVkIwqW"
      },
      "outputs": [],
      "source": [
        "import numpy as np\n",
        "import matplotlib.pyplot as plt\n",
        "from sklearn.linear_model import LogisticRegression\n",
        "from sklearn import datasets\n",
        "#from sklearn.metrics import confusion_matrix\n",
        "from matplotlib.colors import ListedColormap"
      ]
    },
    {
      "cell_type": "code",
      "execution_count": null,
      "metadata": {
        "id": "hSSLOQv9Iwqb"
      },
      "outputs": [],
      "source": [
        "# data = np.loadtxt(\"iris.dat\",comments='#')\n",
        "iris = datasets.load_iris()\n",
        "X = iris.data[:100,:2]\n",
        "y = iris.target[:100]\n",
        "target_names = iris.target_names\n",
        "\n",
        "print('Size of the data = ', X.shape)\n",
        "n = X.shape[0]\n",
        "mdim = X.shape[1]\n",
        "print('N=', n, 'mdim=', mdim)\n",
        "print('size of y', y.shape)\n"
      ]
    },
    {
      "cell_type": "markdown",
      "metadata": {
        "id": "Mc8c1-PoKi1p"
      },
      "source": [
        "Logistic 回帰による学習（L2正則化：C=1.0）"
      ]
    },
    {
      "cell_type": "code",
      "execution_count": null,
      "metadata": {
        "id": "bVZgssYZJ63M"
      },
      "outputs": [],
      "source": [
        "clf_LR = LogisticRegression(C=1.0, penalty='l2', tol=1e-6)\n",
        "clf_LR.fit(X, y)\n",
        "\n",
        "coef_LR = clf_LR.coef_.ravel()\n",
        "sparsity_LR = np.mean(coef_LR == 0) * 100\n",
        "\n",
        "print(\"Mean Accuracy: %.4f\" % clf_LR.score(X, y))\n",
        "print(\"Sparsity of the parameters: %.2f%%\" % sparsity_LR)\n",
        "\n",
        "yy = clf_LR.predict(X)\n",
        "pp = clf_LR.predict_proba(X)\n",
        "print('Estimated Classes\\n', yy)\n",
        "print('Estimated Probability\\n', pp)"
      ]
    },
    {
      "cell_type": "code",
      "execution_count": null,
      "metadata": {
        "id": "X1Te0bS3Iwqh"
      },
      "outputs": [],
      "source": [
        "%matplotlib inline\n",
        "# Create color maps\n",
        "cmap_light = ListedColormap(['#FFAAAA', '#AAFFAA', '#AAAAFF'])\n",
        "cmap_bold = ListedColormap(['#FF0000', '#00FF00', '#0000FF'])\n",
        "\n",
        "## colors\n",
        "colors = ['red', 'green', 'blue']\n",
        "markers = ['x', 'o', 'v']\n",
        "\n",
        "# Plot the decision boundary. For that, we will assign a color to each\n",
        "# point in the mesh [x_min, x_max]x[y_min, y_max].\n",
        "h = .02  # step size in the mesh\n",
        "x_min, x_max = X[:, 0].min() - .5, X[:, 0].max() + .5\n",
        "y_min, y_max = X[:, 1].min() - .5, X[:, 1].max() + .5\n",
        "xx, yy = np.meshgrid(np.arange(x_min, x_max, h), np.arange(y_min, y_max, h))\n",
        "\n",
        "(xsize, ysize) = xx.shape\n",
        "nelm = xsize * ysize\n",
        "\n",
        "XX = np.c_[xx.reshape((nelm,1)), yy.reshape((nelm,1))]\n",
        "#print XX\n",
        "\n",
        "Z = clf_LR.predict(XX)\n",
        "#print('Z\\n', Z)\n",
        "\n",
        "# Put the result into a color plot\n",
        "Z = Z.reshape(xx.shape)\n",
        "plt.figure()\n",
        "#plt.figure(1, figsize=(4, 3))\n",
        "plt.pcolormesh(xx, yy, Z, cmap=cmap_light)\n",
        "\n",
        "# Plot also the training points\n",
        "for k, c, marker, target_name  in zip([0, 1], colors, markers, target_names):\n",
        "    plt.scatter(X[y == k, 0], X[y == k, 1], c=c, marker=marker, label = target_name)\n",
        "#plt.scatter(data[:, 0], data[:, 1], c=y, edgecolors='k', cmap=plt.cm.Paired)\n",
        "plt.legend()\n",
        "plt.title('logit_iris_2d (C=1)')\n",
        "plt.xlabel('Sepal length')\n",
        "plt.ylabel('Sepal width')\n",
        "plt.savefig('logit_iris_2d_C1.eps')\n",
        "\n",
        "#plt.xlim(xx.min(), xx.max())\n",
        "#plt.ylim(yy.min(), yy.max())\n",
        "#plt.xticks(())\n",
        "#plt.yticks(())\n",
        "\n",
        "plt.show()"
      ]
    },
    {
      "cell_type": "markdown",
      "metadata": {
        "id": "h1eYG6mgKzTq"
      },
      "source": [
        "Logistic回帰による学習（L2正則化：C=1000.0）"
      ]
    },
    {
      "cell_type": "code",
      "execution_count": null,
      "metadata": {
        "id": "LKevswvxIwql"
      },
      "outputs": [],
      "source": [
        "clf_LR = LogisticRegression(C=0.0001, penalty='l2', tol=1e-6)\n",
        "clf_LR.fit(X, y)\n",
        "\n",
        "coef_LR = clf_LR.coef_.ravel()\n",
        "sparsity_LR = np.mean(coef_LR == 0) * 100\n",
        "\n",
        "print(\"Mean Accuracy: %.4f\" % clf_LR.score(X, y))\n",
        "print(\"Sparsity of the parameters: %.2f%%\" % sparsity_LR)\n",
        "\n",
        "\n",
        "yy = clf_LR.predict(X)\n",
        "\n",
        "pp = clf_LR.predict_proba(X)\n",
        "\n",
        "print('Estimated Classes\\n', yy)\n",
        "print('Estimated Probability\\n', pp)\n"
      ]
    },
    {
      "cell_type": "code",
      "execution_count": null,
      "metadata": {
        "id": "KWRA3-JRIwqq"
      },
      "outputs": [],
      "source": [
        "# Plot the decision boundary. For that, we will assign a color to each\n",
        "# point in the mesh [x_min, x_max]x[y_min, y_max].\n",
        "h = .02  # step size in the mesh\n",
        "x_min, x_max = X[:, 0].min() - .5, X[:, 0].max() + .5\n",
        "y_min, y_max = X[:, 1].min() - .5, X[:, 1].max() + .5\n",
        "xx, yy = np.meshgrid(np.arange(x_min, x_max, h), np.arange(y_min, y_max, h))\n",
        "\n",
        "(xsize, ysize) = xx.shape\n",
        "nelm = xsize * ysize\n",
        "\n",
        "XX = np.c_[xx.reshape((nelm,1)), yy.reshape((nelm,1))]\n",
        "#print XX\n",
        "\n",
        "Z = clf_LR.predict(XX)\n",
        "#print('Z\\n', Z)\n",
        "\n",
        "# Put the result into a color plot\n",
        "Z = Z.reshape(xx.shape)\n",
        "plt.figure()\n",
        "#plt.figure(1, figsize=(4, 3))\n",
        "plt.pcolormesh(xx, yy, Z, cmap=cmap_light)\n",
        "\n",
        "# Plot also the training points\n",
        "for k, c, marker, target_name  in zip([0, 1], colors, markers, target_names):\n",
        "    plt.scatter(X[y == k, 0], X[y == k, 1], c=c, marker=marker, label = target_name)\n",
        "#plt.scatter(data[:, 0], data[:, 1], c=y, edgecolors='k', cmap=plt.cm.Paired)\n",
        "plt.legend()\n",
        "plt.title('logit_iris_2d (C=1000)')\n",
        "plt.xlabel('Sepal length')\n",
        "plt.ylabel('Sepal width')\n",
        "plt.savefig('logit_iris_2d_C1000.eps')\n",
        "\n",
        "#plt.xlim(xx.min(), xx.max())\n",
        "#plt.ylim(yy.min(), yy.max())\n",
        "#plt.xticks(())\n",
        "#plt.yticks(())\n",
        "\n",
        "plt.show()"
      ]
    },
    {
      "cell_type": "markdown",
      "metadata": {
        "id": "K7YqrIXQMCrN"
      },
      "source": [
        "## 多項Logistic回帰（3クラス）（L2正則化：C=1.0）"
      ]
    },
    {
      "cell_type": "code",
      "source": [
        "import numpy as np\n",
        "import matplotlib.pyplot as plt\n",
        "from sklearn.linear_model import LogisticRegression\n",
        "from sklearn import datasets\n",
        "#from sklearn.metrics import confusion_matrix\n",
        "from matplotlib.colors import ListedColormap"
      ],
      "metadata": {
        "id": "VJd5prxeSEMl"
      },
      "execution_count": 7,
      "outputs": []
    },
    {
      "cell_type": "code",
      "execution_count": 8,
      "metadata": {
        "id": "i33e63ZpIwqu",
        "outputId": "68f785c4-a01c-40a8-9f18-ec9e5f3f179f",
        "colab": {
          "base_uri": "https://localhost:8080/"
        }
      },
      "outputs": [
        {
          "output_type": "stream",
          "name": "stdout",
          "text": [
            "Size of the data =  (150, 2)\n",
            "N= 150 mdim= 2\n",
            "size of y (150,)\n"
          ]
        }
      ],
      "source": [
        "# 3 classes classification\n",
        "\n",
        "# Data\n",
        "iris = datasets.load_iris()\n",
        "X = iris.data[:,:2]\n",
        "y = iris.target\n",
        "target_names = iris.target_names\n",
        "\n",
        "print('Size of the data = ', X.shape)\n",
        "n = X.shape[0]\n",
        "mdim = X.shape[1]\n",
        "print('N=', n, 'mdim=', mdim)\n",
        "print('size of y', y.shape)"
      ]
    },
    {
      "cell_type": "code",
      "execution_count": 9,
      "metadata": {
        "id": "6-EJDuaYIwqz",
        "outputId": "f5c05191-6c05-47c0-e80a-d36d49eae358",
        "colab": {
          "base_uri": "https://localhost:8080/"
        }
      },
      "outputs": [
        {
          "output_type": "stream",
          "name": "stdout",
          "text": [
            "Mean Accuracy: 0.8200\n",
            "Sparsity of the parameters: 0.00%\n",
            "Estimated Classes\n",
            " [0 0 0 0 0 0 0 0 0 0 0 0 0 0 0 0 0 0 0 0 0 0 0 0 0 0 0 0 0 0 0 0 0 0 0 0 0\n",
            " 0 0 0 0 0 0 0 0 0 0 0 0 0 2 2 2 1 2 1 2 1 2 1 1 1 1 1 1 2 1 1 1 1 1 1 1 1\n",
            " 2 2 2 2 1 1 1 1 1 1 1 2 2 1 1 1 1 1 1 1 1 1 1 1 1 1 2 1 2 2 2 2 1 2 2 2 2\n",
            " 2 2 1 1 2 2 2 2 1 2 1 2 1 2 2 1 1 2 2 2 2 2 2 1 2 2 2 1 2 2 2 1 2 2 2 1 2\n",
            " 2 1]\n",
            "Estimated Probability\n",
            " [[9.23471523e-01 5.85094870e-02 1.80189902e-02]\n",
            " [7.91561803e-01 1.80915492e-01 2.75227047e-02]\n",
            " [9.42363112e-01 5.08643197e-02 6.77256825e-03]\n",
            " [9.40552681e-01 5.37602500e-02 5.68706921e-03]\n",
            " [9.61852332e-01 2.96150999e-02 8.53256802e-03]\n",
            " [9.43194379e-01 3.40889656e-02 2.27166554e-02]\n",
            " [9.80228224e-01 1.74174108e-02 2.35436504e-03]\n",
            " [9.22925796e-01 6.19231099e-02 1.51510943e-02]\n",
            " [9.35998281e-01 5.99956260e-02 4.00609265e-03]\n",
            " [8.47179165e-01 1.31167309e-01 2.16535256e-02]\n",
            " [8.90211547e-01 7.01111384e-02 3.96773144e-02]\n",
            " [9.60792655e-01 3.31742304e-02 6.03311469e-03]\n",
            " [8.43552576e-01 1.38307487e-01 1.81399373e-02]\n",
            " [9.67965164e-01 3.01513166e-02 1.88351933e-03]\n",
            " [8.24090632e-01 7.61862492e-02 9.97231187e-02]\n",
            " [9.65418616e-01 1.34833416e-02 2.10980428e-02]\n",
            " [9.43194379e-01 3.40889656e-02 2.27166554e-02]\n",
            " [9.23471523e-01 5.85094870e-02 1.80189902e-02]\n",
            " [7.79412697e-01 1.12640060e-01 1.07947243e-01]\n",
            " [9.73286247e-01 1.91699776e-02 7.54377521e-03]\n",
            " [7.32305263e-01 1.85527253e-01 8.21674843e-02]\n",
            " [9.61890827e-01 2.79670971e-02 1.01420761e-02]\n",
            " [9.90636520e-01 8.07773404e-03 1.28574568e-03]\n",
            " [8.51662608e-01 1.17584896e-01 3.07524967e-02]\n",
            " [9.60792655e-01 3.31742304e-02 6.03311469e-03]\n",
            " [7.27367085e-01 2.31740516e-01 4.08923982e-02]\n",
            " [9.22925796e-01 6.19231099e-02 1.51510943e-02]\n",
            " [8.92961175e-01 7.88665340e-02 2.81722914e-02]\n",
            " [8.52300401e-01 1.11120314e-01 3.65792855e-02]\n",
            " [9.42363112e-01 5.08643197e-02 6.77256825e-03]\n",
            " [8.87408459e-01 9.85635892e-02 1.40279517e-02]\n",
            " [7.32305263e-01 1.85527253e-01 8.21674843e-02]\n",
            " [9.86666724e-01 8.42145503e-03 4.91182063e-03]\n",
            " [9.69808684e-01 1.51891797e-02 1.50021367e-02]\n",
            " [8.47179165e-01 1.31167309e-01 2.16535256e-02]\n",
            " [8.49916385e-01 1.24263434e-01 2.58201808e-02]\n",
            " [7.28542834e-01 1.74296015e-01 9.71611510e-02]\n",
            " [9.73165962e-01 2.14948448e-02 5.33919291e-03]\n",
            " [9.55504395e-01 4.14893508e-02 3.00625418e-03]\n",
            " [8.92799769e-01 8.35021081e-02 2.36981225e-02]\n",
            " [9.45609580e-01 4.29790934e-02 1.14113270e-02]\n",
            " [5.08016555e-01 4.69702991e-01 2.22804541e-02]\n",
            " [9.78831524e-01 1.95043159e-02 1.66416007e-03]\n",
            " [9.45609580e-01 4.29790934e-02 1.14113270e-02]\n",
            " [9.73286247e-01 1.91699776e-02 7.54377521e-03]\n",
            " [8.43552576e-01 1.38307487e-01 1.81399373e-02]\n",
            " [9.73286247e-01 1.91699776e-02 7.54377521e-03]\n",
            " [9.58621119e-01 3.71179993e-02 4.26088144e-03]\n",
            " [9.22454792e-01 5.21172499e-02 2.54279578e-02]\n",
            " [8.91761739e-01 8.83233224e-02 1.99149390e-02]\n",
            " [1.76561306e-03 1.98157540e-01 8.00076847e-01]\n",
            " [2.40065944e-02 3.67198797e-01 6.08794609e-01]\n",
            " [1.99562258e-03 2.37179238e-01 7.60825139e-01]\n",
            " [3.12765121e-02 8.01194087e-01 1.67529401e-01]\n",
            " [4.12080968e-03 4.17227570e-01 5.78651621e-01]\n",
            " [9.00326287e-02 6.39339009e-01 2.70628362e-01]\n",
            " [5.00939452e-02 3.72355648e-01 5.77550406e-01]\n",
            " [2.78910969e-01 6.59629470e-01 6.14595612e-02]\n",
            " [3.79486563e-03 3.62830387e-01 6.33374747e-01]\n",
            " [2.97483534e-01 5.92444692e-01 1.10071774e-01]\n",
            " [5.59434148e-02 8.75796440e-01 6.82601452e-02]\n",
            " [8.63642410e-02 5.46888574e-01 3.66747185e-01]\n",
            " [3.56417859e-03 7.09424928e-01 2.87010893e-01]\n",
            " [2.91826429e-02 5.30084237e-01 4.40733120e-01]\n",
            " [1.71895266e-01 5.93194623e-01 2.34910111e-01]\n",
            " [4.80791595e-03 2.94062968e-01 7.01129116e-01]\n",
            " [2.30292601e-01 5.38359878e-01 2.31347521e-01]\n",
            " [4.49958017e-02 6.57508317e-01 2.97495881e-01]\n",
            " [1.67139313e-03 6.46458117e-01 3.51870490e-01]\n",
            " [4.53167505e-02 7.42599070e-01 2.12084180e-01]\n",
            " [1.61274040e-01 4.68649523e-01 3.70076437e-01]\n",
            " [2.06787373e-02 5.54478706e-01 4.24842556e-01]\n",
            " [3.29136802e-03 5.51663001e-01 4.45045631e-01]\n",
            " [2.06787373e-02 5.54478706e-01 4.24842556e-01]\n",
            " [8.76854520e-03 4.31439598e-01 5.59791857e-01]\n",
            " [5.30617829e-03 3.43675442e-01 6.51018380e-01]\n",
            " [1.15095376e-03 3.15660691e-01 6.83188355e-01]\n",
            " [3.45226367e-03 3.11693693e-01 6.84854043e-01]\n",
            " [4.27880396e-02 5.57551852e-01 3.99660109e-01]\n",
            " [4.53782910e-02 7.02199610e-01 2.52422099e-01]\n",
            " [4.48618322e-02 7.78495020e-01 1.76643148e-01]\n",
            " [4.48618322e-02 7.78495020e-01 1.76643148e-01]\n",
            " [4.49958017e-02 6.57508317e-01 2.97495881e-01]\n",
            " [2.14222962e-02 6.08289146e-01 3.70288557e-01]\n",
            " [3.86504941e-01 4.64978594e-01 1.48516466e-01]\n",
            " [2.05597696e-01 3.82188996e-01 4.12213307e-01]\n",
            " [4.80791595e-03 2.94062968e-01 7.01129116e-01]\n",
            " [1.62214661e-03 5.92473173e-01 4.05904680e-01]\n",
            " [2.30292601e-01 5.38359878e-01 2.31347521e-01]\n",
            " [6.38982620e-02 7.51151070e-01 1.84950668e-01]\n",
            " [9.01623720e-02 7.17997587e-01 1.91840041e-01]\n",
            " [4.09720768e-02 5.04159157e-01 4.54868766e-01]\n",
            " [3.16804933e-02 6.83379238e-01 2.84940268e-01]\n",
            " [1.57446571e-01 7.66241461e-01 7.63119679e-02]\n",
            " [9.05066538e-02 6.80604746e-01 2.28888600e-01]\n",
            " [1.69979925e-01 5.53920873e-01 2.76099202e-01]\n",
            " [1.24686107e-01 5.99803164e-01 2.75510729e-01]\n",
            " [1.97082614e-02 4.99029224e-01 4.81262515e-01]\n",
            " [2.20424781e-01 6.86229016e-01 9.33462031e-02]\n",
            " [9.00326287e-02 6.39339009e-01 2.70628362e-01]\n",
            " [5.00939452e-02 3.72355648e-01 5.77550406e-01]\n",
            " [4.49958017e-02 6.57508317e-01 2.97495881e-01]\n",
            " [5.88993495e-04 2.00800199e-01 7.98610807e-01]\n",
            " [1.31960340e-02 4.65777479e-01 5.21026487e-01]\n",
            " [8.10744200e-03 3.76697827e-01 6.15194731e-01]\n",
            " [5.95953240e-05 1.06943109e-01 8.92997295e-01]\n",
            " [3.61781513e-01 5.79615831e-01 5.86026562e-02]\n",
            " [1.72380882e-04 1.68576922e-01 8.31250697e-01]\n",
            " [6.41818546e-04 4.06199382e-01 5.93158800e-01]\n",
            " [2.54544795e-03 1.16904635e-01 8.80549917e-01]\n",
            " [1.57913787e-02 3.36703893e-01 6.47504729e-01]\n",
            " [4.41771003e-03 4.73664503e-01 5.21917787e-01]\n",
            " [2.23405972e-03 2.81174694e-01 7.16591246e-01]\n",
            " [3.18368512e-02 7.27249017e-01 2.40914131e-01]\n",
            " [6.34551561e-02 6.28138750e-01 3.08406094e-01]\n",
            " [2.40065944e-02 3.67198797e-01 6.08794609e-01]\n",
            " [8.10744200e-03 3.76697827e-01 6.15194731e-01]\n",
            " [4.59183512e-04 5.09400773e-02 9.48600739e-01]\n",
            " [1.05427832e-05 1.25232094e-01 8.74757363e-01]\n",
            " [3.56417859e-03 7.09424928e-01 2.87010893e-01]\n",
            " [2.76421356e-03 2.22550855e-01 7.74684932e-01]\n",
            " [1.25735178e-01 6.40517026e-01 2.33747796e-01]\n",
            " [1.98854606e-05 1.08396397e-01 8.91583717e-01]\n",
            " [6.62325866e-03 5.09434030e-01 4.83942711e-01]\n",
            " [9.27049967e-03 2.60198888e-01 7.30530612e-01]\n",
            " [7.12368326e-04 1.55358301e-01 8.43929331e-01]\n",
            " [1.39670274e-02 5.22062186e-01 4.63970787e-01]\n",
            " [4.09720768e-02 5.04159157e-01 4.54868766e-01]\n",
            " [6.23133437e-03 4.52599532e-01 5.41169133e-01]\n",
            " [3.74731833e-04 1.78086757e-01 8.21538512e-01]\n",
            " [7.92391598e-05 1.59458203e-01 8.40462558e-01]\n",
            " [1.78017525e-04 3.83752189e-02 9.61446764e-01]\n",
            " [6.23133437e-03 4.52599532e-01 5.41169133e-01]\n",
            " [9.36186701e-03 4.87795867e-01 5.02842266e-01]\n",
            " [1.02616064e-02 5.99594145e-01 3.90144248e-01]\n",
            " [3.74102308e-05 9.35811559e-02 9.06381434e-01]\n",
            " [6.89150757e-02 3.47013491e-01 5.84071433e-01]\n",
            " [1.72184364e-02 3.88780964e-01 5.94000599e-01]\n",
            " [5.99040186e-02 5.28783924e-01 4.11312058e-01]\n",
            " [1.99562258e-03 2.37179238e-01 7.60825139e-01]\n",
            " [4.80791595e-03 2.94062968e-01 7.01129116e-01]\n",
            " [1.99562258e-03 2.37179238e-01 7.60825139e-01]\n",
            " [4.49958017e-02 6.57508317e-01 2.97495881e-01]\n",
            " [4.30876110e-03 2.48858623e-01 7.46832616e-01]\n",
            " [9.27049967e-03 2.60198888e-01 7.30530612e-01]\n",
            " [3.45226367e-03 3.11693693e-01 6.84854043e-01]\n",
            " [3.29136802e-03 5.51663001e-01 4.45045631e-01]\n",
            " [8.10744200e-03 3.76697827e-01 6.15194731e-01]\n",
            " [1.01482794e-01 3.66578628e-01 5.31938578e-01]\n",
            " [8.63642410e-02 5.46888574e-01 3.66747185e-01]]\n"
          ]
        }
      ],
      "source": [
        "clf_LR = LogisticRegression(C=1.0, penalty='l2', tol=1e-6, multi_class='multinomial', solver ='newton-cg')\n",
        "clf_LR.fit(X, y)\n",
        "\n",
        "coef_LR = clf_LR.coef_.ravel()\n",
        "sparsity_LR = np.mean(coef_LR == 0) * 100\n",
        "\n",
        "print(\"Mean Accuracy: %.4f\" % clf_LR.score(X, y))\n",
        "print(\"Sparsity of the parameters: %.2f%%\" % sparsity_LR)\n",
        "\n",
        "yy = clf_LR.predict(X)\n",
        "pp = clf_LR.predict_proba(X)\n",
        "print('Estimated Classes\\n', yy)\n",
        "print('Estimated Probability\\n', pp)"
      ]
    },
    {
      "cell_type": "code",
      "execution_count": 10,
      "metadata": {
        "id": "g3RT8MeEIwq4",
        "outputId": "e138de33-005c-4f96-ca26-9807755ed6a3",
        "colab": {
          "base_uri": "https://localhost:8080/",
          "height": 489
        }
      },
      "outputs": [
        {
          "output_type": "stream",
          "name": "stderr",
          "text": [
            "WARNING:matplotlib.backends.backend_ps:The PostScript backend does not support transparency; partially transparent artists will be rendered opaque.\n"
          ]
        },
        {
          "output_type": "display_data",
          "data": {
            "text/plain": [
              "<Figure size 640x480 with 1 Axes>"
            ],
            "image/png": "[encoded data removed]"
          },
          "metadata": {}
        }
      ],
      "source": [
        "%matplotlib inline\n",
        "# Create color maps\n",
        "cmap_light = ListedColormap(['#FFAAAA', '#AAFFAA', '#AAAAFF'])\n",
        "cmap_bold = ListedColormap(['#FF0000', '#00FF00', '#0000FF'])\n",
        "\n",
        "## colors\n",
        "colors = ['red', 'green', 'blue']\n",
        "markers = ['x', 'o', 'v']\n",
        "\n",
        "# Plot the decision boundary. For that, we will assign a color to each\n",
        "# point in the mesh [x_min, x_max]x[y_min, y_max].\n",
        "h = .02  # step size in the mesh\n",
        "x_min, x_max = X[:, 0].min() - .5, X[:, 0].max() + .5\n",
        "y_min, y_max = X[:, 1].min() - .5, X[:, 1].max() + .5\n",
        "xx, yy = np.meshgrid(np.arange(x_min, x_max, h), np.arange(y_min, y_max, h))\n",
        "\n",
        "(xsize, ysize) = xx.shape\n",
        "nelm = xsize * ysize\n",
        "\n",
        "XX = np.c_[xx.reshape((nelm,1)), yy.reshape((nelm,1))]\n",
        "#print XX\n",
        "\n",
        "Z = clf_LR.predict(XX)\n",
        "#print('Z\\n', Z)\n",
        "\n",
        "# Put the result into a color plot\n",
        "Z = Z.reshape(xx.shape)\n",
        "plt.figure()\n",
        "#plt.figure(1, figsize=(4, 3))\n",
        "plt.pcolormesh(xx, yy, Z, cmap=cmap_light)\n",
        "\n",
        "# Plot also the training points\n",
        "for k, c, marker, target_name  in zip([0, 1, 2], colors, markers, target_names):\n",
        "    plt.scatter(X[y == k, 0], X[y == k, 1], c=c, marker=marker, label = target_name)\n",
        "#plt.scatter(data[:, 0], data[:, 1], c=y, edgecolors='k', cmap=plt.cm.Paired)\n",
        "plt.legend()\n",
        "plt.title('logit_iris_2d_multi (C=1)')\n",
        "plt.xlabel('Sepal length')\n",
        "plt.ylabel('Sepal width')\n",
        "plt.savefig('logit_iris_2d_3class_C1.eps')\n",
        "\n",
        "#plt.xlim(xx.min(), xx.max())\n",
        "#plt.ylim(yy.min(), yy.max())\n",
        "#plt.xticks(())\n",
        "#plt.yticks(())\n",
        "\n",
        "plt.show()"
      ]
    },
    {
      "cell_type": "code",
      "execution_count": null,
      "metadata": {
        "id": "VXJ--wVRIwq8"
      },
      "outputs": [],
      "source": []
    }
  ],
  "metadata": {
    "colab": {
      "name": "logit_iris_2d.ipynb",
      "provenance": [],
      "include_colab_link": true
    },
    "kernelspec": {
      "display_name": "Python 3",
      "language": "python",
      "name": "python3"
    },
    "language_info": {
      "codemirror_mode": {
        "name": "ipython",
        "version": 3
      },
      "file_extension": ".py",
      "mimetype": "text/x-python",
      "name": "python",
      "nbconvert_exporter": "python",
      "pygments_lexer": "ipython3",
      "version": "3.12.4"
    }
  },
  "nbformat": 4,
  "nbformat_minor": 0
}