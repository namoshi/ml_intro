{
  "nbformat": 4,
  "nbformat_minor": 0,
  "metadata": {
    "kernelspec": {
      "name": "python36",
      "display_name": "Python 3.6",
      "language": "python"
    },
    "language_info": {
      "mimetype": "text/x-python",
      "nbconvert_exporter": "python",
      "name": "python",
      "pygments_lexer": "ipython3",
      "version": "3.6.6",
      "file_extension": ".py",
      "codemirror_mode": {
        "version": 3,
        "name": "ipython"
      }
    },
    "colab": {
      "name": "adaline_iris_2d.ipynb",
      "provenance": [],
      "include_colab_link": true
    }
  },
  "cells": [
    {
      "cell_type": "markdown",
      "metadata": {
        "id": "view-in-github",
        "colab_type": "text"
      },
      "source": [
        "<a href=\"https://colab.research.google.com/github/namoshi/ml_intro/blob/master/adaline_iris_2d.ipynb\" target=\"_parent\"><img src=\"https://colab.research.google.com/assets/colab-badge.svg\" alt=\"Open In Colab\"/></a>"
      ]
    },
    {
      "cell_type": "markdown",
      "metadata": {
        "collapsed": true,
        "id": "rnC_j_MiIOI3"
      },
      "source": [
        "アヤメのデータ（２次元）のADLINEによる識別"
      ]
    },
    {
      "cell_type": "code",
      "metadata": {
        "trusted": true,
        "id": "GKubonPFIOI4"
      },
      "source": [
        "import numpy as np\n",
        "import matplotlib.pyplot as plt\n",
        "from sklearn.linear_model import LinearRegression\n",
        "from sklearn import datasets\n",
        "#from sklearn.metrics import confusion_matrix\n",
        "from matplotlib.colors import ListedColormap"
      ],
      "execution_count": 1,
      "outputs": []
    },
    {
      "cell_type": "code",
      "metadata": {
        "trusted": true,
        "id": "X2Ao9Wj9IOI9",
        "outputId": "4f406d01-e766-49fa-ffb2-543e25b5f8f4",
        "colab": {
          "base_uri": "https://localhost:8080/",
          "height": 72
        }
      },
      "source": [
        "# data = np.loadtxt(\"iris.dat\",comments='#')\n",
        "iris = datasets.load_iris()\n",
        "X = iris.data[:100,:2]\n",
        "y = iris.target[:100]\n",
        "target_names = iris.target_names\n",
        "\n",
        "print('Size of the data = ', X.shape)\n",
        "\n",
        "n = X.shape[0]\n",
        "mdim = X.shape[1]\n",
        "\n",
        "print('N=', n, 'mdim=', mdim)\n",
        "\n",
        "print('size of y', y.shape)"
      ],
      "execution_count": 2,
      "outputs": [
        {
          "output_type": "stream",
          "text": [
            "Size of the data =  (100, 2)\n",
            "N= 100 mdim= 2\n",
            "size of y (100,)\n"
          ],
          "name": "stdout"
        }
      ]
    },
    {
      "cell_type": "code",
      "metadata": {
        "trusted": true,
        "id": "rwHJRLd_IOJF",
        "outputId": "619b0973-399f-4c69-8074-d4190f31f8cc",
        "colab": {
          "base_uri": "https://localhost:8080/",
          "height": 238
        }
      },
      "source": [
        "clf_LR = LinearRegression()\n",
        "clf_LR.fit(X, y)\n",
        "\n",
        "coef_LR = clf_LR.coef_.ravel()\n",
        "sparsity_LR = np.mean(coef_LR == 0) * 100\n",
        "\n",
        "print(\"score with L1 penalty: %.4f\" % clf_LR.score(X, y))\n",
        "print(\"Sparsity with L1 penalty: %.2f%%\" % sparsity_LR)\n",
        "\n",
        "yy = np.zeros(len(X))\n",
        "yy[clf_LR.predict(X) > 0.5] = 1\n",
        "\n",
        "print('y\\n', y)\n",
        "print('Estimated Probabilities\\n', yy)"
      ],
      "execution_count": 3,
      "outputs": [
        {
          "output_type": "stream",
          "text": [
            "score with L1 penalty: 0.8357\n",
            "Sparsity with L1 penalty: 0.00%\n",
            "y\n",
            " [0 0 0 0 0 0 0 0 0 0 0 0 0 0 0 0 0 0 0 0 0 0 0 0 0 0 0 0 0 0 0 0 0 0 0 0 0\n",
            " 0 0 0 0 0 0 0 0 0 0 0 0 0 1 1 1 1 1 1 1 1 1 1 1 1 1 1 1 1 1 1 1 1 1 1 1 1\n",
            " 1 1 1 1 1 1 1 1 1 1 1 1 1 1 1 1 1 1 1 1 1 1 1 1 1 1]\n",
            "Estimated Probabilities\n",
            " [0. 0. 0. 0. 0. 0. 0. 0. 0. 0. 0. 0. 0. 0. 0. 0. 0. 0. 0. 0. 0. 0. 0. 0.\n",
            " 0. 0. 0. 0. 0. 0. 0. 0. 0. 0. 0. 0. 0. 0. 0. 0. 0. 1. 0. 0. 0. 0. 0. 0.\n",
            " 0. 0. 1. 1. 1. 1. 1. 1. 1. 1. 1. 1. 1. 1. 1. 1. 1. 1. 1. 1. 1. 1. 1. 1.\n",
            " 1. 1. 1. 1. 1. 1. 1. 1. 1. 1. 1. 1. 1. 1. 1. 1. 1. 1. 1. 1. 1. 1. 1. 1.\n",
            " 1. 1. 1. 1.]\n"
          ],
          "name": "stdout"
        }
      ]
    },
    {
      "cell_type": "code",
      "metadata": {
        "trusted": true,
        "id": "byGz1gF3IOJK",
        "outputId": "edce1109-eef5-4d9a-dfcf-e5a78c55c033",
        "colab": {
          "base_uri": "https://localhost:8080/",
          "height": 332
        }
      },
      "source": [
        "# Create color maps\n",
        "cmap_light = ListedColormap(['#FFAAAA', '#AAFFAA', '#AAAAFF'])\n",
        "cmap_bold = ListedColormap(['#FF0000', '#00FF00', '#0000FF'])\n",
        "\n",
        "## colors\n",
        "colors = ['red', 'green', 'blue']\n",
        "markers = ['x', 'o', 'v']\n",
        "\n",
        "# Plot the decision boundary. For that, we will assign a color to each\n",
        "# point in the mesh [x_min, x_max]x[y_min, y_max].\n",
        "h = .02  # step size in the mesh\n",
        "x_min, x_max = X[:, 0].min() - .5, X[:, 0].max() + .5\n",
        "y_min, y_max = X[:, 1].min() - .5, X[:, 1].max() + .5\n",
        "xx, yy = np.meshgrid(np.arange(x_min, x_max, h), np.arange(y_min, y_max, h))\n",
        "\n",
        "(xsize, ysize) = xx.shape\n",
        "nelm = xsize * ysize\n",
        "\n",
        "XX = np.c_[xx.reshape((nelm,1)), yy.reshape((nelm,1))]\n",
        "#print(XX)\n",
        "\n",
        "Z = np.zeros(len(XX))\n",
        "Z[clf_LR.predict(XX) > 0.5] = 1\n",
        "#print('Z\\n', Z)\n",
        "\n",
        "# Put the result into a color plot\n",
        "Z = Z.reshape(xx.shape)\n",
        "plt.figure()\n",
        "#plt.figure(1, figsize=(4, 3))\n",
        "plt.pcolormesh(xx, yy, Z, cmap=cmap_light)\n",
        "\n",
        "# Plot also the training points\n",
        "for k, c, marker, target_name  in zip([0, 1], colors, markers, target_names):\n",
        "    plt.scatter(X[y == k, 0], X[y == k, 1], c=c, marker=marker, label = target_name)\n",
        "#plt.scatter(data[:, 0], data[:, 1], c=y, edgecolors='k', cmap=plt.cm.Paired)\n",
        "plt.legend()\n",
        "plt.title('adaline_iris_2d')\n",
        "plt.xlabel('Sepal length')\n",
        "plt.ylabel('Sepal width')\n",
        "plt.savefig('adaline_iris_2d.eps')\n",
        "\n",
        "#plt.xlim(xx.min(), xx.max())\n",
        "#plt.ylim(yy.min(), yy.max())\n",
        "#plt.xticks(())\n",
        "#plt.yticks(())\n",
        "\n",
        "plt.show()"
      ],
      "execution_count": 4,
      "outputs": [
        {
          "output_type": "stream",
          "text": [
            "The PostScript backend does not support transparency; partially transparent artists will be rendered opaque.\n",
            "The PostScript backend does not support transparency; partially transparent artists will be rendered opaque.\n"
          ],
          "name": "stderr"
        },
        {
          "output_type": "display_data",
          "data": {
            "image/png": "[encoded data removed]",
            "text/plain": [
              "<Figure size 432x288 with 1 Axes>"
            ]
          },
          "metadata": {
            "tags": [],
            "needs_background": "light"
          }
        }
      ]
    },
    {
      "cell_type": "code",
      "metadata": {
        "trusted": true,
        "id": "ft8zhMggIOJO"
      },
      "source": [
        ""
      ],
      "execution_count": null,
      "outputs": []
    }
  ]
}